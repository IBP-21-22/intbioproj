{
 "cells": [
  {
   "cell_type": "code",
   "execution_count": 1,
   "id": "7733443d",
   "metadata": {},
   "outputs": [
    {
     "name": "stderr",
     "output_type": "stream",
     "text": [
      "/home/vaslem/code/intbioproj/.venv/lib/python3.8/site-packages/openpyxl/worksheet/_reader.py:312: UserWarning: Unknown extension is not supported and will be removed\n",
      "  warn(msg)\n"
     ]
    }
   ],
   "source": [
    "import pandas as pd\n",
    "from Bio import SeqIO\n",
    "from seaborn import histplot\n",
    "from Bio.Align.Applications import ClustalwCommandline\n",
    "from Bio import AlignIO\n",
    "from tqdm.notebook import tqdm\n",
    "import os\n",
    "import pickle\n",
    "inputFile = '../raw_data/SGD_all_ORFs_3prime_UTRs.fsa'\n",
    "rawDataP1 = pd.read_excel('../raw_data/yamanishi/sb300116y_si_002.xls', skiprows=1)\n",
    "rawDataP2 = pd.read_excel('../raw_data/41592_2018_45_MOESM4_ESM.xlsx', skiprows=6)\n"
   ]
  },
  {
   "cell_type": "markdown",
   "id": "ad9c32b4",
   "metadata": {},
   "source": [
    "Merge the two dataframes information about gene and systematic names"
   ]
  },
  {
   "cell_type": "code",
   "execution_count": 2,
   "id": "b26a9d9a",
   "metadata": {},
   "outputs": [
    {
     "data": {
      "text/html": [
       "<div>\n",
       "<style scoped>\n",
       "    .dataframe tbody tr th:only-of-type {\n",
       "        vertical-align: middle;\n",
       "    }\n",
       "\n",
       "    .dataframe tbody tr th {\n",
       "        vertical-align: top;\n",
       "    }\n",
       "\n",
       "    .dataframe thead th {\n",
       "        text-align: right;\n",
       "    }\n",
       "</style>\n",
       "<table border=\"1\" class=\"dataframe\">\n",
       "  <thead>\n",
       "    <tr style=\"text-align: right;\">\n",
       "      <th></th>\n",
       "      <th>Systematic Name</th>\n",
       "      <th>Standard Name</th>\n",
       "      <th>intensity</th>\n",
       "      <th>fold_bkg</th>\n",
       "      <th>intensity.1</th>\n",
       "      <th>fold_bkg.1</th>\n",
       "      <th>intensity.2</th>\n",
       "      <th>fold_bkg.2</th>\n",
       "    </tr>\n",
       "  </thead>\n",
       "  <tbody>\n",
       "    <tr>\n",
       "      <th>8</th>\n",
       "      <td>YAL014C</td>\n",
       "      <td>SYN8</td>\n",
       "      <td>0.010805</td>\n",
       "      <td>1.526316</td>\n",
       "      <td>0.015127</td>\n",
       "      <td>1.736842</td>\n",
       "      <td>0.040246</td>\n",
       "      <td>3.575758</td>\n",
       "    </tr>\n",
       "    <tr>\n",
       "      <th>10</th>\n",
       "      <td>YAL016C-B</td>\n",
       "      <td>NaN</td>\n",
       "      <td>0.001692</td>\n",
       "      <td>1.066667</td>\n",
       "      <td>0.005076</td>\n",
       "      <td>1.200000</td>\n",
       "      <td>0.001694</td>\n",
       "      <td>1.076923</td>\n",
       "    </tr>\n",
       "    <tr>\n",
       "      <th>24</th>\n",
       "      <td>YAL033W</td>\n",
       "      <td>POP5</td>\n",
       "      <td>0.027778</td>\n",
       "      <td>2.551724</td>\n",
       "      <td>0.029630</td>\n",
       "      <td>2.655172</td>\n",
       "      <td>0.014610</td>\n",
       "      <td>1.612903</td>\n",
       "    </tr>\n",
       "    <tr>\n",
       "      <th>28</th>\n",
       "      <td>YAL037C-A</td>\n",
       "      <td>NaN</td>\n",
       "      <td>0.012313</td>\n",
       "      <td>1.636364</td>\n",
       "      <td>0.022867</td>\n",
       "      <td>2.181818</td>\n",
       "      <td>NaN</td>\n",
       "      <td>NaN</td>\n",
       "    </tr>\n",
       "    <tr>\n",
       "      <th>35</th>\n",
       "      <td>YAL045C</td>\n",
       "      <td>NaN</td>\n",
       "      <td>0.008460</td>\n",
       "      <td>1.270270</td>\n",
       "      <td>0.007614</td>\n",
       "      <td>1.243243</td>\n",
       "      <td>0.009318</td>\n",
       "      <td>1.379310</td>\n",
       "    </tr>\n",
       "    <tr>\n",
       "      <th>...</th>\n",
       "      <td>...</td>\n",
       "      <td>...</td>\n",
       "      <td>...</td>\n",
       "      <td>...</td>\n",
       "      <td>...</td>\n",
       "      <td>...</td>\n",
       "      <td>...</td>\n",
       "      <td>...</td>\n",
       "    </tr>\n",
       "    <tr>\n",
       "      <th>5214</th>\n",
       "      <td>YPR158W</td>\n",
       "      <td>CUR1</td>\n",
       "      <td>0.002460</td>\n",
       "      <td>1.111111</td>\n",
       "      <td>0.005535</td>\n",
       "      <td>1.250000</td>\n",
       "      <td>0.009184</td>\n",
       "      <td>1.548387</td>\n",
       "    </tr>\n",
       "    <tr>\n",
       "      <th>5223</th>\n",
       "      <td>YPR169W-A</td>\n",
       "      <td>NaN</td>\n",
       "      <td>0.200000</td>\n",
       "      <td>15.884615</td>\n",
       "      <td>0.337984</td>\n",
       "      <td>26.153846</td>\n",
       "      <td>0.120946</td>\n",
       "      <td>10.891304</td>\n",
       "    </tr>\n",
       "    <tr>\n",
       "      <th>5224</th>\n",
       "      <td>YPR170C</td>\n",
       "      <td>NaN</td>\n",
       "      <td>0.018335</td>\n",
       "      <td>1.923077</td>\n",
       "      <td>0.041762</td>\n",
       "      <td>3.102564</td>\n",
       "      <td>0.002723</td>\n",
       "      <td>1.205882</td>\n",
       "    </tr>\n",
       "    <tr>\n",
       "      <th>5225</th>\n",
       "      <td>YPR170W-A</td>\n",
       "      <td>NaN</td>\n",
       "      <td>0.003101</td>\n",
       "      <td>1.157895</td>\n",
       "      <td>0.005685</td>\n",
       "      <td>1.289474</td>\n",
       "      <td>0.003721</td>\n",
       "      <td>1.200000</td>\n",
       "    </tr>\n",
       "    <tr>\n",
       "      <th>5248</th>\n",
       "      <td>YPR195C</td>\n",
       "      <td>NaN</td>\n",
       "      <td>0.011723</td>\n",
       "      <td>1.657143</td>\n",
       "      <td>0.033639</td>\n",
       "      <td>2.885714</td>\n",
       "      <td>0.008397</td>\n",
       "      <td>1.720000</td>\n",
       "    </tr>\n",
       "  </tbody>\n",
       "</table>\n",
       "<p>607 rows × 8 columns</p>\n",
       "</div>"
      ],
      "text/plain": [
       "     Systematic Name Standard Name  intensity   fold_bkg  intensity.1  \\\n",
       "8            YAL014C          SYN8   0.010805   1.526316     0.015127   \n",
       "10         YAL016C-B           NaN   0.001692   1.066667     0.005076   \n",
       "24           YAL033W          POP5   0.027778   2.551724     0.029630   \n",
       "28         YAL037C-A           NaN   0.012313   1.636364     0.022867   \n",
       "35           YAL045C           NaN   0.008460   1.270270     0.007614   \n",
       "...              ...           ...        ...        ...          ...   \n",
       "5214         YPR158W          CUR1   0.002460   1.111111     0.005535   \n",
       "5223       YPR169W-A           NaN   0.200000  15.884615     0.337984   \n",
       "5224         YPR170C           NaN   0.018335   1.923077     0.041762   \n",
       "5225       YPR170W-A           NaN   0.003101   1.157895     0.005685   \n",
       "5248         YPR195C           NaN   0.011723   1.657143     0.033639   \n",
       "\n",
       "      fold_bkg.1  intensity.2  fold_bkg.2  \n",
       "8       1.736842     0.040246    3.575758  \n",
       "10      1.200000     0.001694    1.076923  \n",
       "24      2.655172     0.014610    1.612903  \n",
       "28      2.181818          NaN         NaN  \n",
       "35      1.243243     0.009318    1.379310  \n",
       "...          ...          ...         ...  \n",
       "5214    1.250000     0.009184    1.548387  \n",
       "5223   26.153846     0.120946   10.891304  \n",
       "5224    3.102564     0.002723    1.205882  \n",
       "5225    1.289474     0.003721    1.200000  \n",
       "5248    2.885714     0.008397    1.720000  \n",
       "\n",
       "[607 rows x 8 columns]"
      ]
     },
     "execution_count": 2,
     "metadata": {},
     "output_type": "execute_result"
    }
   ],
   "source": [
    "# systematic names in rawDataP2 but not in rawDataP1\n",
    "systematicNameDiff = rawDataP2[~rawDataP2['Systematic Name'].isin(rawDataP1['Systematic Name'])]\n",
    "systematicNameDiff"
   ]
  },
  {
   "cell_type": "code",
   "execution_count": 3,
   "id": "c6031338",
   "metadata": {},
   "outputs": [
    {
     "data": {
      "text/plain": [
       "False"
      ]
     },
     "execution_count": 3,
     "metadata": {},
     "output_type": "execute_result"
    }
   ],
   "source": [
    "systematicNameDiff['Standard Name'].isin(rawDataP1['Gene Name']).any() # good, this must be false"
   ]
  },
  {
   "cell_type": "code",
   "execution_count": 4,
   "id": "494c01af",
   "metadata": {},
   "outputs": [],
   "source": [
    "data = rawDataP1[['Systematic Name', 'Gene Name', 'Sequence of amplified region']].append(systematicNameDiff[['Systematic Name', 'Standard Name']].rename(\n",
    "    columns={'Standard Name':'Gene Name'}))"
   ]
  },
  {
   "cell_type": "markdown",
   "id": "8179e02a",
   "metadata": {},
   "source": [
    "Access downloaded Fasta file and retrieved UTR-3' sequences. Perform multiple alignment."
   ]
  },
  {
   "cell_type": "code",
   "execution_count": 5,
   "id": "e43a9e86",
   "metadata": {},
   "outputs": [],
   "source": [
    "fasta_sequences = list(SeqIO.parse(open(inputFile),'fasta').records)"
   ]
  },
  {
   "cell_type": "code",
   "execution_count": 6,
   "id": "15e3d994",
   "metadata": {},
   "outputs": [
    {
     "ename": "NameError",
     "evalue": "name 'fasta' is not defined",
     "output_type": "error",
     "traceback": [
      "\u001b[0;31m---------------------------------------------------------------------------\u001b[0m",
      "\u001b[0;31mNameError\u001b[0m                                 Traceback (most recent call last)",
      "\u001b[0;32m/tmp/ipykernel_105236/2430370584.py\u001b[0m in \u001b[0;36m<module>\u001b[0;34m\u001b[0m\n\u001b[0;32m----> 1\u001b[0;31m \u001b[0mfasta\u001b[0m\u001b[0;34m\u001b[0m\u001b[0;34m\u001b[0m\u001b[0m\n\u001b[0m",
      "\u001b[0;31mNameError\u001b[0m: name 'fasta' is not defined"
     ]
    }
   ],
   "source": [
    "fasta"
   ]
  },
  {
   "cell_type": "code",
   "execution_count": null,
   "id": "6fd52965",
   "metadata": {},
   "outputs": [],
   "source": [
    "utrs = {}\n",
    "seqs = {}\n",
    "for fasta in fasta_sequences:\n",
    "    name, sequence = fasta.id, str(fasta.seq)\n",
    "    gene = name.split('_')[4]\n",
    "    _id = int(name.split('_')[5][2:])\n",
    "    if _id not in utrs:\n",
    "        utrs[_id] = {}\n",
    "    utrs[_id][gene] = sequence\n",
    "    "
   ]
  },
  {
   "cell_type": "code",
   "execution_count": null,
   "id": "e90acab5",
   "metadata": {},
   "outputs": [],
   "source": [
    "# # Alignment\n",
    "# aligned = {}\n",
    "# for gene in tqdm(seqs):\n",
    "#     if len(seqs[gene]) == 1:\n",
    "#         aligned[gene] = seqs[gene]\n",
    "#         continue\n",
    "#     with open(\"tmp.fst\", \"w\")  as out:\n",
    "#         SeqIO.write(seqs[gene],out, 'fasta')\n",
    "#     try:\n",
    "#         cmd = ClustalwCommandline(\"./clustalw2\", infile=\"tmp.fst\")\n",
    "#         stdout, stderr = cmd()\n",
    "#     except:\n",
    "#         try:\n",
    "#             cmd = ClustalwCommandline(\"clustalw2\", infile=\"tmp.fst\")\n",
    "#             stdout, stderr = cmd()\n",
    "#         except:\n",
    "#             print(\"clustalw2 needs to be installed!\")\n",
    "#             raise\n",
    "#     finally:\n",
    "#         os.remove('tmp.fst')\n",
    "#     try:\n",
    "#         aligned[gene] = AlignIO.read(\"tmp.aln\", \"clustal\")\n",
    "#     finally:\n",
    "#         os.remove('tmp.aln')"
   ]
  },
  {
   "cell_type": "code",
   "execution_count": null,
   "id": "90771405",
   "metadata": {},
   "outputs": [],
   "source": [
    "len(utrs)"
   ]
  },
  {
   "cell_type": "code",
   "execution_count": null,
   "id": "c1c0c70f",
   "metadata": {},
   "outputs": [],
   "source": [
    "seqLengths = {k: len(v) for k,v in utrs[1].items()}"
   ]
  },
  {
   "cell_type": "code",
   "execution_count": null,
   "id": "6cac2c6a",
   "metadata": {},
   "outputs": [],
   "source": [
    "\n",
    "ax = histplot(seqLengths.values())\n",
    "ax.set(xlabel='UTR3\\' length')\n",
    "ax"
   ]
  },
  {
   "cell_type": "code",
   "execution_count": null,
   "id": "92acd608",
   "metadata": {},
   "outputs": [],
   "source": [
    "pd.DataFrame(utrs).isnull().sum()"
   ]
  },
  {
   "cell_type": "code",
   "execution_count": null,
   "id": "2e2d22dc",
   "metadata": {},
   "outputs": [],
   "source": [
    "foreign = pd.DataFrame({'foreign':utrs[1]})\n",
    "foreign.reset_index(inplace=True)\n",
    "foreign.rename(columns={'index':'Systematic Name'}, inplace=True)\n",
    "foreign.head()"
   ]
  },
  {
   "cell_type": "markdown",
   "id": "76a971cd",
   "metadata": {},
   "source": [
    "**Outer** merge sequences information to the knows ones"
   ]
  },
  {
   "cell_type": "code",
   "execution_count": null,
   "id": "afbc3f4b",
   "metadata": {},
   "outputs": [],
   "source": [
    "updated = data.merge(foreign, on=['Systematic Name'], how='outer')\n",
    "updated.head()"
   ]
  },
  {
   "cell_type": "code",
   "execution_count": null,
   "id": "4fd9dc01",
   "metadata": {},
   "outputs": [],
   "source": [
    "updated.rename(columns={'Sequence of amplified region':'orig'}, inplace=True)"
   ]
  },
  {
   "cell_type": "code",
   "execution_count": null,
   "id": "18f348a4",
   "metadata": {},
   "outputs": [],
   "source": [
    "updated['updated'] = updated['foreign'].fillna(updated['orig'])\n",
    "updated = updated.dropna(subset=['updated'])"
   ]
  },
  {
   "cell_type": "code",
   "execution_count": null,
   "id": "392a7b64",
   "metadata": {},
   "outputs": [],
   "source": [
    "ax = histplot(updated['updated'].apply(len))\n",
    "ax.set(xlabel='UTR3\\' length')\n",
    "ax"
   ]
  },
  {
   "cell_type": "code",
   "execution_count": null,
   "id": "e40fd37d",
   "metadata": {},
   "outputs": [],
   "source": [
    "updated['updated'].isnull().any()"
   ]
  },
  {
   "cell_type": "code",
   "execution_count": null,
   "id": "a905aa79",
   "metadata": {},
   "outputs": [],
   "source": [
    "output = updated[['Systematic Name', 'Gene Name', 'orig', 'foreign']]"
   ]
  },
  {
   "cell_type": "code",
   "execution_count": null,
   "id": "cc3bd8b7",
   "metadata": {},
   "outputs": [],
   "source": [
    "output.to_csv('../processed_data/utrs.csv', index=None)"
   ]
  },
  {
   "cell_type": "markdown",
   "id": "fe836497",
   "metadata": {},
   "source": [
    "Output file **contains nans in all rows** except for the Systematic Name"
   ]
  },
  {
   "cell_type": "code",
   "execution_count": null,
   "id": "92241cc9",
   "metadata": {},
   "outputs": [],
   "source": [
    "(~output.isnull()).sum()"
   ]
  },
  {
   "cell_type": "code",
   "execution_count": null,
   "id": "d87b80bb",
   "metadata": {},
   "outputs": [],
   "source": [
    "(~output[~output['Gene Name'].isnull()].isnull()).sum()"
   ]
  }
 ],
 "metadata": {
  "kernelspec": {
   "display_name": "intbioproj",
   "language": "python",
   "name": "intbioproj"
  },
  "language_info": {
   "codemirror_mode": {
    "name": "ipython",
    "version": 3
   },
   "file_extension": ".py",
   "mimetype": "text/x-python",
   "name": "python",
   "nbconvert_exporter": "python",
   "pygments_lexer": "ipython3",
   "version": "3.8.10"
  }
 },
 "nbformat": 4,
 "nbformat_minor": 5
}
