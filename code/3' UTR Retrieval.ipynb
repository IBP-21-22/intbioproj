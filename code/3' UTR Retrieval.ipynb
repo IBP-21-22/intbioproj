{
 "cells": [
  {
   "cell_type": "code",
   "execution_count": 1,
   "id": "7733443d",
   "metadata": {},
   "outputs": [
    {
     "name": "stderr",
     "output_type": "stream",
     "text": [
      "/home/vaslem/code/intbioproj/.venv/lib/python3.8/site-packages/openpyxl/worksheet/_reader.py:312: UserWarning: Unknown extension is not supported and will be removed\n",
      "  warn(msg)\n"
     ]
    }
   ],
   "source": [
    "import pandas as pd\n",
    "from Bio import SeqIO\n",
    "from seaborn import histplot\n",
    "inputFile = '../raw_data/SGD_all_ORFs_3prime_UTRs.fsa'\n",
    "rawDataP1 = pd.read_excel('../raw_data/yamanishi/sb300116y_si_002.xls', skiprows=1)\n",
    "rawDataP2 = pd.read_excel('../raw_data/41592_2018_45_MOESM4_ESM.xlsx', skiprows=6)\n"
   ]
  },
  {
   "cell_type": "markdown",
   "id": "13f0e41a",
   "metadata": {},
   "source": [
    "Merge the two dataframes information about gene and systematic names"
   ]
  },
  {
   "cell_type": "code",
   "execution_count": 2,
   "id": "7d4c1838",
   "metadata": {},
   "outputs": [
    {
     "data": {
      "text/html": [
       "<div>\n",
       "<style scoped>\n",
       "    .dataframe tbody tr th:only-of-type {\n",
       "        vertical-align: middle;\n",
       "    }\n",
       "\n",
       "    .dataframe tbody tr th {\n",
       "        vertical-align: top;\n",
       "    }\n",
       "\n",
       "    .dataframe thead th {\n",
       "        text-align: right;\n",
       "    }\n",
       "</style>\n",
       "<table border=\"1\" class=\"dataframe\">\n",
       "  <thead>\n",
       "    <tr style=\"text-align: right;\">\n",
       "      <th></th>\n",
       "      <th>Systematic Name</th>\n",
       "      <th>Standard Name</th>\n",
       "      <th>intensity</th>\n",
       "      <th>fold_bkg</th>\n",
       "      <th>intensity.1</th>\n",
       "      <th>fold_bkg.1</th>\n",
       "      <th>intensity.2</th>\n",
       "      <th>fold_bkg.2</th>\n",
       "    </tr>\n",
       "  </thead>\n",
       "  <tbody>\n",
       "    <tr>\n",
       "      <th>8</th>\n",
       "      <td>YAL014C</td>\n",
       "      <td>SYN8</td>\n",
       "      <td>0.010805</td>\n",
       "      <td>1.526316</td>\n",
       "      <td>0.015127</td>\n",
       "      <td>1.736842</td>\n",
       "      <td>0.040246</td>\n",
       "      <td>3.575758</td>\n",
       "    </tr>\n",
       "    <tr>\n",
       "      <th>10</th>\n",
       "      <td>YAL016C-B</td>\n",
       "      <td>NaN</td>\n",
       "      <td>0.001692</td>\n",
       "      <td>1.066667</td>\n",
       "      <td>0.005076</td>\n",
       "      <td>1.200000</td>\n",
       "      <td>0.001694</td>\n",
       "      <td>1.076923</td>\n",
       "    </tr>\n",
       "    <tr>\n",
       "      <th>24</th>\n",
       "      <td>YAL033W</td>\n",
       "      <td>POP5</td>\n",
       "      <td>0.027778</td>\n",
       "      <td>2.551724</td>\n",
       "      <td>0.029630</td>\n",
       "      <td>2.655172</td>\n",
       "      <td>0.014610</td>\n",
       "      <td>1.612903</td>\n",
       "    </tr>\n",
       "    <tr>\n",
       "      <th>28</th>\n",
       "      <td>YAL037C-A</td>\n",
       "      <td>NaN</td>\n",
       "      <td>0.012313</td>\n",
       "      <td>1.636364</td>\n",
       "      <td>0.022867</td>\n",
       "      <td>2.181818</td>\n",
       "      <td>NaN</td>\n",
       "      <td>NaN</td>\n",
       "    </tr>\n",
       "    <tr>\n",
       "      <th>35</th>\n",
       "      <td>YAL045C</td>\n",
       "      <td>NaN</td>\n",
       "      <td>0.008460</td>\n",
       "      <td>1.270270</td>\n",
       "      <td>0.007614</td>\n",
       "      <td>1.243243</td>\n",
       "      <td>0.009318</td>\n",
       "      <td>1.379310</td>\n",
       "    </tr>\n",
       "    <tr>\n",
       "      <th>...</th>\n",
       "      <td>...</td>\n",
       "      <td>...</td>\n",
       "      <td>...</td>\n",
       "      <td>...</td>\n",
       "      <td>...</td>\n",
       "      <td>...</td>\n",
       "      <td>...</td>\n",
       "      <td>...</td>\n",
       "    </tr>\n",
       "    <tr>\n",
       "      <th>5214</th>\n",
       "      <td>YPR158W</td>\n",
       "      <td>CUR1</td>\n",
       "      <td>0.002460</td>\n",
       "      <td>1.111111</td>\n",
       "      <td>0.005535</td>\n",
       "      <td>1.250000</td>\n",
       "      <td>0.009184</td>\n",
       "      <td>1.548387</td>\n",
       "    </tr>\n",
       "    <tr>\n",
       "      <th>5223</th>\n",
       "      <td>YPR169W-A</td>\n",
       "      <td>NaN</td>\n",
       "      <td>0.200000</td>\n",
       "      <td>15.884615</td>\n",
       "      <td>0.337984</td>\n",
       "      <td>26.153846</td>\n",
       "      <td>0.120946</td>\n",
       "      <td>10.891304</td>\n",
       "    </tr>\n",
       "    <tr>\n",
       "      <th>5224</th>\n",
       "      <td>YPR170C</td>\n",
       "      <td>NaN</td>\n",
       "      <td>0.018335</td>\n",
       "      <td>1.923077</td>\n",
       "      <td>0.041762</td>\n",
       "      <td>3.102564</td>\n",
       "      <td>0.002723</td>\n",
       "      <td>1.205882</td>\n",
       "    </tr>\n",
       "    <tr>\n",
       "      <th>5225</th>\n",
       "      <td>YPR170W-A</td>\n",
       "      <td>NaN</td>\n",
       "      <td>0.003101</td>\n",
       "      <td>1.157895</td>\n",
       "      <td>0.005685</td>\n",
       "      <td>1.289474</td>\n",
       "      <td>0.003721</td>\n",
       "      <td>1.200000</td>\n",
       "    </tr>\n",
       "    <tr>\n",
       "      <th>5248</th>\n",
       "      <td>YPR195C</td>\n",
       "      <td>NaN</td>\n",
       "      <td>0.011723</td>\n",
       "      <td>1.657143</td>\n",
       "      <td>0.033639</td>\n",
       "      <td>2.885714</td>\n",
       "      <td>0.008397</td>\n",
       "      <td>1.720000</td>\n",
       "    </tr>\n",
       "  </tbody>\n",
       "</table>\n",
       "<p>607 rows × 8 columns</p>\n",
       "</div>"
      ],
      "text/plain": [
       "     Systematic Name Standard Name  intensity   fold_bkg  intensity.1  \\\n",
       "8            YAL014C          SYN8   0.010805   1.526316     0.015127   \n",
       "10         YAL016C-B           NaN   0.001692   1.066667     0.005076   \n",
       "24           YAL033W          POP5   0.027778   2.551724     0.029630   \n",
       "28         YAL037C-A           NaN   0.012313   1.636364     0.022867   \n",
       "35           YAL045C           NaN   0.008460   1.270270     0.007614   \n",
       "...              ...           ...        ...        ...          ...   \n",
       "5214         YPR158W          CUR1   0.002460   1.111111     0.005535   \n",
       "5223       YPR169W-A           NaN   0.200000  15.884615     0.337984   \n",
       "5224         YPR170C           NaN   0.018335   1.923077     0.041762   \n",
       "5225       YPR170W-A           NaN   0.003101   1.157895     0.005685   \n",
       "5248         YPR195C           NaN   0.011723   1.657143     0.033639   \n",
       "\n",
       "      fold_bkg.1  intensity.2  fold_bkg.2  \n",
       "8       1.736842     0.040246    3.575758  \n",
       "10      1.200000     0.001694    1.076923  \n",
       "24      2.655172     0.014610    1.612903  \n",
       "28      2.181818          NaN         NaN  \n",
       "35      1.243243     0.009318    1.379310  \n",
       "...          ...          ...         ...  \n",
       "5214    1.250000     0.009184    1.548387  \n",
       "5223   26.153846     0.120946   10.891304  \n",
       "5224    3.102564     0.002723    1.205882  \n",
       "5225    1.289474     0.003721    1.200000  \n",
       "5248    2.885714     0.008397    1.720000  \n",
       "\n",
       "[607 rows x 8 columns]"
      ]
     },
     "execution_count": 2,
     "metadata": {},
     "output_type": "execute_result"
    }
   ],
   "source": [
    "# systematic names in rawDataP2 but not in rawDataP1\n",
    "systematicNameDiff = rawDataP2[~rawDataP2['Systematic Name'].isin(rawDataP1['Systematic Name'])]\n",
    "systematicNameDiff"
   ]
  },
  {
   "cell_type": "code",
   "execution_count": 3,
   "id": "936a850d",
   "metadata": {},
   "outputs": [
    {
     "data": {
      "text/plain": [
       "False"
      ]
     },
     "execution_count": 3,
     "metadata": {},
     "output_type": "execute_result"
    }
   ],
   "source": [
    "systematicNameDiff['Standard Name'].isin(rawDataP1['Gene Name']).any() # good, this must be false"
   ]
  },
  {
   "cell_type": "code",
   "execution_count": 4,
   "id": "ed5cadde",
   "metadata": {},
   "outputs": [],
   "source": [
    "data = rawDataP1[['Systematic Name', 'Gene Name', 'Sequence of amplified region']].append(systematicNameDiff[['Systematic Name', 'Standard Name']].rename(\n",
    "    columns={'Standard Name':'Gene Name'}))"
   ]
  },
  {
   "cell_type": "markdown",
   "id": "ea7017bd",
   "metadata": {},
   "source": [
    "Access downloaded Fasta file and retrived UTR-3' sequences"
   ]
  },
  {
   "cell_type": "code",
   "execution_count": 5,
   "id": "12297429",
   "metadata": {},
   "outputs": [],
   "source": [
    "fasta_sequences = SeqIO.parse(open(inputFile),'fasta')\n",
    "utrs = {}\n",
    "for fasta in fasta_sequences:\n",
    "        name, sequence = fasta.id, str(fasta.seq)\n",
    "        gene = name.split('_')[4]\n",
    "        utrs[gene] = sequence"
   ]
  },
  {
   "cell_type": "code",
   "execution_count": 6,
   "id": "fd8834fb",
   "metadata": {},
   "outputs": [
    {
     "data": {
      "text/plain": [
       "5211"
      ]
     },
     "execution_count": 6,
     "metadata": {},
     "output_type": "execute_result"
    }
   ],
   "source": [
    "len(utrs)"
   ]
  },
  {
   "cell_type": "code",
   "execution_count": 7,
   "id": "9a3f355a",
   "metadata": {},
   "outputs": [],
   "source": [
    "seqCounts = {k: len(v) for k,v in utrs.items()}"
   ]
  },
  {
   "cell_type": "code",
   "execution_count": 8,
   "id": "397c663a",
   "metadata": {},
   "outputs": [
    {
     "data": {
      "text/plain": [
       "<AxesSubplot:xlabel=\"UTR3' length\", ylabel='Count'>"
      ]
     },
     "execution_count": 8,
     "metadata": {},
     "output_type": "execute_result"
    },
    {
     "data": {
      "image/png": "[encoded data removed]",
      "text/plain": [
       "<Figure size 432x288 with 1 Axes>"
      ]
     },
     "metadata": {
      "needs_background": "light"
     },
     "output_type": "display_data"
    }
   ],
   "source": [
    "\n",
    "ax = histplot(seqCounts.values())\n",
    "ax.set(xlabel='UTR3\\' length')\n",
    "ax"
   ]
  },
  {
   "cell_type": "code",
   "execution_count": 9,
   "id": "a81b4490",
   "metadata": {},
   "outputs": [
    {
     "data": {
      "text/html": [
       "<div>\n",
       "<style scoped>\n",
       "    .dataframe tbody tr th:only-of-type {\n",
       "        vertical-align: middle;\n",
       "    }\n",
       "\n",
       "    .dataframe tbody tr th {\n",
       "        vertical-align: top;\n",
       "    }\n",
       "\n",
       "    .dataframe thead th {\n",
       "        text-align: right;\n",
       "    }\n",
       "</style>\n",
       "<table border=\"1\" class=\"dataframe\">\n",
       "  <thead>\n",
       "    <tr style=\"text-align: right;\">\n",
       "      <th></th>\n",
       "      <th>Systematic Name</th>\n",
       "      <th>foreign</th>\n",
       "    </tr>\n",
       "  </thead>\n",
       "  <tbody>\n",
       "    <tr>\n",
       "      <th>0</th>\n",
       "      <td>YAL002W</td>\n",
       "      <td>ACATTTCTAAATATTTAATACAACTTTGGTTACATAAAAGTAAAAT...</td>\n",
       "    </tr>\n",
       "    <tr>\n",
       "      <th>1</th>\n",
       "      <td>YAL003W</td>\n",
       "      <td>AAAGGCTTTTTTATAAACTTTTTATAATTAACATTAAAGCAAAAAC...</td>\n",
       "    </tr>\n",
       "    <tr>\n",
       "      <th>2</th>\n",
       "      <td>YAL004W</td>\n",
       "      <td>AATCAATACCGACAGCTTTTGACATATTATCTGTTATTTACTTGAA...</td>\n",
       "    </tr>\n",
       "    <tr>\n",
       "      <th>3</th>\n",
       "      <td>YAL005C</td>\n",
       "      <td>AGCCAATTGGTGCGGCAATTGATAATAACGAAAATGTCTTTTAATG...</td>\n",
       "    </tr>\n",
       "    <tr>\n",
       "      <th>4</th>\n",
       "      <td>YAL007C</td>\n",
       "      <td>AGAACTTTTCAATCTACGAAAAATATATGTCCGCAATATAGAACAC...</td>\n",
       "    </tr>\n",
       "  </tbody>\n",
       "</table>\n",
       "</div>"
      ],
      "text/plain": [
       "  Systematic Name                                            foreign\n",
       "0         YAL002W  ACATTTCTAAATATTTAATACAACTTTGGTTACATAAAAGTAAAAT...\n",
       "1         YAL003W  AAAGGCTTTTTTATAAACTTTTTATAATTAACATTAAAGCAAAAAC...\n",
       "2         YAL004W  AATCAATACCGACAGCTTTTGACATATTATCTGTTATTTACTTGAA...\n",
       "3         YAL005C  AGCCAATTGGTGCGGCAATTGATAATAACGAAAATGTCTTTTAATG...\n",
       "4         YAL007C  AGAACTTTTCAATCTACGAAAAATATATGTCCGCAATATAGAACAC..."
      ]
     },
     "execution_count": 9,
     "metadata": {},
     "output_type": "execute_result"
    }
   ],
   "source": [
    "foreign = pd.DataFrame({'foreign':utrs})\n",
    "foreign.reset_index(inplace=True)\n",
    "foreign.rename(columns={'index':'Systematic Name'}, inplace=True)\n",
    "foreign.head()"
   ]
  },
  {
   "cell_type": "markdown",
   "id": "fce42d25",
   "metadata": {},
   "source": [
    "**Outer** merge sequences information to the knows ones"
   ]
  },
  {
   "cell_type": "code",
   "execution_count": 10,
   "id": "a1096943",
   "metadata": {},
   "outputs": [
    {
     "data": {
      "text/html": [
       "<div>\n",
       "<style scoped>\n",
       "    .dataframe tbody tr th:only-of-type {\n",
       "        vertical-align: middle;\n",
       "    }\n",
       "\n",
       "    .dataframe tbody tr th {\n",
       "        vertical-align: top;\n",
       "    }\n",
       "\n",
       "    .dataframe thead th {\n",
       "        text-align: right;\n",
       "    }\n",
       "</style>\n",
       "<table border=\"1\" class=\"dataframe\">\n",
       "  <thead>\n",
       "    <tr style=\"text-align: right;\">\n",
       "      <th></th>\n",
       "      <th>Systematic Name</th>\n",
       "      <th>Gene Name</th>\n",
       "      <th>Sequence of amplified region</th>\n",
       "      <th>foreign</th>\n",
       "    </tr>\n",
       "  </thead>\n",
       "  <tbody>\n",
       "    <tr>\n",
       "      <th>0</th>\n",
       "      <td>Q0050</td>\n",
       "      <td>AI1</td>\n",
       "      <td>TTAATGATACTCAATATGGAAAGCCGTATGATGGGAAACTATCACG...</td>\n",
       "      <td>NaN</td>\n",
       "    </tr>\n",
       "    <tr>\n",
       "      <th>1</th>\n",
       "      <td>Q0055</td>\n",
       "      <td>AI2</td>\n",
       "      <td>TATTAAATATGCGTTAAATGGAGAGCCGTATGATATGAAAGTATCA...</td>\n",
       "      <td>NaN</td>\n",
       "    </tr>\n",
       "    <tr>\n",
       "      <th>2</th>\n",
       "      <td>Q0060</td>\n",
       "      <td>AI3</td>\n",
       "      <td>AATTATTATTACTTTCTTCCCCTCCGAATCCGTAATATATTTACGG...</td>\n",
       "      <td>NaN</td>\n",
       "    </tr>\n",
       "    <tr>\n",
       "      <th>3</th>\n",
       "      <td>YAL001C</td>\n",
       "      <td>TFC3</td>\n",
       "      <td>ACATAATGAAATGAGGTGTATAAATTTTACTTTTATGTAACCAAAG...</td>\n",
       "      <td>NaN</td>\n",
       "    </tr>\n",
       "    <tr>\n",
       "      <th>4</th>\n",
       "      <td>YAL002W</td>\n",
       "      <td>VPS8</td>\n",
       "      <td>TTTAATACAACTTTGGTTACATAAAAGTAAAATTTATACACCTCAT...</td>\n",
       "      <td>ACATTTCTAAATATTTAATACAACTTTGGTTACATAAAAGTAAAAT...</td>\n",
       "    </tr>\n",
       "  </tbody>\n",
       "</table>\n",
       "</div>"
      ],
      "text/plain": [
       "  Systematic Name Gene Name  \\\n",
       "0           Q0050       AI1   \n",
       "1           Q0055       AI2   \n",
       "2           Q0060       AI3   \n",
       "3         YAL001C      TFC3   \n",
       "4         YAL002W      VPS8   \n",
       "\n",
       "                        Sequence of amplified region  \\\n",
       "0  TTAATGATACTCAATATGGAAAGCCGTATGATGGGAAACTATCACG...   \n",
       "1  TATTAAATATGCGTTAAATGGAGAGCCGTATGATATGAAAGTATCA...   \n",
       "2  AATTATTATTACTTTCTTCCCCTCCGAATCCGTAATATATTTACGG...   \n",
       "3  ACATAATGAAATGAGGTGTATAAATTTTACTTTTATGTAACCAAAG...   \n",
       "4  TTTAATACAACTTTGGTTACATAAAAGTAAAATTTATACACCTCAT...   \n",
       "\n",
       "                                             foreign  \n",
       "0                                                NaN  \n",
       "1                                                NaN  \n",
       "2                                                NaN  \n",
       "3                                                NaN  \n",
       "4  ACATTTCTAAATATTTAATACAACTTTGGTTACATAAAAGTAAAAT...  "
      ]
     },
     "execution_count": 10,
     "metadata": {},
     "output_type": "execute_result"
    }
   ],
   "source": [
    "updated = data.merge(foreign, on=['Systematic Name'], how='outer')\n",
    "updated.head()"
   ]
  },
  {
   "cell_type": "code",
   "execution_count": 11,
   "id": "25af7264",
   "metadata": {},
   "outputs": [],
   "source": [
    "updated.rename(columns={'Sequence of amplified region':'orig'}, inplace=True)"
   ]
  },
  {
   "cell_type": "code",
   "execution_count": 12,
   "id": "1e6881c9",
   "metadata": {},
   "outputs": [],
   "source": [
    "updated['updated'] = updated['foreign'].fillna(updated['orig'])\n",
    "updated = updated.dropna(subset=['updated'])"
   ]
  },
  {
   "cell_type": "code",
   "execution_count": 13,
   "id": "edc4dd89",
   "metadata": {},
   "outputs": [
    {
     "data": {
      "text/plain": [
       "<AxesSubplot:xlabel=\"UTR3' length\", ylabel='Count'>"
      ]
     },
     "execution_count": 13,
     "metadata": {},
     "output_type": "execute_result"
    },
    {
     "data": {
      "image/png": "[encoded data removed]",
      "text/plain": [
       "<Figure size 432x288 with 1 Axes>"
      ]
     },
     "metadata": {
      "needs_background": "light"
     },
     "output_type": "display_data"
    }
   ],
   "source": [
    "ax = histplot(updated['updated'].apply(len))\n",
    "ax.set(xlabel='UTR3\\' length')\n",
    "ax\n"
   ]
  },
  {
   "cell_type": "code",
   "execution_count": 14,
   "id": "b102fff0",
   "metadata": {},
   "outputs": [
    {
     "data": {
      "text/plain": [
       "False"
      ]
     },
     "execution_count": 14,
     "metadata": {},
     "output_type": "execute_result"
    }
   ],
   "source": [
    "updated['updated'].isnull().any()"
   ]
  },
  {
   "cell_type": "code",
   "execution_count": 15,
   "id": "0678d254",
   "metadata": {},
   "outputs": [],
   "source": [
    "output = updated[['Systematic Name', 'Gene Name', 'orig', 'foreign']]"
   ]
  },
  {
   "cell_type": "code",
   "execution_count": 16,
   "id": "22475da0",
   "metadata": {},
   "outputs": [],
   "source": [
    "output.to_csv('../processed_data/utrs.csv', index=None)"
   ]
  },
  {
   "cell_type": "markdown",
   "id": "84e23e68",
   "metadata": {},
   "source": [
    "Output file **contains nans in all rows** except for the Systematic Name"
   ]
  },
  {
   "cell_type": "code",
   "execution_count": 17,
   "id": "c2f61cc1",
   "metadata": {},
   "outputs": [
    {
     "data": {
      "text/plain": [
       "Systematic Name      0\n",
       "Gene Name          341\n",
       "orig               531\n",
       "foreign            622\n",
       "dtype: int64"
      ]
     },
     "execution_count": 17,
     "metadata": {},
     "output_type": "execute_result"
    }
   ],
   "source": [
    "output.isnull().sum()"
   ]
  }
 ],
 "metadata": {
  "kernelspec": {
   "display_name": "intbioproj",
   "language": "python",
   "name": "intbioproj"
  },
  "language_info": {
   "codemirror_mode": {
    "name": "ipython",
    "version": 3
   },
   "file_extension": ".py",
   "mimetype": "text/x-python",
   "name": "python",
   "nbconvert_exporter": "python",
   "pygments_lexer": "ipython3",
   "version": "3.8.10"
  }
 },
 "nbformat": 4,
 "nbformat_minor": 5
}
