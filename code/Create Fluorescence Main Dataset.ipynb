{
 "cells": [
  {
   "cell_type": "code",
   "execution_count": 1,
   "id": "be367374",
   "metadata": {},
   "outputs": [
    {
     "name": "stderr",
     "output_type": "stream",
     "text": [
      "/home/vaslem/code/intbioproj/.venv/lib/python3.8/site-packages/openpyxl/worksheet/_reader.py:312: UserWarning: Unknown extension is not supported and will be removed\n",
      "  warn(msg)\n"
     ]
    },
    {
     "data": {
      "text/html": [
       "<div>\n",
       "<style scoped>\n",
       "    .dataframe tbody tr th:only-of-type {\n",
       "        vertical-align: middle;\n",
       "    }\n",
       "\n",
       "    .dataframe tbody tr th {\n",
       "        vertical-align: top;\n",
       "    }\n",
       "\n",
       "    .dataframe thead th {\n",
       "        text-align: right;\n",
       "    }\n",
       "</style>\n",
       "<table border=\"1\" class=\"dataframe\">\n",
       "  <thead>\n",
       "    <tr style=\"text-align: right;\">\n",
       "      <th></th>\n",
       "      <th>Systematic Name</th>\n",
       "      <th>Standard Name</th>\n",
       "      <th>intensity</th>\n",
       "      <th>fold_bkg</th>\n",
       "      <th>intensity.1</th>\n",
       "      <th>fold_bkg.1</th>\n",
       "      <th>intensity.2</th>\n",
       "      <th>fold_bkg.2</th>\n",
       "    </tr>\n",
       "  </thead>\n",
       "  <tbody>\n",
       "    <tr>\n",
       "      <th>0</th>\n",
       "      <td>YAL005C</td>\n",
       "      <td>SSA1</td>\n",
       "      <td>11.906396</td>\n",
       "      <td>493.387097</td>\n",
       "      <td>19.789652</td>\n",
       "      <td>819.397849</td>\n",
       "      <td>21.366155</td>\n",
       "      <td>1331.275362</td>\n",
       "    </tr>\n",
       "    <tr>\n",
       "      <th>1</th>\n",
       "      <td>YAL007C</td>\n",
       "      <td>ERP2</td>\n",
       "      <td>0.299776</td>\n",
       "      <td>13.025641</td>\n",
       "      <td>0.373282</td>\n",
       "      <td>15.974359</td>\n",
       "      <td>0.205630</td>\n",
       "      <td>11.515152</td>\n",
       "    </tr>\n",
       "    <tr>\n",
       "      <th>2</th>\n",
       "      <td>YAL008W</td>\n",
       "      <td>FUN14</td>\n",
       "      <td>0.455914</td>\n",
       "      <td>13.114286</td>\n",
       "      <td>0.549462</td>\n",
       "      <td>15.600000</td>\n",
       "      <td>0.186030</td>\n",
       "      <td>8.911765</td>\n",
       "    </tr>\n",
       "    <tr>\n",
       "      <th>3</th>\n",
       "      <td>YAL009W</td>\n",
       "      <td>SPO7</td>\n",
       "      <td>0.027090</td>\n",
       "      <td>2.322581</td>\n",
       "      <td>0.025107</td>\n",
       "      <td>2.225806</td>\n",
       "      <td>0.026735</td>\n",
       "      <td>2.236842</td>\n",
       "    </tr>\n",
       "    <tr>\n",
       "      <th>4</th>\n",
       "      <td>YAL010C</td>\n",
       "      <td>MDM10</td>\n",
       "      <td>NaN</td>\n",
       "      <td>NaN</td>\n",
       "      <td>NaN</td>\n",
       "      <td>NaN</td>\n",
       "      <td>0.015516</td>\n",
       "      <td>2.107143</td>\n",
       "    </tr>\n",
       "  </tbody>\n",
       "</table>\n",
       "</div>"
      ],
      "text/plain": [
       "  Systematic Name Standard Name  intensity    fold_bkg  intensity.1  \\\n",
       "0         YAL005C          SSA1  11.906396  493.387097    19.789652   \n",
       "1         YAL007C          ERP2   0.299776   13.025641     0.373282   \n",
       "2         YAL008W         FUN14   0.455914   13.114286     0.549462   \n",
       "3         YAL009W          SPO7   0.027090    2.322581     0.025107   \n",
       "4         YAL010C         MDM10        NaN         NaN          NaN   \n",
       "\n",
       "   fold_bkg.1  intensity.2   fold_bkg.2  \n",
       "0  819.397849    21.366155  1331.275362  \n",
       "1   15.974359     0.205630    11.515152  \n",
       "2   15.600000     0.186030     8.911765  \n",
       "3    2.225806     0.026735     2.236842  \n",
       "4         NaN     0.015516     2.107143  "
      ]
     },
     "execution_count": 1,
     "metadata": {},
     "output_type": "execute_result"
    }
   ],
   "source": [
    "import pandas as pd\n",
    "data = pd.read_excel('../raw_data/41592_2018_45_MOESM4_ESM.xlsx', skiprows=6, engine='openpyxl')\n",
    "data.head()"
   ]
  },
  {
   "cell_type": "code",
   "execution_count": 3,
   "id": "f1c403f8",
   "metadata": {},
   "outputs": [],
   "source": [
    "data.rename(columns={'Standard Name':'gene', 'Systematic Name':\"systematicName\"}, inplace=True)\n",
    "data = data[['gene', 'systematicName', 'intensity']]\n",
    "data.to_csv('../processed_data/fluorescence_dataset.csv', index=False)"
   ]
  },
  {
   "cell_type": "code",
   "execution_count": null,
   "id": "c029ed82",
   "metadata": {},
   "outputs": [],
   "source": []
  }
 ],
 "metadata": {
  "kernelspec": {
   "display_name": "intbioproj",
   "language": "python",
   "name": "intbioproj"
  },
  "language_info": {
   "codemirror_mode": {
    "name": "ipython",
    "version": 3
   },
   "file_extension": ".py",
   "mimetype": "text/x-python",
   "name": "python",
   "nbconvert_exporter": "python",
   "pygments_lexer": "ipython3",
   "version": "3.8.10"
  }
 },
 "nbformat": 4,
 "nbformat_minor": 5
}
