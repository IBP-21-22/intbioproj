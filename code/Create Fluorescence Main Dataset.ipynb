{
 "cells": [
  {
   "cell_type": "code",
   "execution_count": 1,
   "metadata": {},
   "outputs": [
    {
     "name": "stderr",
     "output_type": "stream",
     "text": [
      "/home/vaslem/code/intbioproj/.venv/lib/python3.8/site-packages/openpyxl/worksheet/_reader.py:312: UserWarning: Unknown extension is not supported and will be removed\n",
      "  warn(msg)\n"
     ]
    },
    {
     "data": {
      "text/html": [
       "<div>\n",
       "<style scoped>\n",
       "    .dataframe tbody tr th:only-of-type {\n",
       "        vertical-align: middle;\n",
       "    }\n",
       "\n",
       "    .dataframe tbody tr th {\n",
       "        vertical-align: top;\n",
       "    }\n",
       "\n",
       "    .dataframe thead th {\n",
       "        text-align: right;\n",
       "    }\n",
       "</style>\n",
       "<table border=\"1\" class=\"dataframe\">\n",
       "  <thead>\n",
       "    <tr style=\"text-align: right;\">\n",
       "      <th></th>\n",
       "      <th>Systematic Name</th>\n",
       "      <th>Standard Name</th>\n",
       "      <th>intensity</th>\n",
       "      <th>fold_bkg</th>\n",
       "      <th>intensity.1</th>\n",
       "      <th>fold_bkg.1</th>\n",
       "      <th>intensity.2</th>\n",
       "      <th>fold_bkg.2</th>\n",
       "    </tr>\n",
       "  </thead>\n",
       "  <tbody>\n",
       "    <tr>\n",
       "      <th>0</th>\n",
       "      <td>YAL005C</td>\n",
       "      <td>SSA1</td>\n",
       "      <td>11.906396</td>\n",
       "      <td>493.387097</td>\n",
       "      <td>19.789652</td>\n",
       "      <td>819.397849</td>\n",
       "      <td>21.366155</td>\n",
       "      <td>1331.275362</td>\n",
       "    </tr>\n",
       "    <tr>\n",
       "      <th>1</th>\n",
       "      <td>YAL007C</td>\n",
       "      <td>ERP2</td>\n",
       "      <td>0.299776</td>\n",
       "      <td>13.025641</td>\n",
       "      <td>0.373282</td>\n",
       "      <td>15.974359</td>\n",
       "      <td>0.205630</td>\n",
       "      <td>11.515152</td>\n",
       "    </tr>\n",
       "    <tr>\n",
       "      <th>2</th>\n",
       "      <td>YAL008W</td>\n",
       "      <td>FUN14</td>\n",
       "      <td>0.455914</td>\n",
       "      <td>13.114286</td>\n",
       "      <td>0.549462</td>\n",
       "      <td>15.600000</td>\n",
       "      <td>0.186030</td>\n",
       "      <td>8.911765</td>\n",
       "    </tr>\n",
       "    <tr>\n",
       "      <th>3</th>\n",
       "      <td>YAL009W</td>\n",
       "      <td>SPO7</td>\n",
       "      <td>0.027090</td>\n",
       "      <td>2.322581</td>\n",
       "      <td>0.025107</td>\n",
       "      <td>2.225806</td>\n",
       "      <td>0.026735</td>\n",
       "      <td>2.236842</td>\n",
       "    </tr>\n",
       "    <tr>\n",
       "      <th>4</th>\n",
       "      <td>YAL010C</td>\n",
       "      <td>MDM10</td>\n",
       "      <td>NaN</td>\n",
       "      <td>NaN</td>\n",
       "      <td>NaN</td>\n",
       "      <td>NaN</td>\n",
       "      <td>0.015516</td>\n",
       "      <td>2.107143</td>\n",
       "    </tr>\n",
       "  </tbody>\n",
       "</table>\n",
       "</div>"
      ],
      "text/plain": [
       "  Systematic Name Standard Name  intensity    fold_bkg  intensity.1  \\\n",
       "0         YAL005C          SSA1  11.906396  493.387097    19.789652   \n",
       "1         YAL007C          ERP2   0.299776   13.025641     0.373282   \n",
       "2         YAL008W         FUN14   0.455914   13.114286     0.549462   \n",
       "3         YAL009W          SPO7   0.027090    2.322581     0.025107   \n",
       "4         YAL010C         MDM10        NaN         NaN          NaN   \n",
       "\n",
       "   fold_bkg.1  intensity.2   fold_bkg.2  \n",
       "0  819.397849    21.366155  1331.275362  \n",
       "1   15.974359     0.205630    11.515152  \n",
       "2   15.600000     0.186030     8.911765  \n",
       "3    2.225806     0.026735     2.236842  \n",
       "4         NaN     0.015516     2.107143  "
      ]
     },
     "execution_count": 1,
     "metadata": {},
     "output_type": "execute_result"
    }
   ],
   "source": [
    "import pandas as pd\n",
    "data = pd.read_excel('../raw_data/41592_2018_45_MOESM4_ESM.xlsx', skiprows=6, engine='openpyxl')\n",
    "data.head()"
   ]
  },
  {
   "cell_type": "code",
   "execution_count": 3,
   "metadata": {},
   "outputs": [],
   "source": [
    "data.rename(columns={'Standard Name':'gene', 'Systematic Name':\"systematicName\"}, inplace=True)\n",
    "data = data[['gene', 'systematicName', 'intensity']]\n",
    "data.to_csv('../processed_data/fluorescence_dataset.csv', index=False)"
   ]
  },
  {
   "cell_type": "code",
   "execution_count": 3,
   "metadata": {},
   "outputs": [
    {
     "data": {
      "text/html": [
       "<div>\n",
       "<style scoped>\n",
       "    .dataframe tbody tr th:only-of-type {\n",
       "        vertical-align: middle;\n",
       "    }\n",
       "\n",
       "    .dataframe tbody tr th {\n",
       "        vertical-align: top;\n",
       "    }\n",
       "\n",
       "    .dataframe thead th {\n",
       "        text-align: right;\n",
       "    }\n",
       "</style>\n",
       "<table border=\"1\" class=\"dataframe\">\n",
       "  <thead>\n",
       "    <tr style=\"text-align: right;\">\n",
       "      <th></th>\n",
       "      <th>Systematic Name</th>\n",
       "      <th>Gene Name</th>\n",
       "      <th>relative FI</th>\n",
       "      <th>5'-primer</th>\n",
       "      <th>3'-primer</th>\n",
       "      <th>Sequence of amplified region</th>\n",
       "    </tr>\n",
       "  </thead>\n",
       "  <tbody>\n",
       "    <tr>\n",
       "      <th>0</th>\n",
       "      <td>Q0050</td>\n",
       "      <td>AI1</td>\n",
       "      <td>0.405669</td>\n",
       "      <td>TTAATGATACTCAATATGGAAAGCC</td>\n",
       "      <td>AAGCATGAATCACAATCCCC</td>\n",
       "      <td>TTAATGATACTCAATATGGAAAGCCGTATGATGGGAAACTATCACG...</td>\n",
       "    </tr>\n",
       "    <tr>\n",
       "      <th>1</th>\n",
       "      <td>Q0055</td>\n",
       "      <td>AI2</td>\n",
       "      <td>1.129300</td>\n",
       "      <td>TATTAAATATGCGTTAAATGGAGAGC</td>\n",
       "      <td>AGCACCTCTAACAAATGCTTCA</td>\n",
       "      <td>TATTAAATATGCGTTAAATGGAGAGCCGTATGATATGAAAGTATCA...</td>\n",
       "    </tr>\n",
       "    <tr>\n",
       "      <th>2</th>\n",
       "      <td>Q0060</td>\n",
       "      <td>AI3</td>\n",
       "      <td>0.760753</td>\n",
       "      <td>AATTATTATTACTTTCTTCCCCTCCG</td>\n",
       "      <td>GGTGCAACACGTGTAGTCTCTG</td>\n",
       "      <td>AATTATTATTACTTTCTTCCCCTCCGAATCCGTAATATATTTACGG...</td>\n",
       "    </tr>\n",
       "    <tr>\n",
       "      <th>3</th>\n",
       "      <td>YAL001C</td>\n",
       "      <td>TFC3</td>\n",
       "      <td>1.281130</td>\n",
       "      <td>ACATAATGAAATGAGGTGTATAAAT</td>\n",
       "      <td>TGTTCTTGAGCACCAAGACG</td>\n",
       "      <td>ACATAATGAAATGAGGTGTATAAATTTTACTTTTATGTAACCAAAG...</td>\n",
       "    </tr>\n",
       "    <tr>\n",
       "      <th>4</th>\n",
       "      <td>YAL002W</td>\n",
       "      <td>VPS8</td>\n",
       "      <td>1.203350</td>\n",
       "      <td>TTTAATACAACTTTGGTTACATA</td>\n",
       "      <td>CCAATGGTGAGAAATGTTCG</td>\n",
       "      <td>TTTAATACAACTTTGGTTACATAAAAGTAAAATTTATACACCTCAT...</td>\n",
       "    </tr>\n",
       "  </tbody>\n",
       "</table>\n",
       "</div>"
      ],
      "text/plain": [
       "  Systematic Name Gene Name  relative FI                   5'-primer  \\\n",
       "0           Q0050       AI1     0.405669   TTAATGATACTCAATATGGAAAGCC   \n",
       "1           Q0055       AI2     1.129300  TATTAAATATGCGTTAAATGGAGAGC   \n",
       "2           Q0060       AI3     0.760753  AATTATTATTACTTTCTTCCCCTCCG   \n",
       "3         YAL001C      TFC3     1.281130   ACATAATGAAATGAGGTGTATAAAT   \n",
       "4         YAL002W      VPS8     1.203350     TTTAATACAACTTTGGTTACATA   \n",
       "\n",
       "                3'-primer                       Sequence of amplified region  \n",
       "0    AAGCATGAATCACAATCCCC  TTAATGATACTCAATATGGAAAGCCGTATGATGGGAAACTATCACG...  \n",
       "1  AGCACCTCTAACAAATGCTTCA  TATTAAATATGCGTTAAATGGAGAGCCGTATGATATGAAAGTATCA...  \n",
       "2  GGTGCAACACGTGTAGTCTCTG  AATTATTATTACTTTCTTCCCCTCCGAATCCGTAATATATTTACGG...  \n",
       "3    TGTTCTTGAGCACCAAGACG  ACATAATGAAATGAGGTGTATAAATTTTACTTTTATGTAACCAAAG...  \n",
       "4    CCAATGGTGAGAAATGTTCG  TTTAATACAACTTTGGTTACATAAAAGTAAAATTTATACACCTCAT...  "
      ]
     },
     "execution_count": 3,
     "metadata": {},
     "output_type": "execute_result"
    }
   ],
   "source": [
    "import pandas as pd\n",
    "data_y = pd.read_excel('../raw_data/yamanishi/sb300116y_si_002.xls', skiprows=1)\n",
    "data_y.head()"
   ]
  },
  {
   "cell_type": "code",
   "execution_count": 4,
   "metadata": {},
   "outputs": [],
   "source": [
    "data_y.rename(\n",
    "    columns={'Gene Name':'gene', 'relative FI':\"intensity\", 'Sequence of amplified region':'utr_seq'},\n",
    "    inplace=True)"
   ]
  },
  {
   "cell_type": "code",
   "execution_count": 5,
   "metadata": {},
   "outputs": [],
   "source": [
    "data_y[['gene','intensity','utr_seq']].to_csv('../processed_data/yamanishi_data.csv',index=None)"
   ]
  },
  {
   "cell_type": "code",
   "execution_count": 6,
   "metadata": {},
   "outputs": [
    {
     "name": "stdout",
     "output_type": "stream",
     "text": [
      "gene,intensity,utr_seq\r\n",
      "AI1,0.405669,TTAATGATACTCAATATGGAAAGCCGTATGATGGGAAACTATCACGTACGGTTTGGGAAAGGCTCTTTAACACGTGGCAACATAGGTTAATTTGCTATTTCATTTTTAGTAGTTGGTCATGCTGTATTAATGATTTTCTGTGCGCCGTTTCGCTTAATTTATCACTGTATTGAAGTGTTAATTGATAAACATATCTCTGTTTATTCAATTAATGAAAACTTTACCGTATCATTTTGGTTCTGATTATTAGTAGTAACATACATAGTATTTAGATACGTAAACCATATGGCTTACCCAGTTGGGGCCAACTCAACGGGGACAATAGCATGCCATAAAAGCGCTGGAGTAAAACAGCCAGCGCAAGGTAAGAACTGTCCGATGGCTAGGTTAACGAATTCCTGTAAAGAATGTTTAGGGTTCTCATTAACTCCTTCCCACTTGGGGATTGTGATTCATGCTT\r\n",
      "AI2,1.1293,TATTAAATATGCGTTAAATGGAGAGCCGTATGATATGAAAGTATCACGTACGGTTCGGAGAGGGCTCTTTTATATGAATGTTATTACATTCAGATAGGTTTGCTACTCTACTCTTAGTAATGCCTGCTTTAATTGGAGGTTTTGGTAACCAAAAAAGATATGAAAGTAATAATAATAATAATCAAGTAATAGAAAATAAAGAATATAATTTAAAATTAAATTATGATAAGTTGGGACCTTATTTAGCTGGATTAATTGAAGGTGATGGAACTATTCTAGTTCAAAATTCATCTTCAATAAAAAAATCTAAATATAGACCGTTAATTGTTGTAGTATTTAAATTAGAAGATTTAGAATTAGCTAATTATTTATGTAATTTAACTAAATGTGGAAAAGTGTATAAAAAAATTAATCGTAATTATGTATTATGACTTATTCATGATTTAAAAGGTGTATATACATTATTAAATATTATTAATGGATATATGAGAACACCTAAATATGAAGCATTTGTTAGAGGTGCT\r\n",
      "AI3,0.760753,AATTATTATTACTTTCTTCCCCTCCGAATCCGTAATATATTTACGGATATATAATCTCGTAGTGTAAAAGGTGTAACGAGATTATTAATAAGTTGCCGTAATATATTGTAAAATATATTATTATTACAACACTATATGCGGGAAAACCCTAAAGTCATAATATAATATTATCCCCACGAGGGCCACACATGTGTGGCCCTCGCGGGGTATGGTAAATTTAATTAAGTTATAAATGTACTATAGTATTAAAAATTATTATGAATAATTTCCCCACCCCCATGCGAAGCATGGGGGGGGGTATAAGTATGGACAATCCGCAGGAAACCAAATAATAATTAATATCCTGAAACAAAGTAAGTGAAGGAGATATCTTAAAATATATATAATATATATTTTATAAATTATTATGTAGGATCCTCAGAGACTACACGTGTTGCACC\r\n",
      "TFC3,1.28113,ACATAATGAAATGAGGTGTATAAATTTTACTTTTATGTAACCAAAGTTGTATTAAATATTTAGAAATGTTATACTATTTTTGGGTTAGATTCCGTCTGGCAAATTAAACAAGAATATTCATCGGGTTTCTGGGCCAAGTTTTCGAGGCAAGTCTGGTGAAAGCCATGGTGACATTTGAATATGACAAGGGGAGTTTTGAGATCTACACTAATCATATCTTGGTGGCGCTGTACATTTTCCCAAGCTAGAAAAAGTAATGGGTCCAGACCAGCTCCCCATATTTTTTTCCCGCAGATTTCGCAGTCGTCGGTGTGTATAGACCACCCTTCACTCAGAAATTTTCTATACTGTTGAACAAGATCTTGCGAAGAATCCTCTATAATCTTTTGAATCAACTCAGAAAGAGATCTTTCCAATTTATAAGTATTAAAAACATTCAGTAGCAGTTGCTTTAAATCCTGAACTTTCATTAAAATAACGTCTTGGTGCTCAAGAACA\r\n",
      "VPS8,1.20335,TTTAATACAACTTTGGTTACATAAAAGTAAAATTTATACACCTCATTTCATTATGTAGATTCATATATAGAATACCAATTATGATTGACCCAATAGCCATCAAAATCAGTAGTTATTAATACTTGTCTTTCTAGGAGCCATTTGCATATTTCTGATATTTCATGAAGCGAAAGTACTTCACGACACCTAGATTGCAATCTACTCAATGTTATCCCTGGATGAAATATTATTTCGTTAACGACCATAGTAACTACCTGCTTCCATATGTTTGGCCTAATGGAACCAGATCCATTCACCCATAAACGAGAAAATGGTTTGCCCAGTGGAACTTTGACAGCAGACTTCCTTGCTGTATTCAATTTTGTCTGAGAATTGGCATATATAATCAGAGGGGGAGTTAATGTTCGTATTTCAAATCTCCTTGAAGTATACGTTAAAGGTCGAACATTTCTCACCATTGG\r\n",
      "SSA1,0.83754,GATTAAGCCAATTGGTGCGGCAATTGATAATAACGAAAATGTCTTTTAATGATCTGGGTATAATGAGGAATTTTCCGAACGTTTTTACTTTATATATATATATACATGTAACATATATTCTATACGCTATAGAGAAAGGAAATTTTTCAATTAAAAAAAAAATAGAGAAAGAGTTTCACTTCTTGATTATCGCTAACACTAATGGTTGAAGTACTGCTACTTTAATTTTATAGATAGGCAAAAAAAAATTATTCGGGGCGAGCTGGGAATTGAACCCAGGGCCTCTCGCATGCTTTGTCTTCCTGTTTAATCAGGAAGTCGCCCAAAGCGAGAATCATACCACTAGACCACACGCCCGTACTAATTGATGTCTTCCTTTTCGGATAGATGTATATATATACAAATTGGTCAGATTGCTTTTGGCTC\r\n",
      "ERP2,1.27176,TACGTTTAAGAACTTTTCAATCTACGAAAAATATATGTCCGCAATATAGAACACAATTAGGTTTATATTCGACGTGATTTTTTTTTCTTCCTTAGCCCTATGTATATTTACTGTATAGGATAAATGAAATACCAAAAATAAAAAAGTATAAAACGAAAGAATATAACCCTCGTTTATATCTGGTCATTTGTCTTGCTCATTTGTTAGCATTTAAACTTGCTAATACGAAACTCAATGTAAAGAATACTTTAAAACCCATGTATTCTGTACCCAATAACCCATCAATAAGCAGTTTCTTCAAGTCTACATCTTTCAAAACAATTACAGATTTGATATTTTTCAAATTAATGCGAATCCATCCCTTGTACCGTAACCATTCACAAAGAAGCATGCTTGTAATACCGACATACATAAACAAAATTGATATCTTAGCCACCGTAACTCCTAAAACAACACCGAATAATGATCCCAAAA\r\n",
      "FUN14,1.12007,GCAAGACAAATGACCAGATATAAACGAGGGTTATATTCTTTCGTTTTATACTTTTTTATTTTTGGTATTTCATTTATCCTATACAGTAAATATACATAGGGCTAAGGAAGAAAAAAAAATCACGTCGAATATAAACCTAATTGTGTTCTATATTGCGGACATATATTTTTCGTAGATTGAAAAGTTCTTAAACGTAATTTTTTTGACGACCAGTGAAGAGGAATTGAATAAGTAGAACTTGGGCAATACTTATAACGGCAATGATAATGATAATCAATATAGATAACCAAGTCAACCTTGATTCGGTGGAATTGACGGTAGACATGTTTCTCCATTCTCTGGCTCTCAAATAGTTCAAAGTCTTCGTGATTTTGTTCAAGTTTCTATCTATTTCCTCCACGGCG\r\n",
      "SPO7,1.13236,AAGAGTTGGAGGGCTTCTTCCTTCGAATAAGAGGTCATATTTACCTATGTAAAATTGTAACCATCTATGTTCACACATAAATTATATTTTATACATTATTAGAAGTGAAGCTGTTGTGTCGTGAAAATTTTACAAATCCGTCATTTCATATTTAAGTTTTCCAACAAGTGCTAGAAAACCTAGGGGTTGTTGAAATTGGTTAAACAAGGCATCTTATTATACATACAACAGCATAACGCTAGAGGGGCAAGAAGGAAGAACTTAAAATAATAGGTGTAAAATGACTTTGGCTTTTAATATGCAACGGTTGGTGTTTCGTAATTTGAATGTTGGGAAGCGCATGTTCAAGAACGTCCCCTTATGGAGGTTTAATGTCGCCAATAAATTAGGAAAGCCCTTAACTCGCTCTGTAGGGTTAGGCGGTGCTGGCATAGTTGCTGGTGGCTTTTACTTGATGAATCGCCAGCCTTCTAA\r\n"
     ]
    }
   ],
   "source": [
    "!head ../processed_data/yamanishi_data.csv"
   ]
  },
  {
   "cell_type": "code",
   "execution_count": null,
   "metadata": {},
   "outputs": [],
   "source": []
  }
 ],
 "metadata": {
  "kernelspec": {
   "display_name": "intbioproj",
   "language": "python",
   "name": "intbioproj"
  },
  "language_info": {
   "codemirror_mode": {
    "name": "ipython",
    "version": 3
   },
   "file_extension": ".py",
   "mimetype": "text/x-python",
   "name": "python",
   "nbconvert_exporter": "python",
   "pygments_lexer": "ipython3",
   "version": "3.8.10"
  }
 },
 "nbformat": 4,
 "nbformat_minor": 5
}
