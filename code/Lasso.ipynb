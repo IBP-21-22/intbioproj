{
 "cells": [
  {
   "cell_type": "markdown",
   "id": "59ff6ced",
   "metadata": {},
   "source": [
    "# LASSO regression of FI vs. GO terms TF-IDF"
   ]
  },
  {
   "cell_type": "markdown",
   "id": "ba83c538",
   "metadata": {},
   "source": [
    "## Preparation"
   ]
  },
  {
   "cell_type": "code",
   "execution_count": 1,
   "id": "ea6d5371",
   "metadata": {
    "ExecuteTime": {
     "end_time": "2021-11-27T19:57:22.962146Z",
     "start_time": "2021-11-27T19:57:19.719793Z"
    }
   },
   "outputs": [],
   "source": [
    "import pandas as pd\n",
    "import pickle as pkl\n",
    "import matplotlib.pyplot as plt\n",
    "from sklearn import linear_model\n",
    "import matplotlib.pyplot as plt"
   ]
  },
  {
   "cell_type": "markdown",
   "id": "17b6af57",
   "metadata": {
    "ExecuteTime": {
     "end_time": "2021-10-30T15:12:25.434941Z",
     "start_time": "2021-10-30T15:12:25.428054Z"
    }
   },
   "source": [
    "### Import GO data"
   ]
  },
  {
   "cell_type": "code",
   "execution_count": 2,
   "id": "57deb97d",
   "metadata": {
    "ExecuteTime": {
     "end_time": "2021-11-27T19:57:23.681092Z",
     "start_time": "2021-11-27T19:57:22.999316Z"
    }
   },
   "outputs": [],
   "source": [
    "with open('../processed_data/geneOntologyDataset.pkl', 'rb') as inp:\n",
    "    [pivoted, tfidfPivoted] = pkl.load(inp)"
   ]
  },
  {
   "cell_type": "code",
   "execution_count": 3,
   "id": "43148b80",
   "metadata": {
    "ExecuteTime": {
     "end_time": "2021-11-27T19:57:24.073310Z",
     "start_time": "2021-11-27T19:57:24.014039Z"
    }
   },
   "outputs": [],
   "source": [
    "GOdata = pd.DataFrame(tfidfPivoted['P'].todense()) #.join(pd.DataFrame(tfidfPivoted['P'].todense()), lsuffix='_left', rsuffix='_right').join(pd.DataFrame(tfidfPivoted['C'].todense()), lsuffix='_left2', rsuffix='_right2') # F / P / C\n",
    "GOdata[\"Standard Name\"] = pivoted['P'].index"
   ]
  },
  {
   "cell_type": "markdown",
   "id": "84049edc",
   "metadata": {
    "ExecuteTime": {
     "end_time": "2021-10-30T15:13:02.135025Z",
     "start_time": "2021-10-30T15:13:02.130067Z"
    }
   },
   "source": [
    "### Import FI data & merge"
   ]
  },
  {
   "cell_type": "code",
   "execution_count": 4,
   "id": "8ebfbc9c",
   "metadata": {
    "ExecuteTime": {
     "end_time": "2021-11-27T19:57:27.029203Z",
     "start_time": "2021-11-27T19:57:24.856631Z"
    }
   },
   "outputs": [
    {
     "name": "stderr",
     "output_type": "stream",
     "text": [
      "/Library/Frameworks/Python.framework/Versions/3.9/lib/python3.9/site-packages/openpyxl/worksheet/_reader.py:312: UserWarning: Unknown extension is not supported and will be removed\n",
      "  warn(msg)\n"
     ]
    }
   ],
   "source": [
    "FIdata = pd.read_excel('../raw_data/41592_2018_45_MOESM4_ESM.xlsx', skiprows = 6, engine = 'openpyxl')\n",
    "full_data = pd.merge(GOdata, FIdata, on = 'Standard Name', how = 'left')"
   ]
  },
  {
   "cell_type": "code",
   "execution_count": 45,
   "id": "00ef6a30",
   "metadata": {
    "ExecuteTime": {
     "end_time": "2021-11-27T20:25:29.289492Z",
     "start_time": "2021-11-27T20:25:29.214319Z"
    }
   },
   "outputs": [],
   "source": [
    "full_data.index = full_data[\"Systematic Name\"]\n",
    "full_data\n",
    "x = full_data.iloc[:, 0:full_data.columns.get_loc('Standard Name')]\n",
    "x.columns = pivoted.get(\"P\").columns\n",
    "y = full_data[\"intensity\"]"
   ]
  },
  {
   "cell_type": "code",
   "execution_count": 49,
   "id": "a398d213",
   "metadata": {
    "ExecuteTime": {
     "end_time": "2021-11-27T20:27:49.577694Z",
     "start_time": "2021-11-27T20:27:49.564804Z"
    }
   },
   "outputs": [],
   "source": [
    "mask = ~y.isnull() & (y > 0)\n",
    "whole_y = np.log(y[mask])\n",
    "vmask = whole_y > -20\n",
    "y = whole_y[vmask]"
   ]
  },
  {
   "cell_type": "code",
   "execution_count": 50,
   "id": "404bea0d",
   "metadata": {
    "ExecuteTime": {
     "end_time": "2021-11-27T20:27:56.951246Z",
     "start_time": "2021-11-27T20:27:56.875293Z"
    }
   },
   "outputs": [],
   "source": [
    "xy = pd.merge(x, y, how = \"right\", left_index = True, right_index = True)"
   ]
  },
  {
   "cell_type": "markdown",
   "id": "6ce3b63f",
   "metadata": {},
   "source": [
    "## LASSO"
   ]
  },
  {
   "cell_type": "code",
   "execution_count": 58,
   "id": "f07ca998",
   "metadata": {
    "ExecuteTime": {
     "end_time": "2021-11-27T20:29:12.766202Z",
     "start_time": "2021-11-27T20:29:12.758932Z"
    }
   },
   "outputs": [],
   "source": [
    "clf = linear_model.LassoLarsIC(criterion = 'bic', normalize = False, eps = 1e-)"
   ]
  },
  {
   "cell_type": "code",
   "execution_count": null,
   "id": "f5ee58ff",
   "metadata": {
    "ExecuteTime": {
     "start_time": "2021-11-27T20:29:13.217Z"
    }
   },
   "outputs": [
    {
     "name": "stderr",
     "output_type": "stream",
     "text": [
      "/Library/Frameworks/Python.framework/Versions/3.9/lib/python3.9/site-packages/sklearn/linear_model/_least_angle.py:651: ConvergenceWarning: Regressors in active set degenerate. Dropping a regressor, after 159 iterations, i.e. alpha=1.347e-03, with an active set of 159 regressors, and the smallest cholesky pivot element being 1.490e-08. Reduce max_iter or increase eps parameters.\n",
      "  warnings.warn(\n",
      "/Library/Frameworks/Python.framework/Versions/3.9/lib/python3.9/site-packages/sklearn/linear_model/_least_angle.py:651: ConvergenceWarning: Regressors in active set degenerate. Dropping a regressor, after 393 iterations, i.e. alpha=6.517e-04, with an active set of 389 regressors, and the smallest cholesky pivot element being 1.054e-08. Reduce max_iter or increase eps parameters.\n",
      "  warnings.warn(\n",
      "/Library/Frameworks/Python.framework/Versions/3.9/lib/python3.9/site-packages/sklearn/linear_model/_least_angle.py:651: ConvergenceWarning: Regressors in active set degenerate. Dropping a regressor, after 399 iterations, i.e. alpha=6.459e-04, with an active set of 395 regressors, and the smallest cholesky pivot element being 2.581e-08. Reduce max_iter or increase eps parameters.\n",
      "  warnings.warn(\n"
     ]
    }
   ],
   "source": [
    "clf.fit(xy.iloc[:,0:-1], xy.iloc[:,-1])"
   ]
  },
  {
   "cell_type": "code",
   "execution_count": 10,
   "id": "4ed8a1ff",
   "metadata": {
    "ExecuteTime": {
     "end_time": "2021-11-27T11:16:01.933333Z",
     "start_time": "2021-11-27T11:16:01.919794Z"
    }
   },
   "outputs": [
    {
     "data": {
      "text/plain": [
       "59"
      ]
     },
     "execution_count": 10,
     "metadata": {},
     "output_type": "execute_result"
    }
   ],
   "source": [
    "# number of GO terms with nonzero coefficient\n",
    "np.sum([clf.coef_ != 0])"
   ]
  },
  {
   "cell_type": "code",
   "execution_count": 11,
   "id": "11df742c",
   "metadata": {
    "ExecuteTime": {
     "end_time": "2021-11-27T11:16:02.399395Z",
     "start_time": "2021-11-27T11:16:02.389803Z"
    }
   },
   "outputs": [],
   "source": [
    "res = pd.DataFrame(clf.coef_)\n",
    "res.index = x.columns"
   ]
  },
  {
   "cell_type": "code",
   "execution_count": 17,
   "id": "b090bee7",
   "metadata": {
    "ExecuteTime": {
     "end_time": "2021-11-27T11:21:24.799542Z",
     "start_time": "2021-11-27T11:21:24.789812Z"
    }
   },
   "outputs": [],
   "source": [
    "selection = res[res[0] != 0]\n",
    "selection = selection.sort_values(by = 0)"
   ]
  },
  {
   "cell_type": "code",
   "execution_count": 13,
   "id": "f18d5ba9",
   "metadata": {
    "ExecuteTime": {
     "end_time": "2021-11-27T11:16:03.478695Z",
     "start_time": "2021-11-27T11:16:03.361311Z"
    }
   },
   "outputs": [
    {
     "data": {
      "text/plain": [
       "0.511620664265426"
      ]
     },
     "execution_count": 13,
     "metadata": {},
     "output_type": "execute_result"
    }
   ],
   "source": [
    "# R^2 of the model\n",
    "clf.score(xy.iloc[:,0:-1], xy.iloc[:,-1])"
   ]
  },
  {
   "cell_type": "code",
   "execution_count": 18,
   "id": "440123e0",
   "metadata": {
    "ExecuteTime": {
     "end_time": "2021-11-27T11:21:28.330599Z",
     "start_time": "2021-11-27T11:21:28.271656Z"
    }
   },
   "outputs": [],
   "source": [
    "selection.to_excel(\"lasso.xlsx\")"
   ]
  },
  {
   "cell_type": "code",
   "execution_count": null,
   "id": "a3553fb9",
   "metadata": {},
   "outputs": [],
   "source": []
  }
 ],
 "metadata": {
  "kernelspec": {
   "display_name": "Python 3 (ipykernel)",
   "language": "python",
   "name": "python3"
  },
  "language_info": {
   "codemirror_mode": {
    "name": "ipython",
    "version": 3
   },
   "file_extension": ".py",
   "mimetype": "text/x-python",
   "name": "python",
   "nbconvert_exporter": "python",
   "pygments_lexer": "ipython3",
   "version": "3.9.0"
  },
  "toc": {
   "base_numbering": 1,
   "nav_menu": {},
   "number_sections": true,
   "sideBar": true,
   "skip_h1_title": false,
   "title_cell": "Table of Contents",
   "title_sidebar": "Contents",
   "toc_cell": false,
   "toc_position": {},
   "toc_section_display": true,
   "toc_window_display": false
  },
  "varInspector": {
   "cols": {
    "lenName": 16,
    "lenType": 16,
    "lenVar": 40
   },
   "kernels_config": {
    "python": {
     "delete_cmd_postfix": "",
     "delete_cmd_prefix": "del ",
     "library": "var_list.py",
     "varRefreshCmd": "print(var_dic_list())"
    },
    "r": {
     "delete_cmd_postfix": ") ",
     "delete_cmd_prefix": "rm(",
     "library": "var_list.r",
     "varRefreshCmd": "cat(var_dic_list()) "
    }
   },
   "types_to_exclude": [
    "module",
    "function",
    "builtin_function_or_method",
    "instance",
    "_Feature"
   ],
   "window_display": false
  }
 },
 "nbformat": 4,
 "nbformat_minor": 5
}
