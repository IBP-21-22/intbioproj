{
 "cells": [
  {
   "cell_type": "markdown",
   "id": "59ff6ced",
   "metadata": {},
   "source": [
    "# LASSO regression of FI vs. GO terms TF-IDF"
   ]
  },
  {
   "cell_type": "markdown",
   "id": "ba83c538",
   "metadata": {},
   "source": [
    "## Preparation"
   ]
  },
  {
   "cell_type": "code",
   "execution_count": 3,
   "id": "ea6d5371",
   "metadata": {
    "ExecuteTime": {
     "end_time": "2021-11-27T10:13:42.619900Z",
     "start_time": "2021-11-27T10:13:42.614218Z"
    }
   },
   "outputs": [],
   "source": [
    "import pandas as pd\n",
    "import pickle as pkl\n",
    "import matplotlib.pyplot as plt\n",
    "from sklearn import linear_model\n",
    "import matplotlib.pyplot as plt"
   ]
  },
  {
   "cell_type": "markdown",
   "id": "17b6af57",
   "metadata": {
    "ExecuteTime": {
     "end_time": "2021-10-30T15:12:25.434941Z",
     "start_time": "2021-10-30T15:12:25.428054Z"
    }
   },
   "source": [
    "### Import GO data"
   ]
  },
  {
   "cell_type": "code",
   "execution_count": 4,
   "id": "57deb97d",
   "metadata": {
    "ExecuteTime": {
     "end_time": "2021-11-27T10:13:44.486990Z",
     "start_time": "2021-11-27T10:13:43.953161Z"
    }
   },
   "outputs": [],
   "source": [
    "with open('../processed_data/geneOntologyDataset.pkl', 'rb') as inp:\n",
    "    [pivoted, tfidfPivoted] = pkl.load(inp)"
   ]
  },
  {
   "cell_type": "code",
   "execution_count": 5,
   "id": "43148b80",
   "metadata": {
    "ExecuteTime": {
     "end_time": "2021-11-27T10:13:45.159017Z",
     "start_time": "2021-11-27T10:13:45.109804Z"
    }
   },
   "outputs": [],
   "source": [
    "GOdata = pd.DataFrame(tfidfPivoted['P'].todense()) #.join(pd.DataFrame(tfidfPivoted['P'].todense()), lsuffix='_left', rsuffix='_right').join(pd.DataFrame(tfidfPivoted['C'].todense()), lsuffix='_left2', rsuffix='_right2') # F / P / C\n",
    "GOdata[\"Standard Name\"] = pivoted['P'].index"
   ]
  },
  {
   "cell_type": "markdown",
   "id": "84049edc",
   "metadata": {
    "ExecuteTime": {
     "end_time": "2021-10-30T15:13:02.135025Z",
     "start_time": "2021-10-30T15:13:02.130067Z"
    }
   },
   "source": [
    "### Import FI data & merge"
   ]
  },
  {
   "cell_type": "code",
   "execution_count": 6,
   "id": "8ebfbc9c",
   "metadata": {
    "ExecuteTime": {
     "end_time": "2021-11-27T10:13:47.927893Z",
     "start_time": "2021-11-27T10:13:46.146159Z"
    }
   },
   "outputs": [
    {
     "name": "stderr",
     "output_type": "stream",
     "text": [
      "/Library/Frameworks/Python.framework/Versions/3.9/lib/python3.9/site-packages/openpyxl/worksheet/_reader.py:312: UserWarning: Unknown extension is not supported and will be removed\n",
      "  warn(msg)\n"
     ]
    }
   ],
   "source": [
    "FIdata = pd.read_excel('../raw_data/41592_2018_45_MOESM4_ESM.xlsx', skiprows = 6, engine = 'openpyxl')\n",
    "full_data = pd.merge(GOdata, FIdata, on = 'Standard Name', how = 'left')"
   ]
  },
  {
   "cell_type": "code",
   "execution_count": 7,
   "id": "00ef6a30",
   "metadata": {
    "ExecuteTime": {
     "end_time": "2021-11-27T10:13:52.750617Z",
     "start_time": "2021-11-27T10:13:52.701719Z"
    }
   },
   "outputs": [],
   "source": [
    "full_data.index = full_data[\"Systematic Name\"]\n",
    "full_data\n",
    "x = full_data.iloc[:, 0:full_data.columns.get_loc('Standard Name')]\n",
    "x.columns = pivoted.get(\"P\").columns\n",
    "y = full_data[\"intensity\"]"
   ]
  },
  {
   "cell_type": "code",
   "execution_count": 9,
   "id": "2132cd16",
   "metadata": {
    "ExecuteTime": {
     "end_time": "2021-11-27T10:13:56.517439Z",
     "start_time": "2021-11-27T10:13:56.510297Z"
    }
   },
   "outputs": [],
   "source": [
    "y = y[y.notna()]"
   ]
  },
  {
   "cell_type": "code",
   "execution_count": 10,
   "id": "404bea0d",
   "metadata": {
    "ExecuteTime": {
     "end_time": "2021-11-27T10:13:57.599664Z",
     "start_time": "2021-11-27T10:13:57.501833Z"
    }
   },
   "outputs": [],
   "source": [
    "xy = pd.merge(x, y, how = \"right\", left_index = True, right_index = True)"
   ]
  },
  {
   "cell_type": "markdown",
   "id": "6ce3b63f",
   "metadata": {},
   "source": [
    "## LASSO"
   ]
  },
  {
   "cell_type": "code",
   "execution_count": 11,
   "id": "f07ca998",
   "metadata": {
    "ExecuteTime": {
     "end_time": "2021-11-27T10:13:58.972880Z",
     "start_time": "2021-11-27T10:13:58.964022Z"
    }
   },
   "outputs": [],
   "source": [
    "clf = linear_model.LassoLarsIC(criterion = 'bic', normalize = False, eps = 1e-7)"
   ]
  },
  {
   "cell_type": "code",
   "execution_count": 12,
   "id": "f5ee58ff",
   "metadata": {
    "ExecuteTime": {
     "end_time": "2021-11-27T10:14:02.455322Z",
     "start_time": "2021-11-27T10:14:00.144237Z"
    }
   },
   "outputs": [
    {
     "name": "stderr",
     "output_type": "stream",
     "text": [
      "/Library/Frameworks/Python.framework/Versions/3.9/lib/python3.9/site-packages/sklearn/linear_model/_least_angle.py:681: ConvergenceWarning: Early stopping the lars path, as the residues are small and the current value of alpha is no longer well controlled. 173 iterations, alpha=3.831e-04, previous alpha=3.831e-04, with an active set of 162 regressors.\n",
      "  warnings.warn(\n"
     ]
    },
    {
     "data": {
      "text/plain": [
       "LassoLarsIC(criterion='bic', eps=1e-07, normalize=False)"
      ]
     },
     "execution_count": 12,
     "metadata": {},
     "output_type": "execute_result"
    }
   ],
   "source": [
    "clf.fit(xy.iloc[:,0:-1], xy.iloc[:,-1])"
   ]
  },
  {
   "cell_type": "code",
   "execution_count": 20,
   "id": "4ed8a1ff",
   "metadata": {
    "ExecuteTime": {
     "end_time": "2021-11-27T10:15:15.516109Z",
     "start_time": "2021-11-27T10:15:15.506458Z"
    }
   },
   "outputs": [
    {
     "data": {
      "text/plain": [
       "59"
      ]
     },
     "execution_count": 20,
     "metadata": {},
     "output_type": "execute_result"
    }
   ],
   "source": [
    "# number of GO terms with nonzero coefficient\n",
    "np.sum([clf.coef_ != 0])"
   ]
  },
  {
   "cell_type": "code",
   "execution_count": 21,
   "id": "11df742c",
   "metadata": {
    "ExecuteTime": {
     "end_time": "2021-11-27T10:15:16.655341Z",
     "start_time": "2021-11-27T10:15:16.647458Z"
    }
   },
   "outputs": [],
   "source": [
    "res = pd.DataFrame(clf.coef_)\n",
    "res.index = x.columns"
   ]
  },
  {
   "cell_type": "code",
   "execution_count": 26,
   "id": "b090bee7",
   "metadata": {
    "ExecuteTime": {
     "end_time": "2021-11-27T10:16:10.072956Z",
     "start_time": "2021-11-27T10:16:10.050127Z"
    }
   },
   "outputs": [
    {
     "data": {
      "text/html": [
       "<div>\n",
       "<style scoped>\n",
       "    .dataframe tbody tr th:only-of-type {\n",
       "        vertical-align: middle;\n",
       "    }\n",
       "\n",
       "    .dataframe tbody tr th {\n",
       "        vertical-align: top;\n",
       "    }\n",
       "\n",
       "    .dataframe thead th {\n",
       "        text-align: right;\n",
       "    }\n",
       "</style>\n",
       "<table border=\"1\" class=\"dataframe\">\n",
       "  <thead>\n",
       "    <tr style=\"text-align: right;\">\n",
       "      <th></th>\n",
       "      <th>0</th>\n",
       "    </tr>\n",
       "    <tr>\n",
       "      <th>goId</th>\n",
       "      <th></th>\n",
       "    </tr>\n",
       "  </thead>\n",
       "  <tbody>\n",
       "    <tr>\n",
       "      <th>GO:0071472</th>\n",
       "      <td>-1.082521</td>\n",
       "    </tr>\n",
       "    <tr>\n",
       "      <th>GO:0006468</th>\n",
       "      <td>-0.401983</td>\n",
       "    </tr>\n",
       "    <tr>\n",
       "      <th>GO:0055085</th>\n",
       "      <td>-0.364835</td>\n",
       "    </tr>\n",
       "    <tr>\n",
       "      <th>GO:0006355</th>\n",
       "      <td>-0.189929</td>\n",
       "    </tr>\n",
       "    <tr>\n",
       "      <th>GO:0016567</th>\n",
       "      <td>-0.168873</td>\n",
       "    </tr>\n",
       "    <tr>\n",
       "      <th>GO:0007049</th>\n",
       "      <td>-0.159631</td>\n",
       "    </tr>\n",
       "    <tr>\n",
       "      <th>GO:0000122</th>\n",
       "      <td>-0.154924</td>\n",
       "    </tr>\n",
       "    <tr>\n",
       "      <th>GO:0006397</th>\n",
       "      <td>-0.133933</td>\n",
       "    </tr>\n",
       "    <tr>\n",
       "      <th>GO:0051321</th>\n",
       "      <td>-0.127285</td>\n",
       "    </tr>\n",
       "    <tr>\n",
       "      <th>GO:0006357</th>\n",
       "      <td>-0.105924</td>\n",
       "    </tr>\n",
       "    <tr>\n",
       "      <th>GO:0016311</th>\n",
       "      <td>-0.105041</td>\n",
       "    </tr>\n",
       "    <tr>\n",
       "      <th>GO:0006974</th>\n",
       "      <td>-0.101820</td>\n",
       "    </tr>\n",
       "    <tr>\n",
       "      <th>GO:0045944</th>\n",
       "      <td>-0.057881</td>\n",
       "    </tr>\n",
       "    <tr>\n",
       "      <th>GO:0071555</th>\n",
       "      <td>-0.038358</td>\n",
       "    </tr>\n",
       "    <tr>\n",
       "      <th>GO:0008150</th>\n",
       "      <td>-0.013111</td>\n",
       "    </tr>\n",
       "    <tr>\n",
       "      <th>GO:0009060</th>\n",
       "      <td>0.074067</td>\n",
       "    </tr>\n",
       "    <tr>\n",
       "      <th>GO:0000028</th>\n",
       "      <td>0.080477</td>\n",
       "    </tr>\n",
       "    <tr>\n",
       "      <th>GO:0006811</th>\n",
       "      <td>0.096993</td>\n",
       "    </tr>\n",
       "    <tr>\n",
       "      <th>GO:0006415</th>\n",
       "      <td>0.184165</td>\n",
       "    </tr>\n",
       "    <tr>\n",
       "      <th>GO:0030437</th>\n",
       "      <td>0.188515</td>\n",
       "    </tr>\n",
       "    <tr>\n",
       "      <th>GO:0006412</th>\n",
       "      <td>0.208119</td>\n",
       "    </tr>\n",
       "    <tr>\n",
       "      <th>GO:0070941</th>\n",
       "      <td>0.214491</td>\n",
       "    </tr>\n",
       "    <tr>\n",
       "      <th>GO:0000002</th>\n",
       "      <td>0.226725</td>\n",
       "    </tr>\n",
       "    <tr>\n",
       "      <th>GO:0042026</th>\n",
       "      <td>0.281811</td>\n",
       "    </tr>\n",
       "    <tr>\n",
       "      <th>GO:0006407</th>\n",
       "      <td>0.318659</td>\n",
       "    </tr>\n",
       "    <tr>\n",
       "      <th>GO:0009298</th>\n",
       "      <td>0.320246</td>\n",
       "    </tr>\n",
       "    <tr>\n",
       "      <th>GO:0006915</th>\n",
       "      <td>0.363134</td>\n",
       "    </tr>\n",
       "    <tr>\n",
       "      <th>GO:0006626</th>\n",
       "      <td>0.399298</td>\n",
       "    </tr>\n",
       "    <tr>\n",
       "      <th>GO:0034220</th>\n",
       "      <td>0.407123</td>\n",
       "    </tr>\n",
       "    <tr>\n",
       "      <th>GO:0034620</th>\n",
       "      <td>0.415445</td>\n",
       "    </tr>\n",
       "    <tr>\n",
       "      <th>GO:0006754</th>\n",
       "      <td>0.449945</td>\n",
       "    </tr>\n",
       "    <tr>\n",
       "      <th>GO:0006098</th>\n",
       "      <td>0.493211</td>\n",
       "    </tr>\n",
       "    <tr>\n",
       "      <th>GO:0034599</th>\n",
       "      <td>0.520171</td>\n",
       "    </tr>\n",
       "    <tr>\n",
       "      <th>GO:0006457</th>\n",
       "      <td>0.566743</td>\n",
       "    </tr>\n",
       "    <tr>\n",
       "      <th>GO:0008652</th>\n",
       "      <td>0.696776</td>\n",
       "    </tr>\n",
       "    <tr>\n",
       "      <th>GO:0010038</th>\n",
       "      <td>0.764433</td>\n",
       "    </tr>\n",
       "    <tr>\n",
       "      <th>GO:0007155</th>\n",
       "      <td>0.832983</td>\n",
       "    </tr>\n",
       "    <tr>\n",
       "      <th>GO:0009263</th>\n",
       "      <td>0.887685</td>\n",
       "    </tr>\n",
       "    <tr>\n",
       "      <th>GO:0045454</th>\n",
       "      <td>0.892744</td>\n",
       "    </tr>\n",
       "    <tr>\n",
       "      <th>GO:1902600</th>\n",
       "      <td>1.100008</td>\n",
       "    </tr>\n",
       "    <tr>\n",
       "      <th>GO:0015986</th>\n",
       "      <td>1.683029</td>\n",
       "    </tr>\n",
       "    <tr>\n",
       "      <th>GO:0006414</th>\n",
       "      <td>1.731075</td>\n",
       "    </tr>\n",
       "    <tr>\n",
       "      <th>GO:0010466</th>\n",
       "      <td>1.758992</td>\n",
       "    </tr>\n",
       "    <tr>\n",
       "      <th>GO:0046034</th>\n",
       "      <td>1.809027</td>\n",
       "    </tr>\n",
       "    <tr>\n",
       "      <th>GO:0042744</th>\n",
       "      <td>2.250327</td>\n",
       "    </tr>\n",
       "    <tr>\n",
       "      <th>GO:0002181</th>\n",
       "      <td>2.287463</td>\n",
       "    </tr>\n",
       "    <tr>\n",
       "      <th>GO:0032889</th>\n",
       "      <td>2.312158</td>\n",
       "    </tr>\n",
       "    <tr>\n",
       "      <th>GO:0006006</th>\n",
       "      <td>2.356089</td>\n",
       "    </tr>\n",
       "    <tr>\n",
       "      <th>GO:0006099</th>\n",
       "      <td>2.529165</td>\n",
       "    </tr>\n",
       "    <tr>\n",
       "      <th>GO:0071470</th>\n",
       "      <td>3.509636</td>\n",
       "    </tr>\n",
       "    <tr>\n",
       "      <th>GO:0006096</th>\n",
       "      <td>4.743080</td>\n",
       "    </tr>\n",
       "    <tr>\n",
       "      <th>GO:0042631</th>\n",
       "      <td>4.962988</td>\n",
       "    </tr>\n",
       "    <tr>\n",
       "      <th>GO:0034605</th>\n",
       "      <td>5.315927</td>\n",
       "    </tr>\n",
       "    <tr>\n",
       "      <th>GO:0015886</th>\n",
       "      <td>6.315519</td>\n",
       "    </tr>\n",
       "    <tr>\n",
       "      <th>GO:0072593</th>\n",
       "      <td>7.881292</td>\n",
       "    </tr>\n",
       "    <tr>\n",
       "      <th>GO:0007009</th>\n",
       "      <td>7.932719</td>\n",
       "    </tr>\n",
       "    <tr>\n",
       "      <th>GO:0006094</th>\n",
       "      <td>8.293291</td>\n",
       "    </tr>\n",
       "    <tr>\n",
       "      <th>GO:0090344</th>\n",
       "      <td>9.151410</td>\n",
       "    </tr>\n",
       "    <tr>\n",
       "      <th>GO:0045069</th>\n",
       "      <td>62.043759</td>\n",
       "    </tr>\n",
       "  </tbody>\n",
       "</table>\n",
       "</div>"
      ],
      "text/plain": [
       "                    0\n",
       "goId                 \n",
       "GO:0071472  -1.082521\n",
       "GO:0006468  -0.401983\n",
       "GO:0055085  -0.364835\n",
       "GO:0006355  -0.189929\n",
       "GO:0016567  -0.168873\n",
       "GO:0007049  -0.159631\n",
       "GO:0000122  -0.154924\n",
       "GO:0006397  -0.133933\n",
       "GO:0051321  -0.127285\n",
       "GO:0006357  -0.105924\n",
       "GO:0016311  -0.105041\n",
       "GO:0006974  -0.101820\n",
       "GO:0045944  -0.057881\n",
       "GO:0071555  -0.038358\n",
       "GO:0008150  -0.013111\n",
       "GO:0009060   0.074067\n",
       "GO:0000028   0.080477\n",
       "GO:0006811   0.096993\n",
       "GO:0006415   0.184165\n",
       "GO:0030437   0.188515\n",
       "GO:0006412   0.208119\n",
       "GO:0070941   0.214491\n",
       "GO:0000002   0.226725\n",
       "GO:0042026   0.281811\n",
       "GO:0006407   0.318659\n",
       "GO:0009298   0.320246\n",
       "GO:0006915   0.363134\n",
       "GO:0006626   0.399298\n",
       "GO:0034220   0.407123\n",
       "GO:0034620   0.415445\n",
       "GO:0006754   0.449945\n",
       "GO:0006098   0.493211\n",
       "GO:0034599   0.520171\n",
       "GO:0006457   0.566743\n",
       "GO:0008652   0.696776\n",
       "GO:0010038   0.764433\n",
       "GO:0007155   0.832983\n",
       "GO:0009263   0.887685\n",
       "GO:0045454   0.892744\n",
       "GO:1902600   1.100008\n",
       "GO:0015986   1.683029\n",
       "GO:0006414   1.731075\n",
       "GO:0010466   1.758992\n",
       "GO:0046034   1.809027\n",
       "GO:0042744   2.250327\n",
       "GO:0002181   2.287463\n",
       "GO:0032889   2.312158\n",
       "GO:0006006   2.356089\n",
       "GO:0006099   2.529165\n",
       "GO:0071470   3.509636\n",
       "GO:0006096   4.743080\n",
       "GO:0042631   4.962988\n",
       "GO:0034605   5.315927\n",
       "GO:0015886   6.315519\n",
       "GO:0072593   7.881292\n",
       "GO:0007009   7.932719\n",
       "GO:0006094   8.293291\n",
       "GO:0090344   9.151410\n",
       "GO:0045069  62.043759"
      ]
     },
     "execution_count": 26,
     "metadata": {},
     "output_type": "execute_result"
    }
   ],
   "source": [
    "selection = res[res[0] != 0]\n",
    "selection.sort_values(by = 0)"
   ]
  },
  {
   "cell_type": "code",
   "execution_count": 25,
   "id": "f18d5ba9",
   "metadata": {
    "ExecuteTime": {
     "end_time": "2021-11-27T10:15:57.425828Z",
     "start_time": "2021-11-27T10:15:57.306809Z"
    }
   },
   "outputs": [
    {
     "data": {
      "text/plain": [
       "0.511620664265426"
      ]
     },
     "execution_count": 25,
     "metadata": {},
     "output_type": "execute_result"
    }
   ],
   "source": [
    "# R^2 of the model\n",
    "clf.score(xy.iloc[:,0:-1], xy.iloc[:,-1])"
   ]
  },
  {
   "cell_type": "code",
   "execution_count": null,
   "id": "440123e0",
   "metadata": {},
   "outputs": [],
   "source": []
  }
 ],
 "metadata": {
  "kernelspec": {
   "display_name": "Python 3 (ipykernel)",
   "language": "python",
   "name": "python3"
  },
  "language_info": {
   "codemirror_mode": {
    "name": "ipython",
    "version": 3
   },
   "file_extension": ".py",
   "mimetype": "text/x-python",
   "name": "python",
   "nbconvert_exporter": "python",
   "pygments_lexer": "ipython3",
   "version": "3.9.0"
  },
  "toc": {
   "base_numbering": 1,
   "nav_menu": {},
   "number_sections": true,
   "sideBar": true,
   "skip_h1_title": false,
   "title_cell": "Table of Contents",
   "title_sidebar": "Contents",
   "toc_cell": false,
   "toc_position": {},
   "toc_section_display": true,
   "toc_window_display": false
  },
  "varInspector": {
   "cols": {
    "lenName": 16,
    "lenType": 16,
    "lenVar": 40
   },
   "kernels_config": {
    "python": {
     "delete_cmd_postfix": "",
     "delete_cmd_prefix": "del ",
     "library": "var_list.py",
     "varRefreshCmd": "print(var_dic_list())"
    },
    "r": {
     "delete_cmd_postfix": ") ",
     "delete_cmd_prefix": "rm(",
     "library": "var_list.r",
     "varRefreshCmd": "cat(var_dic_list()) "
    }
   },
   "types_to_exclude": [
    "module",
    "function",
    "builtin_function_or_method",
    "instance",
    "_Feature"
   ],
   "window_display": false
  }
 },
 "nbformat": 4,
 "nbformat_minor": 5
}
