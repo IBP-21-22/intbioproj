{
 "cells": [
  {
   "cell_type": "code",
   "execution_count": 1,
   "id": "c3a6ac10",
   "metadata": {},
   "outputs": [],
   "source": [
    "# !pip install wheel\n",
    "# !pip install h5py\n",
    "# !pip install torch==1.10.0+cu113 torchvision==0.11.1+cu113 torchaudio==0.10.0+cu113 -f https://download.pytorch.org/whl/cu113/torch_stable.html"
   ]
  },
  {
   "cell_type": "code",
   "execution_count": 2,
   "id": "213dff06",
   "metadata": {},
   "outputs": [],
   "source": [
    "import numpy as np\n",
    "import pandas as pd\n",
    "import torch\n",
    "from torch import nn\n",
    "import h5py\n",
    "import yaml\n",
    "import pickle\n",
    "import os\n",
    "import argparse\n",
    "import random\n",
    "from tqdm.notebook import tqdm\n",
    "from collections import Counter\n",
    "from dataclasses import dataclass, field\n",
    "import contextlib\n",
    "import math"
   ]
  },
  {
   "cell_type": "code",
   "execution_count": 3,
   "id": "f7d703aa",
   "metadata": {},
   "outputs": [],
   "source": [
    "data = pd.read_csv('../processed_data/utrs.csv')\n",
    "data = data[['Gene Name', 'foreign']].dropna(axis=0).rename(columns={'Gene Name': 'gene', 'foreign':'seq'})"
   ]
  },
  {
   "cell_type": "code",
   "execution_count": 4,
   "id": "f67cd082",
   "metadata": {},
   "outputs": [
    {
     "data": {
      "text/html": [
       "<div>\n",
       "<style scoped>\n",
       "    .dataframe tbody tr th:only-of-type {\n",
       "        vertical-align: middle;\n",
       "    }\n",
       "\n",
       "    .dataframe tbody tr th {\n",
       "        vertical-align: top;\n",
       "    }\n",
       "\n",
       "    .dataframe thead th {\n",
       "        text-align: right;\n",
       "    }\n",
       "</style>\n",
       "<table border=\"1\" class=\"dataframe\">\n",
       "  <thead>\n",
       "    <tr style=\"text-align: right;\">\n",
       "      <th></th>\n",
       "      <th>gene</th>\n",
       "      <th>seq</th>\n",
       "    </tr>\n",
       "  </thead>\n",
       "  <tbody>\n",
       "    <tr>\n",
       "      <th>4</th>\n",
       "      <td>VPS8</td>\n",
       "      <td>ACATTTCTAAATATTTAATACAACTTTGGTTACATAAAAGTAAAAT...</td>\n",
       "    </tr>\n",
       "    <tr>\n",
       "      <th>5</th>\n",
       "      <td>SSA1</td>\n",
       "      <td>AGCCAATTGGTGCGGCAATTGATAATAACGAAAATGTCTTTTAATG...</td>\n",
       "    </tr>\n",
       "    <tr>\n",
       "      <th>6</th>\n",
       "      <td>ERP2</td>\n",
       "      <td>AGAACTTTTCAATCTACGAAAAATATATGTCCGCAATATAGAACAC...</td>\n",
       "    </tr>\n",
       "    <tr>\n",
       "      <th>7</th>\n",
       "      <td>FUN14</td>\n",
       "      <td>AGCAAGACAAATGACCAGATATAAACGAGGGTTATATTCTTTCGTT...</td>\n",
       "    </tr>\n",
       "    <tr>\n",
       "      <th>8</th>\n",
       "      <td>SPO7</td>\n",
       "      <td>AAAGAGTTGGAGGGCTTCTTCCTTCGAATAAGAGGTCATATTTACC...</td>\n",
       "    </tr>\n",
       "  </tbody>\n",
       "</table>\n",
       "</div>"
      ],
      "text/plain": [
       "    gene                                                seq\n",
       "4   VPS8  ACATTTCTAAATATTTAATACAACTTTGGTTACATAAAAGTAAAAT...\n",
       "5   SSA1  AGCCAATTGGTGCGGCAATTGATAATAACGAAAATGTCTTTTAATG...\n",
       "6   ERP2  AGAACTTTTCAATCTACGAAAAATATATGTCCGCAATATAGAACAC...\n",
       "7  FUN14  AGCAAGACAAATGACCAGATATAAACGAGGGTTATATTCTTTCGTT...\n",
       "8   SPO7  AAAGAGTTGGAGGGCTTCTTCCTTCGAATAAGAGGTCATATTTACC..."
      ]
     },
     "execution_count": 4,
     "metadata": {},
     "output_type": "execute_result"
    }
   ],
   "source": [
    "data.head()"
   ]
  },
  {
   "cell_type": "code",
   "execution_count": 91,
   "id": "ceed7c10",
   "metadata": {},
   "outputs": [],
   "source": [
    "from itertools import product"
   ]
  },
  {
   "cell_type": "code",
   "execution_count": 92,
   "id": "c02b3c10",
   "metadata": {},
   "outputs": [],
   "source": [
    "\n",
    "def entropy(string):\n",
    "    \"Calculates the Shannon entropy of a string\"\n",
    "\n",
    "    # get probability of chars in string\n",
    "    prob = [ float(string.count(c)) / len(string) for c in dict.fromkeys(list(string)) ]\n",
    "\n",
    "    # calculate the entropy\n",
    "    entropy = - sum([ p * math.log(p) / math.log(2.0) for p in prob ])\n",
    "\n",
    "    return min(1, abs(entropy) / 2)"
   ]
  },
  {
   "cell_type": "code",
   "execution_count": 93,
   "id": "38d19ed4",
   "metadata": {},
   "outputs": [],
   "source": [
    "# Efficiency element\n",
    "eff_el1 = \"TATATA\"\n",
    "eff_el2 = \"TTTTTATA\"\n",
    "eff_ctrl = \"GCGCGC\"\n",
    "# Mutational scan of efficiency element?\n",
    "# Positioning element\n",
    "pos_el = \"AAWAAA\"\n",
    "# Puf protein binding sites\n",
    "puf1_2 = \"TAATNNNTAAT\"\n",
    "puf3 = \"TGTANATA\"\n",
    "puf4 = \"TGTANANTA\"\n",
    "puf5 = \"TGTANNNNTA\"\n",
    "puf6 = \"TTGT\"\n",
    "# Poly-T sequences\n",
    "poly_t = \"TTTTTTTT\"\n",
    "_kmers = [eff_el1, eff_el2, eff_ctrl,\n",
    "           pos_el,\n",
    "           puf1_2, puf3, puf4, puf5, puf6,\n",
    "           poly_t]\n",
    "specific_kmers = []\n",
    "\n",
    "for kmer in _kmers:\n",
    "    specific_kmers.extend([''.join(y) for y in list(product(*(['A', 'T', 'G', 'C'] if x=='N'  else (\n",
    "        ['A', 'T'] if x=='W' else  (x,)) for x in kmer)))])"
   ]
  },
  {
   "cell_type": "code",
   "execution_count": 94,
   "id": "7a1ac668",
   "metadata": {},
   "outputs": [],
   "source": [
    "def compute_stride(seq):\n",
    "    return max(1, round(len(seq) * (1 - entropy(seq))))"
   ]
  },
  {
   "cell_type": "code",
   "execution_count": 96,
   "id": "0a5365e4",
   "metadata": {},
   "outputs": [
    {
     "data": {
      "text/plain": [
       "[('TATATA', 3),\n",
       " ('TTTTTATA', 5),\n",
       " ('GCGCGC', 3),\n",
       " ('AAAAAA', 6),\n",
       " ('AATAAA', 4),\n",
       " ('TAATAAATAAT', 6),\n",
       " ('TAATAATTAAT', 6),\n",
       " ('TAATAAGTAAT', 4),\n",
       " ('TAATAACTAAT', 4),\n",
       " ('TAATATATAAT', 6),\n",
       " ('TAATATTTAAT', 6),\n",
       " ('TAATATGTAAT', 4),\n",
       " ('TAATATCTAAT', 4),\n",
       " ('TAATAGATAAT', 4),\n",
       " ('TAATAGTTAAT', 4),\n",
       " ('TAATAGGTAAT', 3),\n",
       " ('TAATAGCTAAT', 2),\n",
       " ('TAATACATAAT', 4),\n",
       " ('TAATACTTAAT', 4),\n",
       " ('TAATACGTAAT', 2),\n",
       " ('TAATACCTAAT', 3),\n",
       " ('TAATTAATAAT', 6),\n",
       " ('TAATTATTAAT', 6),\n",
       " ('TAATTAGTAAT', 4),\n",
       " ('TAATTACTAAT', 4),\n",
       " ('TAATTTATAAT', 6),\n",
       " ('TAATTTTTAAT', 6),\n",
       " ('TAATTTGTAAT', 4),\n",
       " ('TAATTTCTAAT', 4),\n",
       " ('TAATTGATAAT', 4),\n",
       " ('TAATTGTTAAT', 4),\n",
       " ('TAATTGGTAAT', 3),\n",
       " ('TAATTGCTAAT', 2),\n",
       " ('TAATTCATAAT', 4),\n",
       " ('TAATTCTTAAT', 4),\n",
       " ('TAATTCGTAAT', 2),\n",
       " ('TAATTCCTAAT', 3),\n",
       " ('TAATGAATAAT', 4),\n",
       " ('TAATGATTAAT', 4),\n",
       " ('TAATGAGTAAT', 3),\n",
       " ('TAATGACTAAT', 2),\n",
       " ('TAATGTATAAT', 4),\n",
       " ('TAATGTTTAAT', 4),\n",
       " ('TAATGTGTAAT', 3),\n",
       " ('TAATGTCTAAT', 2),\n",
       " ('TAATGGATAAT', 3),\n",
       " ('TAATGGTTAAT', 3),\n",
       " ('TAATGGGTAAT', 2),\n",
       " ('TAATGGCTAAT', 1),\n",
       " ('TAATGCATAAT', 2),\n",
       " ('TAATGCTTAAT', 2),\n",
       " ('TAATGCGTAAT', 1),\n",
       " ('TAATGCCTAAT', 1),\n",
       " ('TAATCAATAAT', 4),\n",
       " ('TAATCATTAAT', 4),\n",
       " ('TAATCAGTAAT', 2),\n",
       " ('TAATCACTAAT', 3),\n",
       " ('TAATCTATAAT', 4),\n",
       " ('TAATCTTTAAT', 4),\n",
       " ('TAATCTGTAAT', 2),\n",
       " ('TAATCTCTAAT', 3),\n",
       " ('TAATCGATAAT', 2),\n",
       " ('TAATCGTTAAT', 2),\n",
       " ('TAATCGGTAAT', 1),\n",
       " ('TAATCGCTAAT', 1),\n",
       " ('TAATCCATAAT', 3),\n",
       " ('TAATCCTTAAT', 3),\n",
       " ('TAATCCGTAAT', 1),\n",
       " ('TAATCCCTAAT', 2),\n",
       " ('TGTAAATA', 2),\n",
       " ('TGTATATA', 2),\n",
       " ('TGTAGATA', 2),\n",
       " ('TGTACATA', 1),\n",
       " ('TGTAAAATA', 3),\n",
       " ('TGTAAATTA', 3),\n",
       " ('TGTAAAGTA', 2),\n",
       " ('TGTAAACTA', 1),\n",
       " ('TGTATAATA', 3),\n",
       " ('TGTATATTA', 3),\n",
       " ('TGTATAGTA', 2),\n",
       " ('TGTATACTA', 1),\n",
       " ('TGTAGAATA', 2),\n",
       " ('TGTAGATTA', 2),\n",
       " ('TGTAGAGTA', 2),\n",
       " ('TGTAGACTA', 1),\n",
       " ('TGTACAATA', 1),\n",
       " ('TGTACATTA', 1),\n",
       " ('TGTACAGTA', 1),\n",
       " ('TGTACACTA', 1),\n",
       " ('TGTAAAAATA', 4),\n",
       " ('TGTAAAATTA', 3),\n",
       " ('TGTAAAAGTA', 3),\n",
       " ('TGTAAAACTA', 2),\n",
       " ('TGTAAATATA', 3),\n",
       " ('TGTAAATTTA', 3),\n",
       " ('TGTAAATGTA', 2),\n",
       " ('TGTAAATCTA', 1),\n",
       " ('TGTAAAGATA', 3),\n",
       " ('TGTAAAGTTA', 2),\n",
       " ('TGTAAAGGTA', 2),\n",
       " ('TGTAAAGCTA', 1),\n",
       " ('TGTAAACATA', 2),\n",
       " ('TGTAAACTTA', 1),\n",
       " ('TGTAAACGTA', 1),\n",
       " ('TGTAAACCTA', 1),\n",
       " ('TGTAATAATA', 3),\n",
       " ('TGTAATATTA', 3),\n",
       " ('TGTAATAGTA', 2),\n",
       " ('TGTAATACTA', 1),\n",
       " ('TGTAATTATA', 3),\n",
       " ('TGTAATTTTA', 4),\n",
       " ('TGTAATTGTA', 3),\n",
       " ('TGTAATTCTA', 2),\n",
       " ('TGTAATGATA', 2),\n",
       " ('TGTAATGTTA', 3),\n",
       " ('TGTAATGGTA', 2),\n",
       " ('TGTAATGCTA', 1),\n",
       " ('TGTAATCATA', 1),\n",
       " ('TGTAATCTTA', 2),\n",
       " ('TGTAATCGTA', 1),\n",
       " ('TGTAATCCTA', 1),\n",
       " ('TGTAAGAATA', 3),\n",
       " ('TGTAAGATTA', 2),\n",
       " ('TGTAAGAGTA', 2),\n",
       " ('TGTAAGACTA', 1),\n",
       " ('TGTAAGTATA', 2),\n",
       " ('TGTAAGTTTA', 3),\n",
       " ('TGTAAGTGTA', 2),\n",
       " ('TGTAAGTCTA', 1),\n",
       " ('TGTAAGGATA', 2),\n",
       " ('TGTAAGGTTA', 2),\n",
       " ('TGTAAGGGTA', 2),\n",
       " ('TGTAAGGCTA', 1),\n",
       " ('TGTAAGCATA', 1),\n",
       " ('TGTAAGCTTA', 1),\n",
       " ('TGTAAGCGTA', 1),\n",
       " ('TGTAAGCCTA', 1),\n",
       " ('TGTAACAATA', 2),\n",
       " ('TGTAACATTA', 1),\n",
       " ('TGTAACAGTA', 1),\n",
       " ('TGTAACACTA', 1),\n",
       " ('TGTAACTATA', 1),\n",
       " ('TGTAACTTTA', 2),\n",
       " ('TGTAACTGTA', 1),\n",
       " ('TGTAACTCTA', 1),\n",
       " ('TGTAACGATA', 1),\n",
       " ('TGTAACGTTA', 1),\n",
       " ('TGTAACGGTA', 1),\n",
       " ('TGTAACGCTA', 1),\n",
       " ('TGTAACCATA', 1),\n",
       " ('TGTAACCTTA', 1),\n",
       " ('TGTAACCGTA', 1),\n",
       " ('TGTAACCCTA', 1),\n",
       " ('TGTATAAATA', 3),\n",
       " ('TGTATAATTA', 3),\n",
       " ('TGTATAAGTA', 2),\n",
       " ('TGTATAACTA', 1),\n",
       " ('TGTATATATA', 3),\n",
       " ('TGTATATTTA', 4),\n",
       " ('TGTATATGTA', 3),\n",
       " ('TGTATATCTA', 2),\n",
       " ('TGTATAGATA', 2),\n",
       " ('TGTATAGTTA', 3),\n",
       " ('TGTATAGGTA', 2),\n",
       " ('TGTATAGCTA', 1),\n",
       " ('TGTATACATA', 1),\n",
       " ('TGTATACTTA', 2),\n",
       " ('TGTATACGTA', 1),\n",
       " ('TGTATACCTA', 1),\n",
       " ('TGTATTAATA', 3),\n",
       " ('TGTATTATTA', 4),\n",
       " ('TGTATTAGTA', 3),\n",
       " ('TGTATTACTA', 2),\n",
       " ('TGTATTTATA', 4),\n",
       " ('TGTATTTTTA', 4),\n",
       " ('TGTATTTGTA', 3),\n",
       " ('TGTATTTCTA', 2),\n",
       " ('TGTATTGATA', 3),\n",
       " ('TGTATTGTTA', 3),\n",
       " ('TGTATTGGTA', 3),\n",
       " ('TGTATTGCTA', 1),\n",
       " ('TGTATTCATA', 2),\n",
       " ('TGTATTCTTA', 2),\n",
       " ('TGTATTCGTA', 1),\n",
       " ('TGTATTCCTA', 1),\n",
       " ('TGTATGAATA', 2),\n",
       " ('TGTATGATTA', 3),\n",
       " ('TGTATGAGTA', 2),\n",
       " ('TGTATGACTA', 1),\n",
       " ('TGTATGTATA', 3),\n",
       " ('TGTATGTTTA', 3),\n",
       " ('TGTATGTGTA', 3),\n",
       " ('TGTATGTCTA', 1),\n",
       " ('TGTATGGATA', 2),\n",
       " ('TGTATGGTTA', 3),\n",
       " ('TGTATGGGTA', 2),\n",
       " ('TGTATGGCTA', 1),\n",
       " ('TGTATGCATA', 1),\n",
       " ('TGTATGCTTA', 1),\n",
       " ('TGTATGCGTA', 1),\n",
       " ('TGTATGCCTA', 1),\n",
       " ('TGTATCAATA', 1),\n",
       " ('TGTATCATTA', 2),\n",
       " ('TGTATCAGTA', 1),\n",
       " ('TGTATCACTA', 1),\n",
       " ('TGTATCTATA', 2),\n",
       " ('TGTATCTTTA', 2),\n",
       " ('TGTATCTGTA', 1),\n",
       " ('TGTATCTCTA', 1),\n",
       " ('TGTATCGATA', 1),\n",
       " ('TGTATCGTTA', 1),\n",
       " ('TGTATCGGTA', 1),\n",
       " ('TGTATCGCTA', 1),\n",
       " ('TGTATCCATA', 1),\n",
       " ('TGTATCCTTA', 1),\n",
       " ('TGTATCCGTA', 1),\n",
       " ('TGTATCCCTA', 1),\n",
       " ('TGTAGAAATA', 3),\n",
       " ('TGTAGAATTA', 2),\n",
       " ('TGTAGAAGTA', 2),\n",
       " ('TGTAGAACTA', 1),\n",
       " ('TGTAGATATA', 2),\n",
       " ('TGTAGATTTA', 3),\n",
       " ('TGTAGATGTA', 2),\n",
       " ('TGTAGATCTA', 1),\n",
       " ('TGTAGAGATA', 2),\n",
       " ('TGTAGAGTTA', 2),\n",
       " ('TGTAGAGGTA', 2),\n",
       " ('TGTAGAGCTA', 1),\n",
       " ('TGTAGACATA', 1),\n",
       " ('TGTAGACTTA', 1),\n",
       " ('TGTAGACGTA', 1),\n",
       " ('TGTAGACCTA', 1),\n",
       " ('TGTAGTAATA', 2),\n",
       " ('TGTAGTATTA', 3),\n",
       " ('TGTAGTAGTA', 2),\n",
       " ('TGTAGTACTA', 1),\n",
       " ('TGTAGTTATA', 3),\n",
       " ('TGTAGTTTTA', 3),\n",
       " ('TGTAGTTGTA', 3),\n",
       " ('TGTAGTTCTA', 1),\n",
       " ('TGTAGTGATA', 2),\n",
       " ('TGTAGTGTTA', 3),\n",
       " ('TGTAGTGGTA', 2),\n",
       " ('TGTAGTGCTA', 1),\n",
       " ('TGTAGTCATA', 1),\n",
       " ('TGTAGTCTTA', 1),\n",
       " ('TGTAGTCGTA', 1),\n",
       " ('TGTAGTCCTA', 1),\n",
       " ('TGTAGGAATA', 2),\n",
       " ('TGTAGGATTA', 2),\n",
       " ('TGTAGGAGTA', 2),\n",
       " ('TGTAGGACTA', 1),\n",
       " ('TGTAGGTATA', 2),\n",
       " ('TGTAGGTTTA', 3),\n",
       " ('TGTAGGTGTA', 2),\n",
       " ('TGTAGGTCTA', 1),\n",
       " ('TGTAGGGATA', 2),\n",
       " ('TGTAGGGTTA', 2),\n",
       " ('TGTAGGGGTA', 3),\n",
       " ('TGTAGGGCTA', 1),\n",
       " ('TGTAGGCATA', 1),\n",
       " ('TGTAGGCTTA', 1),\n",
       " ('TGTAGGCGTA', 1),\n",
       " ('TGTAGGCCTA', 1),\n",
       " ('TGTAGCAATA', 1),\n",
       " ('TGTAGCATTA', 1),\n",
       " ('TGTAGCAGTA', 1),\n",
       " ('TGTAGCACTA', 1),\n",
       " ('TGTAGCTATA', 1),\n",
       " ('TGTAGCTTTA', 1),\n",
       " ('TGTAGCTGTA', 1),\n",
       " ('TGTAGCTCTA', 1),\n",
       " ('TGTAGCGATA', 1),\n",
       " ('TGTAGCGTTA', 1),\n",
       " ('TGTAGCGGTA', 1),\n",
       " ('TGTAGCGCTA', 1),\n",
       " ('TGTAGCCATA', 1),\n",
       " ('TGTAGCCTTA', 1),\n",
       " ('TGTAGCCGTA', 1),\n",
       " ('TGTAGCCCTA', 1),\n",
       " ('TGTACAAATA', 2),\n",
       " ('TGTACAATTA', 1),\n",
       " ('TGTACAAGTA', 1),\n",
       " ('TGTACAACTA', 1),\n",
       " ('TGTACATATA', 1),\n",
       " ('TGTACATTTA', 2),\n",
       " ('TGTACATGTA', 1),\n",
       " ('TGTACATCTA', 1),\n",
       " ('TGTACAGATA', 1),\n",
       " ('TGTACAGTTA', 1),\n",
       " ('TGTACAGGTA', 1),\n",
       " ('TGTACAGCTA', 1),\n",
       " ('TGTACACATA', 1),\n",
       " ('TGTACACTTA', 1),\n",
       " ('TGTACACGTA', 1),\n",
       " ('TGTACACCTA', 1),\n",
       " ('TGTACTAATA', 1),\n",
       " ('TGTACTATTA', 2),\n",
       " ('TGTACTAGTA', 1),\n",
       " ('TGTACTACTA', 1),\n",
       " ('TGTACTTATA', 2),\n",
       " ('TGTACTTTTA', 2),\n",
       " ('TGTACTTGTA', 1),\n",
       " ('TGTACTTCTA', 1),\n",
       " ('TGTACTGATA', 1),\n",
       " ('TGTACTGTTA', 1),\n",
       " ('TGTACTGGTA', 1),\n",
       " ('TGTACTGCTA', 1),\n",
       " ('TGTACTCATA', 1),\n",
       " ('TGTACTCTTA', 1),\n",
       " ('TGTACTCGTA', 1),\n",
       " ('TGTACTCCTA', 1),\n",
       " ('TGTACGAATA', 1),\n",
       " ('TGTACGATTA', 1),\n",
       " ('TGTACGAGTA', 1),\n",
       " ('TGTACGACTA', 1),\n",
       " ('TGTACGTATA', 1),\n",
       " ('TGTACGTTTA', 1),\n",
       " ('TGTACGTGTA', 1),\n",
       " ('TGTACGTCTA', 1),\n",
       " ('TGTACGGATA', 1),\n",
       " ('TGTACGGTTA', 1),\n",
       " ('TGTACGGGTA', 1),\n",
       " ('TGTACGGCTA', 1),\n",
       " ('TGTACGCATA', 1),\n",
       " ('TGTACGCTTA', 1),\n",
       " ('TGTACGCGTA', 1),\n",
       " ('TGTACGCCTA', 1),\n",
       " ('TGTACCAATA', 1),\n",
       " ('TGTACCATTA', 1),\n",
       " ('TGTACCAGTA', 1),\n",
       " ('TGTACCACTA', 1),\n",
       " ('TGTACCTATA', 1),\n",
       " ('TGTACCTTTA', 1),\n",
       " ('TGTACCTGTA', 1),\n",
       " ('TGTACCTCTA', 1),\n",
       " ('TGTACCGATA', 1),\n",
       " ('TGTACCGTTA', 1),\n",
       " ('TGTACCGGTA', 1),\n",
       " ('TGTACCGCTA', 1),\n",
       " ('TGTACCCATA', 1),\n",
       " ('TGTACCCTTA', 1),\n",
       " ('TGTACCCGTA', 1),\n",
       " ('TGTACCCCTA', 1),\n",
       " ('TTGT', 2),\n",
       " ('TTTTTTTT', 8)]"
      ]
     },
     "execution_count": 96,
     "metadata": {},
     "output_type": "execute_result"
    }
   ],
   "source": [
    "search_strides = [compute_stride(s) for s in specific_kmers]\n",
    "list(map(tuple, zip(*[specific_kmers,search_strides])))"
   ]
  },
  {
   "cell_type": "code",
   "execution_count": 97,
   "id": "ec457480",
   "metadata": {},
   "outputs": [],
   "source": [
    "from heapq import merge\n",
    "def search_kmer_adaptive(seq, kmer, stride):\n",
    "    found = []\n",
    "    pos = 0\n",
    "    while pos < len(seq):\n",
    "        if seq[pos:pos+len(kmer)] == kmer:\n",
    "            found.append(pos)\n",
    "            pos += stride\n",
    "        else:\n",
    "            pos += 1\n",
    "    return found\n",
    "from math import floor\n",
    "def get_kmers_adaptive(seq, k, min_stride):\n",
    "    kmers = []\n",
    "    pos = 0\n",
    "    while pos < len(seq):\n",
    "        if pos + k > len(seq):\n",
    "            break\n",
    "        kmers.append(seq[pos:pos+k])\n",
    "        pos += max(min_stride, compute_stride(kmers[-1]))\n",
    "    return kmers\n",
    "\n",
    "def split(seq, stride):\n",
    "    ret = [seq[c:c+seqk] for c in np.arange(0, len(seq) ,stride)]\n",
    "    ret = [y for y in ret if len(y)==seqk]\n",
    "\n",
    "def search_all_kmers(seq, specific_kmers, kmer_size, min_stride):\n",
    "    specific_kmers = sorted(specific_kmers, key=len)\n",
    "    pairs = []\n",
    "    for kmer in specific_kmers:\n",
    "        pos = search_kmer_adaptive(seq, kmer, compute_stride(kmer))\n",
    "        new_words_len = [len(kmer) for _ in range(len(pos))]\n",
    "        new_words = [kmer for _ in range(len(pos))]\n",
    "        new_pairs = list(map(tuple, zip(*[pos,new_words_len,new_words]))) \n",
    "        pairs = merge(pairs, new_pairs)\n",
    "    pairs = [(x[0],x[0] + x[1], x[2]) for x in list(pairs)]\n",
    "    final_sequence = []\n",
    "    if not pairs:\n",
    "        return get_kmers_adaptive(seq, kmer_size, min_stride)\n",
    "    final_sequence =  get_kmers_adaptive(seq[:pairs[0][0]], kmer_size, min_stride)\n",
    "    for cnt in range(len(pairs) - 1):\n",
    "        final_sequence.append(pairs[cnt][2])\n",
    "        final_sequence.extend(get_kmers_adaptive(seq[pairs[cnt][1]: pairs[cnt+1][0]], kmer_size, min_stride))\n",
    "    final_sequence.append(pairs[-1][2])\n",
    "    final_sequence.extend(get_kmers_adaptive(seq[pairs[-1][1]:], kmer_size, min_stride))\n",
    "    return final_sequence"
   ]
  },
  {
   "cell_type": "code",
   "execution_count": 98,
   "id": "37d06b9b",
   "metadata": {},
   "outputs": [
    {
     "data": {
      "text/plain": [
       "'ACATTTCTAAATATTTAATACAACTTTGGTTACATAAAAGTAAAATTTATACACCTCATTTCATTATGTAGATTCATATATAGAATACCAATTATGATTG'"
      ]
     },
     "execution_count": 98,
     "metadata": {},
     "output_type": "execute_result"
    }
   ],
   "source": [
    "data.seq.iloc[0]"
   ]
  },
  {
   "cell_type": "code",
   "execution_count": 99,
   "id": "5c1d9c3e",
   "metadata": {},
   "outputs": [
    {
     "data": {
      "text/plain": [
       "['AGGTGTTC',\n",
       " 'GTTCGGTT',\n",
       " 'GGTTACTT',\n",
       " 'ACTTTATT',\n",
       " 'TATTCTGC',\n",
       " 'CTGCTTTA',\n",
       " 'TTTAACGC',\n",
       " 'ACGCCATT',\n",
       " 'CATTATGA',\n",
       " 'ATGATTAT',\n",
       " 'TTATACAC',\n",
       " 'TTGT',\n",
       " 'ATTACTTA',\n",
       " 'CTTATTTT',\n",
       " 'TTTTTTAA',\n",
       " 'TGTATATTA',\n",
       " 'AAACCTTT',\n",
       " 'CTTTATTT',\n",
       " 'ATTTTATT',\n",
       " 'ATTTCACA',\n",
       " 'CACATTAC',\n",
       " 'TTACTCAT',\n",
       " 'TCATCATG',\n",
       " 'CATGTGGA',\n",
       " 'TGGAGTAC',\n",
       " 'GTACTGGA',\n",
       " 'TTGT']"
      ]
     },
     "execution_count": 99,
     "metadata": {},
     "output_type": "execute_result"
    }
   ],
   "source": [
    "search_all_kmers(data.seq.iloc[6], specific_kmers, 8, 4)"
   ]
  },
  {
   "cell_type": "code",
   "execution_count": 102,
   "id": "8df1c020",
   "metadata": {},
   "outputs": [
    {
     "data": {
      "application/vnd.jupyter.widget-view+json": {
       "model_id": "ecd113a799a44b1eb701b84b8d025796",
       "version_major": 2,
       "version_minor": 0
      },
      "text/plain": [
       "  0%|          | 0/4870 [00:00<?, ?it/s]"
      ]
     },
     "metadata": {},
     "output_type": "display_data"
    }
   ],
   "source": [
    "from tqdm.notebook import tqdm\n",
    "tqdm.pandas()\n",
    "KMER_SIZE = 6\n",
    "preprocessed_seq = data.seq.progress_apply(search_all_kmers, specific_kmers=specific_kmers, kmer_size=KMER_SIZE, min_stride=KMER_SIZE//2)\n",
    "corpus = [y  for x in preprocessed_seq for y in x]"
   ]
  },
  {
   "cell_type": "code",
   "execution_count": 103,
   "id": "4af341d8",
   "metadata": {},
   "outputs": [
    {
     "name": "stdout",
     "output_type": "stream",
     "text": [
      "Overwriting gloveConfig.yaml\n"
     ]
    }
   ],
   "source": [
    "%%writefile gloveConfig.yaml\n",
    "# first step parameters\n",
    "## size of the context window\n",
    "window_size: 20\n",
    "## maximum vocab_size\n",
    "vocab_size: 5000\n",
    "## the number of paritions to divide cooccurence matrix in \n",
    "num_partitions: 10\n",
    "## chunk size of h5py.Dataset\n",
    "chunk_size: 1000000\n",
    "\n",
    "# when used in first step, specify the output directory of cooccurrence entries\n",
    "# when used in second step, specify where to read cooccurrence entries from\n",
    "cooccurrence_dir: ../processed_data/utrs/cooccurence\n",
    "\n",
    "# second step parameters\n",
    "## output path for the trained word vectors \n",
    "output_filepath: ../model/utrs/gloveModel\n",
    "## pytorch training parameters\n",
    "batch_size: 128\n",
    "num_epochs: 100\n",
    "device: cuda\n",
    "learning_rate: 0.1\n",
    "## glove paremeters\n",
    "embedding_size: 30\n",
    "x_max: 100\n",
    "alpha: 0.75"
   ]
  },
  {
   "cell_type": "code",
   "execution_count": 104,
   "id": "ec0ad220",
   "metadata": {},
   "outputs": [],
   "source": [
    "def load_config():\n",
    "    config_filepath = \"gloveConfig.yaml\"\n",
    "    with open(config_filepath, 'r') as f:\n",
    "        config_dict = yaml.load(f, Loader=yaml.FullLoader)\n",
    "    config = argparse.Namespace()\n",
    "    for key, value in config_dict.items():\n",
    "        setattr(config, key, value)\n",
    "    return config"
   ]
  },
  {
   "cell_type": "code",
   "execution_count": 105,
   "id": "9e45bf51",
   "metadata": {},
   "outputs": [],
   "source": [
    "\n",
    "@dataclass\n",
    "class Vocabulary:\n",
    "    token2index: dict = field(default_factory=dict)\n",
    "    index2token: dict = field(default_factory=dict)\n",
    "    token_counts: list = field(default_factory=list)\n",
    "    _unk_token: int = field(init=False, default=-1)\n",
    "    \n",
    "    def add(self, token):\n",
    "        if token not in self.token2index:\n",
    "            index = len(self)\n",
    "            self.token2index[token] = index\n",
    "            self.index2token[index] = token\n",
    "            self.token_counts.append(0)\n",
    "        self.token_counts[self.token2index[token]] += 1\n",
    "    \n",
    "    def get_topk_subset(self, k):\n",
    "        tokens = sorted(\n",
    "            list(self.token2index.keys()),\n",
    "            key=lambda token: self.token_counts[self[token]],\n",
    "            reverse=True\n",
    "        )\n",
    "        return type(self)(\n",
    "            token2index={token: index for index, token in enumerate(tokens[:k])},\n",
    "            index2token={index: token for index, token in enumerate(tokens[:k])},\n",
    "            token_counts=[\n",
    "                self.token_counts[self.token2index[token]] for token in tokens[:k]\n",
    "            ]\n",
    "        )\n",
    "    \n",
    "    def shuffle(self):\n",
    "        new_index = [_ for _ in range(len(self))]\n",
    "        random.shuffle(new_index)\n",
    "        new_token_counts = [None] * len(self)\n",
    "        for token, index in zip(list(self.token2index.keys()), new_index):\n",
    "            new_token_counts[index] = self.token_counts[self[token]]\n",
    "            self.token2index[token] = index\n",
    "            self.index2token[index] = token\n",
    "        self.token_counts = new_token_counts\n",
    "\n",
    "    def get_index(self, token):\n",
    "        return self[token]\n",
    "    \n",
    "    def get_token(self, index):\n",
    "        if not index in self.index2token:\n",
    "            raise Exception(\"Invalid index.\")\n",
    "        return self.index2token[index]\n",
    "    \n",
    "    @property\n",
    "    def unk_token(self):\n",
    "        return self._unk_token\n",
    "    \n",
    "    def __getitem__(self, token):\n",
    "        if token not in self.token2index:\n",
    "            return self._unk_token\n",
    "        return self.token2index[token]\n",
    "    \n",
    "    def __len__(self):\n",
    "        return len(self.token2index)"
   ]
  },
  {
   "cell_type": "code",
   "execution_count": 106,
   "id": "0362e103",
   "metadata": {},
   "outputs": [],
   "source": [
    "@dataclass\n",
    "class Vectorizer:\n",
    "    vocab: Vocabulary\n",
    "\n",
    "    @classmethod\n",
    "    def from_corpus(cls, corpus, vocab_size):\n",
    "        vocab = Vocabulary()\n",
    "        for token in corpus:\n",
    "            vocab.add(token)\n",
    "        vocab_subset = vocab.get_topk_subset(vocab_size)\n",
    "        vocab_subset.shuffle()\n",
    "        return cls(vocab_subset)\n",
    "\n",
    "    def vectorize(self, corpus):\n",
    "        return [self.vocab[token] for token in corpus]"
   ]
  },
  {
   "cell_type": "code",
   "execution_count": 107,
   "id": "91070dc7",
   "metadata": {},
   "outputs": [],
   "source": [
    "@dataclass\n",
    "class CooccurrenceEntries:\n",
    "    vectorized_corpus: list\n",
    "    vectorizer: Vectorizer\n",
    "    \n",
    "    @classmethod\n",
    "    def setup(cls, corpus, vectorizer):\n",
    "        return cls(\n",
    "            vectorized_corpus=vectorizer.vectorize(corpus),\n",
    "            vectorizer=vectorizer\n",
    "        )\n",
    "    \n",
    "    def validate_index(self, index, lower, upper):\n",
    "        is_unk = index == self.vectorizer.vocab.unk_token\n",
    "        if lower < 0:\n",
    "            return not is_unk\n",
    "        return not is_unk and index >= lower and index <= upper\n",
    "\n",
    "    def build(\n",
    "        self,\n",
    "        window_size,\n",
    "        num_partitions,\n",
    "        chunk_size,\n",
    "        output_directory=\".\"\n",
    "    ):\n",
    "        partition_step = max(1, len(self.vectorizer.vocab) // num_partitions)\n",
    "        split_points = [0]\n",
    "        while split_points[-1] + partition_step <= len(self.vectorizer.vocab):\n",
    "            split_points.append(split_points[-1] + partition_step)\n",
    "        split_points[-1] = len(self.vectorizer.vocab)\n",
    "\n",
    "        for partition_id in tqdm(range(len(split_points) - 1)):\n",
    "            index_lower = split_points[partition_id]\n",
    "            index_upper = split_points[partition_id + 1] - 1\n",
    "            cooccurr_counts = Counter()\n",
    "            for i in tqdm(range(len(self.vectorized_corpus))):\n",
    "                if not self.validate_index(\n",
    "                    self.vectorized_corpus[i],\n",
    "                    index_lower,\n",
    "                    index_upper\n",
    "                ):\n",
    "                    continue\n",
    "                \n",
    "                context_lower = max(i - window_size, 0)\n",
    "                context_upper = min(i + window_size + 1, len(self.vectorized_corpus))\n",
    "                for j in range(context_lower, context_upper):\n",
    "                    if i == j or not self.validate_index(\n",
    "                        self.vectorized_corpus[j],\n",
    "                        -1,\n",
    "                        -1\n",
    "                    ):\n",
    "                        continue\n",
    "                    cooccurr_counts[(self.vectorized_corpus[i], self.vectorized_corpus[j])] += 1 / abs(i - j)\n",
    "\n",
    "            cooccurr_dataset = np.zeros((len(cooccurr_counts), 3))\n",
    "            for index, ((i, j), cooccurr_count) in enumerate(cooccurr_counts.items()):\n",
    "                cooccurr_dataset[index] = (i, j, cooccurr_count)\n",
    "            if partition_id == 0:\n",
    "                os.makedirs(output_directory, exist_ok=True)\n",
    "                path = os.path.join(\n",
    "                        output_directory,\n",
    "                        \"cooccurrence.hdf5\"\n",
    "                    )\n",
    "                if os.path.isfile(path):\n",
    "                    os.remove(path)\n",
    "                file = h5py.File(\n",
    "                    path,\n",
    "                    \"w\"\n",
    "                )\n",
    "                dataset = file.create_dataset(\n",
    "                    \"cooccurrence\",\n",
    "                    (len(cooccurr_counts), 3),\n",
    "                    maxshape=(None, 3),\n",
    "                    chunks=(chunk_size, 3)\n",
    "                )\n",
    "                prev_len = 0\n",
    "            else:\n",
    "                prev_len = dataset.len()\n",
    "                dataset.resize(dataset.len() + len(cooccurr_counts), axis=0)\n",
    "            dataset[prev_len: dataset.len()] = cooccurr_dataset\n",
    "        \n",
    "        file.close()\n",
    "        with open(os.path.join(output_directory, \"vocab.pkl\"), \"wb\") as file:\n",
    "            pickle.dump(self.vectorizer.vocab, file)"
   ]
  },
  {
   "cell_type": "code",
   "execution_count": 108,
   "id": "4d0efb3d",
   "metadata": {},
   "outputs": [
    {
     "data": {
      "application/vnd.jupyter.widget-view+json": {
       "model_id": "4de8c1ebc3cf4ec297c7ea78feaac09a",
       "version_major": 2,
       "version_minor": 0
      },
      "text/plain": [
       "  0%|          | 0/10 [00:00<?, ?it/s]"
      ]
     },
     "metadata": {},
     "output_type": "display_data"
    },
    {
     "data": {
      "application/vnd.jupyter.widget-view+json": {
       "model_id": "4657b3ab71b64220b8369fe0e3878d92",
       "version_major": 2,
       "version_minor": 0
      },
      "text/plain": [
       "  0%|          | 0/370167 [00:00<?, ?it/s]"
      ]
     },
     "metadata": {},
     "output_type": "display_data"
    },
    {
     "data": {
      "application/vnd.jupyter.widget-view+json": {
       "model_id": "0f584feeb4834950ba77c3946fc0666e",
       "version_major": 2,
       "version_minor": 0
      },
      "text/plain": [
       "  0%|          | 0/370167 [00:00<?, ?it/s]"
      ]
     },
     "metadata": {},
     "output_type": "display_data"
    },
    {
     "data": {
      "application/vnd.jupyter.widget-view+json": {
       "model_id": "3a0fbe9968344ac589d07829113c9e4a",
       "version_major": 2,
       "version_minor": 0
      },
      "text/plain": [
       "  0%|          | 0/370167 [00:00<?, ?it/s]"
      ]
     },
     "metadata": {},
     "output_type": "display_data"
    },
    {
     "data": {
      "application/vnd.jupyter.widget-view+json": {
       "model_id": "86c7cee62f9c457ba072cd01e871c1f8",
       "version_major": 2,
       "version_minor": 0
      },
      "text/plain": [
       "  0%|          | 0/370167 [00:00<?, ?it/s]"
      ]
     },
     "metadata": {},
     "output_type": "display_data"
    },
    {
     "data": {
      "application/vnd.jupyter.widget-view+json": {
       "model_id": "4fe09d613d1a48e09064dd8687fd9642",
       "version_major": 2,
       "version_minor": 0
      },
      "text/plain": [
       "  0%|          | 0/370167 [00:00<?, ?it/s]"
      ]
     },
     "metadata": {},
     "output_type": "display_data"
    },
    {
     "data": {
      "application/vnd.jupyter.widget-view+json": {
       "model_id": "d013e98c02144e1dbdb42c120e4a7beb",
       "version_major": 2,
       "version_minor": 0
      },
      "text/plain": [
       "  0%|          | 0/370167 [00:00<?, ?it/s]"
      ]
     },
     "metadata": {},
     "output_type": "display_data"
    },
    {
     "data": {
      "application/vnd.jupyter.widget-view+json": {
       "model_id": "eb63dae6e8e14797967bee0b0979b1da",
       "version_major": 2,
       "version_minor": 0
      },
      "text/plain": [
       "  0%|          | 0/370167 [00:00<?, ?it/s]"
      ]
     },
     "metadata": {},
     "output_type": "display_data"
    },
    {
     "data": {
      "application/vnd.jupyter.widget-view+json": {
       "model_id": "8fef6fb2fdde4839a9abf1263615ae7f",
       "version_major": 2,
       "version_minor": 0
      },
      "text/plain": [
       "  0%|          | 0/370167 [00:00<?, ?it/s]"
      ]
     },
     "metadata": {},
     "output_type": "display_data"
    },
    {
     "data": {
      "application/vnd.jupyter.widget-view+json": {
       "model_id": "4c7a8746d3ee4a65b6e9e64bcef7771a",
       "version_major": 2,
       "version_minor": 0
      },
      "text/plain": [
       "  0%|          | 0/370167 [00:00<?, ?it/s]"
      ]
     },
     "metadata": {},
     "output_type": "display_data"
    },
    {
     "data": {
      "application/vnd.jupyter.widget-view+json": {
       "model_id": "33d538c8ce504d31a08f2890aca127e6",
       "version_major": 2,
       "version_minor": 0
      },
      "text/plain": [
       "  0%|          | 0/370167 [00:00<?, ?it/s]"
      ]
     },
     "metadata": {},
     "output_type": "display_data"
    }
   ],
   "source": [
    "config = load_config()\n",
    "vectorizer = Vectorizer.from_corpus(\n",
    "    corpus=corpus,\n",
    "    vocab_size=min(config.vocab_size, len(set(corpus)))\n",
    ")\n",
    "cooccurrence = CooccurrenceEntries.setup(\n",
    "    corpus=corpus,\n",
    "    vectorizer=vectorizer\n",
    ")\n",
    "cooccurrence.build(\n",
    "    window_size=config.window_size,\n",
    "    num_partitions=config.num_partitions,\n",
    "    chunk_size=config.chunk_size,\n",
    "    output_directory=config.cooccurrence_dir\n",
    ") "
   ]
  },
  {
   "cell_type": "code",
   "execution_count": 109,
   "id": "dfad9f59",
   "metadata": {},
   "outputs": [],
   "source": [
    "@dataclass\n",
    "class CooccurrenceDataset(torch.utils.data.Dataset):\n",
    "    token_ids: torch.Tensor\n",
    "    cooccurr_counts: torch.Tensor\n",
    "\n",
    "    def __getitem__(self, index):\n",
    "        return [self.token_ids[index], self.cooccurr_counts[index]]\n",
    "    \n",
    "    def __len__(self):\n",
    "        return self.token_ids.size()[0]\n",
    "\n",
    "    \n",
    "@dataclass\n",
    "class HDF5DataLoader:\n",
    "    filepath: str\n",
    "    dataset_name: str\n",
    "    batch_size: int\n",
    "    device: str\n",
    "    dataset: h5py.Dataset = field(init=False)\n",
    "\n",
    "    def iter_batches(self):\n",
    "        chunks = list(self.dataset.iter_chunks())\n",
    "        random.shuffle(chunks)\n",
    "        for chunk in chunks:\n",
    "            chunked_dataset = self.dataset[chunk]\n",
    "            dataloader = torch.utils.data.DataLoader(\n",
    "                dataset=CooccurrenceDataset(\n",
    "                    token_ids=torch.from_numpy(chunked_dataset[:,:2]).long(),\n",
    "                    cooccurr_counts=torch.from_numpy(chunked_dataset[:,\n",
    "                        2]).float()\n",
    "                ),\n",
    "                batch_size=self.batch_size,\n",
    "                shuffle=True,\n",
    "                pin_memory=True\n",
    "            )\n",
    "            for batch in dataloader:\n",
    "                batch = [_.to(self.device) for _ in batch]\n",
    "                yield batch\n",
    "\n",
    "    @contextlib.contextmanager\n",
    "    def open(self):\n",
    "        with h5py.File(self.filepath, \"r\") as file:\n",
    "            self.dataset = file[self.dataset_name]\n",
    "            yield"
   ]
  },
  {
   "cell_type": "code",
   "execution_count": 110,
   "id": "30a156b4",
   "metadata": {},
   "outputs": [],
   "source": [
    "class GloVe(nn.Module):\n",
    "\n",
    "    def __init__(self, vocab_size, embedding_size, x_max, alpha):\n",
    "        super().__init__()\n",
    "        self.weight = nn.Embedding(\n",
    "            num_embeddings=vocab_size,\n",
    "            embedding_dim=embedding_size,\n",
    "            sparse=True\n",
    "        )\n",
    "        self.weight_tilde = nn.Embedding(\n",
    "            num_embeddings=vocab_size,\n",
    "            embedding_dim=embedding_size,\n",
    "            sparse=True\n",
    "        )\n",
    "        self.bias = nn.Parameter(\n",
    "            torch.randn(\n",
    "                vocab_size,\n",
    "                dtype=torch.float,\n",
    "            )\n",
    "        )\n",
    "        self.bias_tilde = nn.Parameter(\n",
    "            torch.randn(\n",
    "                vocab_size,\n",
    "                dtype=torch.float,\n",
    "            )\n",
    "        )\n",
    "        self.weighting_func = lambda x: (x / x_max).float_power(alpha).clamp(0, 1)\n",
    "    \n",
    "    def forward(self, i, j, x):\n",
    "        loss = torch.mul(self.weight(i), self.weight_tilde(j)).sum(dim=1)\n",
    "        loss = (loss + self.bias[i] + self.bias_tilde[j] - x.log()).square()\n",
    "        loss = torch.mul(self.weighting_func(x), loss).mean()\n",
    "        return loss"
   ]
  },
  {
   "cell_type": "code",
   "execution_count": 111,
   "id": "2d98dece",
   "metadata": {
    "scrolled": true
   },
   "outputs": [
    {
     "data": {
      "application/vnd.jupyter.widget-view+json": {
       "model_id": "5020f07869cd499ba0a65d67da80c322",
       "version_major": 2,
       "version_minor": 0
      },
      "text/plain": [
       "  0%|          | 0/100 [00:00<?, ?it/s]"
      ]
     },
     "metadata": {},
     "output_type": "display_data"
    },
    {
     "data": {
      "application/vnd.jupyter.widget-view+json": {
       "model_id": "2f12a56aa4fe461faf4f6f1b56a042f8",
       "version_major": 2,
       "version_minor": 0
      },
      "text/plain": [
       "0it [00:00, ?it/s]"
      ]
     },
     "metadata": {},
     "output_type": "display_data"
    },
    {
     "name": "stdout",
     "output_type": "stream",
     "text": [
      "Epoch 0: loss = 3307.627468649866\n"
     ]
    },
    {
     "data": {
      "application/vnd.jupyter.widget-view+json": {
       "model_id": "8d142bb02d7143b5ab4f6703018eae6d",
       "version_major": 2,
       "version_minor": 0
      },
      "text/plain": [
       "0it [00:00, ?it/s]"
      ]
     },
     "metadata": {},
     "output_type": "display_data"
    },
    {
     "name": "stdout",
     "output_type": "stream",
     "text": [
      "Epoch 1: loss = 1073.3032392118398\n"
     ]
    },
    {
     "data": {
      "application/vnd.jupyter.widget-view+json": {
       "model_id": "1c1a21897183440883eb185e5309f7b4",
       "version_major": 2,
       "version_minor": 0
      },
      "text/plain": [
       "0it [00:00, ?it/s]"
      ]
     },
     "metadata": {},
     "output_type": "display_data"
    },
    {
     "name": "stdout",
     "output_type": "stream",
     "text": [
      "Epoch 2: loss = 897.4474771002997\n"
     ]
    },
    {
     "data": {
      "application/vnd.jupyter.widget-view+json": {
       "model_id": "5b5d2c741e0243aa93673562f9ee5fbc",
       "version_major": 2,
       "version_minor": 0
      },
      "text/plain": [
       "0it [00:00, ?it/s]"
      ]
     },
     "metadata": {},
     "output_type": "display_data"
    },
    {
     "name": "stdout",
     "output_type": "stream",
     "text": [
      "Epoch 3: loss = 815.1094366839087\n"
     ]
    },
    {
     "data": {
      "application/vnd.jupyter.widget-view+json": {
       "model_id": "81dfc755e96b4c1c907b93b987aa389a",
       "version_major": 2,
       "version_minor": 0
      },
      "text/plain": [
       "0it [00:00, ?it/s]"
      ]
     },
     "metadata": {},
     "output_type": "display_data"
    },
    {
     "name": "stdout",
     "output_type": "stream",
     "text": [
      "Epoch 4: loss = 759.6572514586737\n"
     ]
    },
    {
     "data": {
      "application/vnd.jupyter.widget-view+json": {
       "model_id": "daebc547d75942d18f1a141725b7bf9e",
       "version_major": 2,
       "version_minor": 0
      },
      "text/plain": [
       "0it [00:00, ?it/s]"
      ]
     },
     "metadata": {},
     "output_type": "display_data"
    },
    {
     "name": "stdout",
     "output_type": "stream",
     "text": [
      "Epoch 5: loss = 717.5062664942267\n"
     ]
    },
    {
     "data": {
      "application/vnd.jupyter.widget-view+json": {
       "model_id": "7d5fc0cbbacb47a4b215404562161afe",
       "version_major": 2,
       "version_minor": 0
      },
      "text/plain": [
       "0it [00:00, ?it/s]"
      ]
     },
     "metadata": {},
     "output_type": "display_data"
    },
    {
     "name": "stdout",
     "output_type": "stream",
     "text": [
      "Epoch 6: loss = 683.0825451188475\n"
     ]
    },
    {
     "data": {
      "application/vnd.jupyter.widget-view+json": {
       "model_id": "9a43c91e8669491992e2e626d768a8b5",
       "version_major": 2,
       "version_minor": 0
      },
      "text/plain": [
       "0it [00:00, ?it/s]"
      ]
     },
     "metadata": {},
     "output_type": "display_data"
    },
    {
     "name": "stdout",
     "output_type": "stream",
     "text": [
      "Epoch 7: loss = 654.3421528619996\n"
     ]
    },
    {
     "data": {
      "application/vnd.jupyter.widget-view+json": {
       "model_id": "c773b4aef62d466c944e31e985997e56",
       "version_major": 2,
       "version_minor": 0
      },
      "text/plain": [
       "0it [00:00, ?it/s]"
      ]
     },
     "metadata": {},
     "output_type": "display_data"
    },
    {
     "name": "stdout",
     "output_type": "stream",
     "text": [
      "Epoch 8: loss = 629.4174025575737\n"
     ]
    },
    {
     "data": {
      "application/vnd.jupyter.widget-view+json": {
       "model_id": "1e40a398e3a646d5b019e1c453c88888",
       "version_major": 2,
       "version_minor": 0
      },
      "text/plain": [
       "0it [00:00, ?it/s]"
      ]
     },
     "metadata": {},
     "output_type": "display_data"
    },
    {
     "name": "stdout",
     "output_type": "stream",
     "text": [
      "Epoch 9: loss = 608.2352841566966\n"
     ]
    },
    {
     "data": {
      "application/vnd.jupyter.widget-view+json": {
       "model_id": "59d7f7245bed45ed8adfdd2cea7357fa",
       "version_major": 2,
       "version_minor": 0
      },
      "text/plain": [
       "0it [00:00, ?it/s]"
      ]
     },
     "metadata": {},
     "output_type": "display_data"
    },
    {
     "name": "stdout",
     "output_type": "stream",
     "text": [
      "Epoch 10: loss = 590.2583452490198\n"
     ]
    },
    {
     "data": {
      "application/vnd.jupyter.widget-view+json": {
       "model_id": "78f1990fb379464dad28b59ae7d75dc2",
       "version_major": 2,
       "version_minor": 0
      },
      "text/plain": [
       "0it [00:00, ?it/s]"
      ]
     },
     "metadata": {},
     "output_type": "display_data"
    },
    {
     "name": "stdout",
     "output_type": "stream",
     "text": [
      "Epoch 11: loss = 574.8491407556721\n"
     ]
    },
    {
     "data": {
      "application/vnd.jupyter.widget-view+json": {
       "model_id": "825cabbce3444012b79ae32fd63751d9",
       "version_major": 2,
       "version_minor": 0
      },
      "text/plain": [
       "0it [00:00, ?it/s]"
      ]
     },
     "metadata": {},
     "output_type": "display_data"
    },
    {
     "name": "stdout",
     "output_type": "stream",
     "text": [
      "Epoch 12: loss = 561.4833943091635\n"
     ]
    },
    {
     "data": {
      "application/vnd.jupyter.widget-view+json": {
       "model_id": "343607fcf110443aa0657df80a20c8d5",
       "version_major": 2,
       "version_minor": 0
      },
      "text/plain": [
       "0it [00:00, ?it/s]"
      ]
     },
     "metadata": {},
     "output_type": "display_data"
    },
    {
     "name": "stdout",
     "output_type": "stream",
     "text": [
      "Epoch 13: loss = 550.2405414735183\n"
     ]
    },
    {
     "data": {
      "application/vnd.jupyter.widget-view+json": {
       "model_id": "96459b3420e449acbb910f63450b35cf",
       "version_major": 2,
       "version_minor": 0
      },
      "text/plain": [
       "0it [00:00, ?it/s]"
      ]
     },
     "metadata": {},
     "output_type": "display_data"
    },
    {
     "name": "stdout",
     "output_type": "stream",
     "text": [
      "Epoch 14: loss = 540.4805332854975\n"
     ]
    },
    {
     "data": {
      "application/vnd.jupyter.widget-view+json": {
       "model_id": "df5a41f11c634f05999ed39ce1aa16a0",
       "version_major": 2,
       "version_minor": 0
      },
      "text/plain": [
       "0it [00:00, ?it/s]"
      ]
     },
     "metadata": {},
     "output_type": "display_data"
    },
    {
     "name": "stdout",
     "output_type": "stream",
     "text": [
      "Epoch 15: loss = 532.0576156385555\n"
     ]
    },
    {
     "data": {
      "application/vnd.jupyter.widget-view+json": {
       "model_id": "4de093fc1c0040d38f8ac99761cbe45c",
       "version_major": 2,
       "version_minor": 0
      },
      "text/plain": [
       "0it [00:00, ?it/s]"
      ]
     },
     "metadata": {},
     "output_type": "display_data"
    },
    {
     "name": "stdout",
     "output_type": "stream",
     "text": [
      "Epoch 16: loss = 524.4670074186536\n"
     ]
    },
    {
     "data": {
      "application/vnd.jupyter.widget-view+json": {
       "model_id": "78868267e00e4123af15fc5a794400f9",
       "version_major": 2,
       "version_minor": 0
      },
      "text/plain": [
       "0it [00:00, ?it/s]"
      ]
     },
     "metadata": {},
     "output_type": "display_data"
    },
    {
     "name": "stdout",
     "output_type": "stream",
     "text": [
      "Epoch 17: loss = 518.157895931856\n"
     ]
    },
    {
     "data": {
      "application/vnd.jupyter.widget-view+json": {
       "model_id": "b692ad8413b748ceb148f37a5c028cd3",
       "version_major": 2,
       "version_minor": 0
      },
      "text/plain": [
       "0it [00:00, ?it/s]"
      ]
     },
     "metadata": {},
     "output_type": "display_data"
    },
    {
     "name": "stdout",
     "output_type": "stream",
     "text": [
      "Epoch 18: loss = 512.5081543595463\n"
     ]
    },
    {
     "data": {
      "application/vnd.jupyter.widget-view+json": {
       "model_id": "2cd6c138e19c472e87e5dd9d584c6021",
       "version_major": 2,
       "version_minor": 0
      },
      "text/plain": [
       "0it [00:00, ?it/s]"
      ]
     },
     "metadata": {},
     "output_type": "display_data"
    },
    {
     "name": "stdout",
     "output_type": "stream",
     "text": [
      "Epoch 19: loss = 507.241918232087\n"
     ]
    },
    {
     "data": {
      "application/vnd.jupyter.widget-view+json": {
       "model_id": "b356e6042ea94567b307cd5178dab5d5",
       "version_major": 2,
       "version_minor": 0
      },
      "text/plain": [
       "0it [00:00, ?it/s]"
      ]
     },
     "metadata": {},
     "output_type": "display_data"
    },
    {
     "name": "stdout",
     "output_type": "stream",
     "text": [
      "Epoch 20: loss = 502.65160165641345\n"
     ]
    },
    {
     "data": {
      "application/vnd.jupyter.widget-view+json": {
       "model_id": "68c9d978ad2e4ad38a36db0c37912815",
       "version_major": 2,
       "version_minor": 0
      },
      "text/plain": [
       "0it [00:00, ?it/s]"
      ]
     },
     "metadata": {},
     "output_type": "display_data"
    },
    {
     "name": "stdout",
     "output_type": "stream",
     "text": [
      "Epoch 21: loss = 498.50083638992606\n"
     ]
    },
    {
     "data": {
      "application/vnd.jupyter.widget-view+json": {
       "model_id": "382496ad0a17464ab20fbdf4fbe1240d",
       "version_major": 2,
       "version_minor": 0
      },
      "text/plain": [
       "0it [00:00, ?it/s]"
      ]
     },
     "metadata": {},
     "output_type": "display_data"
    },
    {
     "name": "stdout",
     "output_type": "stream",
     "text": [
      "Epoch 22: loss = 494.7988027184464\n"
     ]
    },
    {
     "data": {
      "application/vnd.jupyter.widget-view+json": {
       "model_id": "e2cf952c514042678cc6f8a2f7c3be4d",
       "version_major": 2,
       "version_minor": 0
      },
      "text/plain": [
       "0it [00:00, ?it/s]"
      ]
     },
     "metadata": {},
     "output_type": "display_data"
    },
    {
     "name": "stdout",
     "output_type": "stream",
     "text": [
      "Epoch 23: loss = 491.3982729826303\n"
     ]
    },
    {
     "data": {
      "application/vnd.jupyter.widget-view+json": {
       "model_id": "a9798fd2dcae4ec8bf354090931dfb21",
       "version_major": 2,
       "version_minor": 0
      },
      "text/plain": [
       "0it [00:00, ?it/s]"
      ]
     },
     "metadata": {},
     "output_type": "display_data"
    },
    {
     "name": "stdout",
     "output_type": "stream",
     "text": [
      "Epoch 24: loss = 488.23774443062626\n"
     ]
    },
    {
     "data": {
      "application/vnd.jupyter.widget-view+json": {
       "model_id": "ce418f43de1f4a42a05d15a32a0c64ef",
       "version_major": 2,
       "version_minor": 0
      },
      "text/plain": [
       "0it [00:00, ?it/s]"
      ]
     },
     "metadata": {},
     "output_type": "display_data"
    },
    {
     "name": "stdout",
     "output_type": "stream",
     "text": [
      "Epoch 25: loss = 485.38579975952365\n"
     ]
    },
    {
     "data": {
      "application/vnd.jupyter.widget-view+json": {
       "model_id": "e89f095767c04746af0d505856c08051",
       "version_major": 2,
       "version_minor": 0
      },
      "text/plain": [
       "0it [00:00, ?it/s]"
      ]
     },
     "metadata": {},
     "output_type": "display_data"
    },
    {
     "name": "stdout",
     "output_type": "stream",
     "text": [
      "Epoch 26: loss = 482.82109427040405\n"
     ]
    },
    {
     "data": {
      "application/vnd.jupyter.widget-view+json": {
       "model_id": "03edb03c5d03436db0e6ca933ce9ccaf",
       "version_major": 2,
       "version_minor": 0
      },
      "text/plain": [
       "0it [00:00, ?it/s]"
      ]
     },
     "metadata": {},
     "output_type": "display_data"
    },
    {
     "name": "stdout",
     "output_type": "stream",
     "text": [
      "Epoch 27: loss = 480.3931667249247\n"
     ]
    },
    {
     "data": {
      "application/vnd.jupyter.widget-view+json": {
       "model_id": "e6c42ff72c8647848adca2a4b83be079",
       "version_major": 2,
       "version_minor": 0
      },
      "text/plain": [
       "0it [00:00, ?it/s]"
      ]
     },
     "metadata": {},
     "output_type": "display_data"
    },
    {
     "name": "stdout",
     "output_type": "stream",
     "text": [
      "Epoch 28: loss = 478.1517016617844\n"
     ]
    },
    {
     "data": {
      "application/vnd.jupyter.widget-view+json": {
       "model_id": "a8f04a6c535e4f9689028510764a89f0",
       "version_major": 2,
       "version_minor": 0
      },
      "text/plain": [
       "0it [00:00, ?it/s]"
      ]
     },
     "metadata": {},
     "output_type": "display_data"
    },
    {
     "name": "stdout",
     "output_type": "stream",
     "text": [
      "Epoch 29: loss = 476.0836545416627\n"
     ]
    },
    {
     "data": {
      "application/vnd.jupyter.widget-view+json": {
       "model_id": "22de68d6bea84abfac3acc79ae770f11",
       "version_major": 2,
       "version_minor": 0
      },
      "text/plain": [
       "0it [00:00, ?it/s]"
      ]
     },
     "metadata": {},
     "output_type": "display_data"
    },
    {
     "name": "stdout",
     "output_type": "stream",
     "text": [
      "Epoch 30: loss = 474.1235130715868\n"
     ]
    },
    {
     "data": {
      "application/vnd.jupyter.widget-view+json": {
       "model_id": "2f1cb81a4f604a7ab30ccd2239d064b2",
       "version_major": 2,
       "version_minor": 0
      },
      "text/plain": [
       "0it [00:00, ?it/s]"
      ]
     },
     "metadata": {},
     "output_type": "display_data"
    },
    {
     "name": "stdout",
     "output_type": "stream",
     "text": [
      "Epoch 31: loss = 472.220260409023\n"
     ]
    },
    {
     "data": {
      "application/vnd.jupyter.widget-view+json": {
       "model_id": "74d76669b024444a8e26cecf3e23f702",
       "version_major": 2,
       "version_minor": 0
      },
      "text/plain": [
       "0it [00:00, ?it/s]"
      ]
     },
     "metadata": {},
     "output_type": "display_data"
    },
    {
     "name": "stdout",
     "output_type": "stream",
     "text": [
      "Epoch 32: loss = 470.5840273251458\n"
     ]
    },
    {
     "data": {
      "application/vnd.jupyter.widget-view+json": {
       "model_id": "7c86c47b74954f11b1bf691086f451aa",
       "version_major": 2,
       "version_minor": 0
      },
      "text/plain": [
       "0it [00:00, ?it/s]"
      ]
     },
     "metadata": {},
     "output_type": "display_data"
    },
    {
     "name": "stdout",
     "output_type": "stream",
     "text": [
      "Epoch 33: loss = 468.9922590310565\n"
     ]
    },
    {
     "data": {
      "application/vnd.jupyter.widget-view+json": {
       "model_id": "2fe8efecb3cf449286abda30f6388753",
       "version_major": 2,
       "version_minor": 0
      },
      "text/plain": [
       "0it [00:00, ?it/s]"
      ]
     },
     "metadata": {},
     "output_type": "display_data"
    },
    {
     "name": "stdout",
     "output_type": "stream",
     "text": [
      "Epoch 34: loss = 467.52391442795266\n"
     ]
    },
    {
     "data": {
      "application/vnd.jupyter.widget-view+json": {
       "model_id": "22de79e857a9408f99bebd5a7e01038a",
       "version_major": 2,
       "version_minor": 0
      },
      "text/plain": [
       "0it [00:00, ?it/s]"
      ]
     },
     "metadata": {},
     "output_type": "display_data"
    },
    {
     "name": "stdout",
     "output_type": "stream",
     "text": [
      "Epoch 35: loss = 466.1729322633764\n"
     ]
    },
    {
     "data": {
      "application/vnd.jupyter.widget-view+json": {
       "model_id": "d390c0e5a5e94236809a71600996f7bc",
       "version_major": 2,
       "version_minor": 0
      },
      "text/plain": [
       "0it [00:00, ?it/s]"
      ]
     },
     "metadata": {},
     "output_type": "display_data"
    },
    {
     "name": "stdout",
     "output_type": "stream",
     "text": [
      "Epoch 36: loss = 464.7064187652378\n"
     ]
    },
    {
     "data": {
      "application/vnd.jupyter.widget-view+json": {
       "model_id": "023d040fccd647f98fe9198ebabe19ca",
       "version_major": 2,
       "version_minor": 0
      },
      "text/plain": [
       "0it [00:00, ?it/s]"
      ]
     },
     "metadata": {},
     "output_type": "display_data"
    },
    {
     "name": "stdout",
     "output_type": "stream",
     "text": [
      "Epoch 37: loss = 463.45027169318706\n"
     ]
    },
    {
     "data": {
      "application/vnd.jupyter.widget-view+json": {
       "model_id": "4be89f2f86ec465fbbc367d16b69ad8b",
       "version_major": 2,
       "version_minor": 0
      },
      "text/plain": [
       "0it [00:00, ?it/s]"
      ]
     },
     "metadata": {},
     "output_type": "display_data"
    },
    {
     "name": "stdout",
     "output_type": "stream",
     "text": [
      "Epoch 38: loss = 462.2842577607479\n"
     ]
    },
    {
     "data": {
      "application/vnd.jupyter.widget-view+json": {
       "model_id": "3b60ea1b68254dda9aa3be6d019dda98",
       "version_major": 2,
       "version_minor": 0
      },
      "text/plain": [
       "0it [00:00, ?it/s]"
      ]
     },
     "metadata": {},
     "output_type": "display_data"
    },
    {
     "name": "stdout",
     "output_type": "stream",
     "text": [
      "Epoch 39: loss = 461.2125710591542\n"
     ]
    },
    {
     "data": {
      "application/vnd.jupyter.widget-view+json": {
       "model_id": "7e9da04b99184a4482935310e95f8892",
       "version_major": 2,
       "version_minor": 0
      },
      "text/plain": [
       "0it [00:00, ?it/s]"
      ]
     },
     "metadata": {},
     "output_type": "display_data"
    },
    {
     "name": "stdout",
     "output_type": "stream",
     "text": [
      "Epoch 40: loss = 460.1159853361249\n"
     ]
    },
    {
     "data": {
      "application/vnd.jupyter.widget-view+json": {
       "model_id": "2119f103580c42c0b594917c26c0dc77",
       "version_major": 2,
       "version_minor": 0
      },
      "text/plain": [
       "0it [00:00, ?it/s]"
      ]
     },
     "metadata": {},
     "output_type": "display_data"
    },
    {
     "name": "stdout",
     "output_type": "stream",
     "text": [
      "Epoch 41: loss = 459.13506082311665\n"
     ]
    },
    {
     "data": {
      "application/vnd.jupyter.widget-view+json": {
       "model_id": "e8a5f82841c24c9c932394a32f5ff0a5",
       "version_major": 2,
       "version_minor": 0
      },
      "text/plain": [
       "0it [00:00, ?it/s]"
      ]
     },
     "metadata": {},
     "output_type": "display_data"
    },
    {
     "name": "stdout",
     "output_type": "stream",
     "text": [
      "Epoch 42: loss = 458.11308182977183\n"
     ]
    },
    {
     "data": {
      "application/vnd.jupyter.widget-view+json": {
       "model_id": "0d40cfaeb5a948e3ba9fa9752dca8930",
       "version_major": 2,
       "version_minor": 0
      },
      "text/plain": [
       "0it [00:00, ?it/s]"
      ]
     },
     "metadata": {},
     "output_type": "display_data"
    },
    {
     "name": "stdout",
     "output_type": "stream",
     "text": [
      "Epoch 43: loss = 457.19092999713143\n"
     ]
    },
    {
     "data": {
      "application/vnd.jupyter.widget-view+json": {
       "model_id": "2c5af5cfe5ca4d7aac493105388e02a7",
       "version_major": 2,
       "version_minor": 0
      },
      "text/plain": [
       "0it [00:00, ?it/s]"
      ]
     },
     "metadata": {},
     "output_type": "display_data"
    },
    {
     "name": "stdout",
     "output_type": "stream",
     "text": [
      "Epoch 44: loss = 456.31840061461537\n"
     ]
    },
    {
     "data": {
      "application/vnd.jupyter.widget-view+json": {
       "model_id": "2d611ba062dc4e029a31fcd071c8a2f1",
       "version_major": 2,
       "version_minor": 0
      },
      "text/plain": [
       "0it [00:00, ?it/s]"
      ]
     },
     "metadata": {},
     "output_type": "display_data"
    },
    {
     "name": "stdout",
     "output_type": "stream",
     "text": [
      "Epoch 45: loss = 455.39402451030503\n"
     ]
    },
    {
     "data": {
      "application/vnd.jupyter.widget-view+json": {
       "model_id": "78897c1d84c24cf2ab3dfbc0dc359a88",
       "version_major": 2,
       "version_minor": 0
      },
      "text/plain": [
       "0it [00:00, ?it/s]"
      ]
     },
     "metadata": {},
     "output_type": "display_data"
    },
    {
     "name": "stdout",
     "output_type": "stream",
     "text": [
      "Epoch 46: loss = 454.7038644818031\n"
     ]
    },
    {
     "data": {
      "application/vnd.jupyter.widget-view+json": {
       "model_id": "970703f6b00e4ae0980a0651bc5edc35",
       "version_major": 2,
       "version_minor": 0
      },
      "text/plain": [
       "0it [00:00, ?it/s]"
      ]
     },
     "metadata": {},
     "output_type": "display_data"
    },
    {
     "name": "stdout",
     "output_type": "stream",
     "text": [
      "Epoch 47: loss = 453.948995554475\n"
     ]
    },
    {
     "data": {
      "application/vnd.jupyter.widget-view+json": {
       "model_id": "aa1334428b844132aee1d7eff784153c",
       "version_major": 2,
       "version_minor": 0
      },
      "text/plain": [
       "0it [00:00, ?it/s]"
      ]
     },
     "metadata": {},
     "output_type": "display_data"
    },
    {
     "name": "stdout",
     "output_type": "stream",
     "text": [
      "Epoch 48: loss = 453.15443792507756\n"
     ]
    },
    {
     "data": {
      "application/vnd.jupyter.widget-view+json": {
       "model_id": "db022ffe444144d2986ee405bbda5ac3",
       "version_major": 2,
       "version_minor": 0
      },
      "text/plain": [
       "0it [00:00, ?it/s]"
      ]
     },
     "metadata": {},
     "output_type": "display_data"
    },
    {
     "name": "stdout",
     "output_type": "stream",
     "text": [
      "Epoch 49: loss = 452.4888139656533\n"
     ]
    },
    {
     "data": {
      "application/vnd.jupyter.widget-view+json": {
       "model_id": "e019abf7a2e94d59951bbb6656dfd568",
       "version_major": 2,
       "version_minor": 0
      },
      "text/plain": [
       "0it [00:00, ?it/s]"
      ]
     },
     "metadata": {},
     "output_type": "display_data"
    },
    {
     "name": "stdout",
     "output_type": "stream",
     "text": [
      "Epoch 50: loss = 451.88565746191347\n"
     ]
    },
    {
     "data": {
      "application/vnd.jupyter.widget-view+json": {
       "model_id": "6f136d2d62e14aa98629f202ca7efc2a",
       "version_major": 2,
       "version_minor": 0
      },
      "text/plain": [
       "0it [00:00, ?it/s]"
      ]
     },
     "metadata": {},
     "output_type": "display_data"
    },
    {
     "name": "stdout",
     "output_type": "stream",
     "text": [
      "Epoch 51: loss = 451.2109608116344\n"
     ]
    },
    {
     "data": {
      "application/vnd.jupyter.widget-view+json": {
       "model_id": "8605dc74934141d6b460ff6b0bef59e1",
       "version_major": 2,
       "version_minor": 0
      },
      "text/plain": [
       "0it [00:00, ?it/s]"
      ]
     },
     "metadata": {},
     "output_type": "display_data"
    },
    {
     "name": "stdout",
     "output_type": "stream",
     "text": [
      "Epoch 52: loss = 450.60961414301505\n"
     ]
    },
    {
     "data": {
      "application/vnd.jupyter.widget-view+json": {
       "model_id": "240a24305117486ab6f837a62b105187",
       "version_major": 2,
       "version_minor": 0
      },
      "text/plain": [
       "0it [00:00, ?it/s]"
      ]
     },
     "metadata": {},
     "output_type": "display_data"
    },
    {
     "name": "stdout",
     "output_type": "stream",
     "text": [
      "Epoch 53: loss = 449.99928615644137\n"
     ]
    },
    {
     "data": {
      "application/vnd.jupyter.widget-view+json": {
       "model_id": "ccb5606cdf144d32901e6bee98e94eac",
       "version_major": 2,
       "version_minor": 0
      },
      "text/plain": [
       "0it [00:00, ?it/s]"
      ]
     },
     "metadata": {},
     "output_type": "display_data"
    },
    {
     "name": "stdout",
     "output_type": "stream",
     "text": [
      "Epoch 54: loss = 449.4719525579065\n"
     ]
    },
    {
     "data": {
      "application/vnd.jupyter.widget-view+json": {
       "model_id": "4e20ee6a931844d09ddc486ba526b005",
       "version_major": 2,
       "version_minor": 0
      },
      "text/plain": [
       "0it [00:00, ?it/s]"
      ]
     },
     "metadata": {},
     "output_type": "display_data"
    },
    {
     "name": "stdout",
     "output_type": "stream",
     "text": [
      "Epoch 55: loss = 448.901904399942\n"
     ]
    },
    {
     "data": {
      "application/vnd.jupyter.widget-view+json": {
       "model_id": "9e6d1f689983418887713116a7400dba",
       "version_major": 2,
       "version_minor": 0
      },
      "text/plain": [
       "0it [00:00, ?it/s]"
      ]
     },
     "metadata": {},
     "output_type": "display_data"
    },
    {
     "name": "stdout",
     "output_type": "stream",
     "text": [
      "Epoch 56: loss = 448.38481118743016\n"
     ]
    },
    {
     "data": {
      "application/vnd.jupyter.widget-view+json": {
       "model_id": "48b130c60841465081761be0c515b133",
       "version_major": 2,
       "version_minor": 0
      },
      "text/plain": [
       "0it [00:00, ?it/s]"
      ]
     },
     "metadata": {},
     "output_type": "display_data"
    },
    {
     "name": "stdout",
     "output_type": "stream",
     "text": [
      "Epoch 57: loss = 447.88881690198656\n"
     ]
    },
    {
     "data": {
      "application/vnd.jupyter.widget-view+json": {
       "model_id": "6c923475056e441e92b0b45ee4ed4729",
       "version_major": 2,
       "version_minor": 0
      },
      "text/plain": [
       "0it [00:00, ?it/s]"
      ]
     },
     "metadata": {},
     "output_type": "display_data"
    },
    {
     "name": "stdout",
     "output_type": "stream",
     "text": [
      "Epoch 58: loss = 447.4064275471086\n"
     ]
    },
    {
     "data": {
      "application/vnd.jupyter.widget-view+json": {
       "model_id": "bb4f29dcf98646f89394e1f0f945cc99",
       "version_major": 2,
       "version_minor": 0
      },
      "text/plain": [
       "0it [00:00, ?it/s]"
      ]
     },
     "metadata": {},
     "output_type": "display_data"
    },
    {
     "name": "stdout",
     "output_type": "stream",
     "text": [
      "Epoch 59: loss = 446.92740137530745\n"
     ]
    },
    {
     "data": {
      "application/vnd.jupyter.widget-view+json": {
       "model_id": "52642d37334e4aa99c0e4a5aa92d3b30",
       "version_major": 2,
       "version_minor": 0
      },
      "text/plain": [
       "0it [00:00, ?it/s]"
      ]
     },
     "metadata": {},
     "output_type": "display_data"
    },
    {
     "name": "stdout",
     "output_type": "stream",
     "text": [
      "Epoch 60: loss = 446.49685579314695\n"
     ]
    },
    {
     "data": {
      "application/vnd.jupyter.widget-view+json": {
       "model_id": "992e4863a7e945f9bca1d95565809da1",
       "version_major": 2,
       "version_minor": 0
      },
      "text/plain": [
       "0it [00:00, ?it/s]"
      ]
     },
     "metadata": {},
     "output_type": "display_data"
    },
    {
     "name": "stdout",
     "output_type": "stream",
     "text": [
      "Epoch 61: loss = 446.056640554265\n"
     ]
    },
    {
     "data": {
      "application/vnd.jupyter.widget-view+json": {
       "model_id": "7011b4a58f844ccab46139f659c87bdd",
       "version_major": 2,
       "version_minor": 0
      },
      "text/plain": [
       "0it [00:00, ?it/s]"
      ]
     },
     "metadata": {},
     "output_type": "display_data"
    },
    {
     "name": "stdout",
     "output_type": "stream",
     "text": [
      "Epoch 62: loss = 445.64465370508725\n"
     ]
    },
    {
     "data": {
      "application/vnd.jupyter.widget-view+json": {
       "model_id": "2ae093f5e6e649769612c75aa45a86a7",
       "version_major": 2,
       "version_minor": 0
      },
      "text/plain": [
       "0it [00:00, ?it/s]"
      ]
     },
     "metadata": {},
     "output_type": "display_data"
    },
    {
     "name": "stdout",
     "output_type": "stream",
     "text": [
      "Epoch 63: loss = 445.1989432397755\n"
     ]
    },
    {
     "data": {
      "application/vnd.jupyter.widget-view+json": {
       "model_id": "72ff1c2022f64c069f62f5b099de456a",
       "version_major": 2,
       "version_minor": 0
      },
      "text/plain": [
       "0it [00:00, ?it/s]"
      ]
     },
     "metadata": {},
     "output_type": "display_data"
    },
    {
     "name": "stdout",
     "output_type": "stream",
     "text": [
      "Epoch 64: loss = 444.7891505742637\n"
     ]
    },
    {
     "data": {
      "application/vnd.jupyter.widget-view+json": {
       "model_id": "65bfc9ad320f4be9a74b39b3afd23a20",
       "version_major": 2,
       "version_minor": 0
      },
      "text/plain": [
       "0it [00:00, ?it/s]"
      ]
     },
     "metadata": {},
     "output_type": "display_data"
    },
    {
     "name": "stdout",
     "output_type": "stream",
     "text": [
      "Epoch 65: loss = 444.39229659638426\n"
     ]
    },
    {
     "data": {
      "application/vnd.jupyter.widget-view+json": {
       "model_id": "09f4e02e9a5d4057b56b683018fbfab2",
       "version_major": 2,
       "version_minor": 0
      },
      "text/plain": [
       "0it [00:00, ?it/s]"
      ]
     },
     "metadata": {},
     "output_type": "display_data"
    },
    {
     "name": "stdout",
     "output_type": "stream",
     "text": [
      "Epoch 66: loss = 444.0324876572552\n"
     ]
    },
    {
     "data": {
      "application/vnd.jupyter.widget-view+json": {
       "model_id": "ebef0460195b42cca1d9c8fa262fc9c1",
       "version_major": 2,
       "version_minor": 0
      },
      "text/plain": [
       "0it [00:00, ?it/s]"
      ]
     },
     "metadata": {},
     "output_type": "display_data"
    },
    {
     "name": "stdout",
     "output_type": "stream",
     "text": [
      "Epoch 67: loss = 443.69785169857414\n"
     ]
    },
    {
     "data": {
      "application/vnd.jupyter.widget-view+json": {
       "model_id": "7b571d67dc9c49c1b437b2faeae6c7e8",
       "version_major": 2,
       "version_minor": 0
      },
      "text/plain": [
       "0it [00:00, ?it/s]"
      ]
     },
     "metadata": {},
     "output_type": "display_data"
    },
    {
     "name": "stdout",
     "output_type": "stream",
     "text": [
      "Epoch 68: loss = 443.3128294947748\n"
     ]
    },
    {
     "data": {
      "application/vnd.jupyter.widget-view+json": {
       "model_id": "2fb7640fd5534f77ad37f6a32f12123f",
       "version_major": 2,
       "version_minor": 0
      },
      "text/plain": [
       "0it [00:00, ?it/s]"
      ]
     },
     "metadata": {},
     "output_type": "display_data"
    },
    {
     "name": "stdout",
     "output_type": "stream",
     "text": [
      "Epoch 69: loss = 442.9826343591433\n"
     ]
    },
    {
     "data": {
      "application/vnd.jupyter.widget-view+json": {
       "model_id": "9416ac45ba9f4c528ba487da26bdd2b0",
       "version_major": 2,
       "version_minor": 0
      },
      "text/plain": [
       "0it [00:00, ?it/s]"
      ]
     },
     "metadata": {},
     "output_type": "display_data"
    },
    {
     "name": "stdout",
     "output_type": "stream",
     "text": [
      "Epoch 70: loss = 442.69792990412355\n"
     ]
    },
    {
     "data": {
      "application/vnd.jupyter.widget-view+json": {
       "model_id": "5cc5dc94eee84ba5bab599f7fc1453c5",
       "version_major": 2,
       "version_minor": 0
      },
      "text/plain": [
       "0it [00:00, ?it/s]"
      ]
     },
     "metadata": {},
     "output_type": "display_data"
    },
    {
     "name": "stdout",
     "output_type": "stream",
     "text": [
      "Epoch 71: loss = 442.3483652782299\n"
     ]
    },
    {
     "data": {
      "application/vnd.jupyter.widget-view+json": {
       "model_id": "24377847d5f645afb8dad6bd1f731bdc",
       "version_major": 2,
       "version_minor": 0
      },
      "text/plain": [
       "0it [00:00, ?it/s]"
      ]
     },
     "metadata": {},
     "output_type": "display_data"
    },
    {
     "name": "stdout",
     "output_type": "stream",
     "text": [
      "Epoch 72: loss = 442.0526330539849\n"
     ]
    },
    {
     "data": {
      "application/vnd.jupyter.widget-view+json": {
       "model_id": "416fa916b758420191397571930e6f44",
       "version_major": 2,
       "version_minor": 0
      },
      "text/plain": [
       "0it [00:00, ?it/s]"
      ]
     },
     "metadata": {},
     "output_type": "display_data"
    },
    {
     "name": "stdout",
     "output_type": "stream",
     "text": [
      "Epoch 73: loss = 441.75602295104267\n"
     ]
    },
    {
     "data": {
      "application/vnd.jupyter.widget-view+json": {
       "model_id": "97c843ddb23e45c5b4c41c0555a2c942",
       "version_major": 2,
       "version_minor": 0
      },
      "text/plain": [
       "0it [00:00, ?it/s]"
      ]
     },
     "metadata": {},
     "output_type": "display_data"
    },
    {
     "name": "stdout",
     "output_type": "stream",
     "text": [
      "Epoch 74: loss = 441.44121007016724\n"
     ]
    },
    {
     "data": {
      "application/vnd.jupyter.widget-view+json": {
       "model_id": "a1bbc6a3492f4ef08b4d5cf8aa85a6c7",
       "version_major": 2,
       "version_minor": 0
      },
      "text/plain": [
       "0it [00:00, ?it/s]"
      ]
     },
     "metadata": {},
     "output_type": "display_data"
    },
    {
     "name": "stdout",
     "output_type": "stream",
     "text": [
      "Epoch 75: loss = 441.1783669309082\n"
     ]
    },
    {
     "data": {
      "application/vnd.jupyter.widget-view+json": {
       "model_id": "7937a82eb9f24345a65e95471b652292",
       "version_major": 2,
       "version_minor": 0
      },
      "text/plain": [
       "0it [00:00, ?it/s]"
      ]
     },
     "metadata": {},
     "output_type": "display_data"
    },
    {
     "name": "stdout",
     "output_type": "stream",
     "text": [
      "Epoch 76: loss = 440.90232603530006\n"
     ]
    },
    {
     "data": {
      "application/vnd.jupyter.widget-view+json": {
       "model_id": "3478979a552643e9a128a723edd41ee3",
       "version_major": 2,
       "version_minor": 0
      },
      "text/plain": [
       "0it [00:00, ?it/s]"
      ]
     },
     "metadata": {},
     "output_type": "display_data"
    },
    {
     "name": "stdout",
     "output_type": "stream",
     "text": [
      "Epoch 77: loss = 440.6370449867154\n"
     ]
    },
    {
     "data": {
      "application/vnd.jupyter.widget-view+json": {
       "model_id": "c150fd894e5e48f185f3ca47934b2655",
       "version_major": 2,
       "version_minor": 0
      },
      "text/plain": [
       "0it [00:00, ?it/s]"
      ]
     },
     "metadata": {},
     "output_type": "display_data"
    },
    {
     "name": "stdout",
     "output_type": "stream",
     "text": [
      "Epoch 78: loss = 440.4177122271143\n"
     ]
    },
    {
     "data": {
      "application/vnd.jupyter.widget-view+json": {
       "model_id": "af946a046c91487ea6bf47796b892bc4",
       "version_major": 2,
       "version_minor": 0
      },
      "text/plain": [
       "0it [00:00, ?it/s]"
      ]
     },
     "metadata": {},
     "output_type": "display_data"
    },
    {
     "name": "stdout",
     "output_type": "stream",
     "text": [
      "Epoch 79: loss = 440.1423274427277\n"
     ]
    },
    {
     "data": {
      "application/vnd.jupyter.widget-view+json": {
       "model_id": "e39020628a8541e198a5c27cfa964e9f",
       "version_major": 2,
       "version_minor": 0
      },
      "text/plain": [
       "0it [00:00, ?it/s]"
      ]
     },
     "metadata": {},
     "output_type": "display_data"
    },
    {
     "name": "stdout",
     "output_type": "stream",
     "text": [
      "Epoch 80: loss = 439.8274316421132\n"
     ]
    },
    {
     "data": {
      "application/vnd.jupyter.widget-view+json": {
       "model_id": "4225ee5671284f1fa1a28460f3b7c6c8",
       "version_major": 2,
       "version_minor": 0
      },
      "text/plain": [
       "0it [00:00, ?it/s]"
      ]
     },
     "metadata": {},
     "output_type": "display_data"
    },
    {
     "name": "stdout",
     "output_type": "stream",
     "text": [
      "Epoch 81: loss = 439.64496642786844\n"
     ]
    },
    {
     "data": {
      "application/vnd.jupyter.widget-view+json": {
       "model_id": "0f6e06ea7b61448aad71aa6ba12a0054",
       "version_major": 2,
       "version_minor": 0
      },
      "text/plain": [
       "0it [00:00, ?it/s]"
      ]
     },
     "metadata": {},
     "output_type": "display_data"
    },
    {
     "name": "stdout",
     "output_type": "stream",
     "text": [
      "Epoch 82: loss = 439.4347635575658\n"
     ]
    },
    {
     "data": {
      "application/vnd.jupyter.widget-view+json": {
       "model_id": "349eba375f954060b423511b431062ea",
       "version_major": 2,
       "version_minor": 0
      },
      "text/plain": [
       "0it [00:00, ?it/s]"
      ]
     },
     "metadata": {},
     "output_type": "display_data"
    },
    {
     "name": "stdout",
     "output_type": "stream",
     "text": [
      "Epoch 83: loss = 439.19817468234845\n"
     ]
    },
    {
     "data": {
      "application/vnd.jupyter.widget-view+json": {
       "model_id": "8036987749264428ba57048e122e4022",
       "version_major": 2,
       "version_minor": 0
      },
      "text/plain": [
       "0it [00:00, ?it/s]"
      ]
     },
     "metadata": {},
     "output_type": "display_data"
    },
    {
     "name": "stdout",
     "output_type": "stream",
     "text": [
      "Epoch 84: loss = 439.0161291886746\n"
     ]
    },
    {
     "data": {
      "application/vnd.jupyter.widget-view+json": {
       "model_id": "35a574f5c6274ebea094ea20a3c70434",
       "version_major": 2,
       "version_minor": 0
      },
      "text/plain": [
       "0it [00:00, ?it/s]"
      ]
     },
     "metadata": {},
     "output_type": "display_data"
    },
    {
     "name": "stdout",
     "output_type": "stream",
     "text": [
      "Epoch 85: loss = 438.75562275939814\n"
     ]
    },
    {
     "data": {
      "application/vnd.jupyter.widget-view+json": {
       "model_id": "4130de3dcf7544c0ab3f799b0889c56d",
       "version_major": 2,
       "version_minor": 0
      },
      "text/plain": [
       "0it [00:00, ?it/s]"
      ]
     },
     "metadata": {},
     "output_type": "display_data"
    },
    {
     "name": "stdout",
     "output_type": "stream",
     "text": [
      "Epoch 86: loss = 438.5513981479143\n"
     ]
    },
    {
     "data": {
      "application/vnd.jupyter.widget-view+json": {
       "model_id": "c805f138d5cd48bf835a28107debb401",
       "version_major": 2,
       "version_minor": 0
      },
      "text/plain": [
       "0it [00:00, ?it/s]"
      ]
     },
     "metadata": {},
     "output_type": "display_data"
    },
    {
     "name": "stdout",
     "output_type": "stream",
     "text": [
      "Epoch 87: loss = 438.34475260060555\n"
     ]
    },
    {
     "data": {
      "application/vnd.jupyter.widget-view+json": {
       "model_id": "5bf3dc4aa8bf475ab4b601b04acb1bfb",
       "version_major": 2,
       "version_minor": 0
      },
      "text/plain": [
       "0it [00:00, ?it/s]"
      ]
     },
     "metadata": {},
     "output_type": "display_data"
    },
    {
     "name": "stdout",
     "output_type": "stream",
     "text": [
      "Epoch 88: loss = 438.15131830123687\n"
     ]
    },
    {
     "data": {
      "application/vnd.jupyter.widget-view+json": {
       "model_id": "3a366cf6eddf4d67958d9bc8d14fab6a",
       "version_major": 2,
       "version_minor": 0
      },
      "text/plain": [
       "0it [00:00, ?it/s]"
      ]
     },
     "metadata": {},
     "output_type": "display_data"
    },
    {
     "name": "stdout",
     "output_type": "stream",
     "text": [
      "Epoch 89: loss = 437.9397062014697\n"
     ]
    },
    {
     "data": {
      "application/vnd.jupyter.widget-view+json": {
       "model_id": "b430d224fd804e0ea424ea947bbb29e7",
       "version_major": 2,
       "version_minor": 0
      },
      "text/plain": [
       "0it [00:00, ?it/s]"
      ]
     },
     "metadata": {},
     "output_type": "display_data"
    },
    {
     "name": "stdout",
     "output_type": "stream",
     "text": [
      "Epoch 90: loss = 437.740377128757\n"
     ]
    },
    {
     "data": {
      "application/vnd.jupyter.widget-view+json": {
       "model_id": "6da4ad42546f45a18ca58a102a5e6112",
       "version_major": 2,
       "version_minor": 0
      },
      "text/plain": [
       "0it [00:00, ?it/s]"
      ]
     },
     "metadata": {},
     "output_type": "display_data"
    },
    {
     "name": "stdout",
     "output_type": "stream",
     "text": [
      "Epoch 91: loss = 437.5763744221121\n"
     ]
    },
    {
     "data": {
      "application/vnd.jupyter.widget-view+json": {
       "model_id": "340e103d30cf4fe28fb3f14ce751801e",
       "version_major": 2,
       "version_minor": 0
      },
      "text/plain": [
       "0it [00:00, ?it/s]"
      ]
     },
     "metadata": {},
     "output_type": "display_data"
    },
    {
     "name": "stdout",
     "output_type": "stream",
     "text": [
      "Epoch 92: loss = 437.3902762958972\n"
     ]
    },
    {
     "data": {
      "application/vnd.jupyter.widget-view+json": {
       "model_id": "e1266670704e4a7aa7655ec42456ea12",
       "version_major": 2,
       "version_minor": 0
      },
      "text/plain": [
       "0it [00:00, ?it/s]"
      ]
     },
     "metadata": {},
     "output_type": "display_data"
    },
    {
     "name": "stdout",
     "output_type": "stream",
     "text": [
      "Epoch 93: loss = 437.20065404711625\n"
     ]
    },
    {
     "data": {
      "application/vnd.jupyter.widget-view+json": {
       "model_id": "dbbf76cfd6464341829e73e95d05117a",
       "version_major": 2,
       "version_minor": 0
      },
      "text/plain": [
       "0it [00:00, ?it/s]"
      ]
     },
     "metadata": {},
     "output_type": "display_data"
    },
    {
     "name": "stdout",
     "output_type": "stream",
     "text": [
      "Epoch 94: loss = 437.00447333313605\n"
     ]
    },
    {
     "data": {
      "application/vnd.jupyter.widget-view+json": {
       "model_id": "48d8050aecf1494c908ea889a9d1a237",
       "version_major": 2,
       "version_minor": 0
      },
      "text/plain": [
       "0it [00:00, ?it/s]"
      ]
     },
     "metadata": {},
     "output_type": "display_data"
    },
    {
     "name": "stdout",
     "output_type": "stream",
     "text": [
      "Epoch 95: loss = 436.8431366323638\n"
     ]
    },
    {
     "data": {
      "application/vnd.jupyter.widget-view+json": {
       "model_id": "cb60f09c19214bf8a5942d10241904f8",
       "version_major": 2,
       "version_minor": 0
      },
      "text/plain": [
       "0it [00:00, ?it/s]"
      ]
     },
     "metadata": {},
     "output_type": "display_data"
    },
    {
     "name": "stdout",
     "output_type": "stream",
     "text": [
      "Epoch 96: loss = 436.6952114235413\n"
     ]
    },
    {
     "data": {
      "application/vnd.jupyter.widget-view+json": {
       "model_id": "f730f5ad83244074907ef920a4a8924f",
       "version_major": 2,
       "version_minor": 0
      },
      "text/plain": [
       "0it [00:00, ?it/s]"
      ]
     },
     "metadata": {},
     "output_type": "display_data"
    },
    {
     "name": "stdout",
     "output_type": "stream",
     "text": [
      "Epoch 97: loss = 436.50687156936294\n"
     ]
    },
    {
     "data": {
      "application/vnd.jupyter.widget-view+json": {
       "model_id": "a43cd11b43344660816d777cb6d55486",
       "version_major": 2,
       "version_minor": 0
      },
      "text/plain": [
       "0it [00:00, ?it/s]"
      ]
     },
     "metadata": {},
     "output_type": "display_data"
    },
    {
     "name": "stdout",
     "output_type": "stream",
     "text": [
      "Epoch 98: loss = 436.38023794516903\n"
     ]
    },
    {
     "data": {
      "application/vnd.jupyter.widget-view+json": {
       "model_id": "2723e20d8aaf466a9573416c839e8fce",
       "version_major": 2,
       "version_minor": 0
      },
      "text/plain": [
       "0it [00:00, ?it/s]"
      ]
     },
     "metadata": {},
     "output_type": "display_data"
    },
    {
     "name": "stdout",
     "output_type": "stream",
     "text": [
      "Epoch 99: loss = 436.1880619139074\n"
     ]
    }
   ],
   "source": [
    "config = load_config()\n",
    "dataloader = HDF5DataLoader(\n",
    "    filepath=os.path.join(config.cooccurrence_dir, \"cooccurrence.hdf5\"),\n",
    "    dataset_name=\"cooccurrence\",\n",
    "    batch_size=config.batch_size,\n",
    "    device=config.device\n",
    ")\n",
    "model = GloVe(\n",
    "    vocab_size=min(config.vocab_size, len(set(corpus))),\n",
    "    embedding_size=config.embedding_size,\n",
    "    x_max=config.x_max,\n",
    "    alpha=config.alpha\n",
    ")\n",
    "model.to(config.device)\n",
    "optimizer = torch.optim.Adagrad(\n",
    "    model.parameters(),\n",
    "    lr=config.learning_rate\n",
    ")\n",
    "losses = []\n",
    "\n",
    "\n",
    "with dataloader.open():\n",
    "    model.train()\n",
    "    \n",
    "    for epoch in tqdm(range(config.num_epochs)):\n",
    "        epoch_loss = 0\n",
    "        for batch in tqdm(dataloader.iter_batches()):\n",
    "            loss = model(\n",
    "                batch[0][:, 0],\n",
    "                batch[0][:, 1],\n",
    "                batch[1]\n",
    "            )\n",
    "            epoch_loss += loss.detach().item()\n",
    "            loss.backward()\n",
    "            optimizer.step()\n",
    "            optimizer.zero_grad()\n",
    "\n",
    "        losses.append(epoch_loss)\n",
    "        print(f\"Epoch {epoch}: loss = {epoch_loss}\")\n",
    "        os.makedirs(os.sep.join(config.output_filepath.split(os.sep)[:-1]),exist_ok=True)\n",
    "        torch.save(model.state_dict(), config.output_filepath)"
   ]
  },
  {
   "cell_type": "code",
   "execution_count": 112,
   "id": "3d732f0a",
   "metadata": {},
   "outputs": [
    {
     "data": {
      "text/plain": [
       "[<matplotlib.lines.Line2D at 0x7fe9ce820550>]"
      ]
     },
     "execution_count": 112,
     "metadata": {},
     "output_type": "execute_result"
    },
    {
     "data": {
      "image/png": "[encoded data removed]",
      "text/plain": [
       "<Figure size 432x288 with 1 Axes>"
      ]
     },
     "metadata": {
      "needs_background": "light"
     },
     "output_type": "display_data"
    }
   ],
   "source": [
    "plt.plot(losses)"
   ]
  },
  {
   "cell_type": "code",
   "execution_count": 113,
   "id": "8c8b95d8",
   "metadata": {},
   "outputs": [],
   "source": [
    "vectors = (model.weight.weight.to('cpu').detach() + model.weight_tilde.weight.to('cpu').detach()).numpy()"
   ]
  },
  {
   "cell_type": "code",
   "execution_count": 114,
   "id": "d8365501",
   "metadata": {},
   "outputs": [
    {
     "data": {
      "text/plain": [
       "(4337, 30)"
      ]
     },
     "execution_count": 114,
     "metadata": {},
     "output_type": "execute_result"
    }
   ],
   "source": [
    "vectors.shape"
   ]
  },
  {
   "cell_type": "code",
   "execution_count": 115,
   "id": "1acd246f",
   "metadata": {},
   "outputs": [],
   "source": [
    "data['kmers_vec'] = [vectorizer.vectorize(x) for x in preprocessed_seq]"
   ]
  },
  {
   "cell_type": "code",
   "execution_count": 116,
   "id": "ea717718",
   "metadata": {},
   "outputs": [
    {
     "data": {
      "text/plain": [
       "4       [2415, 2128, 1188, 3952, 1703, 1398, 4142, 132...\n",
       "5       [4143, 2317, 2731, 2668, 473, 2317, 560, 2566,...\n",
       "6       [1322, 320, 1241, 3057, 2798, 2804, 1853, 534,...\n",
       "7       [2773, 1605, 3450, 2454, 3590, 2042, 1217, 330...\n",
       "8       [1347, 3333, 3873, 2063, 707, 4236, 2007, 3477...\n",
       "                              ...                        \n",
       "5625    [2013, 69, 3148, 2309, 2765, 283, 995, 4224, 5...\n",
       "5626    [1937, 3425, 977, 958, 1776, 4091, 387, 62, 34...\n",
       "5627    [2905, 3291, 1824, 142, 3161, 868, 1706, 2292,...\n",
       "5629    [3273, 785, 4149, 293, 2037, 2959, 2172, 233, ...\n",
       "5630    [836, 3789, 3811, 2213, 1019, 1824, 2211, 1792...\n",
       "Name: kmers_vec, Length: 4870, dtype: object"
      ]
     },
     "execution_count": 116,
     "metadata": {},
     "output_type": "execute_result"
    }
   ],
   "source": [
    "data['kmers_vec']"
   ]
  },
  {
   "cell_type": "code",
   "execution_count": 117,
   "id": "6bc81203",
   "metadata": {},
   "outputs": [],
   "source": [
    "data['kmers_enc'] = [np.sum(vectors[[y for y in x if y!=-1], :], axis=0) for x in data['kmers_vec']]"
   ]
  },
  {
   "cell_type": "code",
   "execution_count": 118,
   "id": "e00b9325",
   "metadata": {},
   "outputs": [],
   "source": [
    "gloveUtrs = np.vstack(data['kmers_enc'])"
   ]
  },
  {
   "cell_type": "code",
   "execution_count": 119,
   "id": "e14ffca2",
   "metadata": {},
   "outputs": [
    {
     "data": {
      "text/plain": [
       "(4870, 30)"
      ]
     },
     "execution_count": 119,
     "metadata": {},
     "output_type": "execute_result"
    }
   ],
   "source": [
    "gloveUtrs.shape"
   ]
  },
  {
   "cell_type": "code",
   "execution_count": 120,
   "id": "e77003c2",
   "metadata": {},
   "outputs": [
    {
     "data": {
      "text/plain": [
       "True"
      ]
     },
     "execution_count": 120,
     "metadata": {},
     "output_type": "execute_result"
    }
   ],
   "source": [
    "np.isfinite(gloveUtrs).all()"
   ]
  },
  {
   "cell_type": "code",
   "execution_count": 121,
   "id": "9b0321c3",
   "metadata": {},
   "outputs": [
    {
     "data": {
      "text/html": [
       "<div>\n",
       "<style scoped>\n",
       "    .dataframe tbody tr th:only-of-type {\n",
       "        vertical-align: middle;\n",
       "    }\n",
       "\n",
       "    .dataframe tbody tr th {\n",
       "        vertical-align: top;\n",
       "    }\n",
       "\n",
       "    .dataframe thead th {\n",
       "        text-align: right;\n",
       "    }\n",
       "</style>\n",
       "<table border=\"1\" class=\"dataframe\">\n",
       "  <thead>\n",
       "    <tr style=\"text-align: right;\">\n",
       "      <th></th>\n",
       "      <th>gene</th>\n",
       "      <th>systematicName</th>\n",
       "      <th>intensity</th>\n",
       "    </tr>\n",
       "  </thead>\n",
       "  <tbody>\n",
       "    <tr>\n",
       "      <th>0</th>\n",
       "      <td>SSA1</td>\n",
       "      <td>YAL005C</td>\n",
       "      <td>11.906396</td>\n",
       "    </tr>\n",
       "    <tr>\n",
       "      <th>1</th>\n",
       "      <td>ERP2</td>\n",
       "      <td>YAL007C</td>\n",
       "      <td>0.299776</td>\n",
       "    </tr>\n",
       "    <tr>\n",
       "      <th>2</th>\n",
       "      <td>FUN14</td>\n",
       "      <td>YAL008W</td>\n",
       "      <td>0.455914</td>\n",
       "    </tr>\n",
       "    <tr>\n",
       "      <th>3</th>\n",
       "      <td>SPO7</td>\n",
       "      <td>YAL009W</td>\n",
       "      <td>0.027090</td>\n",
       "    </tr>\n",
       "    <tr>\n",
       "      <th>5</th>\n",
       "      <td>SWC3</td>\n",
       "      <td>YAL011W</td>\n",
       "      <td>0.031941</td>\n",
       "    </tr>\n",
       "  </tbody>\n",
       "</table>\n",
       "</div>"
      ],
      "text/plain": [
       "    gene systematicName  intensity\n",
       "0   SSA1        YAL005C  11.906396\n",
       "1   ERP2        YAL007C   0.299776\n",
       "2  FUN14        YAL008W   0.455914\n",
       "3   SPO7        YAL009W   0.027090\n",
       "5   SWC3        YAL011W   0.031941"
      ]
     },
     "execution_count": 121,
     "metadata": {},
     "output_type": "execute_result"
    }
   ],
   "source": [
    "fDf = pd.read_csv('../processed_data/fluorescence_dataset.csv')\n",
    "fDf.dropna(subset=['intensity'],inplace=True)\n",
    "fDf.head()"
   ]
  },
  {
   "cell_type": "code",
   "execution_count": 122,
   "id": "c45534ba",
   "metadata": {},
   "outputs": [
    {
     "data": {
      "text/html": [
       "<div>\n",
       "<style scoped>\n",
       "    .dataframe tbody tr th:only-of-type {\n",
       "        vertical-align: middle;\n",
       "    }\n",
       "\n",
       "    .dataframe tbody tr th {\n",
       "        vertical-align: top;\n",
       "    }\n",
       "\n",
       "    .dataframe thead th {\n",
       "        text-align: right;\n",
       "    }\n",
       "</style>\n",
       "<table border=\"1\" class=\"dataframe\">\n",
       "  <thead>\n",
       "    <tr style=\"text-align: right;\">\n",
       "      <th></th>\n",
       "      <th>gene</th>\n",
       "      <th>kmers_enc</th>\n",
       "      <th>intensity</th>\n",
       "    </tr>\n",
       "  </thead>\n",
       "  <tbody>\n",
       "    <tr>\n",
       "      <th>0</th>\n",
       "      <td>SSA1</td>\n",
       "      <td>[4.4385433, -9.650375, -1.2108251, -4.379579, ...</td>\n",
       "      <td>11.906396</td>\n",
       "    </tr>\n",
       "    <tr>\n",
       "      <th>1</th>\n",
       "      <td>ERP2</td>\n",
       "      <td>[17.401703, -3.614935, 19.347794, 4.8516173, 9...</td>\n",
       "      <td>0.299776</td>\n",
       "    </tr>\n",
       "    <tr>\n",
       "      <th>2</th>\n",
       "      <td>FUN14</td>\n",
       "      <td>[10.619053, -0.6274934, 2.0292964, 1.6550517, ...</td>\n",
       "      <td>0.455914</td>\n",
       "    </tr>\n",
       "    <tr>\n",
       "      <th>3</th>\n",
       "      <td>SPO7</td>\n",
       "      <td>[4.843187, -10.771448, 3.3429961, 0.72585744, ...</td>\n",
       "      <td>0.027090</td>\n",
       "    </tr>\n",
       "    <tr>\n",
       "      <th>4</th>\n",
       "      <td>SWC3</td>\n",
       "      <td>[10.463615, -1.1386614, 1.0494357, -5.3141866,...</td>\n",
       "      <td>0.031941</td>\n",
       "    </tr>\n",
       "  </tbody>\n",
       "</table>\n",
       "</div>"
      ],
      "text/plain": [
       "    gene                                          kmers_enc  intensity\n",
       "0   SSA1  [4.4385433, -9.650375, -1.2108251, -4.379579, ...  11.906396\n",
       "1   ERP2  [17.401703, -3.614935, 19.347794, 4.8516173, 9...   0.299776\n",
       "2  FUN14  [10.619053, -0.6274934, 2.0292964, 1.6550517, ...   0.455914\n",
       "3   SPO7  [4.843187, -10.771448, 3.3429961, 0.72585744, ...   0.027090\n",
       "4   SWC3  [10.463615, -1.1386614, 1.0494357, -5.3141866,...   0.031941"
      ]
     },
     "execution_count": 122,
     "metadata": {},
     "output_type": "execute_result"
    }
   ],
   "source": [
    "whole = data[['gene', 'kmers_enc']].merge(fDf[['gene','intensity']], on='gene', how='inner')\n",
    "whole.head()"
   ]
  },
  {
   "cell_type": "code",
   "execution_count": 123,
   "id": "16685a36",
   "metadata": {},
   "outputs": [],
   "source": [
    "i = whole['intensity'].copy()\n",
    "mask = i > 0 # negative intensities make no sense\n",
    "y = np.log(i[mask])\n",
    "x = np.vstack(whole['kmers_enc'])[mask]\n",
    "\n",
    "x = x[y>-20,:]\n",
    "y = y[y>-20]"
   ]
  },
  {
   "cell_type": "code",
   "execution_count": 124,
   "id": "bfe7b000",
   "metadata": {},
   "outputs": [
    {
     "data": {
      "text/plain": [
       "<AxesSubplot:xlabel='intensity', ylabel='Count'>"
      ]
     },
     "execution_count": 124,
     "metadata": {},
     "output_type": "execute_result"
    },
    {
     "data": {
      "image/png": "[encoded data removed]",
      "text/plain": [
       "<Figure size 432x288 with 1 Axes>"
      ]
     },
     "metadata": {
      "needs_background": "light"
     },
     "output_type": "display_data"
    }
   ],
   "source": [
    "import seaborn as sns\n",
    "sns.histplot(y)"
   ]
  },
  {
   "cell_type": "code",
   "execution_count": 125,
   "id": "a1dc2d79",
   "metadata": {},
   "outputs": [],
   "source": [
    "from sklearn.decomposition import PCA\n",
    "from sklearn.preprocessing import StandardScaler\n",
    "pcs = PCA(2).fit_transform(StandardScaler().fit_transform(x))"
   ]
  },
  {
   "cell_type": "code",
   "execution_count": 126,
   "id": "6031d847",
   "metadata": {},
   "outputs": [],
   "source": [
    "from matplotlib import pyplot as plt"
   ]
  },
  {
   "cell_type": "code",
   "execution_count": 127,
   "id": "69359502",
   "metadata": {},
   "outputs": [
    {
     "data": {
      "text/plain": [
       "<matplotlib.colorbar.Colorbar at 0x7feaf3ba1c40>"
      ]
     },
     "execution_count": 127,
     "metadata": {},
     "output_type": "execute_result"
    },
    {
     "data": {
      "image/png": "[encoded data removed]",
      "text/plain": [
       "<Figure size 432x288 with 2 Axes>"
      ]
     },
     "metadata": {
      "needs_background": "light"
     },
     "output_type": "display_data"
    }
   ],
   "source": [
    "plt.scatter(pcs[:, 0], pcs[:, 1], c=y, s=8)\n",
    "plt.colorbar()"
   ]
  },
  {
   "cell_type": "markdown",
   "id": "63a47ece",
   "metadata": {},
   "source": [
    "No linear discriminant power found"
   ]
  },
  {
   "cell_type": "code",
   "execution_count": 128,
   "id": "e9958027",
   "metadata": {},
   "outputs": [
    {
     "data": {
      "text/plain": [
       "0.028254787082445554"
      ]
     },
     "execution_count": 128,
     "metadata": {},
     "output_type": "execute_result"
    }
   ],
   "source": [
    "from sklearn.linear_model import LinearRegression\n",
    "lm = LinearRegression().fit(x,y)\n",
    "lm.score(x, y)"
   ]
  },
  {
   "cell_type": "code",
   "execution_count": 129,
   "id": "fb61ec0e",
   "metadata": {},
   "outputs": [],
   "source": [
    "from sklearn.ensemble import RandomForestRegressor"
   ]
  },
  {
   "cell_type": "code",
   "execution_count": 130,
   "id": "1969be30",
   "metadata": {},
   "outputs": [],
   "source": [
    "preds = RandomForestRegressor(n_estimators=500, n_jobs=-1).fit(x,y).predict(x)"
   ]
  },
  {
   "cell_type": "code",
   "execution_count": 131,
   "id": "4bab728b",
   "metadata": {},
   "outputs": [
    {
     "data": {
      "text/plain": [
       "1646.6200907778584"
      ]
     },
     "execution_count": 131,
     "metadata": {},
     "output_type": "execute_result"
    }
   ],
   "source": [
    "np.sum((preds - y)**2)"
   ]
  },
  {
   "cell_type": "code",
   "execution_count": 132,
   "id": "e88942db",
   "metadata": {},
   "outputs": [
    {
     "data": {
      "text/plain": [
       "40446.448386481046"
      ]
     },
     "execution_count": 132,
     "metadata": {},
     "output_type": "execute_result"
    }
   ],
   "source": [
    "np.sum((y)**2)"
   ]
  },
  {
   "cell_type": "code",
   "execution_count": 133,
   "id": "d4afd072",
   "metadata": {},
   "outputs": [],
   "source": [
    "from sklearn.metrics.pairwise import cosine_similarity\n",
    "xcos = cosine_similarity(x, x)"
   ]
  },
  {
   "cell_type": "code",
   "execution_count": 134,
   "id": "7826e18c",
   "metadata": {},
   "outputs": [
    {
     "data": {
      "text/plain": [
       "(3640, 3640)"
      ]
     },
     "execution_count": 134,
     "metadata": {},
     "output_type": "execute_result"
    }
   ],
   "source": [
    "xcos.shape"
   ]
  },
  {
   "cell_type": "code",
   "execution_count": 135,
   "id": "673682c3",
   "metadata": {},
   "outputs": [
    {
     "data": {
      "text/plain": [
       "1.0000004"
      ]
     },
     "execution_count": 135,
     "metadata": {},
     "output_type": "execute_result"
    }
   ],
   "source": [
    "xcos.max()"
   ]
  },
  {
   "cell_type": "code",
   "execution_count": 136,
   "id": "4095c0ed",
   "metadata": {},
   "outputs": [
    {
     "data": {
      "text/plain": [
       "(-0.8649777, 1.0000004)"
      ]
     },
     "execution_count": 136,
     "metadata": {},
     "output_type": "execute_result"
    }
   ],
   "source": [
    "xcos.min(), xcos.max()"
   ]
  },
  {
   "cell_type": "code",
   "execution_count": 137,
   "id": "4fc6b018",
   "metadata": {},
   "outputs": [
    {
     "data": {
      "text/plain": [
       "<matplotlib.colorbar.Colorbar at 0x7feaf38ba490>"
      ]
     },
     "execution_count": 137,
     "metadata": {},
     "output_type": "execute_result"
    },
    {
     "data": {
      "image/png": "[encoded data removed]",
      "text/plain": [
       "<Figure size 432x288 with 2 Axes>"
      ]
     },
     "metadata": {
      "needs_background": "light"
     },
     "output_type": "display_data"
    }
   ],
   "source": [
    "plt.imshow(xcos)\n",
    "plt.colorbar()"
   ]
  },
  {
   "cell_type": "code",
   "execution_count": 138,
   "id": "f4b2bab4",
   "metadata": {},
   "outputs": [],
   "source": [
    "from sklearn.decomposition import PCA\n",
    "from sklearn.preprocessing import RobustScaler\n",
    "pcs = PCA(300).fit_transform(RobustScaler().fit_transform(xcos))"
   ]
  },
  {
   "cell_type": "code",
   "execution_count": 139,
   "id": "d9df89c5",
   "metadata": {},
   "outputs": [
    {
     "data": {
      "text/plain": [
       "<matplotlib.colorbar.Colorbar at 0x7feaf3b60610>"
      ]
     },
     "execution_count": 139,
     "metadata": {},
     "output_type": "execute_result"
    },
    {
     "data": {
      "image/png": "[encoded data removed]",
      "text/plain": [
       "<Figure size 432x288 with 2 Axes>"
      ]
     },
     "metadata": {
      "needs_background": "light"
     },
     "output_type": "display_data"
    }
   ],
   "source": [
    "plt.scatter(pcs[:, 0], pcs[:, 1], c=y, s=8)\n",
    "plt.colorbar()"
   ]
  },
  {
   "cell_type": "code",
   "execution_count": 140,
   "id": "9f878531",
   "metadata": {},
   "outputs": [],
   "source": [
    "cos_preds = RandomForestRegressor(n_estimators=500, n_jobs=-1).fit(pcs,y).predict(pcs)"
   ]
  },
  {
   "cell_type": "code",
   "execution_count": 141,
   "id": "597d2e49",
   "metadata": {},
   "outputs": [
    {
     "data": {
      "text/plain": [
       "1669.211461810944"
      ]
     },
     "execution_count": 141,
     "metadata": {},
     "output_type": "execute_result"
    }
   ],
   "source": [
    "np.sum((cos_preds - y)**2)"
   ]
  },
  {
   "cell_type": "code",
   "execution_count": 142,
   "id": "0b06f7ab",
   "metadata": {},
   "outputs": [
    {
     "data": {
      "text/plain": [
       "6594.373689764442"
      ]
     },
     "execution_count": 142,
     "metadata": {},
     "output_type": "execute_result"
    }
   ],
   "source": [
    "from sklearn import tree\n",
    "treeRegressor = tree.DecisionTreeRegressor(max_leaf_nodes=200, criterion='friedman_mse')\n",
    "tree_preds = treeRegressor.fit(x, y).predict(x)\n",
    "np.sum((tree_preds - y)**2)"
   ]
  },
  {
   "cell_type": "code",
   "execution_count": 143,
   "id": "bd5c6ec3",
   "metadata": {},
   "outputs": [
    {
     "name": "stdout",
     "output_type": "stream",
     "text": [
      "5643.510815713231\n"
     ]
    }
   ],
   "source": [
    "from sklearn import tree\n",
    "treeRegressor = tree.DecisionTreeRegressor(max_leaf_nodes=200, criterion='friedman_mse')\n",
    "tree_preds = treeRegressor.fit(pcs, y).predict(pcs)\n",
    "# import graphviz \n",
    "# dot_data = tree.export_graphviz(treeRegressor, filled=True, out_file=None) \n",
    "# graph = graphviz.Source(dot_data)\n",
    "# graph.render(\"gloveUtrsTree\") \n",
    "print(np.sum((tree_preds - y)**2))\n"
   ]
  },
  {
   "cell_type": "code",
   "execution_count": 144,
   "id": "42f93546",
   "metadata": {},
   "outputs": [
    {
     "name": "stdout",
     "output_type": "stream",
     "text": [
      "Out-of-bag R-2 score estimate: -0.168\n",
      "Test data R-2 score: -0.825\n",
      "Test data Spearman correlation: 0.084\n",
      "Test data Pearson correlation: 0.0886\n"
     ]
    }
   ],
   "source": [
    "from sklearn.preprocessing import StandardScaler\n",
    "from sklearn.model_selection import train_test_split\n",
    "\n",
    "X_train, X_test, y_train, y_test = train_test_split(x, np.exp(y), train_size=0.8, random_state=42)\n",
    "from sklearn.ensemble import RandomForestRegressor\n",
    "rf = RandomForestRegressor(n_estimators=50, max_depth=10, oob_score=True, random_state=0, n_jobs=-1)\n",
    "rf.fit(X_train, y_train)\n",
    "from sklearn.metrics import r2_score\n",
    "from scipy.stats import spearmanr, pearsonr\n",
    "predicted_train = rf.predict(X_train)\n",
    "predicted_test = np.log(rf.predict(X_test))\n",
    "test_score = r2_score(np.log(y_test), predicted_test)\n",
    "spearman = spearmanr(np.log(y_test), predicted_test)\n",
    "pearson = pearsonr(np.log(y_test), predicted_test)\n",
    "print(f'Out-of-bag R-2 score estimate: {rf.oob_score_:>5.3}')\n",
    "print(f'Test data R-2 score: {test_score:>5.3}')\n",
    "print(f'Test data Spearman correlation: {spearman[0]:.3}')\n",
    "print(f'Test data Pearson correlation: {pearson[0]:.3}')\n"
   ]
  },
  {
   "cell_type": "code",
   "execution_count": 145,
   "id": "85969810",
   "metadata": {},
   "outputs": [
    {
     "data": {
      "text/plain": [
       "<matplotlib.collections.PathCollection at 0x7feaf41bc670>"
      ]
     },
     "execution_count": 145,
     "metadata": {},
     "output_type": "execute_result"
    },
    {
     "data": {
      "image/png": "[encoded data removed]",
      "text/plain": [
       "<Figure size 432x288 with 1 Axes>"
      ]
     },
     "metadata": {
      "needs_background": "light"
     },
     "output_type": "display_data"
    }
   ],
   "source": [
    "plt.scatter(np.log(y_train), np.log(predicted_train))"
   ]
  },
  {
   "cell_type": "code",
   "execution_count": 146,
   "id": "d6402889",
   "metadata": {},
   "outputs": [
    {
     "data": {
      "text/plain": [
       "<matplotlib.collections.PathCollection at 0x7fe9f0b04370>"
      ]
     },
     "execution_count": 146,
     "metadata": {},
     "output_type": "execute_result"
    },
    {
     "data": {
      "image/png": "[encoded data removed]",
      "text/plain": [
       "<Figure size 432x288 with 1 Axes>"
      ]
     },
     "metadata": {
      "needs_background": "light"
     },
     "output_type": "display_data"
    }
   ],
   "source": [
    "plt.scatter(np.log(y_test), predicted_test)"
   ]
  },
  {
   "cell_type": "code",
   "execution_count": 147,
   "id": "b2da5e09",
   "metadata": {},
   "outputs": [],
   "source": [
    "import pickle\n",
    "with open('../processed_data/utrs_glove_embeddings.pkl', 'wb') as out:\n",
    "    pickle.dump({'data':np.vstack(data['kmers_enc']),'genes':data['gene']}, out)"
   ]
  },
  {
   "cell_type": "code",
   "execution_count": 148,
   "id": "fa99005c",
   "metadata": {},
   "outputs": [],
   "source": [
    "!git add ../*"
   ]
  },
  {
   "cell_type": "code",
   "execution_count": 149,
   "id": "1fab417c",
   "metadata": {},
   "outputs": [
    {
     "name": "stdout",
     "output_type": "stream",
     "text": [
      "[nlp3utr 899f5f1] Testing on GLoVe and DF-IDF\r\n",
      " 11 files changed, 19697 insertions(+), 644 deletions(-)\r\n",
      " create mode 100644 code/Train TFIDF on UTRS.ipynb\r\n",
      " create mode 100644 code/gloveUtrsTree\r\n",
      " create mode 100644 code/gloveUtrsTree.pdf\r\n",
      " create mode 100644 code/iris\r\n",
      " rewrite model/utrs/gloveModel (85%)\r\n",
      " create mode 100644 model/utrs/gloveModel_specific\r\n",
      " create mode 100644 processed_data/utrs/cooccurence_spec/cooccurrence.hdf5\r\n",
      " create mode 100644 processed_data/utrs/cooccurence_spec/vocab.pkl\r\n",
      " rewrite processed_data/utrs_glove_embeddings.pkl (82%)\r\n"
     ]
    }
   ],
   "source": [
    "!git commit -m 'Testing on GLoVe and DF-IDF'"
   ]
  },
  {
   "cell_type": "code",
   "execution_count": 150,
   "id": "0a2a1bf7",
   "metadata": {},
   "outputs": [
    {
     "name": "stdout",
     "output_type": "stream",
     "text": [
      "Enumerating objects: 28, done.\n",
      "Counting objects: 100% (28/28), done.\n",
      "Delta compression using up to 16 threads\n",
      "Compressing objects: 100% (17/17), done.\n",
      "Writing objects: 100% (19/19), 32.67 MiB | 363.00 KiB/s, done.\n",
      "Total 19 (delta 5), reused 0 (delta 0)\n",
      "remote: Resolving deltas: 100% (5/5), completed with 5 local objects.\u001b[K\n",
      "remote: \u001b[1;33mwarning\u001b[m: See http://git.io/iEPt8g for more information.\u001b[K\n",
      "remote: \u001b[1;33mwarning\u001b[m: File processed_data/utrs/cooccurence_spec/cooccurrence.hdf5 is 80.11 MB; this is larger than GitHub's recommended maximum file size of 50.00 MB\u001b[K\n",
      "remote: \u001b[1;33mwarning\u001b[m: GH001: Large files detected. You may want to try Git Large File Storage - https://git-lfs.github.com.\u001b[K\n",
      "To github.com:IBP-21-22/intbioproj.git\n",
      "   baa2e7a..899f5f1  nlp3utr -> nlp3utr\n"
     ]
    }
   ],
   "source": [
    "!git push origin"
   ]
  },
  {
   "cell_type": "code",
   "execution_count": null,
   "id": "7033a4b1",
   "metadata": {},
   "outputs": [],
   "source": []
  }
 ],
 "metadata": {
  "kernelspec": {
   "display_name": "intbioproj",
   "language": "python",
   "name": "intbioproj"
  },
  "language_info": {
   "codemirror_mode": {
    "name": "ipython",
    "version": 3
   },
   "file_extension": ".py",
   "mimetype": "text/x-python",
   "name": "python",
   "nbconvert_exporter": "python",
   "pygments_lexer": "ipython3",
   "version": "3.8.10"
  }
 },
 "nbformat": 4,
 "nbformat_minor": 5
}
