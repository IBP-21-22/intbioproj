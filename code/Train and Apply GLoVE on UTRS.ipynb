{
 "cells": [
  {
   "cell_type": "code",
   "execution_count": 1,
   "id": "c3a6ac10",
   "metadata": {},
   "outputs": [],
   "source": [
    "# !pip install wheel\n",
    "# !pip install h5py\n",
    "# !pip install torch==1.10.0+cu113 torchvision==0.11.1+cu113 torchaudio==0.10.0+cu113 -f https://download.pytorch.org/whl/cu113/torch_stable.html"
   ]
  },
  {
   "cell_type": "code",
   "execution_count": 54,
   "id": "213dff06",
   "metadata": {},
   "outputs": [],
   "source": [
    "import numpy as np\n",
    "import pandas as pd\n",
    "import torch\n",
    "from torch import nn\n",
    "import h5py\n",
    "import yaml\n",
    "import pickle\n",
    "import os\n",
    "import argparse\n",
    "import random\n",
    "from tqdm.notebook import tqdm\n",
    "from collections import Counter\n",
    "from dataclasses import dataclass, field\n",
    "import contextlib\n",
    "import math\n",
    "from heapq import merge\n",
    "from math import floor\n",
    "import seaborn as sns\n",
    "from matplotlib import pyplot as plt\n",
    "from sklearn.decomposition import PCA\n",
    "from sklearn.preprocessing import StandardScaler\n",
    "from itertools import product\n",
    "from sklearn.linear_model import LinearRegression\n",
    "from sklearn.ensemble import RandomForestRegressor\n",
    "from sklearn.feature_selection import SelectKBest, f_regression\n",
    "from statsmodels.stats.multitest import multipletests\n",
    "from sklearn import tree\n",
    "from sklearn.model_selection import train_test_split\n",
    "from sklearn.metrics import r2_score\n",
    "from scipy.stats import spearmanr, pearsonr"
   ]
  },
  {
   "cell_type": "code",
   "execution_count": 3,
   "id": "f7d703aa",
   "metadata": {},
   "outputs": [],
   "source": [
    "data = pd.read_csv('../processed_data/utrs.csv')\n",
    "data = data[['Gene Name', 'foreign']].dropna(axis=0).rename(columns={'Gene Name': 'gene', 'foreign':'seq'})"
   ]
  },
  {
   "cell_type": "code",
   "execution_count": 4,
   "id": "f67cd082",
   "metadata": {},
   "outputs": [
    {
     "data": {
      "text/html": [
       "<div>\n",
       "<style scoped>\n",
       "    .dataframe tbody tr th:only-of-type {\n",
       "        vertical-align: middle;\n",
       "    }\n",
       "\n",
       "    .dataframe tbody tr th {\n",
       "        vertical-align: top;\n",
       "    }\n",
       "\n",
       "    .dataframe thead th {\n",
       "        text-align: right;\n",
       "    }\n",
       "</style>\n",
       "<table border=\"1\" class=\"dataframe\">\n",
       "  <thead>\n",
       "    <tr style=\"text-align: right;\">\n",
       "      <th></th>\n",
       "      <th>gene</th>\n",
       "      <th>seq</th>\n",
       "    </tr>\n",
       "  </thead>\n",
       "  <tbody>\n",
       "    <tr>\n",
       "      <th>4</th>\n",
       "      <td>VPS8</td>\n",
       "      <td>ACATTTCTAAATATTTAATACAACTTTGGTTACATAAAAGTAAAAT...</td>\n",
       "    </tr>\n",
       "    <tr>\n",
       "      <th>5</th>\n",
       "      <td>SSA1</td>\n",
       "      <td>AGCCAATTGGTGCGGCAATTGATAATAACGAAAATGTCTTTTAATG...</td>\n",
       "    </tr>\n",
       "    <tr>\n",
       "      <th>6</th>\n",
       "      <td>ERP2</td>\n",
       "      <td>AGAACTTTTCAATCTACGAAAAATATATGTCCGCAATATAGAACAC...</td>\n",
       "    </tr>\n",
       "    <tr>\n",
       "      <th>7</th>\n",
       "      <td>FUN14</td>\n",
       "      <td>AGCAAGACAAATGACCAGATATAAACGAGGGTTATATTCTTTCGTT...</td>\n",
       "    </tr>\n",
       "    <tr>\n",
       "      <th>8</th>\n",
       "      <td>SPO7</td>\n",
       "      <td>AAAGAGTTGGAGGGCTTCTTCCTTCGAATAAGAGGTCATATTTACC...</td>\n",
       "    </tr>\n",
       "  </tbody>\n",
       "</table>\n",
       "</div>"
      ],
      "text/plain": [
       "    gene                                                seq\n",
       "4   VPS8  ACATTTCTAAATATTTAATACAACTTTGGTTACATAAAAGTAAAAT...\n",
       "5   SSA1  AGCCAATTGGTGCGGCAATTGATAATAACGAAAATGTCTTTTAATG...\n",
       "6   ERP2  AGAACTTTTCAATCTACGAAAAATATATGTCCGCAATATAGAACAC...\n",
       "7  FUN14  AGCAAGACAAATGACCAGATATAAACGAGGGTTATATTCTTTCGTT...\n",
       "8   SPO7  AAAGAGTTGGAGGGCTTCTTCCTTCGAATAAGAGGTCATATTTACC..."
      ]
     },
     "execution_count": 4,
     "metadata": {},
     "output_type": "execute_result"
    }
   ],
   "source": [
    "data.head()"
   ]
  },
  {
   "cell_type": "code",
   "execution_count": 7,
   "id": "6638ede1",
   "metadata": {},
   "outputs": [],
   "source": [
    "KMER_SIZE = 5"
   ]
  },
  {
   "cell_type": "code",
   "execution_count": 8,
   "id": "38d19ed4",
   "metadata": {},
   "outputs": [],
   "source": [
    "# Efficiency element\n",
    "eff_el1 = \"TATATA\"\n",
    "eff_el2 = \"TTTTTATA\"\n",
    "eff_ctrl = \"GCGCGC\"\n",
    "# Mutational scan of efficiency element?\n",
    "# Positioning element\n",
    "pos_el = \"AAWAAA\"\n",
    "# Puf protein binding sites\n",
    "puf1_2 = \"TAATNNNTAAT\"\n",
    "puf3 = \"TGTANATA\"\n",
    "puf4 = \"TGTANANTA\"\n",
    "puf5 = \"TGTANNNNTA\"\n",
    "puf6 = \"TTGT\"\n",
    "# Poly-T sequences\n",
    "poly_t = \"TTTTTTTT\"\n",
    "_elems = [eff_el1, eff_el2, eff_ctrl,\n",
    "           pos_el,\n",
    "           puf1_2, puf3, puf4, puf5, puf6,\n",
    "           poly_t]\n",
    "specElements = []\n",
    "# expand elements above by replacing Ns with A,T,G or C and Ws with A or T\n",
    "for elem in _elems:\n",
    "    specElements.extend([''.join(y) for y in list(product(*(['A', 'T', 'G', 'C'] if x=='N'  else (\n",
    "        ['A', 'T'] if x=='W' else  (x,)) for x in elem)))])\n",
    "# augment elements using all contiguous subsequences of size k - 1  of them, if the element size is larger than K\n",
    "specElements = list(set(specElements + sum([[x[:-1], x[1:]] for x in specElements if len(x) > KMER_SIZE], [])))\n",
    "    "
   ]
  },
  {
   "cell_type": "code",
   "execution_count": 9,
   "id": "a35b7050",
   "metadata": {},
   "outputs": [
    {
     "data": {
      "text/plain": [
       "1037"
      ]
     },
     "execution_count": 9,
     "metadata": {},
     "output_type": "execute_result"
    }
   ],
   "source": [
    "len(specElements)"
   ]
  },
  {
   "cell_type": "markdown",
   "id": "b850e3d4",
   "metadata": {},
   "source": [
    "### Compute Stride (overlap) of subsequence reading based on current subsequence entropy"
   ]
  },
  {
   "cell_type": "code",
   "execution_count": 10,
   "id": "7a1ac668",
   "metadata": {},
   "outputs": [],
   "source": [
    "def entropy(string):\n",
    "    \"Calculates the Shannon entropy of a string\"\n",
    "\n",
    "    # get probability of chars in string\n",
    "    prob = [ float(string.count(c)) / len(string) for c in dict.fromkeys(list(string)) ]\n",
    "\n",
    "    # calculate the entropy\n",
    "    entropy = - sum([ p * math.log(p) / math.log(2.0) for p in prob ])\n",
    "\n",
    "    return min(1, abs(entropy) / 2)\n",
    "def compute_stride(seq):\n",
    "    return max(1, round(len(seq) * (1 - entropy(seq))))"
   ]
  },
  {
   "cell_type": "markdown",
   "id": "49e8f2b5",
   "metadata": {},
   "source": [
    "We apply stride computation to the specific elements above"
   ]
  },
  {
   "cell_type": "code",
   "execution_count": 11,
   "id": "0a5365e4",
   "metadata": {},
   "outputs": [
    {
     "data": {
      "text/plain": [
       "[('TGTATTGATA', 3),\n",
       " ('TGTAGCCATA', 1),\n",
       " ('TAATGTATAA', 3),\n",
       " ('TGTAAAGCT', 1),\n",
       " ('TGTATCGTT', 2),\n",
       " ('TAATGTGTAA', 2),\n",
       " ('TGTAAGAGTA', 2),\n",
       " ('GTATGTATA', 2),\n",
       " ('TAATACTTAAT', 4),\n",
       " ('TGTAAGCCTA', 1),\n",
       " ('TGTAAAATT', 3),\n",
       " ('TGTAAAAT', 2),\n",
       " ('TGTACTGAT', 1),\n",
       " ('GTAACTCTA', 1),\n",
       " ('TGTATAGGTA', 2),\n",
       " ('TGTAAACATA', 2),\n",
       " ('TGTAGGGTT', 3),\n",
       " ('GTACCGGTA', 1),\n",
       " ('TATATA', 3),\n",
       " ('TGTAACGATA', 1),\n",
       " ('TGTATGAATA', 2),\n",
       " ('GTAGACTA', 1),\n",
       " ('GTATGTCTA', 1),\n",
       " ('TGTATGGCT', 1),\n",
       " ('TGTACTCATA', 1),\n",
       " ('TGTATAAGT', 2),\n",
       " ('GTAAAGTA', 2),\n",
       " ('TGTATTGAT', 3),\n",
       " ('TGTAGTCCT', 1),\n",
       " ('TGTAATGCTA', 1),\n",
       " ('TGTAATAGTA', 2),\n",
       " ('GTATTTCTA', 2),\n",
       " ('GTACAATTA', 1),\n",
       " ('TGTATCAGT', 1),\n",
       " ('TGTATAGTTA', 3),\n",
       " ('GTAGCTATA', 1),\n",
       " ('TGTAAGCTT', 1),\n",
       " ('GTACCTTTA', 1),\n",
       " ('GTATCAATA', 1),\n",
       " ('TGTACACCT', 1),\n",
       " ('GTAAGCATA', 1),\n",
       " ('GTAGATATA', 2),\n",
       " ('TGTATGATTA', 3),\n",
       " ('TGTAGCCGTA', 1),\n",
       " ('TGTACACTA', 1),\n",
       " ('TGTAGAAT', 2),\n",
       " ('TGTAACTCT', 1),\n",
       " ('GTATTCATA', 1),\n",
       " ('AATTTTTAAT', 5),\n",
       " ('TAATGTCTAA', 1),\n",
       " ('TAATAACTAA', 4),\n",
       " ('TGTAGACCTA', 1),\n",
       " ('TGTACGCGT', 1),\n",
       " ('TGTATGAGTA', 2),\n",
       " ('TGTACATTTA', 2),\n",
       " ('TGTAGACCT', 1),\n",
       " ('GTACGGGTA', 1),\n",
       " ('GTATATGTA', 2),\n",
       " ('GTACACCTA', 1),\n",
       " ('GTACGCGTA', 1),\n",
       " ('TGTAAATA', 2),\n",
       " ('AATCGGTAAT', 1),\n",
       " ('TGTATACATA', 1),\n",
       " ('TGTATAGTA', 2),\n",
       " ('TGTATGTTTA', 3),\n",
       " ('TGTACTGCT', 1),\n",
       " ('GTAATTATA', 3),\n",
       " ('GTAAGTATA', 2),\n",
       " ('TGTACACGT', 1),\n",
       " ('TGTAGTCTT', 2),\n",
       " ('TGTAGATA', 2),\n",
       " ('TGTATAACTA', 1),\n",
       " ('AATCTTTAAT', 3),\n",
       " ('TGTATACTTA', 2),\n",
       " ('AATAAA', 4),\n",
       " ('TGTAATGATA', 2),\n",
       " ('TTTTTATA', 5),\n",
       " ('TGTATGACT', 1),\n",
       " ('TGTACGCATA', 1),\n",
       " ('TGTATGAAT', 2),\n",
       " ('TAATATCTAAT', 4),\n",
       " ('TGTATCACTA', 1),\n",
       " ('TGTATAGCT', 1),\n",
       " ('GTAGTGCTA', 1),\n",
       " ('AATTGATAAT', 3),\n",
       " ('GTACATCTA', 1),\n",
       " ('TGTACGAAT', 1),\n",
       " ('GTAACGCTA', 1),\n",
       " ('TAATGCATAA', 2),\n",
       " ('TGTATCACT', 1),\n",
       " ('TGTAGGCTT', 1),\n",
       " ('GTATTCTTA', 2),\n",
       " ('GTAAGGATA', 2),\n",
       " ('TGTATATTTA', 4),\n",
       " ('TGTATAAATA', 3),\n",
       " ('TAATGCCTAAT', 1),\n",
       " ('TGTAATAAT', 3),\n",
       " ('TGTAATATT', 3),\n",
       " ('AATAGGTAAT', 3),\n",
       " ('AATACTTAAT', 3),\n",
       " ('TAATACCTAAT', 3),\n",
       " ('TGTATCATTA', 2),\n",
       " ('GTAGTTCTA', 1),\n",
       " ('TGTACGGCT', 1),\n",
       " ('GTACAAGTA', 1),\n",
       " ('TGTATTCCT', 2),\n",
       " ('TAATTCGTAAT', 2),\n",
       " ('TGTATGGCTA', 1),\n",
       " ('TGTAGCCCTA', 1),\n",
       " ('TGTAGGTGT', 3),\n",
       " ('TGTAGCGGTA', 1),\n",
       " ('GTACACTTA', 1),\n",
       " ('TGTACTCAT', 1),\n",
       " ('TGTATTTGTA', 3),\n",
       " ('TGTACCTCT', 1),\n",
       " ('TAATCTTTAA', 3),\n",
       " ('GTAGGTATA', 2),\n",
       " ('TGTATCCGT', 1),\n",
       " ('TAATTTCTAA', 3),\n",
       " ('TGTAGTTCT', 2),\n",
       " ('GTACCCTTA', 1),\n",
       " ('GTAAACGTA', 1),\n",
       " ('TAATCAATAAT', 4),\n",
       " ('GTACCAGTA', 1),\n",
       " ('GTATACCTA', 1),\n",
       " ('TGTACCTTT', 2),\n",
       " ('TTTTATA', 4),\n",
       " ('GTATTGCTA', 1),\n",
       " ('GTACCCATA', 1),\n",
       " ('TGTAATGGTA', 2),\n",
       " ('GTAATCATA', 1),\n",
       " ('GTACTTTTA', 2),\n",
       " ('TGTAAGCCT', 1),\n",
       " ('TGTAGTTCTA', 1),\n",
       " ('AATGGTTAAT', 2),\n",
       " ('TAATAGTTAA', 3),\n",
       " ('GTATCACTA', 1),\n",
       " ('GTACACTA', 1),\n",
       " ('GTAGATTA', 2),\n",
       " ('TAATGGATAA', 3),\n",
       " ('TGTAGGGCTA', 1),\n",
       " ('TGTATTCAT', 2),\n",
       " ('TGTACAGCT', 1),\n",
       " ('GTATCGTTA', 1),\n",
       " ('TGTAACGTT', 1),\n",
       " ('GTACTCGTA', 1),\n",
       " ('TGTACTTGTA', 1),\n",
       " ('GTAACCGTA', 1),\n",
       " ('GTATTGATA', 2),\n",
       " ('TGTAGCCCT', 1),\n",
       " ('TGTACAACTA', 1),\n",
       " ('TGTAACTTTA', 2),\n",
       " ('GTAAGATTA', 2),\n",
       " ('TGTACTTTTA', 2),\n",
       " ('GTAGGAGTA', 2),\n",
       " ('GTACTAATA', 1),\n",
       " ('GTACGACTA', 1),\n",
       " ('TGTAGGTTT', 3),\n",
       " ('TAATTCTTAAT', 4),\n",
       " ('TAATAATTAAT', 6),\n",
       " ('TGTACGGTT', 1),\n",
       " ('AATATCTAAT', 3),\n",
       " ('TAATGGATAAT', 3),\n",
       " ('TAATACTTAA', 3),\n",
       " ('TGTATCGATA', 1),\n",
       " ('TAATCATTAA', 3),\n",
       " ('TGTATTGCT', 2),\n",
       " ('TGTAGGCAT', 1),\n",
       " ('TGTAAAGCTA', 1),\n",
       " ('TGTAGTCTTA', 1),\n",
       " ('TGTACCACTA', 1),\n",
       " ('TGTATAGT', 2),\n",
       " ('TGTAGAGCT', 1),\n",
       " ('GTAACTATA', 1),\n",
       " ('TGTAGTATT', 3),\n",
       " ('GTAGGGCTA', 1),\n",
       " ('GTAGCGCTA', 1),\n",
       " ('TGTAGTATTA', 3),\n",
       " ('GTATGCCTA', 1),\n",
       " ('TGTACGCGTA', 1),\n",
       " ('TGTACCATT', 1),\n",
       " ('GTAGGTGTA', 2),\n",
       " ('AATACGTAAT', 2),\n",
       " ('GTAGTTGTA', 2),\n",
       " ('TGTAACCCTA', 1),\n",
       " ('TAATAACTAAT', 4),\n",
       " ('TAATTCATAA', 3),\n",
       " ('TGTAGACT', 1),\n",
       " ('GTATAAATA', 3),\n",
       " ('TGTAGCTTTA', 1),\n",
       " ('TAATATTTAAT', 6),\n",
       " ('TAATAAATAAT', 6),\n",
       " ('TGTAGGCGT', 1),\n",
       " ('TGTAAACCTA', 1),\n",
       " ('AATGTATAAT', 3),\n",
       " ('TGTACTTATA', 2),\n",
       " ('TGTAAAAGTA', 3),\n",
       " ('GTAGAGTA', 2),\n",
       " ('TGTATAGTT', 3),\n",
       " ('AATCGATAAT', 2),\n",
       " ('TGTACTCTT', 2),\n",
       " ('TGTAGGCCTA', 1),\n",
       " ('TGTAACTCTA', 1),\n",
       " ('GTAAGTTTA', 2),\n",
       " ('GTACGCCTA', 1),\n",
       " ('TGTAGGTTTA', 3),\n",
       " ('GTACAATA', 1),\n",
       " ('GTATTACTA', 1),\n",
       " ('TGTATAAT', 2),\n",
       " ('ATAAA', 3),\n",
       " ('TAATTAATAA', 5),\n",
       " ('TGTAGTGGTA', 2),\n",
       " ('TGTAATGTT', 3),\n",
       " ('TGTATCAGTA', 1),\n",
       " ('GTACTTCTA', 1),\n",
       " ('TGTATTGCTA', 1),\n",
       " ('TGTATGGGT', 3),\n",
       " ('TGTAGTGGT', 3),\n",
       " ('TGTATCGTTA', 1),\n",
       " ('AATGAGTAAT', 3),\n",
       " ('TGTAAAGGTA', 2),\n",
       " ('TGTACGAATA', 1),\n",
       " ('TAATACATAAT', 4),\n",
       " ('TAATCAATAA', 4),\n",
       " ('TGTATATTT', 3),\n",
       " ('TGTAAAGTA', 2),\n",
       " ('GTAGTAGTA', 2),\n",
       " ('TGTACAGGT', 1),\n",
       " ('TGTACTAGT', 1),\n",
       " ('TGTAGGACT', 1),\n",
       " ('TGTATATGT', 3),\n",
       " ('GTATCGGTA', 1),\n",
       " ('GTAGTGGTA', 2),\n",
       " ('TGTAAATGTA', 2),\n",
       " ('TGTAATTGT', 3),\n",
       " ('TGTAAGCAT', 1),\n",
       " ('TGTACGCTT', 1),\n",
       " ('GTAATGATA', 2),\n",
       " ('TAATTCTTAA', 3),\n",
       " ('TGTACGAGTA', 1),\n",
       " ('TGTAGCCAT', 1),\n",
       " ('TGTACATCT', 1),\n",
       " ('GTATACATA', 1),\n",
       " ('TGTAAAACT', 1),\n",
       " ('TAATAGATAA', 4),\n",
       " ('TGTAGAGATA', 2),\n",
       " ('TGTATCTAT', 2),\n",
       " ('TGTACATCTA', 1),\n",
       " ('GTAAGACTA', 1),\n",
       " ('TGTACTAATA', 1),\n",
       " ('TGTATTAAT', 3),\n",
       " ('TGTATCATT', 2),\n",
       " ('TGTATAGCTA', 1),\n",
       " ('TGTATACGTA', 1),\n",
       " ('TGTAAGAATA', 3),\n",
       " ('GTAGGTCTA', 1),\n",
       " ('TGTACGACT', 1),\n",
       " ('TGTAAAT', 2),\n",
       " ('GTACAGCTA', 1),\n",
       " ('AATTGTTAAT', 3),\n",
       " ('GTAGTACTA', 1),\n",
       " ('TAATATGTAA', 3),\n",
       " ('TGTAAGTTTA', 3),\n",
       " ('TGTAAAAGT', 2),\n",
       " ('TGTATCTTTA', 2),\n",
       " ('TAATCGATAA', 2),\n",
       " ('TGTAACCATA', 1),\n",
       " ('GTAAACTA', 1),\n",
       " ('TGTATACTT', 2),\n",
       " ('TGTAGGGAT', 2),\n",
       " ('TGTAGATCT', 1),\n",
       " ('TAATGCCTAA', 1),\n",
       " ('GTACTGTTA', 1),\n",
       " ('TAATTTTTAAT', 6),\n",
       " ('TGTACCAGTA', 1),\n",
       " ('TGTACGTAT', 1),\n",
       " ('TAATCCTTAAT', 3),\n",
       " ('TAATATTTAA', 5),\n",
       " ('GTAAAAGTA', 3),\n",
       " ('GTAGCAGTA', 1),\n",
       " ('GTACAAATA', 2),\n",
       " ('TAATAGGTAA', 3),\n",
       " ('GTAACTGTA', 1),\n",
       " ('GTAGAAGTA', 2),\n",
       " ('TGTACTACT', 1),\n",
       " ('TGTATCAAT', 1),\n",
       " ('TGTAACAAT', 1),\n",
       " ('GTAGGAATA', 2),\n",
       " ('TAATTGATAAT', 4),\n",
       " ('TGTACTGTTA', 1),\n",
       " ('TAATAAATAA', 6),\n",
       " ('TGTAACGAT', 1),\n",
       " ('TGTAAGTGTA', 2),\n",
       " ('TGTACCGATA', 1),\n",
       " ('GTACCACTA', 1),\n",
       " ('TGTACTTCTA', 1),\n",
       " ('TGTATCCTTA', 1),\n",
       " ('GTAATCGTA', 1),\n",
       " ('GTAGTAATA', 2),\n",
       " ('GTATGAATA', 2),\n",
       " ('GTAAATA', 2),\n",
       " ('TGTAGTTTTA', 3),\n",
       " ('GTACGATTA', 1),\n",
       " ('GTACACATA', 1),\n",
       " ('TGTAATCATA', 1),\n",
       " ('GTAAAACTA', 2),\n",
       " ('GTAAATTTA', 3),\n",
       " ('TGTACTGTT', 2),\n",
       " ('TGTACAATA', 1),\n",
       " ('GTAACTTTA', 1),\n",
       " ('TGTAAATTA', 3),\n",
       " ('TGTAGTTTT', 3),\n",
       " ('GTACATTTA', 1),\n",
       " ('TGTACTGGT', 1),\n",
       " ('TGTACTTCT', 2),\n",
       " ('TAATATATAA', 5),\n",
       " ('TGTAATCTT', 2),\n",
       " ('TGTAGAGTT', 2),\n",
       " ('TGTATGCATA', 1),\n",
       " ('GTATAACTA', 1),\n",
       " ('TGTAGCTGT', 1),\n",
       " ('GTACTCATA', 1),\n",
       " ('TGTACCAATA', 1),\n",
       " ('TGTAAGAAT', 2),\n",
       " ('AATTCGTAAT', 1),\n",
       " ('TAATGATTAA', 3),\n",
       " ('TGTAGGATTA', 2),\n",
       " ('GTAGCTCTA', 1),\n",
       " ('TGTAGTCATA', 1),\n",
       " ('TGTATAT', 2),\n",
       " ('GTACCAATA', 1),\n",
       " ('GTAGCCCTA', 1),\n",
       " ('GTAAGGGTA', 2),\n",
       " ('TGTACTGGTA', 1),\n",
       " ('TGTAAGTATA', 2),\n",
       " ('TAATGAGTAAT', 3),\n",
       " ('TGTAAAATTA', 3),\n",
       " ('TGTAAATAT', 3),\n",
       " ('GTAAGCTTA', 1),\n",
       " ('TGTAAGATT', 2),\n",
       " ('TGTATTCGTA', 1),\n",
       " ('TAATCGTTAA', 1),\n",
       " ('TGTAACTAT', 1),\n",
       " ('TGTACTTGT', 2),\n",
       " ('TGTACCACT', 1),\n",
       " ('TGTACAAAT', 1),\n",
       " ('GTATGGCTA', 1),\n",
       " ('TGTACCGTT', 1),\n",
       " ('TGTAGCGGT', 1),\n",
       " ('TGTAAACTA', 1),\n",
       " ('TAATTACTAA', 3),\n",
       " ('TGTAATCGT', 1),\n",
       " ('GTAAAGTTA', 2),\n",
       " ('TGTACAGTT', 1),\n",
       " ('TAATTATTAA', 5),\n",
       " ('GTAACCTTA', 1),\n",
       " ('GTATCGATA', 1),\n",
       " ('TAATGGGTAAT', 2),\n",
       " ('TGTAGAGT', 2),\n",
       " ('TGTATCCAT', 1),\n",
       " ('TGTATAGAT', 2),\n",
       " ('TAATACCTAA', 3),\n",
       " ('TGTACTGCTA', 1),\n",
       " ('AATGATTAAT', 3),\n",
       " ('TGTACACAT', 1),\n",
       " ('TGTAGTGTTA', 3),\n",
       " ('GTATTCCTA', 1),\n",
       " ('TGTAATGTTA', 3),\n",
       " ('TGTAGGTGTA', 2),\n",
       " ('AATGCCTAAT', 1),\n",
       " ('TAATAGTTAAT', 4),\n",
       " ('TGTACGATTA', 1),\n",
       " ('TGTACGTCTA', 1),\n",
       " ('GTAAGGCTA', 1),\n",
       " ('TAATCTATAAT', 4),\n",
       " ('GTATATATA', 3),\n",
       " ('TGTACCCCTA', 1),\n",
       " ('GTAACGTTA', 1),\n",
       " ('TGTAGTTGTA', 3),\n",
       " ('TGTATAGGT', 2),\n",
       " ('TGTATAAGTA', 2),\n",
       " ('TAATTGGTAA', 2),\n",
       " ('TGTAGAACTA', 1),\n",
       " ('TAATCGGTAA', 1),\n",
       " ('CGCGC', 3),\n",
       " ('TGTACGTTT', 2),\n",
       " ('TGTAATAGT', 2),\n",
       " ('TGTAACGGTA', 1),\n",
       " ('TGTAGCAAT', 1),\n",
       " ('TGTACCTATA', 1),\n",
       " ('TGTAACGCT', 1),\n",
       " ('TGTACCAAT', 1),\n",
       " ('TGTATGACTA', 1),\n",
       " ('TGTATATTA', 3),\n",
       " ('TGTAACTATA', 1),\n",
       " ('TAATCCTTAA', 2),\n",
       " ('TGTACTGATA', 1),\n",
       " ('TGTATCGCT', 1),\n",
       " ('GTATCCGTA', 1),\n",
       " ('GTAGGACTA', 1),\n",
       " ('GTACCGATA', 1),\n",
       " ('TGTACTAAT', 1),\n",
       " ('TGTATGTCTA', 1),\n",
       " ('AATCCGTAAT', 1),\n",
       " ('TGTACTCGT', 1),\n",
       " ('GTACAACTA', 1),\n",
       " ('GTACGTATA', 1),\n",
       " ('TGTAAGCATA', 1),\n",
       " ('TGTATTAGTA', 3),\n",
       " ('TGTAGTACT', 1),\n",
       " ('GTAGCGGTA', 1),\n",
       " ('GTAGCCGTA', 1),\n",
       " ('GTATGGTTA', 2),\n",
       " ('TGTACCAGT', 1),\n",
       " ('GTAGTCTTA', 1),\n",
       " ('TGTATCTTT', 2),\n",
       " ('TAATAGGTAAT', 3),\n",
       " ('TGTATGTTT', 3),\n",
       " ('TGTAGGAAT', 2),\n",
       " ('GTAGTCGTA', 1),\n",
       " ('TGTATTGGTA', 3),\n",
       " ('TGTATAACT', 1),\n",
       " ('TAATCAGTAA', 2),\n",
       " ('TGTACATTT', 2),\n",
       " ('TGTACGCCTA', 1),\n",
       " ('TGTACATGTA', 1),\n",
       " ('GTATCTATA', 1),\n",
       " ('TGTAGCTCT', 1),\n",
       " ('TAATGACTAA', 2),\n",
       " ('TGTACGGGTA', 1),\n",
       " ('AATTAATAAT', 5),\n",
       " ('TGTAAACAT', 1),\n",
       " ('TGTATTAGT', 3),\n",
       " ('TGTAGACGT', 1),\n",
       " ('TGTAGACGTA', 1),\n",
       " ('TGTACACTTA', 1),\n",
       " ('TGTAAACGTA', 1),\n",
       " ('TGTAGAGCTA', 1),\n",
       " ('AATGTGTAAT', 2),\n",
       " ('GTACTTGTA', 1),\n",
       " ('TAATTCCTAAT', 3),\n",
       " ('TGTATATGTA', 3),\n",
       " ('AATTGGTAAT', 2),\n",
       " ('TGTAGGACTA', 1),\n",
       " ('GTAAAGGTA', 2),\n",
       " ('GTATTGTTA', 3),\n",
       " ('GTAGCGATA', 1),\n",
       " ('TGTATGCGT', 1),\n",
       " ('TGTACTTAT', 2),\n",
       " ('TAATTTGTAAT', 4),\n",
       " ('TGTAAATCTA', 1),\n",
       " ('TGTAGTCCTA', 1),\n",
       " ('TGTAGAGGTA', 2),\n",
       " ('TTTTTTTT', 8),\n",
       " ('GTAGAGGTA', 2),\n",
       " ('GTACTAGTA', 1),\n",
       " ('TGTACATGT', 1),\n",
       " ('TGTAATTAT', 3),\n",
       " ('GTAGAATTA', 2),\n",
       " ('TGTATGAGT', 2),\n",
       " ('GTATCATTA', 1),\n",
       " ('GTACCTCTA', 1),\n",
       " ('TGTACGTGT', 1),\n",
       " ('TGTACCCTT', 1),\n",
       " ('GTAATGGTA', 2),\n",
       " ('GTAATAATA', 3),\n",
       " ('GTATACTA', 1),\n",
       " ('TAATTATTAAT', 6),\n",
       " ('GTAAATCTA', 1),\n",
       " ('GTAAAGCTA', 1),\n",
       " ('TAATGACTAAT', 2),\n",
       " ('TGTACAAGTA', 1),\n",
       " ('TGTAAAACTA', 2),\n",
       " ('TGTAGGCGTA', 1),\n",
       " ('AATTATTAAT', 5),\n",
       " ('TGTAGCATT', 1),\n",
       " ('GTAGCACTA', 1),\n",
       " ('AATGAATAAT', 4),\n",
       " ('TGTACAAGT', 1),\n",
       " ('TGTATGTGT', 3),\n",
       " ('GTACTGCTA', 1),\n",
       " ('GTATAGTTA', 2),\n",
       " ('GTAGTATTA', 2),\n",
       " ('TTGT', 2),\n",
       " ('TGTAGCGTT', 1),\n",
       " ('TGTACCTGTA', 1),\n",
       " ('GTACTCCTA', 1),\n",
       " ('GTAGCATTA', 1),\n",
       " ('TGTAGGGATA', 2),\n",
       " ('TGTACCGTTA', 1),\n",
       " ('TGTAAAAAT', 3),\n",
       " ('AATTACTAAT', 3),\n",
       " ('TGTAAGGGT', 2),\n",
       " ('AATTAGTAAT', 3),\n",
       " ('TAATCTCTAA', 2),\n",
       " ('TGTATAAAT', 3),\n",
       " ('TGTAGCCTT', 1),\n",
       " ('GTACGTGTA', 1),\n",
       " ('TGTACGTCT', 1),\n",
       " ('GTATAATTA', 3),\n",
       " ('TGTAGATGTA', 2),\n",
       " ('TGTATCTCTA', 1),\n",
       " ('TGTAGCTCTA', 1),\n",
       " ('GTACGGTTA', 1),\n",
       " ('TGTACAGTA', 1),\n",
       " ('TAATGAATAA', 4),\n",
       " ('TGTAAGGCT', 1),\n",
       " ('TAATCGCTAA', 1),\n",
       " ('TGTAAATT', 2),\n",
       " ('TGTAGGTCT', 1),\n",
       " ('TGTACCTAT', 1),\n",
       " ('GTAGATTTA', 2),\n",
       " ('GTACAGTTA', 1),\n",
       " ('TGTAGACTTA', 1),\n",
       " ('GTAATAGTA', 2),\n",
       " ('GTACGTTTA', 1),\n",
       " ('GCGCG', 3),\n",
       " ('AATATATAAT', 5),\n",
       " ('GTATGCGTA', 1),\n",
       " ('AATAAGTAAT', 4),\n",
       " ('TGTAGGTAT', 2),\n",
       " ('TGTACATAT', 1),\n",
       " ('TAATATATAAT', 6),\n",
       " ('TAATAGCTAAT', 2),\n",
       " ('GTATTTGTA', 3),\n",
       " ('GTAGGCTTA', 1),\n",
       " ('GTAATTTTA', 3),\n",
       " ('GTATAAGTA', 2),\n",
       " ('TAATTACTAAT', 4),\n",
       " ('TGTAATAATA', 3),\n",
       " ('GTATCGCTA', 1),\n",
       " ('TGTATTCTT', 2),\n",
       " ('TGTACGGTTA', 1),\n",
       " ('GTACGTCTA', 1),\n",
       " ('TGTAATTGTA', 3),\n",
       " ('GTACATTA', 1),\n",
       " ('TGTAGAGGT', 2),\n",
       " ('TGTATGATT', 3),\n",
       " ('TAATGGTTAA', 2),\n",
       " ('AATAGCTAAT', 2),\n",
       " ('GTATAGGTA', 2),\n",
       " ('TAATCAGTAAT', 2),\n",
       " ('TGTAGGGGTA', 3),\n",
       " ('AATTCATAAT', 3),\n",
       " ('AATGCGTAAT', 1),\n",
       " ('TGTAAATATA', 3),\n",
       " ('TGTACCTCTA', 1),\n",
       " ('TGTAGCACT', 1),\n",
       " ('TGTACACCTA', 1),\n",
       " ('TAATGTGTAAT', 3),\n",
       " ('TGTATTTGT', 3),\n",
       " ('GTACAGATA', 1),\n",
       " ('AAAAAA', 6),\n",
       " ('AATATGTAAT', 3),\n",
       " ('TGTACAGGTA', 1),\n",
       " ('GTATAGCTA', 1),\n",
       " ('TGTACTCCT', 1),\n",
       " ('TGTATTTCTA', 2),\n",
       " ('TGTAACTGT', 1),\n",
       " ('TAATCCATAAT', 3),\n",
       " ('TGTACAAT', 1),\n",
       " ('TGTACAT', 1),\n",
       " ('GTAGATGTA', 2),\n",
       " ('TGTAGGGTTA', 2),\n",
       " ('GTAAATGTA', 2),\n",
       " ('GTATTATTA', 3),\n",
       " ('TAATTGATAA', 3),\n",
       " ('TGTAAGATTA', 2),\n",
       " ('GTAGAATA', 2),\n",
       " ('TGTATTTCT', 2),\n",
       " ('TGTAAGGCTA', 1),\n",
       " ('TGTATGCTTA', 1),\n",
       " ('AATGCTTAAT', 1),\n",
       " ('TGTAATCCTA', 1),\n",
       " ('TGTAGCATTA', 1),\n",
       " ('GTAGACTTA', 1),\n",
       " ('TGTAAGTTT', 3),\n",
       " ('GTACATATA', 1),\n",
       " ('TGTACCGCTA', 1),\n",
       " ('GTAAGAGTA', 2),\n",
       " ('TGTAAGTCTA', 1),\n",
       " ('AATCAATAAT', 4),\n",
       " ('GTATCTCTA', 1),\n",
       " ('GTAATCCTA', 1),\n",
       " ('TAATCACTAA', 3),\n",
       " ('TGTAATACT', 1),\n",
       " ('GTAAGGTTA', 2),\n",
       " ('TGTAACATTA', 1),\n",
       " ('TAATTCCTAA', 2),\n",
       " ('TAATAGCTAA', 2),\n",
       " ('GTAAAATTA', 3),\n",
       " ('TGTATCGAT', 1),\n",
       " ('GTACTTATA', 1),\n",
       " ('TGTATCCATA', 1),\n",
       " ('TGTATTTTT', 5),\n",
       " ('AATCGCTAAT', 1),\n",
       " ('TGTATCGCTA', 1),\n",
       " ('TGTATCTGTA', 1),\n",
       " ('TGTATATCT', 2),\n",
       " ('TAATGTTTAA', 3),\n",
       " ('TGTATTAATA', 3),\n",
       " ('TGTAACACT', 1),\n",
       " ('GTATCAGTA', 1),\n",
       " ('TGTACCGGT', 1),\n",
       " ('AATTTGTAAT', 3),\n",
       " ('GTATACTTA', 1),\n",
       " ('TGTATGCTT', 2),\n",
       " ('GTACTGATA', 1),\n",
       " ('GTAGTTTTA', 3),\n",
       " ('TAATCCCTAAT', 2),\n",
       " ('TGTAGCGATA', 1),\n",
       " ('TGTAAGCGTA', 1),\n",
       " ('GTATGACTA', 1),\n",
       " ('GTAGAACTA', 1),\n",
       " ('GTAGCTTTA', 1),\n",
       " ('TGTAGCGTTA', 1),\n",
       " ('TGTAGTGCTA', 1),\n",
       " ('GTAACATTA', 1),\n",
       " ('GTACTACTA', 1),\n",
       " ('TGTAAGACT', 1),\n",
       " ('TGTAATGAT', 2),\n",
       " ('TGTAGACTA', 1),\n",
       " ('TAATCGCTAAT', 1),\n",
       " ('TGTAAATCT', 1),\n",
       " ('GTAACGATA', 1),\n",
       " ('GTATATA', 2),\n",
       " ('TGTAGAAGT', 2),\n",
       " ('GTAAGAATA', 3),\n",
       " ('TGTAAGAGT', 2),\n",
       " ('TGTATGGAT', 2),\n",
       " ('TGTATTCTTA', 2),\n",
       " ('TTTTTAT', 5),\n",
       " ('AATGGGTAAT', 2),\n",
       " ('TGTATCCCT', 1),\n",
       " ('TAATGCGTAAT', 1),\n",
       " ('TGTAGCAATA', 1),\n",
       " ('TGTAAATGT', 2),\n",
       " ('TAATCGGTAAT', 1),\n",
       " ('TGTAGAAGTA', 2),\n",
       " ('TGTACCGAT', 1),\n",
       " ('TAATTAATAAT', 6),\n",
       " ('TAATATGTAAT', 4),\n",
       " ('TGTATACCTA', 1),\n",
       " ('TGTAGTGATA', 2),\n",
       " ('GTAGCCTTA', 1),\n",
       " ('TAATTTCTAAT', 4),\n",
       " ('TGTACAGCTA', 1),\n",
       " ('GTAGACCTA', 1),\n",
       " ('TGTACCCCT', 1),\n",
       " ('TGTAACTTT', 2),\n",
       " ('TGTAGGAATA', 2),\n",
       " ('TGTAATTCTA', 2),\n",
       " ('GTAACAGTA', 1),\n",
       " ('GTAACCATA', 1),\n",
       " ('GTAATACTA', 1),\n",
       " ('TGTATCGGTA', 1),\n",
       " ('GTACCCCTA', 1),\n",
       " ('TGTAGTAATA', 2),\n",
       " ('AATGGATAAT', 3),\n",
       " ('TGTAGTTATA', 3),\n",
       " ('TGTACGTTTA', 1),\n",
       " ('AATAGATAAT', 4),\n",
       " ('GTAATCTTA', 1),\n",
       " ('TAATTTATAAT', 6),\n",
       " ('TGTATGCGTA', 1),\n",
       " ('TGTAACCCT', 1),\n",
       " ('GTAAGCCTA', 1),\n",
       " ('TGTACACGTA', 1),\n",
       " ('AATAACTAAT', 4),\n",
       " ('GTATGCATA', 1),\n",
       " ('GTAGAGCTA', 1),\n",
       " ('GTACCTATA', 1),\n",
       " ('TGTACATATA', 1),\n",
       " ('AATTTATAAT', 5),\n",
       " ('TGTATGCCTA', 1),\n",
       " ('TAATTGTTAAT', 4),\n",
       " ('TGTAAGCTTA', 1),\n",
       " ('GTAATTGTA', 2),\n",
       " ('GTAAGCGTA', 1),\n",
       " ('TGTAACATT', 1),\n",
       " ('TGTAAGGGTA', 2),\n",
       " ('GTAGAGATA', 2),\n",
       " ('TGTATGTGTA', 3),\n",
       " ('TGTAAGCGT', 1),\n",
       " ('TGTACCGCT', 1),\n",
       " ('TGTAGATGT', 2),\n",
       " ('TGTAAACTT', 1),\n",
       " ('GTAGATA', 2),\n",
       " ('TGTAAAGT', 2),\n",
       " ('TAATCCGTAAT', 1),\n",
       " ('TGTAAGTCT', 1),\n",
       " ('AAAAA', 5),\n",
       " ('TGTATCCTT', 2),\n",
       " ('TGTACAATTA', 1),\n",
       " ('GTATTAATA', 3),\n",
       " ('TGTACCCTTA', 1),\n",
       " ('TGTAGAAATA', 3),\n",
       " ('TAATCCCTAA', 2),\n",
       " ('TGTAGACATA', 1),\n",
       " ('AATCAGTAAT', 2),\n",
       " ('TGTATACCT', 1),\n",
       " ('TGTATCCGTA', 1),\n",
       " ('TGTAGGCCT', 1),\n",
       " ('TGTACGGATA', 1),\n",
       " ('TGTAGACAT', 1),\n",
       " ('TAATCGATAAT', 2),\n",
       " ('TGTATCAATA', 1),\n",
       " ('AATACCTAAT', 3),\n",
       " ('AATCACTAAT', 3),\n",
       " ('TGTATTGGT', 3),\n",
       " ('TGTACCCGTA', 1),\n",
       " ('GTACGGATA', 1),\n",
       " ('TAATCTGTAAT', 2),\n",
       " ('TGTACAACT', 1),\n",
       " ('TGTACCCAT', 1),\n",
       " ('TGTACCCGT', 1),\n",
       " ('TGTAATTATA', 3),\n",
       " ('TGTATGGTTA', 3),\n",
       " ('GTACAGGTA', 1),\n",
       " ('TGTACACTT', 1),\n",
       " ('TGTAGAATT', 2),\n",
       " ('TGTATAATA', 3),\n",
       " ('TAATTGCTAAT', 2),\n",
       " ('TGTAGGCATA', 1),\n",
       " ('TGTAAAGAT', 2),\n",
       " ('TGTATAGATA', 2),\n",
       " ('TGTAGGAGTA', 2),\n",
       " ('GTACCGTTA', 1),\n",
       " ('GTACGCATA', 1),\n",
       " ('TGTATATATA', 3),\n",
       " ('TGTAGGGCT', 1),\n",
       " ('GTACTCTTA', 1),\n",
       " ('TGTATTTAT', 3),\n",
       " ('TGTAGTAAT', 2),\n",
       " ('GTAGCCATA', 1),\n",
       " ('TGTACGATT', 1),\n",
       " ('TAATTGCTAA', 1),\n",
       " ('GTAGGGTTA', 2),\n",
       " ('TGTAAAAATA', 4),\n",
       " ('GTACTGGTA', 1),\n",
       " ('TGTAGCGCTA', 1),\n",
       " ('GTATGCTTA', 1),\n",
       " ('TGTATACAT', 1),\n",
       " ('GTATATTTA', 3),\n",
       " ('TGTATATA', 2),\n",
       " ('ATATA', 3),\n",
       " ('AATGTTTAAT', 3),\n",
       " ('TAATGAATAAT', 4),\n",
       " ('TGTACATTA', 1),\n",
       " ('TGTACAGT', 1),\n",
       " ('TGTATATAT', 3),\n",
       " ('GTAGGCGTA', 1),\n",
       " ('GTAGACGTA', 1),\n",
       " ('TGTATTATT', 3),\n",
       " ('TGTAACCTTA', 1),\n",
       " ('TGTACGACTA', 1),\n",
       " ('TAATGCGTAA', 1),\n",
       " ('TGTAATCGTA', 1),\n",
       " ('TGTAGGGGT', 3),\n",
       " ('GTAGCAATA', 1),\n",
       " ('GTAACACTA', 1),\n",
       " ('TGTAGAAAT', 2),\n",
       " ('TGTATCTATA', 2),\n",
       " ('GTATCCTTA', 1),\n",
       " ('TGTAGCACTA', 1),\n",
       " ('TGTAAAGTTA', 2),\n",
       " ('GTAGGATTA', 2),\n",
       " ('TGTAAACTTA', 1),\n",
       " ('TGTAGTGAT', 2),\n",
       " ('GTATGGATA', 2),\n",
       " ('TGTAAACCT', 1),\n",
       " ('TGTACACT', 1),\n",
       " ('GTACTATTA', 1),\n",
       " ('AATAAATAAT', 6),\n",
       " ('TAATGTATAAT', 4),\n",
       " ('TGTAGACTT', 1),\n",
       " ('GTAATATTA', 3),\n",
       " ('TGTAGCAGT', 1),\n",
       " ('GTAAGTGTA', 2),\n",
       " ('TGTACGTGTA', 1),\n",
       " ('TGTACTCTTA', 1),\n",
       " ('TGTAGCTAT', 1),\n",
       " ('TGTATTACTA', 2),\n",
       " ('TGTACTCCTA', 1),\n",
       " ('GTAAATATA', 3),\n",
       " ('TAATTTGTAA', 3),\n",
       " ('AATGCATAAT', 2),\n",
       " ('TAATGCTTAA', 1),\n",
       " ('TGTACATA', 1),\n",
       " ('GTATTGGTA', 2),\n",
       " ('TGTAACGCTA', 1),\n",
       " ('TGTAGGCTTA', 1),\n",
       " ('TGTAGCGCT', 1),\n",
       " ('GTATGGGTA', 2),\n",
       " ('AATAA', 3),\n",
       " ('TGTAATTCT', 2),\n",
       " ('GTACCCGTA', 1),\n",
       " ('GTATTTTTA', 3),\n",
       " ('TGTATGGTT', 3),\n",
       " ('TAATCCATAA', 3),\n",
       " ('TAATAGATAAT', 4),\n",
       " ('TGTAGAATTA', 2),\n",
       " ('TGTAGGTATA', 2),\n",
       " ('GTAGACATA', 1),\n",
       " ('GTACGAATA', 1),\n",
       " ('TGTAAGGATA', 2),\n",
       " ('TGTAATATTA', 3),\n",
       " ('AATCATTAAT', 3),\n",
       " ('GTATGTGTA', 2),\n",
       " ('GTATAGATA', 2),\n",
       " ('TGTAAAATA', 3),\n",
       " ('TGTATCCCTA', 1),\n",
       " ('TGTATCTCT', 2),\n",
       " ('TGTAAGTGT', 2),\n",
       " ('TGTACGGGT', 1),\n",
       " ('TGTAATCTTA', 2),\n",
       " ('GTACATA', 1),\n",
       " ('TAATAAGTAAT', 4),\n",
       " ('TGTATGCAT', 1),\n",
       " ('GTATCTTTA', 2),\n",
       " ('TGTATGTCT', 2),\n",
       " ('TGTATAATT', 3),\n",
       " ('TGTAGTGCT', 1),\n",
       " ('TGTAATACTA', 1),\n",
       " ('TGTAGATTA', 2),\n",
       " ('GTAGATCTA', 1),\n",
       " ('TGTAGAGAT', 2),\n",
       " ('TATAT', 3),\n",
       " ('GTAGTGTTA', 2),\n",
       " ('AATTCCTAAT', 2),\n",
       " ('TGTAAGGTT', 2),\n",
       " ('TAATCCGTAA', 1),\n",
       " ('AATCCCTAAT', 2),\n",
       " ('GTATTTATA', 3),\n",
       " ('AATTCTTAAT', 3),\n",
       " ('TGTAATTTTA', 4),\n",
       " ('TGTAACAGTA', 1),\n",
       " ('AATCCATAAT', 3),\n",
       " ('TGTAATCCT', 1),\n",
       " ('GTATATCTA', 1),\n",
       " ('TGTATTTTTA', 4),\n",
       " ('TGTAGATCTA', 1),\n",
       " ('TGTACCGGTA', 1),\n",
       " ('GTAACCCTA', 1),\n",
       " ('TGTATTTATA', 4),\n",
       " ('TGTAGTCAT', 1),\n",
       " ('GTAGGCCTA', 1),\n",
       " ('GCGCGC', 3),\n",
       " ('TGTAACAATA', 2),\n",
       " ('TGTACTATT', 2),\n",
       " ('TGTACGGAT', 1),\n",
       " ('GTAAGTCTA', 1),\n",
       " ('AATGGCTAAT', 1),\n",
       " ('GTAACGGTA', 1),\n",
       " ('TGTAAGTAT', 2),\n",
       " ('TGTATAATTA', 3),\n",
       " ('TAATCGTTAAT', 2),\n",
       " ('TGTAGTTAT', 3),\n",
       " ('GTACCATTA', 1),\n",
       " ('TGTAGGTCTA', 1),\n",
       " ('GTAAAAATA', 3),\n",
       " ('TGTAAGGAT', 2),\n",
       " ('AATCTGTAAT', 1),\n",
       " ('TAATCTCTAAT', 3),\n",
       " ('AATCTATAAT', 3),\n",
       " ('TAATACATAA', 4),\n",
       " ('TGTAATGCT', 1),\n",
       " ('TGTAAACGT', 1),\n",
       " ('TAATGCTTAAT', 2),\n",
       " ('TAATTTTTAA', 5),\n",
       " ('TGTATGGGTA', 2),\n",
       " ('GTATGTTTA', 3),\n",
       " ('TGTAGAT', 2),\n",
       " ('AATCTCTAAT', 2),\n",
       " ('TGTAGCGAT', 1),\n",
       " ('TGTAACCGT', 1),\n",
       " ('GTACCGCTA', 1),\n",
       " ('TAATTAGTAAT', 4),\n",
       " ('AATATTTAAT', 5),\n",
       " ('TGTATTACT', 2),\n",
       " ('GTATTAGTA', 2),\n",
       " ('GTAGTCATA', 1),\n",
       " ('TAATTGTTAA', 3),\n",
       " ('GTACATGTA', 1),\n",
       " ('GTAGTCCTA', 1),\n",
       " ('GTATCTGTA', 1),\n",
       " ('TGTACACATA', 1),\n",
       " ('TGTAACGGT', 1),\n",
       " ('TAATACGTAAT', 2),\n",
       " ('GTAGGGATA', 2),\n",
       " ('TAATGATTAAT', 4),\n",
       " ('GTAGAAATA', 3),\n",
       " ('GTACGAGTA', 1),\n",
       " ('TGTACCCATA', 1),\n",
       " ('TGTAGCTATA', 1),\n",
       " ('TGTAACAGT', 1),\n",
       " ('TAATGGCTAA', 1),\n",
       " ('TGTAGTCGTA', 1),\n",
       " ('TAATCATTAAT', 4),\n",
       " ('TGTATGTATA', 3),\n",
       " ('TAATATCTAA', 3),\n",
       " ('GTACAGTA', 1),\n",
       " ('TGTAGGAGT', 2),\n",
       " ('TGTACAGTTA', 1),\n",
       " ('TGTACGGCTA', 1),\n",
       " ('AATAGTTAAT', 3),\n",
       " ('TGTAAATTTA', 3),\n",
       " ('TGTATTATTA', 4),\n",
       " ('TAATTGGTAAT', 3),\n",
       " ('TGTACTAGTA', 1),\n",
       " ('TGTACTACTA', 1),\n",
       " ('GTATACGTA', 1),\n",
       " ('TGTATTCGT', 2),\n",
       " ('GTAAACTTA', 1),\n",
       " ('GTACACGTA', 1),\n",
       " ('AATGTCTAAT', 1),\n",
       " ('TAATCTATAA', 3),\n",
       " ('TGTATGTAT', 3),\n",
       " ('TAATAAGTAA', 4),\n",
       " ('GTACGGCTA', 1),\n",
       " ('TGTATTCATA', 2),\n",
       " ('GTAAAATA', 3),\n",
       " ('TAATTTATAA', 5),\n",
       " ('TAATCACTAAT', 3),\n",
       " ('TGTACTCGTA', 1),\n",
       " ('TGTACGAGT', 1),\n",
       " ('TAATGTCTAAT', 2),\n",
       " ('TGTAGATTTA', 3),\n",
       " ('GTACGCTTA', 1),\n",
       " ('TGTATCGGT', 1),\n",
       " ('TAATAATTAA', 5),\n",
       " ('AATCCTTAAT', 2),\n",
       " ('TGTAAAGGT', 2),\n",
       " ('TGTAGTAGTA', 2),\n",
       " ('GTAGAGTTA', 2),\n",
       " ('TGTAATCAT', 1),\n",
       " ('TGTATTGTT', 3),\n",
       " ('GTAATGTTA', 2),\n",
       " ('GTAGCGTTA', 1),\n",
       " ('AATAATTAAT', 5),\n",
       " ('TGTAGTTGT', 3),\n",
       " ('TGTAGATT', 2),\n",
       " ('TGTACTATTA', 2),\n",
       " ('TAATGAGTAA', 3),\n",
       " ('TGTATTGTTA', 3),\n",
       " ('TGTATACT', 1),\n",
       " ('GTAATGCTA', 1),\n",
       " ('TGTAGTAGT', 2),\n",
       " ('GTAGCTGTA', 1),\n",
       " ('TGTATGGATA', 2),\n",
       " ('GTAACAATA', 2),\n",
       " ('GTAGGTTTA', 2),\n",
       " ('TGTAACTGTA', 1),\n",
       " ('GTATAGTA', 2),\n",
       " ('TGTAGCCTTA', 1),\n",
       " ('TAATACGTAA', 2),\n",
       " ('TGTATATCTA', 2),\n",
       " ('GTAGGCATA', 1),\n",
       " ('TTTTTTT', 7),\n",
       " ('TGTAAACT', 1),\n",
       " ('TAATGGCTAAT', 1),\n",
       " ('TGTAGATAT', 2),\n",
       " ('TGTAGAGTA', 2),\n",
       " ('TGTAGTACTA', 1),\n",
       " ('GTATTCGTA', 1),\n",
       " ('TGTAGAACT', 1),\n",
       " ('TGTAGTCGT', 1),\n",
       " ('TGTAATGGT', 2),\n",
       " ('TAATTAGTAA', 3),\n",
       " ('TAATTCGTAA', 1),\n",
       " ('TGTAACCTT', 1),\n",
       " ('AATACATAAT', 4),\n",
       " ('TGTACGCCT', 1),\n",
       " ('TGTACAGATA', 1),\n",
       " ('TAATCTGTAA', 1),\n",
       " ('TGTAGTGTT', 3),\n",
       " ('TGTAGATATA', 2),\n",
       " ('TGTAGAGTTA', 2),\n",
       " ('TGTACGTATA', 1),\n",
       " ('TGTAACACTA', 1),\n",
       " ('TGTAGCTGTA', 1),\n",
       " ('TAATGGTTAAT', 3),\n",
       " ('TAATCTTTAAT', 4),\n",
       " ('TGTATACGT', 1),\n",
       " ('AATGACTAAT', 2),\n",
       " ('TAATTCATAAT', 4),\n",
       " ('TGTAACCGTA', 1),\n",
       " ('GTAATTCTA', 1),\n",
       " ('GTATCCCTA', 1),\n",
       " ('GTAAACATA', 2),\n",
       " ('GTAAATTA', 2),\n",
       " ('GTATGAGTA', 2),\n",
       " ('TGTAAGGTTA', 2),\n",
       " ('TAATGCATAAT', 2),\n",
       " ('TAATGGGTAA', 2),\n",
       " ('TGTACAAATA', 2),\n",
       " ('TGTATTCCTA', 1),\n",
       " ('AATTTCTAAT', 3),\n",
       " ('TGTAAATTT', 3),\n",
       " ('TGTATACTA', 1),\n",
       " ...]"
      ]
     },
     "execution_count": 11,
     "metadata": {},
     "output_type": "execute_result"
    }
   ],
   "source": [
    "search_strides = [compute_stride(s) for s in specElements]\n",
    "list(map(tuple, zip(*[specElements,search_strides])))"
   ]
  },
  {
   "cell_type": "code",
   "execution_count": 12,
   "id": "ec457480",
   "metadata": {},
   "outputs": [],
   "source": [
    "def search_kmer_adaptive(seq, sub, stride):\n",
    "    # Search positions of subsequence in seq, while respecting provided stride, in case of a hit\n",
    "    found = []\n",
    "    pos = 0\n",
    "    while pos < len(seq):\n",
    "        if seq[pos:pos+len(sub)] == sub:\n",
    "            found.append(pos)\n",
    "            pos += stride\n",
    "        else:\n",
    "            pos += 1\n",
    "    return found\n",
    "\n",
    "def get_kmers_adaptive(seq, k, min_stride):\n",
    "    #Get K-Mers existing in the sequence seq, while computing the stride based on entropy and \n",
    "    #respecting a minimum stride\n",
    "    kmers = []\n",
    "    pos = 0\n",
    "    while pos < len(seq):\n",
    "        if pos + k > len(seq):\n",
    "            break\n",
    "        kmers.append(seq[pos:pos+k])\n",
    "        pos += max(min_stride, compute_stride(kmers[-1]))\n",
    "    return kmers\n",
    "\n",
    "def search_all_kmers(seq, specElements, kmer_size, min_stride):\n",
    "    # sort specific elements based on their length, so in case of overlap hit,\n",
    "    # found sequences are ordered in a logical matter\n",
    "    # eg AGT and AGTAC found both in position j, the produced string will be \"AGT AGTAC\"\n",
    "    specElements = sorted(specElements, key=len)\n",
    "    pairs = []\n",
    "    # Retrieve the found positions of each element and merge all the found elements positions together\n",
    "    for elem in specElements:\n",
    "        pos = search_kmer_adaptive(seq, elem, compute_stride(elem))\n",
    "        new_words_len = [len(elem) for _ in range(len(pos))]\n",
    "        new_words = [elem for _ in range(len(pos))]\n",
    "        new_pairs = list(map(tuple, zip(*[pos,new_words_len,new_words]))) \n",
    "        pairs = merge(pairs, new_pairs)\n",
    "    pairs = [(x[0],x[0] + x[1], x[2]) for x in list(pairs)]\n",
    "    # For the remaining intervals, in between found elements, get the kmers of the specific kmer_size\n",
    "    # and with the minimum stride min_stride\n",
    "    final_sequence = []\n",
    "    # start of sequence (before findings)\n",
    "    if not pairs:\n",
    "        return get_kmers_adaptive(seq, kmer_size, min_stride)\n",
    "    final_sequence =  get_kmers_adaptive(seq[:pairs[0][0] + compute_stride(pairs[0][2])], kmer_size, min_stride)\n",
    "    # middle of sequence (with intertwined findings)\n",
    "    for cnt in range(len(pairs) - 1):\n",
    "        final_sequence.append(pairs[cnt][2])\n",
    "        final_sequence.extend(\n",
    "            get_kmers_adaptive(\n",
    "                seq[pairs[cnt][1] - compute_stride(pairs[cnt][2]) :\n",
    "                    pairs[cnt+1][0] + compute_stride(pairs[cnt + 1][2])], kmer_size, min_stride))\n",
    "    # end of sequence (after findings)\n",
    "    final_sequence.append(pairs[-1][2])\n",
    "    final_sequence.extend(\n",
    "        get_kmers_adaptive(seq[pairs[-1][1] - compute_stride(pairs[-1][2]):],\n",
    "                           kmer_size, min_stride))\n",
    "    return final_sequence"
   ]
  },
  {
   "cell_type": "markdown",
   "id": "607c60c4",
   "metadata": {},
   "source": [
    "### An example of how the first 3'UTR sequence is split based on the algorithm above"
   ]
  },
  {
   "cell_type": "code",
   "execution_count": 13,
   "id": "37d06b9b",
   "metadata": {},
   "outputs": [
    {
     "data": {
      "text/plain": [
       "'ACATTTCTAAATATTTAATACAACTTTGGTTACATAAAAGTAAAATTTATACACCTCATTTCATTATGTAGATTCATATATAGAATACCAATTATGATTG'"
      ]
     },
     "execution_count": 13,
     "metadata": {},
     "output_type": "execute_result"
    }
   ],
   "source": [
    "data.seq.iloc[0]"
   ]
  },
  {
   "cell_type": "code",
   "execution_count": 14,
   "id": "5c1d9c3e",
   "metadata": {},
   "outputs": [
    {
     "data": {
      "text/plain": [
       "['ACATT',\n",
       " 'ATTTC',\n",
       " 'TTCTA',\n",
       " 'CTAAA',\n",
       " 'AAATA',\n",
       " 'AATATTTAAT',\n",
       " 'TTAAT',\n",
       " 'ATACA',\n",
       " 'ACAAC',\n",
       " 'ACTTT',\n",
       " 'TTTGG',\n",
       " 'GGTTA',\n",
       " 'TTACA',\n",
       " 'ACATA',\n",
       " 'ATAAA',\n",
       " 'AAAAG',\n",
       " 'AGTAA',\n",
       " 'TAAAA',\n",
       " 'AATTT',\n",
       " 'TTATA',\n",
       " 'TACAC',\n",
       " 'CACCT',\n",
       " 'CCTCA',\n",
       " 'TCATT',\n",
       " 'ATTTC',\n",
       " 'TTCAT',\n",
       " 'CATTA',\n",
       " 'TTATG',\n",
       " 'TGTAGAT',\n",
       " 'TGTAGATT',\n",
       " 'TTCAT',\n",
       " 'ATATA',\n",
       " 'TATAT',\n",
       " 'TATATA',\n",
       " 'ATAGA',\n",
       " 'AGAAT',\n",
       " 'AATAC',\n",
       " 'TACCA',\n",
       " 'CCAAT',\n",
       " 'AATTA',\n",
       " 'TATGA',\n",
       " 'TGATT']"
      ]
     },
     "execution_count": 14,
     "metadata": {},
     "output_type": "execute_result"
    }
   ],
   "source": [
    "search_all_kmers(data.seq.iloc[0], specElements, KMER_SIZE, KMER_SIZE//2)"
   ]
  },
  {
   "cell_type": "code",
   "execution_count": 15,
   "id": "8df1c020",
   "metadata": {},
   "outputs": [
    {
     "data": {
      "application/vnd.jupyter.widget-view+json": {
       "model_id": "ebe6fe4c204f47ff9da3a8cadc05655e",
       "version_major": 2,
       "version_minor": 0
      },
      "text/plain": [
       "  0%|          | 0/4870 [00:00<?, ?it/s]"
      ]
     },
     "metadata": {},
     "output_type": "display_data"
    }
   ],
   "source": [
    "from tqdm.notebook import tqdm\n",
    "tqdm.pandas()\n",
    "\n",
    "preprocessed_seq = data.seq.progress_apply(search_all_kmers, specElements=specElements, kmer_size=KMER_SIZE, min_stride=KMER_SIZE//2)\n",
    "corpus = [y  for x in preprocessed_seq for y in x]"
   ]
  },
  {
   "cell_type": "code",
   "execution_count": 29,
   "id": "9555449f",
   "metadata": {},
   "outputs": [
    {
     "data": {
      "text/plain": [
       "574322"
      ]
     },
     "execution_count": 29,
     "metadata": {},
     "output_type": "execute_result"
    }
   ],
   "source": [
    "len(corpus)"
   ]
  },
  {
   "cell_type": "code",
   "execution_count": 27,
   "id": "b9440875",
   "metadata": {},
   "outputs": [
    {
     "name": "stdout",
     "output_type": "stream",
     "text": [
      "Maximum vocabulary size: 1973\n"
     ]
    }
   ],
   "source": [
    "print(\"Maximum vocabulary size:\", len(set(corpus)))"
   ]
  },
  {
   "cell_type": "code",
   "execution_count": 30,
   "id": "4af341d8",
   "metadata": {},
   "outputs": [
    {
     "name": "stdout",
     "output_type": "stream",
     "text": [
      "Overwriting gloveConfig.yaml\n"
     ]
    }
   ],
   "source": [
    "%%writefile gloveConfig.yaml\n",
    "# first step parameters\n",
    "## size of the context window\n",
    "window_size: 5\n",
    "## maximum vocab_size\n",
    "vocab_size: 10000\n",
    "## the number of paritions to divide cooccurence matrix in \n",
    "num_partitions: 10\n",
    "## chunk size of h5py.Dataset\n",
    "chunk_size: 1000000\n",
    "\n",
    "# when used in first step, specify the output directory of cooccurrence entries\n",
    "# when used in second step, specify where to read cooccurrence entries from\n",
    "cooccurrence_dir: ../processed_data/utrs/cooccurence\n",
    "\n",
    "# second step parameters\n",
    "## output path for the trained word vectors \n",
    "output_filepath: ../model/utrs/gloveModel\n",
    "## pytorch training parameters\n",
    "batch_size: 128\n",
    "num_epochs: 100\n",
    "device: cuda\n",
    "learning_rate: 0.1\n",
    "## glove paremeters\n",
    "embedding_size: 100\n",
    "x_max: 100\n",
    "alpha: 0.75"
   ]
  },
  {
   "cell_type": "code",
   "execution_count": 31,
   "id": "ec0ad220",
   "metadata": {},
   "outputs": [],
   "source": [
    "def load_config():\n",
    "    config_filepath = \"gloveConfig.yaml\"\n",
    "    with open(config_filepath, 'r') as f:\n",
    "        config_dict = yaml.load(f, Loader=yaml.FullLoader)\n",
    "    config = argparse.Namespace()\n",
    "    for key, value in config_dict.items():\n",
    "        setattr(config, key, value)\n",
    "    return config"
   ]
  },
  {
   "cell_type": "code",
   "execution_count": 32,
   "id": "9e45bf51",
   "metadata": {},
   "outputs": [],
   "source": [
    "\n",
    "@dataclass\n",
    "class Vocabulary:\n",
    "    token2index: dict = field(default_factory=dict)\n",
    "    index2token: dict = field(default_factory=dict)\n",
    "    token_counts: list = field(default_factory=list)\n",
    "    _unk_token: int = field(init=False, default=-1)\n",
    "    \n",
    "    def add(self, token):\n",
    "        if token not in self.token2index:\n",
    "            index = len(self)\n",
    "            self.token2index[token] = index\n",
    "            self.index2token[index] = token\n",
    "            self.token_counts.append(0)\n",
    "        self.token_counts[self.token2index[token]] += 1\n",
    "    \n",
    "    def get_topk_subset(self, k):\n",
    "        tokens = sorted(\n",
    "            list(self.token2index.keys()),\n",
    "            key=lambda token: self.token_counts[self[token]],\n",
    "            reverse=True\n",
    "        )\n",
    "        return type(self)(\n",
    "            token2index={token: index for index, token in enumerate(tokens[:k])},\n",
    "            index2token={index: token for index, token in enumerate(tokens[:k])},\n",
    "            token_counts=[\n",
    "                self.token_counts[self.token2index[token]] for token in tokens[:k]\n",
    "            ]\n",
    "        )\n",
    "    \n",
    "    def shuffle(self):\n",
    "        new_index = [_ for _ in range(len(self))]\n",
    "        random.shuffle(new_index)\n",
    "        new_token_counts = [None] * len(self)\n",
    "        for token, index in zip(list(self.token2index.keys()), new_index):\n",
    "            new_token_counts[index] = self.token_counts[self[token]]\n",
    "            self.token2index[token] = index\n",
    "            self.index2token[index] = token\n",
    "        self.token_counts = new_token_counts\n",
    "\n",
    "    def get_index(self, token):\n",
    "        return self[token]\n",
    "    \n",
    "    def get_token(self, index):\n",
    "        if not index in self.index2token:\n",
    "            raise Exception(\"Invalid index.\")\n",
    "        return self.index2token[index]\n",
    "    \n",
    "    @property\n",
    "    def unk_token(self):\n",
    "        return self._unk_token\n",
    "    \n",
    "    def __getitem__(self, token):\n",
    "        if token not in self.token2index:\n",
    "            return self._unk_token\n",
    "        return self.token2index[token]\n",
    "    \n",
    "    def __len__(self):\n",
    "        return len(self.token2index)"
   ]
  },
  {
   "cell_type": "code",
   "execution_count": 33,
   "id": "0362e103",
   "metadata": {},
   "outputs": [],
   "source": [
    "@dataclass\n",
    "class Vectorizer:\n",
    "    vocab: Vocabulary\n",
    "\n",
    "    @classmethod\n",
    "    def from_corpus(cls, corpus, vocab_size):\n",
    "        vocab = Vocabulary()\n",
    "        for token in corpus:\n",
    "            vocab.add(token)\n",
    "        vocab_subset = vocab.get_topk_subset(vocab_size)\n",
    "        vocab_subset.shuffle()\n",
    "        return cls(vocab_subset)\n",
    "\n",
    "    def vectorize(self, corpus):\n",
    "        return [self.vocab[token] for token in corpus]"
   ]
  },
  {
   "cell_type": "code",
   "execution_count": 34,
   "id": "91070dc7",
   "metadata": {},
   "outputs": [],
   "source": [
    "@dataclass\n",
    "class CooccurrenceEntries:\n",
    "    vectorized_corpus: list\n",
    "    vectorizer: Vectorizer\n",
    "    \n",
    "    @classmethod\n",
    "    def setup(cls, corpus, vectorizer):\n",
    "        return cls(\n",
    "            vectorized_corpus=vectorizer.vectorize(corpus),\n",
    "            vectorizer=vectorizer\n",
    "        )\n",
    "    \n",
    "    def validate_index(self, index, lower, upper):\n",
    "        is_unk = index == self.vectorizer.vocab.unk_token\n",
    "        if lower < 0:\n",
    "            return not is_unk\n",
    "        return not is_unk and index >= lower and index <= upper\n",
    "\n",
    "    def build(\n",
    "        self,\n",
    "        window_size,\n",
    "        num_partitions,\n",
    "        chunk_size,\n",
    "        output_directory=\".\"\n",
    "    ):\n",
    "        partition_step = max(1, len(self.vectorizer.vocab) // num_partitions)\n",
    "        split_points = [0]\n",
    "        while split_points[-1] + partition_step <= len(self.vectorizer.vocab):\n",
    "            split_points.append(split_points[-1] + partition_step)\n",
    "        split_points[-1] = len(self.vectorizer.vocab)\n",
    "\n",
    "        for partition_id in tqdm(range(len(split_points) - 1)):\n",
    "            index_lower = split_points[partition_id]\n",
    "            index_upper = split_points[partition_id + 1] - 1\n",
    "            cooccurr_counts = Counter()\n",
    "            for i in tqdm(range(len(self.vectorized_corpus))):\n",
    "                if not self.validate_index(\n",
    "                    self.vectorized_corpus[i],\n",
    "                    index_lower,\n",
    "                    index_upper\n",
    "                ):\n",
    "                    continue\n",
    "                \n",
    "                context_lower = max(i - window_size, 0)\n",
    "                context_upper = min(i + window_size + 1, len(self.vectorized_corpus))\n",
    "                for j in range(context_lower, context_upper):\n",
    "                    if i == j or not self.validate_index(\n",
    "                        self.vectorized_corpus[j],\n",
    "                        -1,\n",
    "                        -1\n",
    "                    ):\n",
    "                        continue\n",
    "                    cooccurr_counts[(self.vectorized_corpus[i], self.vectorized_corpus[j])] += 1 / abs(i - j)\n",
    "\n",
    "            cooccurr_dataset = np.zeros((len(cooccurr_counts), 3))\n",
    "            for index, ((i, j), cooccurr_count) in enumerate(cooccurr_counts.items()):\n",
    "                cooccurr_dataset[index] = (i, j, cooccurr_count)\n",
    "            if partition_id == 0:\n",
    "                os.makedirs(output_directory, exist_ok=True)\n",
    "                path = os.path.join(\n",
    "                        output_directory,\n",
    "                        \"cooccurrence.hdf5\"\n",
    "                    )\n",
    "                if os.path.isfile(path):\n",
    "                    os.remove(path)\n",
    "                file = h5py.File(\n",
    "                    path,\n",
    "                    \"w\"\n",
    "                )\n",
    "                dataset = file.create_dataset(\n",
    "                    \"cooccurrence\",\n",
    "                    (len(cooccurr_counts), 3),\n",
    "                    maxshape=(None, 3),\n",
    "                    chunks=(chunk_size, 3)\n",
    "                )\n",
    "                prev_len = 0\n",
    "            else:\n",
    "                prev_len = dataset.len()\n",
    "                dataset.resize(dataset.len() + len(cooccurr_counts), axis=0)\n",
    "            dataset[prev_len: dataset.len()] = cooccurr_dataset\n",
    "        \n",
    "        file.close()\n",
    "        with open(os.path.join(output_directory, \"vocab.pkl\"), \"wb\") as file:\n",
    "            pickle.dump(self.vectorizer.vocab, file)"
   ]
  },
  {
   "cell_type": "code",
   "execution_count": 35,
   "id": "4d0efb3d",
   "metadata": {},
   "outputs": [
    {
     "data": {
      "application/vnd.jupyter.widget-view+json": {
       "model_id": "d7150e82cac447e3b9e417e37f2f85a6",
       "version_major": 2,
       "version_minor": 0
      },
      "text/plain": [
       "  0%|          | 0/10 [00:00<?, ?it/s]"
      ]
     },
     "metadata": {},
     "output_type": "display_data"
    },
    {
     "data": {
      "application/vnd.jupyter.widget-view+json": {
       "model_id": "aa0fa5ddbb6643cf8d3109b9c3caa1e1",
       "version_major": 2,
       "version_minor": 0
      },
      "text/plain": [
       "  0%|          | 0/574322 [00:00<?, ?it/s]"
      ]
     },
     "metadata": {},
     "output_type": "display_data"
    },
    {
     "data": {
      "application/vnd.jupyter.widget-view+json": {
       "model_id": "d67e0f33136d4e72a0d821c616f2ef0a",
       "version_major": 2,
       "version_minor": 0
      },
      "text/plain": [
       "  0%|          | 0/574322 [00:00<?, ?it/s]"
      ]
     },
     "metadata": {},
     "output_type": "display_data"
    },
    {
     "data": {
      "application/vnd.jupyter.widget-view+json": {
       "model_id": "7030fc8530834754883133f5c74ffd69",
       "version_major": 2,
       "version_minor": 0
      },
      "text/plain": [
       "  0%|          | 0/574322 [00:00<?, ?it/s]"
      ]
     },
     "metadata": {},
     "output_type": "display_data"
    },
    {
     "data": {
      "application/vnd.jupyter.widget-view+json": {
       "model_id": "ac75ba5182914e7093ca3840e0ef8b64",
       "version_major": 2,
       "version_minor": 0
      },
      "text/plain": [
       "  0%|          | 0/574322 [00:00<?, ?it/s]"
      ]
     },
     "metadata": {},
     "output_type": "display_data"
    },
    {
     "data": {
      "application/vnd.jupyter.widget-view+json": {
       "model_id": "f1fdbe09dae04001b2b654ea3856a00a",
       "version_major": 2,
       "version_minor": 0
      },
      "text/plain": [
       "  0%|          | 0/574322 [00:00<?, ?it/s]"
      ]
     },
     "metadata": {},
     "output_type": "display_data"
    },
    {
     "data": {
      "application/vnd.jupyter.widget-view+json": {
       "model_id": "7cd4e9cae2ca4e1da25a97ecf6f2055b",
       "version_major": 2,
       "version_minor": 0
      },
      "text/plain": [
       "  0%|          | 0/574322 [00:00<?, ?it/s]"
      ]
     },
     "metadata": {},
     "output_type": "display_data"
    },
    {
     "data": {
      "application/vnd.jupyter.widget-view+json": {
       "model_id": "162ddc001003409dbbd95a7280c2eeae",
       "version_major": 2,
       "version_minor": 0
      },
      "text/plain": [
       "  0%|          | 0/574322 [00:00<?, ?it/s]"
      ]
     },
     "metadata": {},
     "output_type": "display_data"
    },
    {
     "data": {
      "application/vnd.jupyter.widget-view+json": {
       "model_id": "3846b038140041769b62be599de8a08f",
       "version_major": 2,
       "version_minor": 0
      },
      "text/plain": [
       "  0%|          | 0/574322 [00:00<?, ?it/s]"
      ]
     },
     "metadata": {},
     "output_type": "display_data"
    },
    {
     "data": {
      "application/vnd.jupyter.widget-view+json": {
       "model_id": "6dc054ea0ef74dd3b27aac529b41efa5",
       "version_major": 2,
       "version_minor": 0
      },
      "text/plain": [
       "  0%|          | 0/574322 [00:00<?, ?it/s]"
      ]
     },
     "metadata": {},
     "output_type": "display_data"
    },
    {
     "data": {
      "application/vnd.jupyter.widget-view+json": {
       "model_id": "2825879767a94becb51188d2985f5f83",
       "version_major": 2,
       "version_minor": 0
      },
      "text/plain": [
       "  0%|          | 0/574322 [00:00<?, ?it/s]"
      ]
     },
     "metadata": {},
     "output_type": "display_data"
    }
   ],
   "source": [
    "config = load_config()\n",
    "vectorizer = Vectorizer.from_corpus(\n",
    "    corpus=corpus,\n",
    "    vocab_size=min(config.vocab_size, len(set(corpus)))\n",
    ")\n",
    "cooccurrence = CooccurrenceEntries.setup(\n",
    "    corpus=corpus,\n",
    "    vectorizer=vectorizer\n",
    ")\n",
    "cooccurrence.build(\n",
    "    window_size=config.window_size,\n",
    "    num_partitions=config.num_partitions,\n",
    "    chunk_size=config.chunk_size,\n",
    "    output_directory=config.cooccurrence_dir\n",
    ") "
   ]
  },
  {
   "cell_type": "code",
   "execution_count": 36,
   "id": "dfad9f59",
   "metadata": {},
   "outputs": [],
   "source": [
    "@dataclass\n",
    "class CooccurrenceDataset(torch.utils.data.Dataset):\n",
    "    token_ids: torch.Tensor\n",
    "    cooccurr_counts: torch.Tensor\n",
    "\n",
    "    def __getitem__(self, index):\n",
    "        return [self.token_ids[index], self.cooccurr_counts[index]]\n",
    "    \n",
    "    def __len__(self):\n",
    "        return self.token_ids.size()[0]\n",
    "\n",
    "    \n",
    "@dataclass\n",
    "class HDF5DataLoader:\n",
    "    filepath: str\n",
    "    dataset_name: str\n",
    "    batch_size: int\n",
    "    device: str\n",
    "    dataset: h5py.Dataset = field(init=False)\n",
    "\n",
    "    def iter_batches(self):\n",
    "        chunks = list(self.dataset.iter_chunks())\n",
    "        random.shuffle(chunks)\n",
    "        for chunk in chunks:\n",
    "            chunked_dataset = self.dataset[chunk]\n",
    "            dataloader = torch.utils.data.DataLoader(\n",
    "                dataset=CooccurrenceDataset(\n",
    "                    token_ids=torch.from_numpy(chunked_dataset[:,:2]).long(),\n",
    "                    cooccurr_counts=torch.from_numpy(chunked_dataset[:,\n",
    "                        2]).float()\n",
    "                ),\n",
    "                batch_size=self.batch_size,\n",
    "                shuffle=True,\n",
    "                pin_memory=True\n",
    "            )\n",
    "            for batch in dataloader:\n",
    "                batch = [_.to(self.device) for _ in batch]\n",
    "                yield batch\n",
    "\n",
    "    @contextlib.contextmanager\n",
    "    def open(self):\n",
    "        with h5py.File(self.filepath, \"r\") as file:\n",
    "            self.dataset = file[self.dataset_name]\n",
    "            yield"
   ]
  },
  {
   "cell_type": "code",
   "execution_count": 37,
   "id": "30a156b4",
   "metadata": {},
   "outputs": [],
   "source": [
    "class GloVe(nn.Module):\n",
    "\n",
    "    def __init__(self, vocab_size, embedding_size, x_max, alpha):\n",
    "        super().__init__()\n",
    "        self.weight = nn.Embedding(\n",
    "            num_embeddings=vocab_size,\n",
    "            embedding_dim=embedding_size,\n",
    "            sparse=True\n",
    "        )\n",
    "        self.weight_tilde = nn.Embedding(\n",
    "            num_embeddings=vocab_size,\n",
    "            embedding_dim=embedding_size,\n",
    "            sparse=True\n",
    "        )\n",
    "        self.bias = nn.Parameter(\n",
    "            torch.randn(\n",
    "                vocab_size,\n",
    "                dtype=torch.float,\n",
    "            )\n",
    "        )\n",
    "        self.bias_tilde = nn.Parameter(\n",
    "            torch.randn(\n",
    "                vocab_size,\n",
    "                dtype=torch.float,\n",
    "            )\n",
    "        )\n",
    "        self.weighting_func = lambda x: (x / x_max).float_power(alpha).clamp(0, 1)\n",
    "    \n",
    "    def forward(self, i, j, x):\n",
    "        loss = torch.mul(self.weight(i), self.weight_tilde(j)).sum(dim=1)\n",
    "        loss = (loss + self.bias[i] + self.bias_tilde[j] - x.log()).square()\n",
    "        loss = torch.mul(self.weighting_func(x), loss).mean()\n",
    "        return loss"
   ]
  },
  {
   "cell_type": "code",
   "execution_count": 38,
   "id": "2d98dece",
   "metadata": {
    "scrolled": true
   },
   "outputs": [
    {
     "data": {
      "application/vnd.jupyter.widget-view+json": {
       "model_id": "c509614d880d43468b273287c0ca971f",
       "version_major": 2,
       "version_minor": 0
      },
      "text/plain": [
       "  0%|          | 0/100 [00:00<?, ?it/s]"
      ]
     },
     "metadata": {},
     "output_type": "display_data"
    },
    {
     "data": {
      "application/vnd.jupyter.widget-view+json": {
       "model_id": "adb3efd9233e4cc7adc01b97efeda421",
       "version_major": 2,
       "version_minor": 0
      },
      "text/plain": [
       "0it [00:00, ?it/s]"
      ]
     },
     "metadata": {},
     "output_type": "display_data"
    },
    {
     "name": "stdout",
     "output_type": "stream",
     "text": [
      "Epoch 0: loss = 4591.453053045605\n"
     ]
    },
    {
     "data": {
      "application/vnd.jupyter.widget-view+json": {
       "model_id": "2c2cd3206f7c4f56bee073479c5c8c85",
       "version_major": 2,
       "version_minor": 0
      },
      "text/plain": [
       "0it [00:00, ?it/s]"
      ]
     },
     "metadata": {},
     "output_type": "display_data"
    },
    {
     "name": "stdout",
     "output_type": "stream",
     "text": [
      "Epoch 1: loss = 1759.77908214407\n"
     ]
    },
    {
     "data": {
      "application/vnd.jupyter.widget-view+json": {
       "model_id": "1b9c920473a74c1bb8cd389913ce00d6",
       "version_major": 2,
       "version_minor": 0
      },
      "text/plain": [
       "0it [00:00, ?it/s]"
      ]
     },
     "metadata": {},
     "output_type": "display_data"
    },
    {
     "name": "stdout",
     "output_type": "stream",
     "text": [
      "Epoch 2: loss = 1228.5475723624245\n"
     ]
    },
    {
     "data": {
      "application/vnd.jupyter.widget-view+json": {
       "model_id": "5d4676048f554f79ab62976d76a463d2",
       "version_major": 2,
       "version_minor": 0
      },
      "text/plain": [
       "0it [00:00, ?it/s]"
      ]
     },
     "metadata": {},
     "output_type": "display_data"
    },
    {
     "name": "stdout",
     "output_type": "stream",
     "text": [
      "Epoch 3: loss = 986.0797690532901\n"
     ]
    },
    {
     "data": {
      "application/vnd.jupyter.widget-view+json": {
       "model_id": "a50865ac50444403826f92aa03fff3b5",
       "version_major": 2,
       "version_minor": 0
      },
      "text/plain": [
       "0it [00:00, ?it/s]"
      ]
     },
     "metadata": {},
     "output_type": "display_data"
    },
    {
     "name": "stdout",
     "output_type": "stream",
     "text": [
      "Epoch 4: loss = 847.1669550879814\n"
     ]
    },
    {
     "data": {
      "application/vnd.jupyter.widget-view+json": {
       "model_id": "e5b1d9cd09634de599c5609b648d8d31",
       "version_major": 2,
       "version_minor": 0
      },
      "text/plain": [
       "0it [00:00, ?it/s]"
      ]
     },
     "metadata": {},
     "output_type": "display_data"
    },
    {
     "name": "stdout",
     "output_type": "stream",
     "text": [
      "Epoch 5: loss = 756.0195978638533\n"
     ]
    },
    {
     "data": {
      "application/vnd.jupyter.widget-view+json": {
       "model_id": "d34ac624d19747818452a9bc96137a42",
       "version_major": 2,
       "version_minor": 0
      },
      "text/plain": [
       "0it [00:00, ?it/s]"
      ]
     },
     "metadata": {},
     "output_type": "display_data"
    },
    {
     "name": "stdout",
     "output_type": "stream",
     "text": [
      "Epoch 6: loss = 690.318806150579\n"
     ]
    },
    {
     "data": {
      "application/vnd.jupyter.widget-view+json": {
       "model_id": "c87017ac840b4fd9b240e6044f648aaa",
       "version_major": 2,
       "version_minor": 0
      },
      "text/plain": [
       "0it [00:00, ?it/s]"
      ]
     },
     "metadata": {},
     "output_type": "display_data"
    },
    {
     "name": "stdout",
     "output_type": "stream",
     "text": [
      "Epoch 7: loss = 639.6300686735647\n"
     ]
    },
    {
     "data": {
      "application/vnd.jupyter.widget-view+json": {
       "model_id": "c77f30bca216424b8b2ad0f5250fc1fb",
       "version_major": 2,
       "version_minor": 0
      },
      "text/plain": [
       "0it [00:00, ?it/s]"
      ]
     },
     "metadata": {},
     "output_type": "display_data"
    },
    {
     "name": "stdout",
     "output_type": "stream",
     "text": [
      "Epoch 8: loss = 598.6071080282469\n"
     ]
    },
    {
     "data": {
      "application/vnd.jupyter.widget-view+json": {
       "model_id": "894d8dca345f4fe1b1c09a6af2794da4",
       "version_major": 2,
       "version_minor": 0
      },
      "text/plain": [
       "0it [00:00, ?it/s]"
      ]
     },
     "metadata": {},
     "output_type": "display_data"
    },
    {
     "name": "stdout",
     "output_type": "stream",
     "text": [
      "Epoch 9: loss = 564.2342161979045\n"
     ]
    },
    {
     "data": {
      "application/vnd.jupyter.widget-view+json": {
       "model_id": "8cc4be6817be470baced03c6fed83a12",
       "version_major": 2,
       "version_minor": 0
      },
      "text/plain": [
       "0it [00:00, ?it/s]"
      ]
     },
     "metadata": {},
     "output_type": "display_data"
    },
    {
     "name": "stdout",
     "output_type": "stream",
     "text": [
      "Epoch 10: loss = 534.76850566315\n"
     ]
    },
    {
     "data": {
      "application/vnd.jupyter.widget-view+json": {
       "model_id": "28f3711928dd4a2db122f381f5222cdc",
       "version_major": 2,
       "version_minor": 0
      },
      "text/plain": [
       "0it [00:00, ?it/s]"
      ]
     },
     "metadata": {},
     "output_type": "display_data"
    },
    {
     "name": "stdout",
     "output_type": "stream",
     "text": [
      "Epoch 11: loss = 509.0299156916947\n"
     ]
    },
    {
     "data": {
      "application/vnd.jupyter.widget-view+json": {
       "model_id": "e1a401abef1f477c99c21d2601cee60d",
       "version_major": 2,
       "version_minor": 0
      },
      "text/plain": [
       "0it [00:00, ?it/s]"
      ]
     },
     "metadata": {},
     "output_type": "display_data"
    },
    {
     "name": "stdout",
     "output_type": "stream",
     "text": [
      "Epoch 12: loss = 486.3122546456315\n"
     ]
    },
    {
     "data": {
      "application/vnd.jupyter.widget-view+json": {
       "model_id": "b2c86a18a0da4614b3be7c2f02368d6c",
       "version_major": 2,
       "version_minor": 0
      },
      "text/plain": [
       "0it [00:00, ?it/s]"
      ]
     },
     "metadata": {},
     "output_type": "display_data"
    },
    {
     "name": "stdout",
     "output_type": "stream",
     "text": [
      "Epoch 13: loss = 466.0880958096737\n"
     ]
    },
    {
     "data": {
      "application/vnd.jupyter.widget-view+json": {
       "model_id": "db9053920be24ba1ba6b080e9adb99e0",
       "version_major": 2,
       "version_minor": 0
      },
      "text/plain": [
       "0it [00:00, ?it/s]"
      ]
     },
     "metadata": {},
     "output_type": "display_data"
    },
    {
     "name": "stdout",
     "output_type": "stream",
     "text": [
      "Epoch 14: loss = 447.98606964334624\n"
     ]
    },
    {
     "data": {
      "application/vnd.jupyter.widget-view+json": {
       "model_id": "4f0f6e535f374f3ca4d4e50eb150b1b0",
       "version_major": 2,
       "version_minor": 0
      },
      "text/plain": [
       "0it [00:00, ?it/s]"
      ]
     },
     "metadata": {},
     "output_type": "display_data"
    },
    {
     "name": "stdout",
     "output_type": "stream",
     "text": [
      "Epoch 15: loss = 431.68862879081104\n"
     ]
    },
    {
     "data": {
      "application/vnd.jupyter.widget-view+json": {
       "model_id": "f8879dd30fbe44f7a1a70cb1e078e832",
       "version_major": 2,
       "version_minor": 0
      },
      "text/plain": [
       "0it [00:00, ?it/s]"
      ]
     },
     "metadata": {},
     "output_type": "display_data"
    },
    {
     "name": "stdout",
     "output_type": "stream",
     "text": [
      "Epoch 16: loss = 416.9661337666029\n"
     ]
    },
    {
     "data": {
      "application/vnd.jupyter.widget-view+json": {
       "model_id": "50aa38fe8f0544108b98d2fff693a7a9",
       "version_major": 2,
       "version_minor": 0
      },
      "text/plain": [
       "0it [00:00, ?it/s]"
      ]
     },
     "metadata": {},
     "output_type": "display_data"
    },
    {
     "name": "stdout",
     "output_type": "stream",
     "text": [
      "Epoch 17: loss = 403.6206743180385\n"
     ]
    },
    {
     "data": {
      "application/vnd.jupyter.widget-view+json": {
       "model_id": "1ea073f68593437baf7d76c1eb6b7230",
       "version_major": 2,
       "version_minor": 0
      },
      "text/plain": [
       "0it [00:00, ?it/s]"
      ]
     },
     "metadata": {},
     "output_type": "display_data"
    },
    {
     "name": "stdout",
     "output_type": "stream",
     "text": [
      "Epoch 18: loss = 391.4867721732961\n"
     ]
    },
    {
     "data": {
      "application/vnd.jupyter.widget-view+json": {
       "model_id": "a5698f17a7f341f2bd2e719bc556dc03",
       "version_major": 2,
       "version_minor": 0
      },
      "text/plain": [
       "0it [00:00, ?it/s]"
      ]
     },
     "metadata": {},
     "output_type": "display_data"
    },
    {
     "name": "stdout",
     "output_type": "stream",
     "text": [
      "Epoch 19: loss = 380.43149584084324\n"
     ]
    },
    {
     "data": {
      "application/vnd.jupyter.widget-view+json": {
       "model_id": "29909115bf124320847857718777b4fb",
       "version_major": 2,
       "version_minor": 0
      },
      "text/plain": [
       "0it [00:00, ?it/s]"
      ]
     },
     "metadata": {},
     "output_type": "display_data"
    },
    {
     "name": "stdout",
     "output_type": "stream",
     "text": [
      "Epoch 20: loss = 370.3206772702488\n"
     ]
    },
    {
     "data": {
      "application/vnd.jupyter.widget-view+json": {
       "model_id": "7d19c5336ac34b31a6a5577b3dee2883",
       "version_major": 2,
       "version_minor": 0
      },
      "text/plain": [
       "0it [00:00, ?it/s]"
      ]
     },
     "metadata": {},
     "output_type": "display_data"
    },
    {
     "name": "stdout",
     "output_type": "stream",
     "text": [
      "Epoch 21: loss = 361.0632461987235\n"
     ]
    },
    {
     "data": {
      "application/vnd.jupyter.widget-view+json": {
       "model_id": "6b98b0375afc46cbad103cfc41c2fbfb",
       "version_major": 2,
       "version_minor": 0
      },
      "text/plain": [
       "0it [00:00, ?it/s]"
      ]
     },
     "metadata": {},
     "output_type": "display_data"
    },
    {
     "name": "stdout",
     "output_type": "stream",
     "text": [
      "Epoch 22: loss = 352.5672700693332\n"
     ]
    },
    {
     "data": {
      "application/vnd.jupyter.widget-view+json": {
       "model_id": "ac59bbd62b354a97b051d832af5196f2",
       "version_major": 2,
       "version_minor": 0
      },
      "text/plain": [
       "0it [00:00, ?it/s]"
      ]
     },
     "metadata": {},
     "output_type": "display_data"
    },
    {
     "name": "stdout",
     "output_type": "stream",
     "text": [
      "Epoch 23: loss = 344.7355683901855\n"
     ]
    },
    {
     "data": {
      "application/vnd.jupyter.widget-view+json": {
       "model_id": "fc733203208f4b9ab5611a00201c39f6",
       "version_major": 2,
       "version_minor": 0
      },
      "text/plain": [
       "0it [00:00, ?it/s]"
      ]
     },
     "metadata": {},
     "output_type": "display_data"
    },
    {
     "name": "stdout",
     "output_type": "stream",
     "text": [
      "Epoch 24: loss = 337.5274452343353\n"
     ]
    },
    {
     "data": {
      "application/vnd.jupyter.widget-view+json": {
       "model_id": "35ed3c4728e54827952c489818fddc95",
       "version_major": 2,
       "version_minor": 0
      },
      "text/plain": [
       "0it [00:00, ?it/s]"
      ]
     },
     "metadata": {},
     "output_type": "display_data"
    },
    {
     "name": "stdout",
     "output_type": "stream",
     "text": [
      "Epoch 25: loss = 330.8673382999134\n"
     ]
    },
    {
     "data": {
      "application/vnd.jupyter.widget-view+json": {
       "model_id": "0b75ff4d1f5f41d5a42b59bce70fd91e",
       "version_major": 2,
       "version_minor": 0
      },
      "text/plain": [
       "0it [00:00, ?it/s]"
      ]
     },
     "metadata": {},
     "output_type": "display_data"
    },
    {
     "name": "stdout",
     "output_type": "stream",
     "text": [
      "Epoch 26: loss = 324.67903180317086\n"
     ]
    },
    {
     "data": {
      "application/vnd.jupyter.widget-view+json": {
       "model_id": "75f34fa405b3478bbab8f91f19860e48",
       "version_major": 2,
       "version_minor": 0
      },
      "text/plain": [
       "0it [00:00, ?it/s]"
      ]
     },
     "metadata": {},
     "output_type": "display_data"
    },
    {
     "name": "stdout",
     "output_type": "stream",
     "text": [
      "Epoch 27: loss = 318.945497904797\n"
     ]
    },
    {
     "data": {
      "application/vnd.jupyter.widget-view+json": {
       "model_id": "64554a5dfb6d45d2ad99cfdfdce429d0",
       "version_major": 2,
       "version_minor": 0
      },
      "text/plain": [
       "0it [00:00, ?it/s]"
      ]
     },
     "metadata": {},
     "output_type": "display_data"
    },
    {
     "name": "stdout",
     "output_type": "stream",
     "text": [
      "Epoch 28: loss = 313.6183405132036\n"
     ]
    },
    {
     "data": {
      "application/vnd.jupyter.widget-view+json": {
       "model_id": "f24037119a9a40abbee4dea07e595933",
       "version_major": 2,
       "version_minor": 0
      },
      "text/plain": [
       "0it [00:00, ?it/s]"
      ]
     },
     "metadata": {},
     "output_type": "display_data"
    },
    {
     "name": "stdout",
     "output_type": "stream",
     "text": [
      "Epoch 29: loss = 308.6439630172386\n"
     ]
    },
    {
     "data": {
      "application/vnd.jupyter.widget-view+json": {
       "model_id": "4ef03cdcb170459cb308d8fd6de84870",
       "version_major": 2,
       "version_minor": 0
      },
      "text/plain": [
       "0it [00:00, ?it/s]"
      ]
     },
     "metadata": {},
     "output_type": "display_data"
    },
    {
     "name": "stdout",
     "output_type": "stream",
     "text": [
      "Epoch 30: loss = 303.99807391824095\n"
     ]
    },
    {
     "data": {
      "application/vnd.jupyter.widget-view+json": {
       "model_id": "5817287795cf43378698d9bd429791da",
       "version_major": 2,
       "version_minor": 0
      },
      "text/plain": [
       "0it [00:00, ?it/s]"
      ]
     },
     "metadata": {},
     "output_type": "display_data"
    },
    {
     "name": "stdout",
     "output_type": "stream",
     "text": [
      "Epoch 31: loss = 299.6485170469877\n"
     ]
    },
    {
     "data": {
      "application/vnd.jupyter.widget-view+json": {
       "model_id": "f44878a9b4374686a394c902c284497f",
       "version_major": 2,
       "version_minor": 0
      },
      "text/plain": [
       "0it [00:00, ?it/s]"
      ]
     },
     "metadata": {},
     "output_type": "display_data"
    },
    {
     "name": "stdout",
     "output_type": "stream",
     "text": [
      "Epoch 32: loss = 295.5712609738658\n"
     ]
    },
    {
     "data": {
      "application/vnd.jupyter.widget-view+json": {
       "model_id": "7f6aef48185a4d7585cc8fa8c586d6cc",
       "version_major": 2,
       "version_minor": 0
      },
      "text/plain": [
       "0it [00:00, ?it/s]"
      ]
     },
     "metadata": {},
     "output_type": "display_data"
    },
    {
     "name": "stdout",
     "output_type": "stream",
     "text": [
      "Epoch 33: loss = 291.74527805912004\n"
     ]
    },
    {
     "data": {
      "application/vnd.jupyter.widget-view+json": {
       "model_id": "368174ab45544189bc0e028976247f9c",
       "version_major": 2,
       "version_minor": 0
      },
      "text/plain": [
       "0it [00:00, ?it/s]"
      ]
     },
     "metadata": {},
     "output_type": "display_data"
    },
    {
     "name": "stdout",
     "output_type": "stream",
     "text": [
      "Epoch 34: loss = 288.14089655837427\n"
     ]
    },
    {
     "data": {
      "application/vnd.jupyter.widget-view+json": {
       "model_id": "c68034213b09451dbafd248b56093f27",
       "version_major": 2,
       "version_minor": 0
      },
      "text/plain": [
       "0it [00:00, ?it/s]"
      ]
     },
     "metadata": {},
     "output_type": "display_data"
    },
    {
     "name": "stdout",
     "output_type": "stream",
     "text": [
      "Epoch 35: loss = 284.744279913539\n"
     ]
    },
    {
     "data": {
      "application/vnd.jupyter.widget-view+json": {
       "model_id": "d9ad09dcfc4a4375aa4f01bcbb5678e9",
       "version_major": 2,
       "version_minor": 0
      },
      "text/plain": [
       "0it [00:00, ?it/s]"
      ]
     },
     "metadata": {},
     "output_type": "display_data"
    },
    {
     "name": "stdout",
     "output_type": "stream",
     "text": [
      "Epoch 36: loss = 281.5285795655394\n"
     ]
    },
    {
     "data": {
      "application/vnd.jupyter.widget-view+json": {
       "model_id": "f1649a423a7a49ec8f0d4a372423a860",
       "version_major": 2,
       "version_minor": 0
      },
      "text/plain": [
       "0it [00:00, ?it/s]"
      ]
     },
     "metadata": {},
     "output_type": "display_data"
    },
    {
     "name": "stdout",
     "output_type": "stream",
     "text": [
      "Epoch 37: loss = 278.49877832983907\n"
     ]
    },
    {
     "data": {
      "application/vnd.jupyter.widget-view+json": {
       "model_id": "82e44862145e4b9d8902a3113a6c79b0",
       "version_major": 2,
       "version_minor": 0
      },
      "text/plain": [
       "0it [00:00, ?it/s]"
      ]
     },
     "metadata": {},
     "output_type": "display_data"
    },
    {
     "name": "stdout",
     "output_type": "stream",
     "text": [
      "Epoch 38: loss = 275.6277220594447\n"
     ]
    },
    {
     "data": {
      "application/vnd.jupyter.widget-view+json": {
       "model_id": "d5432fce55b34247b32a74158a62b908",
       "version_major": 2,
       "version_minor": 0
      },
      "text/plain": [
       "0it [00:00, ?it/s]"
      ]
     },
     "metadata": {},
     "output_type": "display_data"
    },
    {
     "name": "stdout",
     "output_type": "stream",
     "text": [
      "Epoch 39: loss = 272.8995740673319\n"
     ]
    },
    {
     "data": {
      "application/vnd.jupyter.widget-view+json": {
       "model_id": "b27a78127f9846b2b0776baa4558b0f3",
       "version_major": 2,
       "version_minor": 0
      },
      "text/plain": [
       "0it [00:00, ?it/s]"
      ]
     },
     "metadata": {},
     "output_type": "display_data"
    },
    {
     "name": "stdout",
     "output_type": "stream",
     "text": [
      "Epoch 40: loss = 270.3159503974745\n"
     ]
    },
    {
     "data": {
      "application/vnd.jupyter.widget-view+json": {
       "model_id": "e9568785b03b455982ffdafe1c38c2b5",
       "version_major": 2,
       "version_minor": 0
      },
      "text/plain": [
       "0it [00:00, ?it/s]"
      ]
     },
     "metadata": {},
     "output_type": "display_data"
    },
    {
     "name": "stdout",
     "output_type": "stream",
     "text": [
      "Epoch 41: loss = 267.85533007996384\n"
     ]
    },
    {
     "data": {
      "application/vnd.jupyter.widget-view+json": {
       "model_id": "6f09f57f58214ecc91cd891de271881f",
       "version_major": 2,
       "version_minor": 0
      },
      "text/plain": [
       "0it [00:00, ?it/s]"
      ]
     },
     "metadata": {},
     "output_type": "display_data"
    },
    {
     "name": "stdout",
     "output_type": "stream",
     "text": [
      "Epoch 42: loss = 265.50903236418037\n"
     ]
    },
    {
     "data": {
      "application/vnd.jupyter.widget-view+json": {
       "model_id": "d414a4f4358b417987f4dc09ae04a275",
       "version_major": 2,
       "version_minor": 0
      },
      "text/plain": [
       "0it [00:00, ?it/s]"
      ]
     },
     "metadata": {},
     "output_type": "display_data"
    },
    {
     "name": "stdout",
     "output_type": "stream",
     "text": [
      "Epoch 43: loss = 263.28227737958883\n"
     ]
    },
    {
     "data": {
      "application/vnd.jupyter.widget-view+json": {
       "model_id": "80e59f87b46d42a9bb8a26574f806aa6",
       "version_major": 2,
       "version_minor": 0
      },
      "text/plain": [
       "0it [00:00, ?it/s]"
      ]
     },
     "metadata": {},
     "output_type": "display_data"
    },
    {
     "name": "stdout",
     "output_type": "stream",
     "text": [
      "Epoch 44: loss = 261.1479371081603\n"
     ]
    },
    {
     "data": {
      "application/vnd.jupyter.widget-view+json": {
       "model_id": "cb6032de9bbd407ba3bb485c61d80ccf",
       "version_major": 2,
       "version_minor": 0
      },
      "text/plain": [
       "0it [00:00, ?it/s]"
      ]
     },
     "metadata": {},
     "output_type": "display_data"
    },
    {
     "name": "stdout",
     "output_type": "stream",
     "text": [
      "Epoch 45: loss = 259.11436204855\n"
     ]
    },
    {
     "data": {
      "application/vnd.jupyter.widget-view+json": {
       "model_id": "0485601cd7714ebcb222e2b5fe891f3b",
       "version_major": 2,
       "version_minor": 0
      },
      "text/plain": [
       "0it [00:00, ?it/s]"
      ]
     },
     "metadata": {},
     "output_type": "display_data"
    },
    {
     "name": "stdout",
     "output_type": "stream",
     "text": [
      "Epoch 46: loss = 257.17133620170523\n"
     ]
    },
    {
     "data": {
      "application/vnd.jupyter.widget-view+json": {
       "model_id": "7fcf5a9d5e024228b7ec8691f53e29b7",
       "version_major": 2,
       "version_minor": 0
      },
      "text/plain": [
       "0it [00:00, ?it/s]"
      ]
     },
     "metadata": {},
     "output_type": "display_data"
    },
    {
     "name": "stdout",
     "output_type": "stream",
     "text": [
      "Epoch 47: loss = 255.3142177727189\n"
     ]
    },
    {
     "data": {
      "application/vnd.jupyter.widget-view+json": {
       "model_id": "47bab308c3ae458d9d4843a8670cbdd0",
       "version_major": 2,
       "version_minor": 0
      },
      "text/plain": [
       "0it [00:00, ?it/s]"
      ]
     },
     "metadata": {},
     "output_type": "display_data"
    },
    {
     "name": "stdout",
     "output_type": "stream",
     "text": [
      "Epoch 48: loss = 253.53013740281799\n"
     ]
    },
    {
     "data": {
      "application/vnd.jupyter.widget-view+json": {
       "model_id": "a895c7c92cc7435aaeb84c67f2e27e3c",
       "version_major": 2,
       "version_minor": 0
      },
      "text/plain": [
       "0it [00:00, ?it/s]"
      ]
     },
     "metadata": {},
     "output_type": "display_data"
    },
    {
     "name": "stdout",
     "output_type": "stream",
     "text": [
      "Epoch 49: loss = 251.82591444980517\n"
     ]
    },
    {
     "data": {
      "application/vnd.jupyter.widget-view+json": {
       "model_id": "5fb3e126c02c4f37a346845a202f3cb9",
       "version_major": 2,
       "version_minor": 0
      },
      "text/plain": [
       "0it [00:00, ?it/s]"
      ]
     },
     "metadata": {},
     "output_type": "display_data"
    },
    {
     "name": "stdout",
     "output_type": "stream",
     "text": [
      "Epoch 50: loss = 250.18827946496563\n"
     ]
    },
    {
     "data": {
      "application/vnd.jupyter.widget-view+json": {
       "model_id": "63562b3acf8449059fc087da58266717",
       "version_major": 2,
       "version_minor": 0
      },
      "text/plain": [
       "0it [00:00, ?it/s]"
      ]
     },
     "metadata": {},
     "output_type": "display_data"
    },
    {
     "name": "stdout",
     "output_type": "stream",
     "text": [
      "Epoch 51: loss = 248.60977789883148\n"
     ]
    },
    {
     "data": {
      "application/vnd.jupyter.widget-view+json": {
       "model_id": "df19ce0cfd664d21911cda03c71ee60e",
       "version_major": 2,
       "version_minor": 0
      },
      "text/plain": [
       "0it [00:00, ?it/s]"
      ]
     },
     "metadata": {},
     "output_type": "display_data"
    },
    {
     "name": "stdout",
     "output_type": "stream",
     "text": [
      "Epoch 52: loss = 247.1014613721224\n"
     ]
    },
    {
     "data": {
      "application/vnd.jupyter.widget-view+json": {
       "model_id": "2067c1d5b560490c90fde39270430a7e",
       "version_major": 2,
       "version_minor": 0
      },
      "text/plain": [
       "0it [00:00, ?it/s]"
      ]
     },
     "metadata": {},
     "output_type": "display_data"
    },
    {
     "name": "stdout",
     "output_type": "stream",
     "text": [
      "Epoch 53: loss = 245.64737957098595\n"
     ]
    },
    {
     "data": {
      "application/vnd.jupyter.widget-view+json": {
       "model_id": "4843f55b3af644adb523714e0ca9e2a9",
       "version_major": 2,
       "version_minor": 0
      },
      "text/plain": [
       "0it [00:00, ?it/s]"
      ]
     },
     "metadata": {},
     "output_type": "display_data"
    },
    {
     "name": "stdout",
     "output_type": "stream",
     "text": [
      "Epoch 54: loss = 244.2498567864447\n"
     ]
    },
    {
     "data": {
      "application/vnd.jupyter.widget-view+json": {
       "model_id": "d385d553690246c288b72b96c965ecbe",
       "version_major": 2,
       "version_minor": 0
      },
      "text/plain": [
       "0it [00:00, ?it/s]"
      ]
     },
     "metadata": {},
     "output_type": "display_data"
    },
    {
     "name": "stdout",
     "output_type": "stream",
     "text": [
      "Epoch 55: loss = 242.894781871614\n"
     ]
    },
    {
     "data": {
      "application/vnd.jupyter.widget-view+json": {
       "model_id": "0e46759e3ac04e669a1603dc93c9950d",
       "version_major": 2,
       "version_minor": 0
      },
      "text/plain": [
       "0it [00:00, ?it/s]"
      ]
     },
     "metadata": {},
     "output_type": "display_data"
    },
    {
     "name": "stdout",
     "output_type": "stream",
     "text": [
      "Epoch 56: loss = 241.60085276653106\n"
     ]
    },
    {
     "data": {
      "application/vnd.jupyter.widget-view+json": {
       "model_id": "e4761ba10f8a4868ba30c6f934e198d0",
       "version_major": 2,
       "version_minor": 0
      },
      "text/plain": [
       "0it [00:00, ?it/s]"
      ]
     },
     "metadata": {},
     "output_type": "display_data"
    },
    {
     "name": "stdout",
     "output_type": "stream",
     "text": [
      "Epoch 57: loss = 240.35163928367362\n"
     ]
    },
    {
     "data": {
      "application/vnd.jupyter.widget-view+json": {
       "model_id": "766deda8c21946bcbe55233a0c5aba58",
       "version_major": 2,
       "version_minor": 0
      },
      "text/plain": [
       "0it [00:00, ?it/s]"
      ]
     },
     "metadata": {},
     "output_type": "display_data"
    },
    {
     "name": "stdout",
     "output_type": "stream",
     "text": [
      "Epoch 58: loss = 239.13919424211917\n"
     ]
    },
    {
     "data": {
      "application/vnd.jupyter.widget-view+json": {
       "model_id": "9d0f82c55d674fa3a4828060386fc8a9",
       "version_major": 2,
       "version_minor": 0
      },
      "text/plain": [
       "0it [00:00, ?it/s]"
      ]
     },
     "metadata": {},
     "output_type": "display_data"
    },
    {
     "name": "stdout",
     "output_type": "stream",
     "text": [
      "Epoch 59: loss = 237.97302584335205\n"
     ]
    },
    {
     "data": {
      "application/vnd.jupyter.widget-view+json": {
       "model_id": "ca555422b7864303a62505da48b9ac73",
       "version_major": 2,
       "version_minor": 0
      },
      "text/plain": [
       "0it [00:00, ?it/s]"
      ]
     },
     "metadata": {},
     "output_type": "display_data"
    },
    {
     "name": "stdout",
     "output_type": "stream",
     "text": [
      "Epoch 60: loss = 236.84642530116207\n"
     ]
    },
    {
     "data": {
      "application/vnd.jupyter.widget-view+json": {
       "model_id": "a6d7b0f84d0a4b7898db2f7c123ff22c",
       "version_major": 2,
       "version_minor": 0
      },
      "text/plain": [
       "0it [00:00, ?it/s]"
      ]
     },
     "metadata": {},
     "output_type": "display_data"
    },
    {
     "name": "stdout",
     "output_type": "stream",
     "text": [
      "Epoch 61: loss = 235.75630491907683\n"
     ]
    },
    {
     "data": {
      "application/vnd.jupyter.widget-view+json": {
       "model_id": "689493585cbf4d818225806c2ee39272",
       "version_major": 2,
       "version_minor": 0
      },
      "text/plain": [
       "0it [00:00, ?it/s]"
      ]
     },
     "metadata": {},
     "output_type": "display_data"
    },
    {
     "name": "stdout",
     "output_type": "stream",
     "text": [
      "Epoch 62: loss = 234.7027628196344\n"
     ]
    },
    {
     "data": {
      "application/vnd.jupyter.widget-view+json": {
       "model_id": "845b4199807f4434aa9c563ae2c5dcba",
       "version_major": 2,
       "version_minor": 0
      },
      "text/plain": [
       "0it [00:00, ?it/s]"
      ]
     },
     "metadata": {},
     "output_type": "display_data"
    },
    {
     "name": "stdout",
     "output_type": "stream",
     "text": [
      "Epoch 63: loss = 233.67757983487616\n"
     ]
    },
    {
     "data": {
      "application/vnd.jupyter.widget-view+json": {
       "model_id": "c74ae74d6d5a4cbcafabd4d7ca9095e8",
       "version_major": 2,
       "version_minor": 0
      },
      "text/plain": [
       "0it [00:00, ?it/s]"
      ]
     },
     "metadata": {},
     "output_type": "display_data"
    },
    {
     "name": "stdout",
     "output_type": "stream",
     "text": [
      "Epoch 64: loss = 232.69725431844955\n"
     ]
    },
    {
     "data": {
      "application/vnd.jupyter.widget-view+json": {
       "model_id": "572fe082c9114a66b0fe8a5312b81601",
       "version_major": 2,
       "version_minor": 0
      },
      "text/plain": [
       "0it [00:00, ?it/s]"
      ]
     },
     "metadata": {},
     "output_type": "display_data"
    },
    {
     "name": "stdout",
     "output_type": "stream",
     "text": [
      "Epoch 65: loss = 231.73625169344402\n"
     ]
    },
    {
     "data": {
      "application/vnd.jupyter.widget-view+json": {
       "model_id": "506aa30465e040308f37cb4ea6fbd751",
       "version_major": 2,
       "version_minor": 0
      },
      "text/plain": [
       "0it [00:00, ?it/s]"
      ]
     },
     "metadata": {},
     "output_type": "display_data"
    },
    {
     "name": "stdout",
     "output_type": "stream",
     "text": [
      "Epoch 66: loss = 230.8075189147538\n"
     ]
    },
    {
     "data": {
      "application/vnd.jupyter.widget-view+json": {
       "model_id": "7c316cfe0780491cbf0a531012980000",
       "version_major": 2,
       "version_minor": 0
      },
      "text/plain": [
       "0it [00:00, ?it/s]"
      ]
     },
     "metadata": {},
     "output_type": "display_data"
    },
    {
     "name": "stdout",
     "output_type": "stream",
     "text": [
      "Epoch 67: loss = 229.9093121250579\n"
     ]
    },
    {
     "data": {
      "application/vnd.jupyter.widget-view+json": {
       "model_id": "782010814e314639b864335b8b732b86",
       "version_major": 2,
       "version_minor": 0
      },
      "text/plain": [
       "0it [00:00, ?it/s]"
      ]
     },
     "metadata": {},
     "output_type": "display_data"
    },
    {
     "name": "stdout",
     "output_type": "stream",
     "text": [
      "Epoch 68: loss = 229.03675495059227\n"
     ]
    },
    {
     "data": {
      "application/vnd.jupyter.widget-view+json": {
       "model_id": "9c73c0a316a142d499888c5a59476b44",
       "version_major": 2,
       "version_minor": 0
      },
      "text/plain": [
       "0it [00:00, ?it/s]"
      ]
     },
     "metadata": {},
     "output_type": "display_data"
    },
    {
     "name": "stdout",
     "output_type": "stream",
     "text": [
      "Epoch 69: loss = 228.1918210941399\n"
     ]
    },
    {
     "data": {
      "application/vnd.jupyter.widget-view+json": {
       "model_id": "f7320c1a8b234012a4fdf538e3cec970",
       "version_major": 2,
       "version_minor": 0
      },
      "text/plain": [
       "0it [00:00, ?it/s]"
      ]
     },
     "metadata": {},
     "output_type": "display_data"
    },
    {
     "name": "stdout",
     "output_type": "stream",
     "text": [
      "Epoch 70: loss = 227.36946703077098\n"
     ]
    },
    {
     "data": {
      "application/vnd.jupyter.widget-view+json": {
       "model_id": "9ac03fe39c734f1f856c99a2960c3e74",
       "version_major": 2,
       "version_minor": 0
      },
      "text/plain": [
       "0it [00:00, ?it/s]"
      ]
     },
     "metadata": {},
     "output_type": "display_data"
    },
    {
     "name": "stdout",
     "output_type": "stream",
     "text": [
      "Epoch 71: loss = 226.57141222894492\n"
     ]
    },
    {
     "data": {
      "application/vnd.jupyter.widget-view+json": {
       "model_id": "510ab18077a24ee48b8080d621201bdd",
       "version_major": 2,
       "version_minor": 0
      },
      "text/plain": [
       "0it [00:00, ?it/s]"
      ]
     },
     "metadata": {},
     "output_type": "display_data"
    },
    {
     "name": "stdout",
     "output_type": "stream",
     "text": [
      "Epoch 72: loss = 225.796860807522\n"
     ]
    },
    {
     "data": {
      "application/vnd.jupyter.widget-view+json": {
       "model_id": "e21c6a1d3f0448289d859aa655627e88",
       "version_major": 2,
       "version_minor": 0
      },
      "text/plain": [
       "0it [00:00, ?it/s]"
      ]
     },
     "metadata": {},
     "output_type": "display_data"
    },
    {
     "name": "stdout",
     "output_type": "stream",
     "text": [
      "Epoch 73: loss = 225.0417123866503\n"
     ]
    },
    {
     "data": {
      "application/vnd.jupyter.widget-view+json": {
       "model_id": "2bfb271178004682b8df8bf855f15108",
       "version_major": 2,
       "version_minor": 0
      },
      "text/plain": [
       "0it [00:00, ?it/s]"
      ]
     },
     "metadata": {},
     "output_type": "display_data"
    },
    {
     "name": "stdout",
     "output_type": "stream",
     "text": [
      "Epoch 74: loss = 224.31349576934804\n"
     ]
    },
    {
     "data": {
      "application/vnd.jupyter.widget-view+json": {
       "model_id": "52f3f73dfc844e7b83f1bb14d2e46853",
       "version_major": 2,
       "version_minor": 0
      },
      "text/plain": [
       "0it [00:00, ?it/s]"
      ]
     },
     "metadata": {},
     "output_type": "display_data"
    },
    {
     "name": "stdout",
     "output_type": "stream",
     "text": [
      "Epoch 75: loss = 223.59297068197907\n"
     ]
    },
    {
     "data": {
      "application/vnd.jupyter.widget-view+json": {
       "model_id": "06975fc205434bbda5bd8328068c9f0f",
       "version_major": 2,
       "version_minor": 0
      },
      "text/plain": [
       "0it [00:00, ?it/s]"
      ]
     },
     "metadata": {},
     "output_type": "display_data"
    },
    {
     "name": "stdout",
     "output_type": "stream",
     "text": [
      "Epoch 76: loss = 222.90269805964084\n"
     ]
    },
    {
     "data": {
      "application/vnd.jupyter.widget-view+json": {
       "model_id": "e6742292f0864596925fa39d076f2a53",
       "version_major": 2,
       "version_minor": 0
      },
      "text/plain": [
       "0it [00:00, ?it/s]"
      ]
     },
     "metadata": {},
     "output_type": "display_data"
    },
    {
     "name": "stdout",
     "output_type": "stream",
     "text": [
      "Epoch 77: loss = 222.22406120616336\n"
     ]
    },
    {
     "data": {
      "application/vnd.jupyter.widget-view+json": {
       "model_id": "030e67746e6c4d93b9270b648f5f5255",
       "version_major": 2,
       "version_minor": 0
      },
      "text/plain": [
       "0it [00:00, ?it/s]"
      ]
     },
     "metadata": {},
     "output_type": "display_data"
    },
    {
     "name": "stdout",
     "output_type": "stream",
     "text": [
      "Epoch 78: loss = 221.56895294096373\n"
     ]
    },
    {
     "data": {
      "application/vnd.jupyter.widget-view+json": {
       "model_id": "ea130af41932461ebdbe79edaa45cc3c",
       "version_major": 2,
       "version_minor": 0
      },
      "text/plain": [
       "0it [00:00, ?it/s]"
      ]
     },
     "metadata": {},
     "output_type": "display_data"
    },
    {
     "name": "stdout",
     "output_type": "stream",
     "text": [
      "Epoch 79: loss = 220.9261935786538\n"
     ]
    },
    {
     "data": {
      "application/vnd.jupyter.widget-view+json": {
       "model_id": "349cc3128a734b029335a8b6bc3d6a9b",
       "version_major": 2,
       "version_minor": 0
      },
      "text/plain": [
       "0it [00:00, ?it/s]"
      ]
     },
     "metadata": {},
     "output_type": "display_data"
    },
    {
     "name": "stdout",
     "output_type": "stream",
     "text": [
      "Epoch 80: loss = 220.30161509701537\n"
     ]
    },
    {
     "data": {
      "application/vnd.jupyter.widget-view+json": {
       "model_id": "dfa1eeb405544381a9fdc1e076eae6a2",
       "version_major": 2,
       "version_minor": 0
      },
      "text/plain": [
       "0it [00:00, ?it/s]"
      ]
     },
     "metadata": {},
     "output_type": "display_data"
    },
    {
     "name": "stdout",
     "output_type": "stream",
     "text": [
      "Epoch 81: loss = 219.69430469183885\n"
     ]
    },
    {
     "data": {
      "application/vnd.jupyter.widget-view+json": {
       "model_id": "032936ca7e1f4cfb847023e4fe2f6404",
       "version_major": 2,
       "version_minor": 0
      },
      "text/plain": [
       "0it [00:00, ?it/s]"
      ]
     },
     "metadata": {},
     "output_type": "display_data"
    },
    {
     "name": "stdout",
     "output_type": "stream",
     "text": [
      "Epoch 82: loss = 219.0971038558835\n"
     ]
    },
    {
     "data": {
      "application/vnd.jupyter.widget-view+json": {
       "model_id": "eabb3fcc68764898915a554a56d76839",
       "version_major": 2,
       "version_minor": 0
      },
      "text/plain": [
       "0it [00:00, ?it/s]"
      ]
     },
     "metadata": {},
     "output_type": "display_data"
    },
    {
     "name": "stdout",
     "output_type": "stream",
     "text": [
      "Epoch 83: loss = 218.51989613364353\n"
     ]
    },
    {
     "data": {
      "application/vnd.jupyter.widget-view+json": {
       "model_id": "da95bdfcc58b4d818f9c5747c2f20565",
       "version_major": 2,
       "version_minor": 0
      },
      "text/plain": [
       "0it [00:00, ?it/s]"
      ]
     },
     "metadata": {},
     "output_type": "display_data"
    },
    {
     "name": "stdout",
     "output_type": "stream",
     "text": [
      "Epoch 84: loss = 217.949222497401\n"
     ]
    },
    {
     "data": {
      "application/vnd.jupyter.widget-view+json": {
       "model_id": "8be7b29d113b4601922249293006f353",
       "version_major": 2,
       "version_minor": 0
      },
      "text/plain": [
       "0it [00:00, ?it/s]"
      ]
     },
     "metadata": {},
     "output_type": "display_data"
    },
    {
     "name": "stdout",
     "output_type": "stream",
     "text": [
      "Epoch 85: loss = 217.39919619280764\n"
     ]
    },
    {
     "data": {
      "application/vnd.jupyter.widget-view+json": {
       "model_id": "41bea780de2c453cac5cbcc4ef1d13f0",
       "version_major": 2,
       "version_minor": 0
      },
      "text/plain": [
       "0it [00:00, ?it/s]"
      ]
     },
     "metadata": {},
     "output_type": "display_data"
    },
    {
     "name": "stdout",
     "output_type": "stream",
     "text": [
      "Epoch 86: loss = 216.86289643225373\n"
     ]
    },
    {
     "data": {
      "application/vnd.jupyter.widget-view+json": {
       "model_id": "75ff29a65c0142c78419e0bc1ebe6426",
       "version_major": 2,
       "version_minor": 0
      },
      "text/plain": [
       "0it [00:00, ?it/s]"
      ]
     },
     "metadata": {},
     "output_type": "display_data"
    },
    {
     "ename": "KeyboardInterrupt",
     "evalue": "",
     "output_type": "error",
     "traceback": [
      "\u001b[0;31m---------------------------------------------------------------------------\u001b[0m",
      "\u001b[0;31mKeyboardInterrupt\u001b[0m                         Traceback (most recent call last)",
      "\u001b[0;32m/tmp/ipykernel_36248/1307278703.py\u001b[0m in \u001b[0;36m<module>\u001b[0;34m\u001b[0m\n\u001b[1;32m     28\u001b[0m             loss = model(\n\u001b[1;32m     29\u001b[0m                 \u001b[0mbatch\u001b[0m\u001b[0;34m[\u001b[0m\u001b[0;36m0\u001b[0m\u001b[0;34m]\u001b[0m\u001b[0;34m[\u001b[0m\u001b[0;34m:\u001b[0m\u001b[0;34m,\u001b[0m \u001b[0;36m0\u001b[0m\u001b[0;34m]\u001b[0m\u001b[0;34m,\u001b[0m\u001b[0;34m\u001b[0m\u001b[0;34m\u001b[0m\u001b[0m\n\u001b[0;32m---> 30\u001b[0;31m                 \u001b[0mbatch\u001b[0m\u001b[0;34m[\u001b[0m\u001b[0;36m0\u001b[0m\u001b[0;34m]\u001b[0m\u001b[0;34m[\u001b[0m\u001b[0;34m:\u001b[0m\u001b[0;34m,\u001b[0m \u001b[0;36m1\u001b[0m\u001b[0;34m]\u001b[0m\u001b[0;34m,\u001b[0m\u001b[0;34m\u001b[0m\u001b[0;34m\u001b[0m\u001b[0m\n\u001b[0m\u001b[1;32m     31\u001b[0m                 \u001b[0mbatch\u001b[0m\u001b[0;34m[\u001b[0m\u001b[0;36m1\u001b[0m\u001b[0;34m]\u001b[0m\u001b[0;34m\u001b[0m\u001b[0;34m\u001b[0m\u001b[0m\n\u001b[1;32m     32\u001b[0m             )\n",
      "\u001b[0;31mKeyboardInterrupt\u001b[0m: "
     ]
    }
   ],
   "source": [
    "config = load_config()\n",
    "dataloader = HDF5DataLoader(\n",
    "    filepath=os.path.join(config.cooccurrence_dir, \"cooccurrence.hdf5\"),\n",
    "    dataset_name=\"cooccurrence\",\n",
    "    batch_size=config.batch_size,\n",
    "    device=config.device\n",
    ")\n",
    "model = GloVe(\n",
    "    vocab_size=min(config.vocab_size, len(set(corpus))),\n",
    "    embedding_size=config.embedding_size,\n",
    "    x_max=config.x_max,\n",
    "    alpha=config.alpha\n",
    ")\n",
    "model.to(config.device)\n",
    "optimizer = torch.optim.Adagrad(\n",
    "    model.parameters(),\n",
    "    lr=config.learning_rate\n",
    ")\n",
    "losses = []\n",
    "\n",
    "\n",
    "with dataloader.open():\n",
    "    model.train()\n",
    "    \n",
    "    for epoch in tqdm(range(config.num_epochs)):\n",
    "        epoch_loss = 0\n",
    "        for batch in tqdm(dataloader.iter_batches()):\n",
    "            loss = model(\n",
    "                batch[0][:, 0],\n",
    "                batch[0][:, 1],\n",
    "                batch[1]\n",
    "            )\n",
    "            epoch_loss += loss.detach().item()\n",
    "            loss.backward()\n",
    "            optimizer.step()\n",
    "            optimizer.zero_grad()\n",
    "\n",
    "        losses.append(epoch_loss)\n",
    "        print(f\"Epoch {epoch}: loss = {epoch_loss}\")\n",
    "        os.makedirs(os.sep.join(config.output_filepath.split(os.sep)[:-1]),exist_ok=True)\n",
    "        torch.save(model.state_dict(), config.output_filepath)"
   ]
  },
  {
   "cell_type": "code",
   "execution_count": 39,
   "id": "3d732f0a",
   "metadata": {},
   "outputs": [
    {
     "data": {
      "text/plain": [
       "Text(0, 0.5, 'Training Loss')"
      ]
     },
     "execution_count": 39,
     "metadata": {},
     "output_type": "execute_result"
    },
    {
     "data": {
      "image/png": "[encoded data removed]",
      "text/plain": [
       "<Figure size 432x288 with 1 Axes>"
      ]
     },
     "metadata": {
      "needs_background": "light"
     },
     "output_type": "display_data"
    }
   ],
   "source": [
    "import matplotlib.pyplot as plt\n",
    "\n",
    "plt.plot(losses)\n",
    "plt.xlabel('Iterations')\n",
    "plt.ylabel(\"Training Loss\")"
   ]
  },
  {
   "cell_type": "markdown",
   "id": "cafe17ff",
   "metadata": {},
   "source": [
    "The subsequences embeddings are the trained weights of the model"
   ]
  },
  {
   "cell_type": "code",
   "execution_count": 40,
   "id": "8c8b95d8",
   "metadata": {},
   "outputs": [],
   "source": [
    "vectors = (model.weight.weight.to('cpu').detach() + model.weight_tilde.weight.to('cpu').detach()).numpy()"
   ]
  },
  {
   "cell_type": "code",
   "execution_count": 41,
   "id": "1acd246f",
   "metadata": {},
   "outputs": [],
   "source": [
    "kmers_vec = [vectorizer.vectorize(x) for x in preprocessed_seq]"
   ]
  },
  {
   "cell_type": "markdown",
   "id": "dd8f0b88",
   "metadata": {},
   "source": [
    "The sequences embeddings are computed by the sum of the embeddings of their subsequences"
   ]
  },
  {
   "cell_type": "code",
   "execution_count": 42,
   "id": "2c59e088",
   "metadata": {},
   "outputs": [],
   "source": [
    "data['kmers_enc'] = [np.sum(vectors[[y for y in x if y!=-1], :], axis=0) for x in kmers_vec]"
   ]
  },
  {
   "cell_type": "code",
   "execution_count": 43,
   "id": "e00b9325",
   "metadata": {},
   "outputs": [],
   "source": [
    "gloveUtrs = np.vstack(data['kmers_enc'])"
   ]
  },
  {
   "cell_type": "code",
   "execution_count": 44,
   "id": "e77003c2",
   "metadata": {},
   "outputs": [
    {
     "data": {
      "text/plain": [
       "True"
      ]
     },
     "execution_count": 44,
     "metadata": {},
     "output_type": "execute_result"
    }
   ],
   "source": [
    "np.isfinite(gloveUtrs).all()"
   ]
  },
  {
   "cell_type": "markdown",
   "id": "4ad08c15",
   "metadata": {},
   "source": [
    "Read Fluorescence information and apply necessary transformations (negative values removal, log, cutoff at -20)"
   ]
  },
  {
   "cell_type": "code",
   "execution_count": 45,
   "id": "9b0321c3",
   "metadata": {},
   "outputs": [
    {
     "data": {
      "text/html": [
       "<div>\n",
       "<style scoped>\n",
       "    .dataframe tbody tr th:only-of-type {\n",
       "        vertical-align: middle;\n",
       "    }\n",
       "\n",
       "    .dataframe tbody tr th {\n",
       "        vertical-align: top;\n",
       "    }\n",
       "\n",
       "    .dataframe thead th {\n",
       "        text-align: right;\n",
       "    }\n",
       "</style>\n",
       "<table border=\"1\" class=\"dataframe\">\n",
       "  <thead>\n",
       "    <tr style=\"text-align: right;\">\n",
       "      <th></th>\n",
       "      <th>gene</th>\n",
       "      <th>systematicName</th>\n",
       "      <th>intensity</th>\n",
       "    </tr>\n",
       "  </thead>\n",
       "  <tbody>\n",
       "    <tr>\n",
       "      <th>0</th>\n",
       "      <td>SSA1</td>\n",
       "      <td>YAL005C</td>\n",
       "      <td>11.906396</td>\n",
       "    </tr>\n",
       "    <tr>\n",
       "      <th>1</th>\n",
       "      <td>ERP2</td>\n",
       "      <td>YAL007C</td>\n",
       "      <td>0.299776</td>\n",
       "    </tr>\n",
       "    <tr>\n",
       "      <th>2</th>\n",
       "      <td>FUN14</td>\n",
       "      <td>YAL008W</td>\n",
       "      <td>0.455914</td>\n",
       "    </tr>\n",
       "    <tr>\n",
       "      <th>3</th>\n",
       "      <td>SPO7</td>\n",
       "      <td>YAL009W</td>\n",
       "      <td>0.027090</td>\n",
       "    </tr>\n",
       "    <tr>\n",
       "      <th>5</th>\n",
       "      <td>SWC3</td>\n",
       "      <td>YAL011W</td>\n",
       "      <td>0.031941</td>\n",
       "    </tr>\n",
       "  </tbody>\n",
       "</table>\n",
       "</div>"
      ],
      "text/plain": [
       "    gene systematicName  intensity\n",
       "0   SSA1        YAL005C  11.906396\n",
       "1   ERP2        YAL007C   0.299776\n",
       "2  FUN14        YAL008W   0.455914\n",
       "3   SPO7        YAL009W   0.027090\n",
       "5   SWC3        YAL011W   0.031941"
      ]
     },
     "execution_count": 45,
     "metadata": {},
     "output_type": "execute_result"
    }
   ],
   "source": [
    "fDf = pd.read_csv('../processed_data/fluorescence_dataset.csv')\n",
    "fDf.dropna(subset=['intensity'],inplace=True)\n",
    "fDf.head()"
   ]
  },
  {
   "cell_type": "code",
   "execution_count": 46,
   "id": "c45534ba",
   "metadata": {},
   "outputs": [
    {
     "data": {
      "text/html": [
       "<div>\n",
       "<style scoped>\n",
       "    .dataframe tbody tr th:only-of-type {\n",
       "        vertical-align: middle;\n",
       "    }\n",
       "\n",
       "    .dataframe tbody tr th {\n",
       "        vertical-align: top;\n",
       "    }\n",
       "\n",
       "    .dataframe thead th {\n",
       "        text-align: right;\n",
       "    }\n",
       "</style>\n",
       "<table border=\"1\" class=\"dataframe\">\n",
       "  <thead>\n",
       "    <tr style=\"text-align: right;\">\n",
       "      <th></th>\n",
       "      <th>gene</th>\n",
       "      <th>kmers_enc</th>\n",
       "      <th>intensity</th>\n",
       "    </tr>\n",
       "  </thead>\n",
       "  <tbody>\n",
       "    <tr>\n",
       "      <th>0</th>\n",
       "      <td>SSA1</td>\n",
       "      <td>[-11.063138, -7.55965, -1.6984223, 26.679756, ...</td>\n",
       "      <td>11.906396</td>\n",
       "    </tr>\n",
       "    <tr>\n",
       "      <th>1</th>\n",
       "      <td>ERP2</td>\n",
       "      <td>[11.743881, -14.428677, -8.948473, 34.297478, ...</td>\n",
       "      <td>0.299776</td>\n",
       "    </tr>\n",
       "    <tr>\n",
       "      <th>2</th>\n",
       "      <td>FUN14</td>\n",
       "      <td>[-4.4122405, -2.303894, 4.79992, 17.717606, 6....</td>\n",
       "      <td>0.455914</td>\n",
       "    </tr>\n",
       "    <tr>\n",
       "      <th>3</th>\n",
       "      <td>SPO7</td>\n",
       "      <td>[4.501474, 3.4953349, 2.1645753, 18.373636, 5....</td>\n",
       "      <td>0.027090</td>\n",
       "    </tr>\n",
       "    <tr>\n",
       "      <th>4</th>\n",
       "      <td>SWC3</td>\n",
       "      <td>[3.230321, 5.059218, 3.5185523, 19.376232, 3.3...</td>\n",
       "      <td>0.031941</td>\n",
       "    </tr>\n",
       "  </tbody>\n",
       "</table>\n",
       "</div>"
      ],
      "text/plain": [
       "    gene                                          kmers_enc  intensity\n",
       "0   SSA1  [-11.063138, -7.55965, -1.6984223, 26.679756, ...  11.906396\n",
       "1   ERP2  [11.743881, -14.428677, -8.948473, 34.297478, ...   0.299776\n",
       "2  FUN14  [-4.4122405, -2.303894, 4.79992, 17.717606, 6....   0.455914\n",
       "3   SPO7  [4.501474, 3.4953349, 2.1645753, 18.373636, 5....   0.027090\n",
       "4   SWC3  [3.230321, 5.059218, 3.5185523, 19.376232, 3.3...   0.031941"
      ]
     },
     "execution_count": 46,
     "metadata": {},
     "output_type": "execute_result"
    }
   ],
   "source": [
    "whole = data[['gene', 'kmers_enc']].merge(fDf[['gene','intensity']], on='gene', how='inner')\n",
    "whole.head()"
   ]
  },
  {
   "cell_type": "code",
   "execution_count": 47,
   "id": "16685a36",
   "metadata": {},
   "outputs": [],
   "source": [
    "i = whole['intensity'].copy()\n",
    "mask = i > 0 # negative intensities make no sense\n",
    "y = np.log(i[mask])\n",
    "x = np.vstack(whole['kmers_enc'])[mask]\n",
    "\n",
    "x = x[y>-20,:]\n",
    "y = y[y>-20]"
   ]
  },
  {
   "cell_type": "code",
   "execution_count": 50,
   "id": "bfe7b000",
   "metadata": {},
   "outputs": [
    {
     "data": {
      "text/plain": [
       "Text(0.5, 0, 'log(FI)')"
      ]
     },
     "execution_count": 50,
     "metadata": {},
     "output_type": "execute_result"
    },
    {
     "data": {
      "image/png": "[encoded data removed]",
      "text/plain": [
       "<Figure size 432x288 with 1 Axes>"
      ]
     },
     "metadata": {
      "needs_background": "light"
     },
     "output_type": "display_data"
    }
   ],
   "source": [
    "# QC of the transformed fluorescence values\n",
    "sns.histplot(y)\n",
    "plt.xlabel(\"log(FI)\")"
   ]
  },
  {
   "cell_type": "markdown",
   "id": "f5ffa30c",
   "metadata": {},
   "source": [
    "Analyze the relationship between embeddings and logFI"
   ]
  },
  {
   "cell_type": "code",
   "execution_count": 51,
   "id": "a1dc2d79",
   "metadata": {},
   "outputs": [],
   "source": [
    "pcs = PCA(2).fit_transform(StandardScaler().fit_transform(x))"
   ]
  },
  {
   "cell_type": "code",
   "execution_count": 52,
   "id": "69359502",
   "metadata": {},
   "outputs": [
    {
     "data": {
      "text/plain": [
       "Text(0.5, 1.0, 'PCs of GLoVE embeddings')"
      ]
     },
     "execution_count": 52,
     "metadata": {},
     "output_type": "execute_result"
    },
    {
     "data": {
      "image/png": "[encoded data removed]",
      "text/plain": [
       "<Figure size 432x288 with 2 Axes>"
      ]
     },
     "metadata": {
      "needs_background": "light"
     },
     "output_type": "display_data"
    }
   ],
   "source": [
    "plt.scatter(pcs[:, 0], pcs[:, 1], c=y, s=8)\n",
    "\n",
    "plt.xlabel('PC1')\n",
    "plt.ylabel('PC2')\n",
    "cbar = plt.colorbar()\n",
    "cbar.ax.get_yaxis().labelpad = 15\n",
    "cbar.ax.set_ylabel('log(FI)', rotation=270)\n",
    "plt.title(\"PCs of GLoVE embeddings\")"
   ]
  },
  {
   "cell_type": "code",
   "execution_count": 56,
   "id": "af4bc96e",
   "metadata": {},
   "outputs": [
    {
     "name": "stdout",
     "output_type": "stream",
     "text": [
      "Significant # of embedding dimensions: 21\n"
     ]
    }
   ],
   "source": [
    "## SelectKBest with f_regress \n",
    "featsSelector = SelectKBest(f_regression).fit(x,y)\n",
    "qvals = multipletests(featsSelector.pvalues_, 0.1, method='fdr_bh')\n",
    "print(\"Significant # of embedding dimensions:\", sum(qvals[0]))"
   ]
  },
  {
   "cell_type": "code",
   "execution_count": 60,
   "id": "7dbfce74",
   "metadata": {},
   "outputs": [
    {
     "data": {
      "text/plain": [
       "array([ 4.43448767,  4.47877453, 34.09796663,  9.11467351,  4.48910055,\n",
       "        9.16628962, 22.45286734, 17.35697343, 29.14524616, 24.36572347,\n",
       "       10.19466287, 18.03957146,  6.61134924,  5.79048327, 46.8839767 ,\n",
       "        5.01484963, 45.66404935,  4.05982108, 41.88171621, 15.24354818,\n",
       "       16.04434291])"
      ]
     },
     "execution_count": 60,
     "metadata": {},
     "output_type": "execute_result"
    }
   ],
   "source": [
    "featsSelector.scores_[qvals[0]]"
   ]
  },
  {
   "cell_type": "code",
   "execution_count": 63,
   "id": "47d1f27c",
   "metadata": {},
   "outputs": [
    {
     "data": {
      "text/plain": [
       "0.04525805029221053"
      ]
     },
     "execution_count": 63,
     "metadata": {},
     "output_type": "execute_result"
    }
   ],
   "source": [
    "lm = LinearRegression().fit(x[:, qvals[0]], y)\n",
    "lm_preds = lm.predict(x[:, qvals[0]])\n",
    "r2_score(y, lm_preds)"
   ]
  },
  {
   "cell_type": "code",
   "execution_count": 65,
   "id": "553eb4ab",
   "metadata": {},
   "outputs": [
    {
     "name": "stdout",
     "output_type": "stream",
     "text": [
      "11801.453365626763\n"
     ]
    }
   ],
   "source": [
    "print(np.sum((y - lm_preds)**2))"
   ]
  },
  {
   "cell_type": "markdown",
   "id": "63a47ece",
   "metadata": {},
   "source": [
    "No linear discriminant power found"
   ]
  },
  {
   "cell_type": "code",
   "execution_count": 66,
   "id": "37950b76",
   "metadata": {},
   "outputs": [
    {
     "name": "stdout",
     "output_type": "stream",
     "text": [
      "Total Variance\n",
      "12360.882822042902\n"
     ]
    }
   ],
   "source": [
    "print(\"Total Variance\")\n",
    "print(np.sum((y - np.mean(y))**2))"
   ]
  },
  {
   "cell_type": "code",
   "execution_count": 67,
   "id": "874ff415",
   "metadata": {},
   "outputs": [
    {
     "name": "stdout",
     "output_type": "stream",
     "text": [
      "Decision Tree MSE\n",
      "6738.958713857732\n"
     ]
    }
   ],
   "source": [
    "treeRegressor = tree.DecisionTreeRegressor(max_leaf_nodes=200, criterion='friedman_mse')\n",
    "tree_preds = treeRegressor.fit(x, y).predict(x)\n",
    "print(\"Decision Tree MSE\")\n",
    "print(np.sum((tree_preds - y)**2))"
   ]
  },
  {
   "cell_type": "code",
   "execution_count": 68,
   "id": "1969be30",
   "metadata": {},
   "outputs": [],
   "source": [
    "preds = RandomForestRegressor(n_estimators=500, n_jobs=-1).fit(x,y).predict(x)"
   ]
  },
  {
   "cell_type": "code",
   "execution_count": 69,
   "id": "4bab728b",
   "metadata": {},
   "outputs": [
    {
     "name": "stdout",
     "output_type": "stream",
     "text": [
      "Random Forest MSE\n",
      "1624.6708381902808\n"
     ]
    }
   ],
   "source": [
    "print(\"Random Forest MSE\")\n",
    "print(np.sum((preds - y)**2))"
   ]
  },
  {
   "cell_type": "code",
   "execution_count": 70,
   "id": "d4afd072",
   "metadata": {},
   "outputs": [],
   "source": [
    "from sklearn.metrics.pairwise import cosine_similarity\n",
    "xcos = cosine_similarity(x, x)"
   ]
  },
  {
   "cell_type": "code",
   "execution_count": 71,
   "id": "4fc6b018",
   "metadata": {},
   "outputs": [
    {
     "data": {
      "text/plain": [
       "<matplotlib.colorbar.Colorbar at 0x7fdd8ae6cbb0>"
      ]
     },
     "execution_count": 71,
     "metadata": {},
     "output_type": "execute_result"
    },
    {
     "data": {
      "image/png": "[encoded data removed]",
      "text/plain": [
       "<Figure size 432x288 with 2 Axes>"
      ]
     },
     "metadata": {
      "needs_background": "light"
     },
     "output_type": "display_data"
    }
   ],
   "source": [
    "plt.imshow(xcos)\n",
    "plt.title(\"Cosine Distances Matrix\")\n",
    "plt.colorbar()"
   ]
  },
  {
   "cell_type": "code",
   "execution_count": 72,
   "id": "f4b2bab4",
   "metadata": {},
   "outputs": [],
   "source": [
    "# Cosine Distances -> StandardScaler -> PCA ->\n",
    "\n",
    "cosPcs = PCA(300).fit_transform(StandardScaler().fit_transform(xcos))"
   ]
  },
  {
   "cell_type": "code",
   "execution_count": 73,
   "id": "d9df89c5",
   "metadata": {},
   "outputs": [
    {
     "data": {
      "text/plain": [
       "Text(0.5, 1.0, 'PCs of GLoVE embeddings Cosine Distances')"
      ]
     },
     "execution_count": 73,
     "metadata": {},
     "output_type": "execute_result"
    },
    {
     "data": {
      "image/png": "[encoded data removed]",
      "text/plain": [
       "<Figure size 432x288 with 2 Axes>"
      ]
     },
     "metadata": {
      "needs_background": "light"
     },
     "output_type": "display_data"
    }
   ],
   "source": [
    "plt.scatter(cosPcs[:, 0], cosPcs[:, 1], c=y, s=8)\n",
    "\n",
    "plt.xlabel('PC1')\n",
    "plt.ylabel('PC2')\n",
    "cbar = plt.colorbar()\n",
    "cbar.ax.get_yaxis().labelpad = 15\n",
    "cbar.ax.set_ylabel('log(FI)', rotation=270)\n",
    "plt.title(\"PCs of GLoVE embeddings Cosine Distances\")"
   ]
  },
  {
   "cell_type": "code",
   "execution_count": 74,
   "id": "80bc298e",
   "metadata": {},
   "outputs": [],
   "source": [
    "# -> DT"
   ]
  },
  {
   "cell_type": "code",
   "execution_count": 75,
   "id": "01a88b64",
   "metadata": {},
   "outputs": [
    {
     "name": "stdout",
     "output_type": "stream",
     "text": [
      "9096.135278900985\n"
     ]
    }
   ],
   "source": [
    "treeRegressor = tree.DecisionTreeRegressor(max_leaf_nodes=200, criterion='friedman_mse')\n",
    "tree_preds = treeRegressor.fit(pcs, y).predict(pcs)\n",
    "# import graphviz \n",
    "# dot_data = tree.export_graphviz(treeRegressor, filled=True, out_file=None) \n",
    "# graph = graphviz.Source(dot_data)\n",
    "# graph.render(\"gloveUtrsTree\") \n",
    "print(np.sum((tree_preds - y)**2))"
   ]
  },
  {
   "cell_type": "code",
   "execution_count": 76,
   "id": "9f878531",
   "metadata": {},
   "outputs": [],
   "source": [
    "# -> RF\n",
    "cos_preds = RandomForestRegressor(n_estimators=500, n_jobs=-1).fit(pcs,y).predict(pcs)"
   ]
  },
  {
   "cell_type": "code",
   "execution_count": 77,
   "id": "597d2e49",
   "metadata": {},
   "outputs": [
    {
     "name": "stdout",
     "output_type": "stream",
     "text": [
      "Random Forest on Cosine PCs MSE\n",
      "1928.3988949802633\n"
     ]
    }
   ],
   "source": [
    "print(\"Random Forest on Cosine PCs MSE\")\n",
    "print(np.sum((cos_preds - y)**2))"
   ]
  },
  {
   "cell_type": "code",
   "execution_count": 78,
   "id": "42f93546",
   "metadata": {},
   "outputs": [
    {
     "name": "stdout",
     "output_type": "stream",
     "text": [
      "Out-of-bag R-2 score estimate: -0.00415\n",
      "Test data R-2 score: 0.0283\n",
      "Test data Spearman correlation: 0.17\n",
      "Test data Pearson correlation: 0.178\n"
     ]
    }
   ],
   "source": [
    "# Checking Generalization Ability\n",
    "X_train, X_test, y_train, y_test = train_test_split(x, y, train_size=0.8, random_state=42)\n",
    "rf = RandomForestRegressor(n_estimators=50, max_depth=10, oob_score=True, random_state=0, n_jobs=-1)\n",
    "rf.fit(X_train, y_train)\n",
    "predicted_train = rf.predict(X_train)\n",
    "predicted_test = rf.predict(X_test)\n",
    "test_score = r2_score(y_test, predicted_test)\n",
    "spearman = spearmanr(y_test, predicted_test)\n",
    "pearson = pearsonr(y_test, predicted_test)\n",
    "print(f'Out-of-bag R-2 score estimate: {rf.oob_score_:>5.3}')\n",
    "print(f'Test data R-2 score: {test_score:>5.3}')\n",
    "print(f'Test data Spearman correlation: {spearman[0]:.3}')\n",
    "print(f'Test data Pearson correlation: {pearson[0]:.3}')"
   ]
  },
  {
   "cell_type": "code",
   "execution_count": 79,
   "id": "85969810",
   "metadata": {},
   "outputs": [
    {
     "data": {
      "text/plain": [
       "Text(0, 0.5, 'Train PR')"
      ]
     },
     "execution_count": 79,
     "metadata": {},
     "output_type": "execute_result"
    },
    {
     "data": {
      "image/png": "[encoded data removed]",
      "text/plain": [
       "<Figure size 432x288 with 1 Axes>"
      ]
     },
     "metadata": {
      "needs_background": "light"
     },
     "output_type": "display_data"
    }
   ],
   "source": [
    "plt.scatter(y_train, predicted_train)\n",
    "plt.xlabel(\"Train GT\")\n",
    "plt.ylabel(\"Train PR\")"
   ]
  },
  {
   "cell_type": "code",
   "execution_count": 81,
   "id": "d6402889",
   "metadata": {},
   "outputs": [
    {
     "data": {
      "text/plain": [
       "Text(0, 0.5, 'Test PR')"
      ]
     },
     "execution_count": 81,
     "metadata": {},
     "output_type": "execute_result"
    },
    {
     "data": {
      "image/png": "[encoded data removed]",
      "text/plain": [
       "<Figure size 432x288 with 1 Axes>"
      ]
     },
     "metadata": {
      "needs_background": "light"
     },
     "output_type": "display_data"
    }
   ],
   "source": [
    "plt.scatter(y_test, predicted_test)\n",
    "plt.xlabel(\"Test GT\")\n",
    "plt.ylabel(\"Test PR\")"
   ]
  },
  {
   "cell_type": "code",
   "execution_count": null,
   "id": "b2da5e09",
   "metadata": {},
   "outputs": [],
   "source": [
    "import pickle\n",
    "with open('../processed_data/utrs_glove_embeddings.pkl', 'wb') as out:\n",
    "    pickle.dump({'data':np.vstack(data['kmers_enc']),'genes':data['gene']}, out)"
   ]
  }
 ],
 "metadata": {
  "kernelspec": {
   "display_name": "intbioproj",
   "language": "python",
   "name": "intbioproj"
  },
  "language_info": {
   "codemirror_mode": {
    "name": "ipython",
    "version": 3
   },
   "file_extension": ".py",
   "mimetype": "text/x-python",
   "name": "python",
   "nbconvert_exporter": "python",
   "pygments_lexer": "ipython3",
   "version": "3.8.10"
  }
 },
 "nbformat": 4,
 "nbformat_minor": 5
}
