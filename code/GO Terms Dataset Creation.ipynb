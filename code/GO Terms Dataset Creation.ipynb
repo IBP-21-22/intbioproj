{
 "cells": [
  {
   "cell_type": "code",
   "execution_count": 116,
   "id": "stupid-wildlife",
   "metadata": {},
   "outputs": [],
   "source": [
    "import pandas as pd\n",
    "from sklearn.feature_extraction.text import TfidfTransformer\n",
    "from scipy import sparse"
   ]
  },
  {
   "cell_type": "code",
   "execution_count": 44,
   "id": "primary-poland",
   "metadata": {},
   "outputs": [
    {
     "data": {
      "text/html": [
       "<div>\n",
       "<style scoped>\n",
       "    .dataframe tbody tr th:only-of-type {\n",
       "        vertical-align: middle;\n",
       "    }\n",
       "\n",
       "    .dataframe tbody tr th {\n",
       "        vertical-align: top;\n",
       "    }\n",
       "\n",
       "    .dataframe thead th {\n",
       "        text-align: right;\n",
       "    }\n",
       "</style>\n",
       "<table border=\"1\" class=\"dataframe\">\n",
       "  <thead>\n",
       "    <tr style=\"text-align: right;\">\n",
       "      <th></th>\n",
       "      <th>gene</th>\n",
       "      <th>goId</th>\n",
       "    </tr>\n",
       "  </thead>\n",
       "  <tbody>\n",
       "    <tr>\n",
       "      <th>0</th>\n",
       "      <td>AAC1</td>\n",
       "      <td>['GO:0005471', 'GO:0006783', 'GO:0006839', 'GO...</td>\n",
       "    </tr>\n",
       "    <tr>\n",
       "      <th>1</th>\n",
       "      <td>AAC3</td>\n",
       "      <td>['GO:0005471', 'GO:0009061', 'GO:0015886', 'GO...</td>\n",
       "    </tr>\n",
       "    <tr>\n",
       "      <th>2</th>\n",
       "      <td>AAD10</td>\n",
       "      <td>['GO:0047681', 'GO:0006081', 'GO:0005575', 'GO...</td>\n",
       "    </tr>\n",
       "    <tr>\n",
       "      <th>3</th>\n",
       "      <td>AAD14</td>\n",
       "      <td>['GO:0047681', 'GO:0006081', 'GO:0005575', 'GO...</td>\n",
       "    </tr>\n",
       "    <tr>\n",
       "      <th>4</th>\n",
       "      <td>AAD15</td>\n",
       "      <td>['GO:0047681', 'GO:0006081', 'GO:0005575', 'GO...</td>\n",
       "    </tr>\n",
       "  </tbody>\n",
       "</table>\n",
       "</div>"
      ],
      "text/plain": [
       "    gene                                               goId\n",
       "0   AAC1  ['GO:0005471', 'GO:0006783', 'GO:0006839', 'GO...\n",
       "1   AAC3  ['GO:0005471', 'GO:0009061', 'GO:0015886', 'GO...\n",
       "2  AAD10  ['GO:0047681', 'GO:0006081', 'GO:0005575', 'GO...\n",
       "3  AAD14  ['GO:0047681', 'GO:0006081', 'GO:0005575', 'GO...\n",
       "4  AAD15  ['GO:0047681', 'GO:0006081', 'GO:0005575', 'GO..."
      ]
     },
     "execution_count": 44,
     "metadata": {},
     "output_type": "execute_result"
    }
   ],
   "source": [
    "genesMappingGO = pd.read_csv('../processed_data/genesMappingGO.csv')\n",
    "genesMappingGO.head()"
   ]
  },
  {
   "cell_type": "code",
   "execution_count": 45,
   "id": "rural-experience",
   "metadata": {},
   "outputs": [],
   "source": [
    "genesMappingGO.goId = genesMappingGO.goId.apply(lambda x: eval(x))"
   ]
  },
  {
   "cell_type": "code",
   "execution_count": 46,
   "id": "equivalent-delicious",
   "metadata": {},
   "outputs": [
    {
     "data": {
      "text/html": [
       "<div>\n",
       "<style scoped>\n",
       "    .dataframe tbody tr th:only-of-type {\n",
       "        vertical-align: middle;\n",
       "    }\n",
       "\n",
       "    .dataframe tbody tr th {\n",
       "        vertical-align: top;\n",
       "    }\n",
       "\n",
       "    .dataframe thead th {\n",
       "        text-align: right;\n",
       "    }\n",
       "</style>\n",
       "<table border=\"1\" class=\"dataframe\">\n",
       "  <thead>\n",
       "    <tr style=\"text-align: right;\">\n",
       "      <th></th>\n",
       "      <th>gene</th>\n",
       "      <th>goId</th>\n",
       "    </tr>\n",
       "  </thead>\n",
       "  <tbody>\n",
       "    <tr>\n",
       "      <th>0</th>\n",
       "      <td>AAC1</td>\n",
       "      <td>[GO:0005471, GO:0006783, GO:0006839, GO:000906...</td>\n",
       "    </tr>\n",
       "    <tr>\n",
       "      <th>1</th>\n",
       "      <td>AAC3</td>\n",
       "      <td>[GO:0005471, GO:0009061, GO:0015886, GO:005508...</td>\n",
       "    </tr>\n",
       "    <tr>\n",
       "      <th>2</th>\n",
       "      <td>AAD10</td>\n",
       "      <td>[GO:0047681, GO:0006081, GO:0005575, GO:004783...</td>\n",
       "    </tr>\n",
       "    <tr>\n",
       "      <th>3</th>\n",
       "      <td>AAD14</td>\n",
       "      <td>[GO:0047681, GO:0006081, GO:0005575, GO:004783...</td>\n",
       "    </tr>\n",
       "    <tr>\n",
       "      <th>4</th>\n",
       "      <td>AAD15</td>\n",
       "      <td>[GO:0047681, GO:0006081, GO:0005575, GO:004783...</td>\n",
       "    </tr>\n",
       "  </tbody>\n",
       "</table>\n",
       "</div>"
      ],
      "text/plain": [
       "    gene                                               goId\n",
       "0   AAC1  [GO:0005471, GO:0006783, GO:0006839, GO:000906...\n",
       "1   AAC3  [GO:0005471, GO:0009061, GO:0015886, GO:005508...\n",
       "2  AAD10  [GO:0047681, GO:0006081, GO:0005575, GO:004783...\n",
       "3  AAD14  [GO:0047681, GO:0006081, GO:0005575, GO:004783...\n",
       "4  AAD15  [GO:0047681, GO:0006081, GO:0005575, GO:004783..."
      ]
     },
     "execution_count": 46,
     "metadata": {},
     "output_type": "execute_result"
    }
   ],
   "source": [
    "genesMappingGO.head()"
   ]
  },
  {
   "cell_type": "code",
   "execution_count": 47,
   "id": "demographic-makeup",
   "metadata": {},
   "outputs": [
    {
     "data": {
      "text/html": [
       "<div>\n",
       "<style scoped>\n",
       "    .dataframe tbody tr th:only-of-type {\n",
       "        vertical-align: middle;\n",
       "    }\n",
       "\n",
       "    .dataframe tbody tr th {\n",
       "        vertical-align: top;\n",
       "    }\n",
       "\n",
       "    .dataframe thead th {\n",
       "        text-align: right;\n",
       "    }\n",
       "</style>\n",
       "<table border=\"1\" class=\"dataframe\">\n",
       "  <thead>\n",
       "    <tr style=\"text-align: right;\">\n",
       "      <th></th>\n",
       "      <th>goId</th>\n",
       "      <th>family</th>\n",
       "    </tr>\n",
       "  </thead>\n",
       "  <tbody>\n",
       "    <tr>\n",
       "      <th>0</th>\n",
       "      <td>GO:0003674</td>\n",
       "      <td>F</td>\n",
       "    </tr>\n",
       "    <tr>\n",
       "      <th>1</th>\n",
       "      <td>GO:0017116</td>\n",
       "      <td>F</td>\n",
       "    </tr>\n",
       "    <tr>\n",
       "      <th>2</th>\n",
       "      <td>GO:0120133</td>\n",
       "      <td>P</td>\n",
       "    </tr>\n",
       "    <tr>\n",
       "      <th>3</th>\n",
       "      <td>GO:0003724</td>\n",
       "      <td>F</td>\n",
       "    </tr>\n",
       "    <tr>\n",
       "      <th>4</th>\n",
       "      <td>GO:0015035</td>\n",
       "      <td>F</td>\n",
       "    </tr>\n",
       "  </tbody>\n",
       "</table>\n",
       "</div>"
      ],
      "text/plain": [
       "         goId family\n",
       "0  GO:0003674      F\n",
       "1  GO:0017116      F\n",
       "2  GO:0120133      P\n",
       "3  GO:0003724      F\n",
       "4  GO:0015035      F"
      ]
     },
     "execution_count": 47,
     "metadata": {},
     "output_type": "execute_result"
    }
   ],
   "source": [
    "goDescription = pd.read_csv('../processed_data/goDescription.csv')\n",
    "goDescription.head()"
   ]
  },
  {
   "cell_type": "code",
   "execution_count": 48,
   "id": "classical-maple",
   "metadata": {},
   "outputs": [
    {
     "data": {
      "text/plain": [
       "0"
      ]
     },
     "execution_count": 48,
     "metadata": {},
     "output_type": "execute_result"
    }
   ],
   "source": [
    "goDescription.goId.duplicated().sum()"
   ]
  },
  {
   "cell_type": "code",
   "execution_count": 49,
   "id": "maritime-mandate",
   "metadata": {},
   "outputs": [
    {
     "data": {
      "text/html": [
       "<div>\n",
       "<style scoped>\n",
       "    .dataframe tbody tr th:only-of-type {\n",
       "        vertical-align: middle;\n",
       "    }\n",
       "\n",
       "    .dataframe tbody tr th {\n",
       "        vertical-align: top;\n",
       "    }\n",
       "\n",
       "    .dataframe thead th {\n",
       "        text-align: right;\n",
       "    }\n",
       "</style>\n",
       "<table border=\"1\" class=\"dataframe\">\n",
       "  <thead>\n",
       "    <tr style=\"text-align: right;\">\n",
       "      <th></th>\n",
       "      <th>gene</th>\n",
       "      <th>goId</th>\n",
       "    </tr>\n",
       "  </thead>\n",
       "  <tbody>\n",
       "    <tr>\n",
       "      <th>0</th>\n",
       "      <td>AAC1</td>\n",
       "      <td>GO:0005471</td>\n",
       "    </tr>\n",
       "    <tr>\n",
       "      <th>0</th>\n",
       "      <td>AAC1</td>\n",
       "      <td>GO:0006783</td>\n",
       "    </tr>\n",
       "    <tr>\n",
       "      <th>0</th>\n",
       "      <td>AAC1</td>\n",
       "      <td>GO:0006839</td>\n",
       "    </tr>\n",
       "    <tr>\n",
       "      <th>0</th>\n",
       "      <td>AAC1</td>\n",
       "      <td>GO:0009060</td>\n",
       "    </tr>\n",
       "    <tr>\n",
       "      <th>0</th>\n",
       "      <td>AAC1</td>\n",
       "      <td>GO:0015886</td>\n",
       "    </tr>\n",
       "  </tbody>\n",
       "</table>\n",
       "</div>"
      ],
      "text/plain": [
       "   gene        goId\n",
       "0  AAC1  GO:0005471\n",
       "0  AAC1  GO:0006783\n",
       "0  AAC1  GO:0006839\n",
       "0  AAC1  GO:0009060\n",
       "0  AAC1  GO:0015886"
      ]
     },
     "execution_count": 49,
     "metadata": {},
     "output_type": "execute_result"
    }
   ],
   "source": [
    "exp = genesMappingGO.explode('goId')\n",
    "exp.head()"
   ]
  },
  {
   "cell_type": "code",
   "execution_count": 50,
   "id": "technological-wildlife",
   "metadata": {},
   "outputs": [
    {
     "data": {
      "text/plain": [
       "(52657, 2)"
      ]
     },
     "execution_count": 50,
     "metadata": {},
     "output_type": "execute_result"
    }
   ],
   "source": [
    "exp.shape"
   ]
  },
  {
   "cell_type": "code",
   "execution_count": 53,
   "id": "several-differential",
   "metadata": {},
   "outputs": [
    {
     "data": {
      "text/plain": [
       "0"
      ]
     },
     "execution_count": 53,
     "metadata": {},
     "output_type": "execute_result"
    }
   ],
   "source": [
    "exp.duplicated().sum()"
   ]
  },
  {
   "cell_type": "code",
   "execution_count": 66,
   "id": "qualified-force",
   "metadata": {},
   "outputs": [
    {
     "data": {
      "text/html": [
       "<div>\n",
       "<style scoped>\n",
       "    .dataframe tbody tr th:only-of-type {\n",
       "        vertical-align: middle;\n",
       "    }\n",
       "\n",
       "    .dataframe tbody tr th {\n",
       "        vertical-align: top;\n",
       "    }\n",
       "\n",
       "    .dataframe thead th {\n",
       "        text-align: right;\n",
       "    }\n",
       "</style>\n",
       "<table border=\"1\" class=\"dataframe\">\n",
       "  <thead>\n",
       "    <tr style=\"text-align: right;\">\n",
       "      <th></th>\n",
       "      <th>gene</th>\n",
       "      <th>goId</th>\n",
       "      <th>family</th>\n",
       "    </tr>\n",
       "  </thead>\n",
       "  <tbody>\n",
       "    <tr>\n",
       "      <th>0</th>\n",
       "      <td>AAC1</td>\n",
       "      <td>GO:0005471</td>\n",
       "      <td>F</td>\n",
       "    </tr>\n",
       "    <tr>\n",
       "      <th>1</th>\n",
       "      <td>AAC3</td>\n",
       "      <td>GO:0005471</td>\n",
       "      <td>F</td>\n",
       "    </tr>\n",
       "    <tr>\n",
       "      <th>2</th>\n",
       "      <td>ODC1</td>\n",
       "      <td>GO:0005471</td>\n",
       "      <td>F</td>\n",
       "    </tr>\n",
       "    <tr>\n",
       "      <th>3</th>\n",
       "      <td>ODC2</td>\n",
       "      <td>GO:0005471</td>\n",
       "      <td>F</td>\n",
       "    </tr>\n",
       "    <tr>\n",
       "      <th>4</th>\n",
       "      <td>SAL1</td>\n",
       "      <td>GO:0005471</td>\n",
       "      <td>F</td>\n",
       "    </tr>\n",
       "  </tbody>\n",
       "</table>\n",
       "</div>"
      ],
      "text/plain": [
       "   gene        goId family\n",
       "0  AAC1  GO:0005471      F\n",
       "1  AAC3  GO:0005471      F\n",
       "2  ODC1  GO:0005471      F\n",
       "3  ODC2  GO:0005471      F\n",
       "4  SAL1  GO:0005471      F"
      ]
     },
     "execution_count": 66,
     "metadata": {},
     "output_type": "execute_result"
    }
   ],
   "source": [
    "familyGeneGoId = exp.merge(goDescription[['goId','family']], on='goId')\n",
    "familyGeneGoId.head()"
   ]
  },
  {
   "cell_type": "code",
   "execution_count": 125,
   "id": "solid-tsunami",
   "metadata": {},
   "outputs": [],
   "source": [
    "pivoted = {f: pd.pivot(familyGeneGoId[familyGeneGoId['family']==f][['gene','goId']] , index='gene', columns='goId', values='goId') for f in familyGeneGoId.family.unique()}"
   ]
  },
  {
   "cell_type": "code",
   "execution_count": 129,
   "id": "toxic-hungarian",
   "metadata": {},
   "outputs": [],
   "source": [
    "\n",
    "def convertToBool(df):\n",
    "    df = df.fillna(0)\n",
    "    df[df != 0] = 1\n",
    "    df = df.astype(bool)\n",
    "    return df\n",
    "pivoted = {f: convertToBool(p) for f,p in pivoted.items()}"
   ]
  },
  {
   "cell_type": "code",
   "execution_count": 132,
   "id": "filled-causing",
   "metadata": {},
   "outputs": [],
   "source": [
    "dtype = pd.SparseDtype(bool, fill_value=False)"
   ]
  },
  {
   "cell_type": "code",
   "execution_count": 133,
   "id": "danish-workshop",
   "metadata": {},
   "outputs": [],
   "source": [
    "for f,p in pivoted.items():\n",
    "    pivoted[f] = pivoted[f].astype(dtype)"
   ]
  },
  {
   "cell_type": "code",
   "execution_count": 138,
   "id": "driven-heather",
   "metadata": {},
   "outputs": [],
   "source": [
    "tfidfPivoted = {f: TfidfTransformer().fit_transform(p) for f,p in pivoted.items()}"
   ]
  },
  {
   "cell_type": "code",
   "execution_count": 139,
   "id": "starting-moral",
   "metadata": {},
   "outputs": [
    {
     "data": {
      "text/plain": [
       "array([0.        , 0.07927117, 0.08353102, ..., 0.9567486 , 0.96046586,\n",
       "       1.        ])"
      ]
     },
     "execution_count": 139,
     "metadata": {},
     "output_type": "execute_result"
    }
   ],
   "source": [
    "import numpy as np\n",
    "np.unique(np.array(tfidfPivoted['F'].todense()))"
   ]
  },
  {
   "cell_type": "code",
   "execution_count": 140,
   "id": "unlike-freeze",
   "metadata": {},
   "outputs": [
    {
     "data": {
      "text/plain": [
       "['GO:0003824',\n",
       " 'GO:0004312',\n",
       " 'GO:0004313',\n",
       " 'GO:0004314',\n",
       " 'GO:0004317',\n",
       " 'GO:0004318',\n",
       " 'GO:0004319',\n",
       " 'GO:0004320',\n",
       " 'GO:0004321',\n",
       " 'GO:0008659',\n",
       " 'GO:0008693',\n",
       " 'GO:0016295',\n",
       " 'GO:0016296',\n",
       " 'GO:0016297',\n",
       " 'GO:0016409',\n",
       " 'GO:0016418',\n",
       " 'GO:0016419',\n",
       " 'GO:0016491',\n",
       " 'GO:0016631',\n",
       " 'GO:0016740',\n",
       " 'GO:0016787',\n",
       " 'GO:0016829',\n",
       " 'GO:0019171',\n",
       " 'GO:0047451']"
      ]
     },
     "execution_count": 140,
     "metadata": {},
     "output_type": "execute_result"
    }
   ],
   "source": [
    "i = pivoted['F'].sum(axis=1).argmax()\n",
    "s = pivoted['F'].iloc[i]\n",
    "\n",
    "s[s].index.values.tolist()"
   ]
  },
  {
   "cell_type": "code",
   "execution_count": 141,
   "id": "tested-cleaners",
   "metadata": {},
   "outputs": [
    {
     "data": {
      "text/plain": [
       "'FAS1'"
      ]
     },
     "execution_count": 141,
     "metadata": {},
     "output_type": "execute_result"
    }
   ],
   "source": [
    "s.name"
   ]
  },
  {
   "cell_type": "code",
   "execution_count": 142,
   "id": "extra-perfume",
   "metadata": {},
   "outputs": [],
   "source": [
    "sIndex = np.where(pivoted['F'].index==s.name)[0]"
   ]
  },
  {
   "cell_type": "code",
   "execution_count": 143,
   "id": "union-explosion",
   "metadata": {},
   "outputs": [
    {
     "data": {
      "text/plain": [
       "array([0.22812804, 0.21746669, 0.1311322 , 0.08353102, 0.07927117,\n",
       "       0.22812804, 0.10538328, 0.21746669, 0.22812804, 0.18580929,\n",
       "       0.22812804, 0.22812804, 0.22812804, 0.22812804, 0.22812804,\n",
       "       0.21746669, 0.22812804, 0.22812804, 0.22812804, 0.22812804,\n",
       "       0.21746669, 0.22812804, 0.21746669, 0.1044138 ])"
      ]
     },
     "execution_count": 143,
     "metadata": {},
     "output_type": "execute_result"
    }
   ],
   "source": [
    "tfidfPivoted['F'][sIndex].data"
   ]
  },
  {
   "cell_type": "code",
   "execution_count": 144,
   "id": "significant-subscriber",
   "metadata": {},
   "outputs": [],
   "source": [
    "import pickle as pkl\n",
    "with open('../processed_data/geneOntologyDataset.pkl', 'wb') as out:\n",
    "    pkl.dump([pivoted, tfidfPivoted], out)\n",
    "    "
   ]
  },
  {
   "cell_type": "code",
   "execution_count": 145,
   "id": "cooked-cartridge",
   "metadata": {},
   "outputs": [],
   "source": [
    "import pickle as pkl\n",
    "with open('../processed_data/geneOntologyDataset.pkl', 'rb') as inp:\n",
    "    [pivoted, tfidfPivoted] = pkl.load(inp)\n",
    "    "
   ]
  }
 ],
 "metadata": {
  "kernelspec": {
   "display_name": "intbioproj",
   "language": "python",
   "name": "intbioproj"
  },
  "language_info": {
   "codemirror_mode": {
    "name": "ipython",
    "version": 3
   },
   "file_extension": ".py",
   "mimetype": "text/x-python",
   "name": "python",
   "nbconvert_exporter": "python",
   "pygments_lexer": "ipython3",
   "version": "3.8.10"
  }
 },
 "nbformat": 4,
 "nbformat_minor": 5
}
