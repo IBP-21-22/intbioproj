{
 "cells": [
  {
   "cell_type": "markdown",
   "id": "7b006b39",
   "metadata": {},
   "source": [
    "# GORILLA"
   ]
  },
  {
   "cell_type": "markdown",
   "id": "a3606bed",
   "metadata": {
    "ExecuteTime": {
     "end_time": "2021-11-20T09:33:53.811231Z",
     "start_time": "2021-11-20T09:33:53.805861Z"
    }
   },
   "source": [
    "## Data preparation"
   ]
  },
  {
   "cell_type": "code",
   "execution_count": 19,
   "id": "0f73e125",
   "metadata": {
    "ExecuteTime": {
     "end_time": "2021-11-20T09:43:50.941804Z",
     "start_time": "2021-11-20T09:43:50.937471Z"
    }
   },
   "outputs": [],
   "source": [
    "import pandas as pd\n",
    "import math\n",
    "import csv"
   ]
  },
  {
   "cell_type": "code",
   "execution_count": 5,
   "id": "cd7eb1fd",
   "metadata": {
    "ExecuteTime": {
     "end_time": "2021-11-20T09:35:39.163149Z",
     "start_time": "2021-11-20T09:35:37.798037Z"
    }
   },
   "outputs": [
    {
     "name": "stderr",
     "output_type": "stream",
     "text": [
      "/Library/Frameworks/Python.framework/Versions/3.9/lib/python3.9/site-packages/openpyxl/worksheet/_reader.py:312: UserWarning: Unknown extension is not supported and will be removed\n",
      "  warn(msg)\n"
     ]
    },
    {
     "data": {
      "text/html": [
       "<div>\n",
       "<style scoped>\n",
       "    .dataframe tbody tr th:only-of-type {\n",
       "        vertical-align: middle;\n",
       "    }\n",
       "\n",
       "    .dataframe tbody tr th {\n",
       "        vertical-align: top;\n",
       "    }\n",
       "\n",
       "    .dataframe thead th {\n",
       "        text-align: right;\n",
       "    }\n",
       "</style>\n",
       "<table border=\"1\" class=\"dataframe\">\n",
       "  <thead>\n",
       "    <tr style=\"text-align: right;\">\n",
       "      <th></th>\n",
       "      <th>gene</th>\n",
       "      <th>intensity</th>\n",
       "    </tr>\n",
       "  </thead>\n",
       "  <tbody>\n",
       "    <tr>\n",
       "      <th>0</th>\n",
       "      <td>SSA1</td>\n",
       "      <td>2.477076</td>\n",
       "    </tr>\n",
       "    <tr>\n",
       "      <th>1</th>\n",
       "      <td>ERP2</td>\n",
       "      <td>-1.204719</td>\n",
       "    </tr>\n",
       "    <tr>\n",
       "      <th>2</th>\n",
       "      <td>FUN14</td>\n",
       "      <td>-0.785451</td>\n",
       "    </tr>\n",
       "    <tr>\n",
       "      <th>3</th>\n",
       "      <td>SPO7</td>\n",
       "      <td>-3.608608</td>\n",
       "    </tr>\n",
       "    <tr>\n",
       "      <th>5</th>\n",
       "      <td>SWC3</td>\n",
       "      <td>-3.443864</td>\n",
       "    </tr>\n",
       "    <tr>\n",
       "      <th>...</th>\n",
       "      <td>...</td>\n",
       "      <td>...</td>\n",
       "    </tr>\n",
       "    <tr>\n",
       "      <th>5247</th>\n",
       "      <td>OPT2</td>\n",
       "      <td>-5.350277</td>\n",
       "    </tr>\n",
       "    <tr>\n",
       "      <th>5248</th>\n",
       "      <td>NaN</td>\n",
       "      <td>-4.446225</td>\n",
       "    </tr>\n",
       "    <tr>\n",
       "      <th>5250</th>\n",
       "      <td>SGE1</td>\n",
       "      <td>-6.448889</td>\n",
       "    </tr>\n",
       "    <tr>\n",
       "      <th>5252</th>\n",
       "      <td>ARR2</td>\n",
       "      <td>-4.412007</td>\n",
       "    </tr>\n",
       "    <tr>\n",
       "      <th>5253</th>\n",
       "      <td>ARR3</td>\n",
       "      <td>-6.448889</td>\n",
       "    </tr>\n",
       "  </tbody>\n",
       "</table>\n",
       "<p>4945 rows × 2 columns</p>\n",
       "</div>"
      ],
      "text/plain": [
       "       gene  intensity\n",
       "0      SSA1   2.477076\n",
       "1      ERP2  -1.204719\n",
       "2     FUN14  -0.785451\n",
       "3      SPO7  -3.608608\n",
       "5      SWC3  -3.443864\n",
       "...     ...        ...\n",
       "5247   OPT2  -5.350277\n",
       "5248    NaN  -4.446225\n",
       "5250   SGE1  -6.448889\n",
       "5252   ARR2  -4.412007\n",
       "5253   ARR3  -6.448889\n",
       "\n",
       "[4945 rows x 2 columns]"
      ]
     },
     "execution_count": 5,
     "metadata": {},
     "output_type": "execute_result"
    }
   ],
   "source": [
    "genes_fi = pd.read_excel('../raw_data/41592_2018_45_MOESM4_ESM.xlsx', skiprows = 6)\n",
    "genes_fi = genes_fi.loc[:,['Standard Name', 'intensity']]\n",
    "genes_fi.rename(columns = {'Standard Name':'gene'}, inplace = True)\n",
    "genes_fi = genes_fi.loc[genes_fi.intensity.notna()]\n",
    "genes_fi = genes_fi.loc[genes_fi.intensity > 0]\n",
    "# genes_fi.intensity, _ = stats.boxcox(genes_fi.intensity)\n",
    "fi_trans = [math.log(fi) for fi in genes_fi.intensity]\n",
    "genes_fi.intensity = fi_trans\n",
    "genes_fi = genes_fi.loc[genes_fi.intensity > -20]\n",
    "genes_fi"
   ]
  },
  {
   "cell_type": "code",
   "execution_count": 13,
   "id": "3d7e2432",
   "metadata": {
    "ExecuteTime": {
     "end_time": "2021-11-20T09:39:00.506009Z",
     "start_time": "2021-11-20T09:38:59.587773Z"
    }
   },
   "outputs": [
    {
     "data": {
      "text/plain": [
       "<AxesSubplot:>"
      ]
     },
     "execution_count": 13,
     "metadata": {},
     "output_type": "execute_result"
    },
    {
     "data": {
      "image/png": "[encoded data removed]",
      "text/plain": [
       "<Figure size 432x288 with 1 Axes>"
      ]
     },
     "metadata": {
      "needs_background": "light"
     },
     "output_type": "display_data"
    }
   ],
   "source": [
    "genes_fi.intensity.hist()"
   ]
  },
  {
   "cell_type": "markdown",
   "id": "47077654",
   "metadata": {},
   "source": [
    "## GO enrichment for top genes"
   ]
  },
  {
   "cell_type": "code",
   "execution_count": 29,
   "id": "29b7d212",
   "metadata": {
    "ExecuteTime": {
     "end_time": "2021-11-20T09:50:16.731775Z",
     "start_time": "2021-11-20T09:50:16.702295Z"
    }
   },
   "outputs": [
    {
     "data": {
      "text/html": [
       "<div>\n",
       "<style scoped>\n",
       "    .dataframe tbody tr th:only-of-type {\n",
       "        vertical-align: middle;\n",
       "    }\n",
       "\n",
       "    .dataframe tbody tr th {\n",
       "        vertical-align: top;\n",
       "    }\n",
       "\n",
       "    .dataframe thead th {\n",
       "        text-align: right;\n",
       "    }\n",
       "</style>\n",
       "<table border=\"1\" class=\"dataframe\">\n",
       "  <thead>\n",
       "    <tr style=\"text-align: right;\">\n",
       "      <th></th>\n",
       "      <th>gene</th>\n",
       "      <th>intensity</th>\n",
       "    </tr>\n",
       "  </thead>\n",
       "  <tbody>\n",
       "    <tr>\n",
       "      <th>2003</th>\n",
       "      <td>TDH3</td>\n",
       "      <td>3.546813</td>\n",
       "    </tr>\n",
       "    <tr>\n",
       "      <th>3227</th>\n",
       "      <td>PDC1</td>\n",
       "      <td>3.521146</td>\n",
       "    </tr>\n",
       "    <tr>\n",
       "      <th>505</th>\n",
       "      <td>PGK1</td>\n",
       "      <td>3.111120</td>\n",
       "    </tr>\n",
       "    <tr>\n",
       "      <th>251</th>\n",
       "      <td>HSP26</td>\n",
       "      <td>3.011110</td>\n",
       "    </tr>\n",
       "    <tr>\n",
       "      <th>1519</th>\n",
       "      <td>HSP12</td>\n",
       "      <td>2.998025</td>\n",
       "    </tr>\n",
       "    <tr>\n",
       "      <th>...</th>\n",
       "      <td>...</td>\n",
       "      <td>...</td>\n",
       "    </tr>\n",
       "    <tr>\n",
       "      <th>3188</th>\n",
       "      <td>PAU18</td>\n",
       "      <td>-7.582484</td>\n",
       "    </tr>\n",
       "    <tr>\n",
       "      <th>1510</th>\n",
       "      <td>VTC2</td>\n",
       "      <td>-7.589336</td>\n",
       "    </tr>\n",
       "    <tr>\n",
       "      <th>1265</th>\n",
       "      <td>FIT1</td>\n",
       "      <td>-7.601402</td>\n",
       "    </tr>\n",
       "    <tr>\n",
       "      <th>4475</th>\n",
       "      <td>IMA2</td>\n",
       "      <td>-7.726654</td>\n",
       "    </tr>\n",
       "    <tr>\n",
       "      <th>357</th>\n",
       "      <td>RIM2</td>\n",
       "      <td>-8.216628</td>\n",
       "    </tr>\n",
       "  </tbody>\n",
       "</table>\n",
       "<p>4163 rows × 2 columns</p>\n",
       "</div>"
      ],
      "text/plain": [
       "       gene  intensity\n",
       "2003   TDH3   3.546813\n",
       "3227   PDC1   3.521146\n",
       "505    PGK1   3.111120\n",
       "251   HSP26   3.011110\n",
       "1519  HSP12   2.998025\n",
       "...     ...        ...\n",
       "3188  PAU18  -7.582484\n",
       "1510   VTC2  -7.589336\n",
       "1265   FIT1  -7.601402\n",
       "4475   IMA2  -7.726654\n",
       "357    RIM2  -8.216628\n",
       "\n",
       "[4163 rows x 2 columns]"
      ]
     },
     "execution_count": 29,
     "metadata": {},
     "output_type": "execute_result"
    }
   ],
   "source": [
    "df = genes_fi.sort_values(by = ['intensity'], ascending = False).dropna()\n",
    "df"
   ]
  },
  {
   "cell_type": "code",
   "execution_count": 30,
   "id": "d1372b73",
   "metadata": {
    "ExecuteTime": {
     "end_time": "2021-11-20T09:50:34.731009Z",
     "start_time": "2021-11-20T09:50:34.706736Z"
    }
   },
   "outputs": [],
   "source": [
    "pd.Series(df.gene).to_csv('../processed_data/ranked_fi.csv', header = False, index = False)"
   ]
  },
  {
   "cell_type": "code",
   "execution_count": 31,
   "id": "2f074f9f",
   "metadata": {
    "ExecuteTime": {
     "end_time": "2021-11-20T09:55:05.315160Z",
     "start_time": "2021-11-20T09:55:05.302626Z"
    }
   },
   "outputs": [],
   "source": [
    "pd.Series(df.gene[df.intensity > 0]).to_csv('../processed_data/top_fi.csv', header = False, index = False)"
   ]
  },
  {
   "cell_type": "markdown",
   "id": "257b0498",
   "metadata": {},
   "source": [
    "Results:\n",
    "    \n",
    "Target and background lists:\n",
    "    \n",
    "    biological process: http://cbl-gorilla.cs.technion.ac.il/GOrilla/rxt5vfdf/GOResults.html\n",
    "    \n",
    "    molecular function: http://cbl-gorilla.cs.technion.ac.il/GOrilla/8gu3xken/GOResults.html#enrich_info\n",
    "            \n",
    "    cellular component: http://cbl-gorilla.cs.technion.ac.il/GOrilla/xixuk282/GOResults.html\n",
    "    \n",
    "Single ranked list:\n",
    "\n",
    "    http://cbl-gorilla.cs.technion.ac.il/GOrilla/k0cqq4fr/GOResults.html"
   ]
  },
  {
   "cell_type": "markdown",
   "id": "c6e732fb",
   "metadata": {},
   "source": [
    "## GO enrichment for bottom genes"
   ]
  },
  {
   "cell_type": "code",
   "execution_count": 33,
   "id": "22f0da6f",
   "metadata": {
    "ExecuteTime": {
     "end_time": "2021-11-20T10:21:37.844884Z",
     "start_time": "2021-11-20T10:21:37.818034Z"
    }
   },
   "outputs": [
    {
     "data": {
      "text/html": [
       "<div>\n",
       "<style scoped>\n",
       "    .dataframe tbody tr th:only-of-type {\n",
       "        vertical-align: middle;\n",
       "    }\n",
       "\n",
       "    .dataframe tbody tr th {\n",
       "        vertical-align: top;\n",
       "    }\n",
       "\n",
       "    .dataframe thead th {\n",
       "        text-align: right;\n",
       "    }\n",
       "</style>\n",
       "<table border=\"1\" class=\"dataframe\">\n",
       "  <thead>\n",
       "    <tr style=\"text-align: right;\">\n",
       "      <th></th>\n",
       "      <th>gene</th>\n",
       "      <th>intensity</th>\n",
       "    </tr>\n",
       "  </thead>\n",
       "  <tbody>\n",
       "    <tr>\n",
       "      <th>357</th>\n",
       "      <td>RIM2</td>\n",
       "      <td>-8.216628</td>\n",
       "    </tr>\n",
       "    <tr>\n",
       "      <th>4475</th>\n",
       "      <td>IMA2</td>\n",
       "      <td>-7.726654</td>\n",
       "    </tr>\n",
       "    <tr>\n",
       "      <th>1265</th>\n",
       "      <td>FIT1</td>\n",
       "      <td>-7.601402</td>\n",
       "    </tr>\n",
       "    <tr>\n",
       "      <th>1510</th>\n",
       "      <td>VTC2</td>\n",
       "      <td>-7.589336</td>\n",
       "    </tr>\n",
       "    <tr>\n",
       "      <th>3188</th>\n",
       "      <td>PAU18</td>\n",
       "      <td>-7.582484</td>\n",
       "    </tr>\n",
       "    <tr>\n",
       "      <th>...</th>\n",
       "      <td>...</td>\n",
       "      <td>...</td>\n",
       "    </tr>\n",
       "    <tr>\n",
       "      <th>1519</th>\n",
       "      <td>HSP12</td>\n",
       "      <td>2.998025</td>\n",
       "    </tr>\n",
       "    <tr>\n",
       "      <th>251</th>\n",
       "      <td>HSP26</td>\n",
       "      <td>3.011110</td>\n",
       "    </tr>\n",
       "    <tr>\n",
       "      <th>505</th>\n",
       "      <td>PGK1</td>\n",
       "      <td>3.111120</td>\n",
       "    </tr>\n",
       "    <tr>\n",
       "      <th>3227</th>\n",
       "      <td>PDC1</td>\n",
       "      <td>3.521146</td>\n",
       "    </tr>\n",
       "    <tr>\n",
       "      <th>2003</th>\n",
       "      <td>TDH3</td>\n",
       "      <td>3.546813</td>\n",
       "    </tr>\n",
       "  </tbody>\n",
       "</table>\n",
       "<p>4163 rows × 2 columns</p>\n",
       "</div>"
      ],
      "text/plain": [
       "       gene  intensity\n",
       "357    RIM2  -8.216628\n",
       "4475   IMA2  -7.726654\n",
       "1265   FIT1  -7.601402\n",
       "1510   VTC2  -7.589336\n",
       "3188  PAU18  -7.582484\n",
       "...     ...        ...\n",
       "1519  HSP12   2.998025\n",
       "251   HSP26   3.011110\n",
       "505    PGK1   3.111120\n",
       "3227   PDC1   3.521146\n",
       "2003   TDH3   3.546813\n",
       "\n",
       "[4163 rows x 2 columns]"
      ]
     },
     "execution_count": 33,
     "metadata": {},
     "output_type": "execute_result"
    }
   ],
   "source": [
    "df = genes_fi.sort_values(by = ['intensity']).dropna()\n",
    "df"
   ]
  },
  {
   "cell_type": "code",
   "execution_count": 34,
   "id": "bd450d1b",
   "metadata": {
    "ExecuteTime": {
     "end_time": "2021-11-20T10:22:06.692522Z",
     "start_time": "2021-11-20T10:22:06.671797Z"
    }
   },
   "outputs": [],
   "source": [
    "pd.Series(df.gene).to_csv('../processed_data/inverse_ranked_fi.csv', header = False, index = False)"
   ]
  },
  {
   "cell_type": "code",
   "execution_count": 35,
   "id": "f066e9ec",
   "metadata": {
    "ExecuteTime": {
     "end_time": "2021-11-20T10:22:24.613061Z",
     "start_time": "2021-11-20T10:22:24.601423Z"
    }
   },
   "outputs": [],
   "source": [
    "pd.Series(df.gene[df.intensity < -6]).to_csv('../processed_data/bottom_fi.csv', header = False, index = False)"
   ]
  },
  {
   "cell_type": "markdown",
   "id": "44f89917",
   "metadata": {},
   "source": [
    "Results:\n",
    "\n",
    "Target and background lists:\n",
    "    \n",
    "    biological process: http://cbl-gorilla.cs.technion.ac.il/GOrilla/gx67jfcn/GOResults.html\n",
    "\n",
    "    molecular function: http://cbl-gorilla.cs.technion.ac.il/GOrilla/o5zgvrsp/GOResults.html\n",
    "\n",
    "    cellular component: http://cbl-gorilla.cs.technion.ac.il/GOrilla/z59tcq12/GOResults.html\n",
    "    \n",
    "Single ranked list:\n",
    "\n",
    "http://cbl-gorilla.cs.technion.ac.il/GOrilla/6o32ggd3/GOResults.html"
   ]
  },
  {
   "cell_type": "code",
   "execution_count": null,
   "id": "a1819341",
   "metadata": {},
   "outputs": [],
   "source": []
  }
 ],
 "metadata": {
  "kernelspec": {
   "display_name": "Python 3 (ipykernel)",
   "language": "python",
   "name": "python3"
  },
  "language_info": {
   "codemirror_mode": {
    "name": "ipython",
    "version": 3
   },
   "file_extension": ".py",
   "mimetype": "text/x-python",
   "name": "python",
   "nbconvert_exporter": "python",
   "pygments_lexer": "ipython3",
   "version": "3.9.0"
  },
  "varInspector": {
   "cols": {
    "lenName": 16,
    "lenType": 16,
    "lenVar": 40
   },
   "kernels_config": {
    "python": {
     "delete_cmd_postfix": "",
     "delete_cmd_prefix": "del ",
     "library": "var_list.py",
     "varRefreshCmd": "print(var_dic_list())"
    },
    "r": {
     "delete_cmd_postfix": ") ",
     "delete_cmd_prefix": "rm(",
     "library": "var_list.r",
     "varRefreshCmd": "cat(var_dic_list()) "
    }
   },
   "types_to_exclude": [
    "module",
    "function",
    "builtin_function_or_method",
    "instance",
    "_Feature"
   ],
   "window_display": false
  }
 },
 "nbformat": 4,
 "nbformat_minor": 5
}
