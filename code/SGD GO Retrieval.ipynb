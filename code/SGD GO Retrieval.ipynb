{
 "cells": [
  {
   "cell_type": "code",
   "execution_count": 6,
   "metadata": {},
   "outputs": [],
   "source": [
    "import pandas as pd"
   ]
  },
  {
   "cell_type": "code",
   "execution_count": 7,
   "metadata": {},
   "outputs": [
    {
     "name": "stderr",
     "output_type": "stream",
     "text": [
      "/home/vaslem/code/bioinformatics_ms/modern_data_analytics/.venv/lib/python3.8/site-packages/openpyxl/worksheet/_reader.py:312: UserWarning: Unknown extension is not supported and will be removed\n",
      "  warn(msg)\n"
     ]
    }
   ],
   "source": [
    "data = pd.read_excel('../raw_data/41592_2018_45_MOESM4_ESM.xlsx', skiprows=6)\n",
    "genes = data['Standard Name'].dropna()"
   ]
  },
  {
   "cell_type": "code",
   "execution_count": 15,
   "metadata": {},
   "outputs": [],
   "source": [
    "readme = \"\"\" 1) DB\t\t\t\t\t\t- database contributing the file (always \"SGD\" for this file)\n",
    " 2) DB_Object_ID\t\t\t\t- SGDID\n",
    " 3) DB_Object_Symbol\t\t\t\t- see below\n",
    " 4) NOT \t\t\t(optional)\t- 'NOT', 'contributes_to', or 'colocalizes_with' qualifier for a GO annotation, when needed\n",
    " 5) GO ID\t\t\t\t\t- unique numeric identifier for the GO term\n",
    " 6) DB:Reference(|DB:Reference)\t\t\t- the reference associated with the GO annotation\n",
    " 7) Evidence\t\t\t\t\t- the evidence code for the GO annotation\n",
    " 8) With (or) From \t\t(optional)\t- any With or From qualifier for the GO annotation\n",
    " 9) Aspect\t\t\t\t\t- which ontology the GO term belongs in\n",
    "10) DB_Object_Name(|Name) \t(optional)\t- a name for the gene product in words, e.g. 'acid phosphatase'\n",
    "11) DB_Object_Synonym(|Synonym) (optional)\t- see below\n",
    "12) DB_Object_Type\t\t\t\t- type of object annotated, e.g. gene, protein, etc.\n",
    "13) taxon(|taxon)\t\t\t\t- taxonomic identifier of species encoding gene product\n",
    "14) Date\t\t\t\t\t- date GO annotation was made\n",
    "15) Assigned_by\t\t\t\t\t- source of the annotation (e.g. SGD, UniProtKB, YeastFunc, bioPIXIE_MEFIT)\"\"\"\n",
    "columns = [x[x.find(')') + 1:x.find('\\t')].strip() for x in readme.split('\\n')]"
   ]
  },
  {
   "cell_type": "code",
   "execution_count": 18,
   "metadata": {},
   "outputs": [
    {
     "data": {
      "text/plain": [
       "15"
      ]
     },
     "execution_count": 18,
     "metadata": {},
     "output_type": "execute_result"
    }
   ],
   "source": [
    "len(columns)"
   ]
  },
  {
   "cell_type": "code",
   "execution_count": 24,
   "metadata": {},
   "outputs": [],
   "source": [
    "data = pd.read_csv('../raw_data/gene_association.sgd.20211018.gaf', sep='\\t', skiprows=7,header=None).iloc[:, :len(columns)]"
   ]
  },
  {
   "cell_type": "code",
   "execution_count": 25,
   "metadata": {},
   "outputs": [],
   "source": [
    "data.columns = columns"
   ]
  },
  {
   "cell_type": "code",
   "execution_count": 27,
   "metadata": {},
   "outputs": [
    {
     "data": {
      "text/html": [
       "<div>\n",
       "<style scoped>\n",
       "    .dataframe tbody tr th:only-of-type {\n",
       "        vertical-align: middle;\n",
       "    }\n",
       "\n",
       "    .dataframe tbody tr th {\n",
       "        vertical-align: top;\n",
       "    }\n",
       "\n",
       "    .dataframe thead th {\n",
       "        text-align: right;\n",
       "    }\n",
       "</style>\n",
       "<table border=\"1\" class=\"dataframe\">\n",
       "  <thead>\n",
       "    <tr style=\"text-align: right;\">\n",
       "      <th></th>\n",
       "      <th>DB</th>\n",
       "      <th>DB_Object_ID</th>\n",
       "      <th>DB_Object_Symbol</th>\n",
       "      <th>NOT</th>\n",
       "      <th>GO ID</th>\n",
       "      <th>DB:Reference(|DB:Reference)</th>\n",
       "      <th>Evidence</th>\n",
       "      <th>With (or) From</th>\n",
       "      <th>Aspect</th>\n",
       "      <th>DB_Object_Name(|Name)</th>\n",
       "      <th>DB_Object_Synonym(|Synonym) (optional)</th>\n",
       "      <th>DB_Object_Type</th>\n",
       "      <th>taxon(|taxon)</th>\n",
       "      <th>Date</th>\n",
       "      <th>Assigned_by</th>\n",
       "    </tr>\n",
       "  </thead>\n",
       "  <tbody>\n",
       "    <tr>\n",
       "      <th>0</th>\n",
       "      <td>SGD</td>\n",
       "      <td>S000001503</td>\n",
       "      <td>SPT23</td>\n",
       "      <td>enables</td>\n",
       "      <td>GO:0003674</td>\n",
       "      <td>GO_REF:0000015</td>\n",
       "      <td>ND</td>\n",
       "      <td>NaN</td>\n",
       "      <td>F</td>\n",
       "      <td>ER membrane protein involved in regulation of ...</td>\n",
       "      <td>YKL020C</td>\n",
       "      <td>protein</td>\n",
       "      <td>taxon:559292</td>\n",
       "      <td>20181102</td>\n",
       "      <td>SGD</td>\n",
       "    </tr>\n",
       "    <tr>\n",
       "      <th>1</th>\n",
       "      <td>SGD</td>\n",
       "      <td>S000000735</td>\n",
       "      <td>GCN4</td>\n",
       "      <td>involved_in</td>\n",
       "      <td>GO:1990139</td>\n",
       "      <td>PMID:31211995</td>\n",
       "      <td>IMP</td>\n",
       "      <td>NaN</td>\n",
       "      <td>P</td>\n",
       "      <td>bZIP transcriptional activator of amino acid b...</td>\n",
       "      <td>YEL009C|AAS3|ARG9|AAS101|amino acid starvation...</td>\n",
       "      <td>protein</td>\n",
       "      <td>taxon:559292</td>\n",
       "      <td>20200206</td>\n",
       "      <td>SGD</td>\n",
       "    </tr>\n",
       "    <tr>\n",
       "      <th>2</th>\n",
       "      <td>SGD</td>\n",
       "      <td>S000003026</td>\n",
       "      <td>RAD6</td>\n",
       "      <td>contributes_to</td>\n",
       "      <td>GO:0017116</td>\n",
       "      <td>PMID:9287349</td>\n",
       "      <td>IDA</td>\n",
       "      <td>NaN</td>\n",
       "      <td>F</td>\n",
       "      <td>Ubiquitin-conjugating enzyme (E2)</td>\n",
       "      <td>YGL058W|PSO8|UBC2|E2 ubiquitin-conjugating pro...</td>\n",
       "      <td>protein</td>\n",
       "      <td>taxon:559292</td>\n",
       "      <td>20131012</td>\n",
       "      <td>SGD</td>\n",
       "    </tr>\n",
       "    <tr>\n",
       "      <th>3</th>\n",
       "      <td>SGD</td>\n",
       "      <td>S000001357</td>\n",
       "      <td>PRK1</td>\n",
       "      <td>involved_in</td>\n",
       "      <td>GO:0120133</td>\n",
       "      <td>PMID:9885245</td>\n",
       "      <td>IGI</td>\n",
       "      <td>SGD:S000001445</td>\n",
       "      <td>P</td>\n",
       "      <td>Ser/Thr protein kinase</td>\n",
       "      <td>YIL095W|PAK1|serine/threonine protein kinase PRK1</td>\n",
       "      <td>protein</td>\n",
       "      <td>taxon:559292</td>\n",
       "      <td>20181031</td>\n",
       "      <td>SGD</td>\n",
       "    </tr>\n",
       "    <tr>\n",
       "      <th>4</th>\n",
       "      <td>SGD</td>\n",
       "      <td>S000028746</td>\n",
       "      <td>FMP49</td>\n",
       "      <td>part_of</td>\n",
       "      <td>GO:0005739</td>\n",
       "      <td>PMID:14576278</td>\n",
       "      <td>HDA</td>\n",
       "      <td>NaN</td>\n",
       "      <td>C</td>\n",
       "      <td>Mitochondrial protein of unknown function</td>\n",
       "      <td>YER038W-A</td>\n",
       "      <td>protein</td>\n",
       "      <td>taxon:559292</td>\n",
       "      <td>20040923</td>\n",
       "      <td>SGD</td>\n",
       "    </tr>\n",
       "  </tbody>\n",
       "</table>\n",
       "</div>"
      ],
      "text/plain": [
       "    DB DB_Object_ID DB_Object_Symbol             NOT       GO ID  \\\n",
       "0  SGD   S000001503            SPT23         enables  GO:0003674   \n",
       "1  SGD   S000000735             GCN4     involved_in  GO:1990139   \n",
       "2  SGD   S000003026             RAD6  contributes_to  GO:0017116   \n",
       "3  SGD   S000001357             PRK1     involved_in  GO:0120133   \n",
       "4  SGD   S000028746            FMP49         part_of  GO:0005739   \n",
       "\n",
       "  DB:Reference(|DB:Reference) Evidence  With (or) From Aspect  \\\n",
       "0              GO_REF:0000015       ND             NaN      F   \n",
       "1               PMID:31211995      IMP             NaN      P   \n",
       "2                PMID:9287349      IDA             NaN      F   \n",
       "3                PMID:9885245      IGI  SGD:S000001445      P   \n",
       "4               PMID:14576278      HDA             NaN      C   \n",
       "\n",
       "                               DB_Object_Name(|Name)  \\\n",
       "0  ER membrane protein involved in regulation of ...   \n",
       "1  bZIP transcriptional activator of amino acid b...   \n",
       "2                  Ubiquitin-conjugating enzyme (E2)   \n",
       "3                             Ser/Thr protein kinase   \n",
       "4          Mitochondrial protein of unknown function   \n",
       "\n",
       "              DB_Object_Synonym(|Synonym) (optional) DB_Object_Type  \\\n",
       "0                                            YKL020C        protein   \n",
       "1  YEL009C|AAS3|ARG9|AAS101|amino acid starvation...        protein   \n",
       "2  YGL058W|PSO8|UBC2|E2 ubiquitin-conjugating pro...        protein   \n",
       "3  YIL095W|PAK1|serine/threonine protein kinase PRK1        protein   \n",
       "4                                          YER038W-A        protein   \n",
       "\n",
       "  taxon(|taxon)      Date Assigned_by  \n",
       "0  taxon:559292  20181102         SGD  \n",
       "1  taxon:559292  20200206         SGD  \n",
       "2  taxon:559292  20131012         SGD  \n",
       "3  taxon:559292  20181031         SGD  \n",
       "4  taxon:559292  20040923         SGD  "
      ]
     },
     "execution_count": 27,
     "metadata": {},
     "output_type": "execute_result"
    }
   ],
   "source": [
    "data.head()"
   ]
  },
  {
   "cell_type": "code",
   "execution_count": 44,
   "metadata": {},
   "outputs": [],
   "source": [
    "go_terms_description = data[data['DB_Object_Symbol'].isin(genes)][['GO ID', 'DB_Object_Name(|Name)', 'Aspect']].drop_duplicates()\n",
    "go_terms_description = go_terms_description.rename(columns={'GO ID': 'goId', 'DB_Object_Name(|Name)': 'goDescription', 'Aspect': 'family'})\n",
    "go_terms_description.to_csv('../processed_data/goDescription.csv', index=False)\n"
   ]
  },
  {
   "cell_type": "code",
   "execution_count": 45,
   "metadata": {},
   "outputs": [
    {
     "data": {
      "text/html": [
       "<div>\n",
       "<style scoped>\n",
       "    .dataframe tbody tr th:only-of-type {\n",
       "        vertical-align: middle;\n",
       "    }\n",
       "\n",
       "    .dataframe tbody tr th {\n",
       "        vertical-align: top;\n",
       "    }\n",
       "\n",
       "    .dataframe thead th {\n",
       "        text-align: right;\n",
       "    }\n",
       "</style>\n",
       "<table border=\"1\" class=\"dataframe\">\n",
       "  <thead>\n",
       "    <tr style=\"text-align: right;\">\n",
       "      <th></th>\n",
       "      <th>goId</th>\n",
       "      <th>goDescription</th>\n",
       "      <th>family</th>\n",
       "    </tr>\n",
       "  </thead>\n",
       "  <tbody>\n",
       "    <tr>\n",
       "      <th>0</th>\n",
       "      <td>GO:0003674</td>\n",
       "      <td>ER membrane protein involved in regulation of ...</td>\n",
       "      <td>F</td>\n",
       "    </tr>\n",
       "    <tr>\n",
       "      <th>2</th>\n",
       "      <td>GO:0017116</td>\n",
       "      <td>Ubiquitin-conjugating enzyme (E2)</td>\n",
       "      <td>F</td>\n",
       "    </tr>\n",
       "    <tr>\n",
       "      <th>3</th>\n",
       "      <td>GO:0120133</td>\n",
       "      <td>Ser/Thr protein kinase</td>\n",
       "      <td>P</td>\n",
       "    </tr>\n",
       "    <tr>\n",
       "      <th>5</th>\n",
       "      <td>GO:0003724</td>\n",
       "      <td>ATP-dependent DEAD-box RNA helicase with stran...</td>\n",
       "      <td>F</td>\n",
       "    </tr>\n",
       "    <tr>\n",
       "      <th>6</th>\n",
       "      <td>GO:0015035</td>\n",
       "      <td>Gamma subunit of the oligosaccharyltransferase...</td>\n",
       "      <td>F</td>\n",
       "    </tr>\n",
       "  </tbody>\n",
       "</table>\n",
       "</div>"
      ],
      "text/plain": [
       "         goId                                      goDescription family\n",
       "0  GO:0003674  ER membrane protein involved in regulation of ...      F\n",
       "2  GO:0017116                  Ubiquitin-conjugating enzyme (E2)      F\n",
       "3  GO:0120133                             Ser/Thr protein kinase      P\n",
       "5  GO:0003724  ATP-dependent DEAD-box RNA helicase with stran...      F\n",
       "6  GO:0015035  Gamma subunit of the oligosaccharyltransferase...      F"
      ]
     },
     "execution_count": 45,
     "metadata": {},
     "output_type": "execute_result"
    }
   ],
   "source": [
    "go_terms_description.head()"
   ]
  },
  {
   "cell_type": "code",
   "execution_count": 40,
   "metadata": {},
   "outputs": [
    {
     "data": {
      "text/html": [
       "<div>\n",
       "<style scoped>\n",
       "    .dataframe tbody tr th:only-of-type {\n",
       "        vertical-align: middle;\n",
       "    }\n",
       "\n",
       "    .dataframe tbody tr th {\n",
       "        vertical-align: top;\n",
       "    }\n",
       "\n",
       "    .dataframe thead th {\n",
       "        text-align: right;\n",
       "    }\n",
       "</style>\n",
       "<table border=\"1\" class=\"dataframe\">\n",
       "  <thead>\n",
       "    <tr style=\"text-align: right;\">\n",
       "      <th></th>\n",
       "      <th>gene</th>\n",
       "      <th>goId</th>\n",
       "    </tr>\n",
       "  </thead>\n",
       "  <tbody>\n",
       "    <tr>\n",
       "      <th>0</th>\n",
       "      <td>AAC1</td>\n",
       "      <td>[GO:0005471, GO:0006783, GO:0006783, GO:000683...</td>\n",
       "    </tr>\n",
       "    <tr>\n",
       "      <th>1</th>\n",
       "      <td>AAC3</td>\n",
       "      <td>[GO:0005471, GO:0005471, GO:0009061, GO:000906...</td>\n",
       "    </tr>\n",
       "    <tr>\n",
       "      <th>2</th>\n",
       "      <td>AAD10</td>\n",
       "      <td>[GO:0047681, GO:0006081, GO:0005575, GO:004783...</td>\n",
       "    </tr>\n",
       "    <tr>\n",
       "      <th>3</th>\n",
       "      <td>AAD14</td>\n",
       "      <td>[GO:0047681, GO:0047681, GO:0006081, GO:000557...</td>\n",
       "    </tr>\n",
       "    <tr>\n",
       "      <th>4</th>\n",
       "      <td>AAD15</td>\n",
       "      <td>[GO:0047681, GO:0006081, GO:0005575, GO:004783...</td>\n",
       "    </tr>\n",
       "  </tbody>\n",
       "</table>\n",
       "</div>"
      ],
      "text/plain": [
       "    gene                                               goId\n",
       "0   AAC1  [GO:0005471, GO:0006783, GO:0006783, GO:000683...\n",
       "1   AAC3  [GO:0005471, GO:0005471, GO:0009061, GO:000906...\n",
       "2  AAD10  [GO:0047681, GO:0006081, GO:0005575, GO:004783...\n",
       "3  AAD14  [GO:0047681, GO:0047681, GO:0006081, GO:000557...\n",
       "4  AAD15  [GO:0047681, GO:0006081, GO:0005575, GO:004783..."
      ]
     },
     "execution_count": 40,
     "metadata": {},
     "output_type": "execute_result"
    }
   ],
   "source": [
    "genesMapping = data[data['DB_Object_Symbol'].isin(genes)].groupby('DB_Object_Symbol')['GO ID'].agg(list).reset_index().rename(columns={'DB_Object_Symbol': 'gene', 'GO ID': 'goId'})\n",
    "genesMapping.head()"
   ]
  },
  {
   "cell_type": "code",
   "execution_count": 41,
   "metadata": {},
   "outputs": [],
   "source": [
    "genesMapping.to_csv('../processed_data/genesMappingGO.csv', index=False)"
   ]
  }
 ],
 "metadata": {
  "kernelspec": {
   "display_name": "Python 3.8.10 64-bit ('.venv': venv)",
   "language": "python",
   "name": "python3810jvsc74a57bd0adb4cd77ea444b2585dbb6799e7f407ef47c735e12a48e4ddcfde0283f57bda8"
  },
  "language_info": {
   "codemirror_mode": {
    "name": "ipython",
    "version": 3
   },
   "file_extension": ".py",
   "mimetype": "text/x-python",
   "name": "python",
   "nbconvert_exporter": "python",
   "pygments_lexer": "ipython3",
   "version": "3.8.10"
  }
 },
 "nbformat": 4,
 "nbformat_minor": 5
}
