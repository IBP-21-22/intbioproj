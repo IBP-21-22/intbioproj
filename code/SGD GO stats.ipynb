{
 "cells": [
  {
   "cell_type": "code",
   "execution_count": 11,
   "metadata": {},
   "outputs": [],
   "source": [
    "import pandas as pd\n",
    "import numpy as np\n",
    "import matplotlib.pyplot as plt"
   ]
  },
  {
   "cell_type": "code",
   "execution_count": 12,
   "metadata": {},
   "outputs": [],
   "source": [
    "genesMapping = pd.read_csv('../processed_data/genesMappingGO.csv')\n",
    "goTermsDescription = pd.read_csv('../processed_data/goDescription.csv')"
   ]
  },
  {
   "cell_type": "code",
   "execution_count": 13,
   "metadata": {},
   "outputs": [
    {
     "data": {
      "text/html": [
       "<div>\n",
       "<style scoped>\n",
       "    .dataframe tbody tr th:only-of-type {\n",
       "        vertical-align: middle;\n",
       "    }\n",
       "\n",
       "    .dataframe tbody tr th {\n",
       "        vertical-align: top;\n",
       "    }\n",
       "\n",
       "    .dataframe thead th {\n",
       "        text-align: right;\n",
       "    }\n",
       "</style>\n",
       "<table border=\"1\" class=\"dataframe\">\n",
       "  <thead>\n",
       "    <tr style=\"text-align: right;\">\n",
       "      <th></th>\n",
       "      <th>gene</th>\n",
       "      <th>goId</th>\n",
       "    </tr>\n",
       "  </thead>\n",
       "  <tbody>\n",
       "    <tr>\n",
       "      <th>0</th>\n",
       "      <td>AAC1</td>\n",
       "      <td>[GO:0005471, GO:0006783, GO:0006839, GO:000906...</td>\n",
       "    </tr>\n",
       "    <tr>\n",
       "      <th>1</th>\n",
       "      <td>AAC3</td>\n",
       "      <td>[GO:0005471, GO:0009061, GO:0015886, GO:005508...</td>\n",
       "    </tr>\n",
       "    <tr>\n",
       "      <th>2</th>\n",
       "      <td>AAD10</td>\n",
       "      <td>[GO:0047681, GO:0006081, GO:0005575, GO:004783...</td>\n",
       "    </tr>\n",
       "    <tr>\n",
       "      <th>3</th>\n",
       "      <td>AAD14</td>\n",
       "      <td>[GO:0047681, GO:0006081, GO:0005575, GO:004783...</td>\n",
       "    </tr>\n",
       "    <tr>\n",
       "      <th>4</th>\n",
       "      <td>AAD15</td>\n",
       "      <td>[GO:0047681, GO:0006081, GO:0005575, GO:004783...</td>\n",
       "    </tr>\n",
       "  </tbody>\n",
       "</table>\n",
       "</div>"
      ],
      "text/plain": [
       "    gene                                               goId\n",
       "0   AAC1  [GO:0005471, GO:0006783, GO:0006839, GO:000906...\n",
       "1   AAC3  [GO:0005471, GO:0009061, GO:0015886, GO:005508...\n",
       "2  AAD10  [GO:0047681, GO:0006081, GO:0005575, GO:004783...\n",
       "3  AAD14  [GO:0047681, GO:0006081, GO:0005575, GO:004783...\n",
       "4  AAD15  [GO:0047681, GO:0006081, GO:0005575, GO:004783..."
      ]
     },
     "execution_count": 13,
     "metadata": {},
     "output_type": "execute_result"
    }
   ],
   "source": [
    "genesMapping.goId = genesMapping.goId.apply(lambda x: eval(x))\n",
    "genesMapping.head()"
   ]
  },
  {
   "cell_type": "code",
   "execution_count": 14,
   "metadata": {},
   "outputs": [
    {
     "data": {
      "text/html": [
       "<div>\n",
       "<style scoped>\n",
       "    .dataframe tbody tr th:only-of-type {\n",
       "        vertical-align: middle;\n",
       "    }\n",
       "\n",
       "    .dataframe tbody tr th {\n",
       "        vertical-align: top;\n",
       "    }\n",
       "\n",
       "    .dataframe thead th {\n",
       "        text-align: right;\n",
       "    }\n",
       "</style>\n",
       "<table border=\"1\" class=\"dataframe\">\n",
       "  <thead>\n",
       "    <tr style=\"text-align: right;\">\n",
       "      <th></th>\n",
       "      <th>goId</th>\n",
       "      <th>family</th>\n",
       "    </tr>\n",
       "  </thead>\n",
       "  <tbody>\n",
       "    <tr>\n",
       "      <th>0</th>\n",
       "      <td>GO:0003674</td>\n",
       "      <td>F</td>\n",
       "    </tr>\n",
       "    <tr>\n",
       "      <th>1</th>\n",
       "      <td>GO:0017116</td>\n",
       "      <td>F</td>\n",
       "    </tr>\n",
       "    <tr>\n",
       "      <th>2</th>\n",
       "      <td>GO:0120133</td>\n",
       "      <td>P</td>\n",
       "    </tr>\n",
       "    <tr>\n",
       "      <th>3</th>\n",
       "      <td>GO:0003724</td>\n",
       "      <td>F</td>\n",
       "    </tr>\n",
       "    <tr>\n",
       "      <th>4</th>\n",
       "      <td>GO:0015035</td>\n",
       "      <td>F</td>\n",
       "    </tr>\n",
       "  </tbody>\n",
       "</table>\n",
       "</div>"
      ],
      "text/plain": [
       "         goId family\n",
       "0  GO:0003674      F\n",
       "1  GO:0017116      F\n",
       "2  GO:0120133      P\n",
       "3  GO:0003724      F\n",
       "4  GO:0015035      F"
      ]
     },
     "execution_count": 14,
     "metadata": {},
     "output_type": "execute_result"
    }
   ],
   "source": [
    "goTermsDescription.head()"
   ]
  },
  {
   "cell_type": "code",
   "execution_count": 28,
   "metadata": {},
   "outputs": [
    {
     "data": {
      "text/plain": [
       "5704"
      ]
     },
     "execution_count": 28,
     "metadata": {},
     "output_type": "execute_result"
    }
   ],
   "source": [
    "goTermsDescription.goId.size"
   ]
  },
  {
   "cell_type": "code",
   "execution_count": 26,
   "metadata": {},
   "outputs": [
    {
     "data": {
      "text/plain": [
       "5704"
      ]
     },
     "execution_count": 26,
     "metadata": {},
     "output_type": "execute_result"
    }
   ],
   "source": [
    "goTermsDescription.goId.unique().size"
   ]
  },
  {
   "cell_type": "code",
   "execution_count": 16,
   "metadata": {},
   "outputs": [],
   "source": [
    "familyMapping = goTermsDescription[['family', 'goId']].set_index('goId').to_dict()['family']"
   ]
  },
  {
   "cell_type": "code",
   "execution_count": 17,
   "metadata": {},
   "outputs": [],
   "source": [
    "def partitionFamilies(row):\n",
    "    families = np.array([familyMapping[x] for x in row.goId])\n",
    "    unique = np.unique(families)\n",
    "    familiesDict = {}\n",
    "    for f in unique:\n",
    "        familiesDict[f] = np.array(row.goId)[families == f].tolist()\n",
    "    return pd.Series(familiesDict)\n",
    "\n",
    "families = genesMapping.apply(partitionFamilies, axis=1).applymap(lambda x: [] if not isinstance(x, list) else x)\n",
    "familiesNum = families.applymap(len).astype(int).rename(\n",
    "    columns={x: x+'_n' for x in families.columns})\n",
    "augmentedMapping = pd.concat(\n",
    "    [genesMapping, families, familiesNum], axis=1)"
   ]
  },
  {
   "cell_type": "code",
   "execution_count": 18,
   "metadata": {},
   "outputs": [
    {
     "data": {
      "text/html": [
       "<div>\n",
       "<style scoped>\n",
       "    .dataframe tbody tr th:only-of-type {\n",
       "        vertical-align: middle;\n",
       "    }\n",
       "\n",
       "    .dataframe tbody tr th {\n",
       "        vertical-align: top;\n",
       "    }\n",
       "\n",
       "    .dataframe thead th {\n",
       "        text-align: right;\n",
       "    }\n",
       "</style>\n",
       "<table border=\"1\" class=\"dataframe\">\n",
       "  <thead>\n",
       "    <tr style=\"text-align: right;\">\n",
       "      <th></th>\n",
       "      <th>gene</th>\n",
       "      <th>goId</th>\n",
       "      <th>C</th>\n",
       "      <th>F</th>\n",
       "      <th>P</th>\n",
       "      <th>C_n</th>\n",
       "      <th>F_n</th>\n",
       "      <th>P_n</th>\n",
       "    </tr>\n",
       "  </thead>\n",
       "  <tbody>\n",
       "    <tr>\n",
       "      <th>0</th>\n",
       "      <td>AAC1</td>\n",
       "      <td>[GO:0005471, GO:0006783, GO:0006839, GO:000906...</td>\n",
       "      <td>[GO:0005743, GO:0005739, GO:0016020, GO:0016021]</td>\n",
       "      <td>[GO:0005471, GO:0015297]</td>\n",
       "      <td>[GO:0006783, GO:0006839, GO:0009060, GO:001588...</td>\n",
       "      <td>4</td>\n",
       "      <td>2</td>\n",
       "      <td>7</td>\n",
       "    </tr>\n",
       "    <tr>\n",
       "      <th>1</th>\n",
       "      <td>AAC3</td>\n",
       "      <td>[GO:0005471, GO:0009061, GO:0015886, GO:005508...</td>\n",
       "      <td>[GO:0005743, GO:0005739, GO:0016020, GO:0016021]</td>\n",
       "      <td>[GO:0005471, GO:0015297]</td>\n",
       "      <td>[GO:0009061, GO:0015886, GO:0055085, GO:014002...</td>\n",
       "      <td>4</td>\n",
       "      <td>2</td>\n",
       "      <td>5</td>\n",
       "    </tr>\n",
       "    <tr>\n",
       "      <th>2</th>\n",
       "      <td>AAD10</td>\n",
       "      <td>[GO:0047681, GO:0006081, GO:0005575, GO:004783...</td>\n",
       "      <td>[GO:0005575]</td>\n",
       "      <td>[GO:0047681, GO:0047834, GO:0016491]</td>\n",
       "      <td>[GO:0006081]</td>\n",
       "      <td>1</td>\n",
       "      <td>3</td>\n",
       "      <td>1</td>\n",
       "    </tr>\n",
       "    <tr>\n",
       "      <th>3</th>\n",
       "      <td>AAD14</td>\n",
       "      <td>[GO:0047681, GO:0006081, GO:0005575, GO:004783...</td>\n",
       "      <td>[GO:0005575]</td>\n",
       "      <td>[GO:0047681, GO:0047834, GO:0016491]</td>\n",
       "      <td>[GO:0006081]</td>\n",
       "      <td>1</td>\n",
       "      <td>3</td>\n",
       "      <td>1</td>\n",
       "    </tr>\n",
       "    <tr>\n",
       "      <th>4</th>\n",
       "      <td>AAD15</td>\n",
       "      <td>[GO:0047681, GO:0006081, GO:0005575, GO:004783...</td>\n",
       "      <td>[GO:0005575]</td>\n",
       "      <td>[GO:0047681, GO:0047834, GO:0016491]</td>\n",
       "      <td>[GO:0006081]</td>\n",
       "      <td>1</td>\n",
       "      <td>3</td>\n",
       "      <td>1</td>\n",
       "    </tr>\n",
       "  </tbody>\n",
       "</table>\n",
       "</div>"
      ],
      "text/plain": [
       "    gene                                               goId  \\\n",
       "0   AAC1  [GO:0005471, GO:0006783, GO:0006839, GO:000906...   \n",
       "1   AAC3  [GO:0005471, GO:0009061, GO:0015886, GO:005508...   \n",
       "2  AAD10  [GO:0047681, GO:0006081, GO:0005575, GO:004783...   \n",
       "3  AAD14  [GO:0047681, GO:0006081, GO:0005575, GO:004783...   \n",
       "4  AAD15  [GO:0047681, GO:0006081, GO:0005575, GO:004783...   \n",
       "\n",
       "                                                  C  \\\n",
       "0  [GO:0005743, GO:0005739, GO:0016020, GO:0016021]   \n",
       "1  [GO:0005743, GO:0005739, GO:0016020, GO:0016021]   \n",
       "2                                      [GO:0005575]   \n",
       "3                                      [GO:0005575]   \n",
       "4                                      [GO:0005575]   \n",
       "\n",
       "                                      F  \\\n",
       "0              [GO:0005471, GO:0015297]   \n",
       "1              [GO:0005471, GO:0015297]   \n",
       "2  [GO:0047681, GO:0047834, GO:0016491]   \n",
       "3  [GO:0047681, GO:0047834, GO:0016491]   \n",
       "4  [GO:0047681, GO:0047834, GO:0016491]   \n",
       "\n",
       "                                                   P  C_n  F_n  P_n  \n",
       "0  [GO:0006783, GO:0006839, GO:0009060, GO:001588...    4    2    7  \n",
       "1  [GO:0009061, GO:0015886, GO:0055085, GO:014002...    4    2    5  \n",
       "2                                       [GO:0006081]    1    3    1  \n",
       "3                                       [GO:0006081]    1    3    1  \n",
       "4                                       [GO:0006081]    1    3    1  "
      ]
     },
     "execution_count": 18,
     "metadata": {},
     "output_type": "execute_result"
    }
   ],
   "source": [
    "augmentedMapping.head()"
   ]
  },
  {
   "cell_type": "code",
   "execution_count": 19,
   "metadata": {},
   "outputs": [
    {
     "data": {
      "text/plain": [
       "C_n    4341\n",
       "F_n    4311\n",
       "P_n    4341\n",
       "dtype: int64"
      ]
     },
     "execution_count": 19,
     "metadata": {},
     "output_type": "execute_result"
    }
   ],
   "source": [
    "isInFamily = augmentedMapping[['C_n', 'F_n', 'P_n']] > 0\n",
    "isInFamily.sum()"
   ]
  },
  {
   "cell_type": "code",
   "execution_count": 21,
   "metadata": {},
   "outputs": [
    {
     "data": {
      "text/plain": [
       "<matplotlib.legend.Legend at 0x7f366ac86ca0>"
      ]
     },
     "execution_count": 21,
     "metadata": {},
     "output_type": "execute_result"
    },
    {
     "data": {
      "image/png": "[encoded data removed]",
      "text/plain": [
       "<Figure size 1080x1080 with 1 Axes>"
      ]
     },
     "metadata": {
      "needs_background": "light"
     },
     "output_type": "display_data"
    }
   ],
   "source": [
    "\n",
    "fig, ax = plt.subplots(figsize=(15,15))\n",
    "ticks = np.arange(1,21,3)\n",
    "a_heights, a_bins = np.histogram(augmentedMapping['C_n'],bins=ticks)\n",
    "b_heights, b_bins = np.histogram(augmentedMapping['F_n'], bins=a_bins)\n",
    "c_heights, c_bins = np.histogram(augmentedMapping['P_n'], bins=a_bins)\n",
    "\n",
    "width = (a_bins[1] - a_bins[0])/5\n",
    "\n",
    "ax.bar(a_bins[:-1] - width, a_heights, width=width, facecolor='cornflowerblue', label='C')\n",
    "ax.bar(b_bins[:-1], b_heights, width=width, facecolor='seagreen', label='F')\n",
    "ax.bar(c_bins[:-1] + width, c_heights, width=width, facecolor='red', label='P')\n",
    "plt.xlabel('#GO entities')\n",
    "plt.ylabel('#Genes')\n",
    "plt.xticks(ticks)\n",
    "\n",
    "plt.legend()"
   ]
  },
  {
   "cell_type": "code",
   "execution_count": 22,
   "metadata": {},
   "outputs": [],
   "source": [
    "fig.savefig('../figures/go_terms_histogram.png')"
   ]
  }
 ],
 "metadata": {
  "kernelspec": {
   "display_name": "Python 3.8.10 64-bit ('.venv': venv)",
   "language": "python",
   "name": "python3810jvsc74a57bd0adb4cd77ea444b2585dbb6799e7f407ef47c735e12a48e4ddcfde0283f57bda8"
  },
  "language_info": {
   "codemirror_mode": {
    "name": "ipython",
    "version": 3
   },
   "file_extension": ".py",
   "mimetype": "text/x-python",
   "name": "python",
   "nbconvert_exporter": "python",
   "pygments_lexer": "ipython3",
   "version": "3.8.10"
  }
 },
 "nbformat": 4,
 "nbformat_minor": 4
}
