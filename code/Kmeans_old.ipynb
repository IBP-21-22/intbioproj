{
 "cells": [
  {
   "cell_type": "markdown",
   "id": "7cfa4112",
   "metadata": {},
   "source": [
    "# K-means clustering"
   ]
  },
  {
   "cell_type": "markdown",
   "id": "30cd1641",
   "metadata": {},
   "source": [
    "## Preparation"
   ]
  },
  {
   "cell_type": "code",
   "execution_count": 4,
   "id": "a13d83f4",
   "metadata": {
    "ExecuteTime": {
     "end_time": "2021-11-04T08:06:24.300705Z",
     "start_time": "2021-11-04T08:06:24.291340Z"
    }
   },
   "outputs": [],
   "source": [
    "import pandas as pd\n",
    "import pickle as pkl\n",
    "from scipy.cluster.vq import kmeans, vq\n",
    "import matplotlib.pyplot as plt\n",
    "from sklearn.decomposition import PCA\n",
    "from sklearn.cluster import SpectralClustering\n",
    "from sklearn import preprocessing\n",
    "#from sklearn.metrics.pairwise import linear_kernel"
   ]
  },
  {
   "cell_type": "markdown",
   "id": "17b6af57",
   "metadata": {
    "ExecuteTime": {
     "end_time": "2021-10-30T15:12:25.434941Z",
     "start_time": "2021-10-30T15:12:25.428054Z"
    }
   },
   "source": [
    "### Import GO data"
   ]
  },
  {
   "cell_type": "code",
   "execution_count": 5,
   "id": "57deb97d",
   "metadata": {
    "ExecuteTime": {
     "end_time": "2021-11-04T08:06:26.559183Z",
     "start_time": "2021-11-04T08:06:24.440932Z"
    }
   },
   "outputs": [],
   "source": [
    "with open('../processed_data/geneOntologyDataset.pkl', 'rb') as inp:\n",
    "    [pivoted, tfidfPivoted] = pkl.load(inp)"
   ]
  },
  {
   "cell_type": "code",
   "execution_count": 6,
   "id": "43148b80",
   "metadata": {
    "ExecuteTime": {
     "end_time": "2021-11-04T08:06:27.400966Z",
     "start_time": "2021-11-04T08:06:27.266267Z"
    }
   },
   "outputs": [],
   "source": [
    "GOdata = pd.DataFrame(tfidfPivoted['P'].todense()) # F / P / C\n",
    "GOdata['Standard Name'] = pivoted['P'].index"
   ]
  },
  {
   "cell_type": "markdown",
   "id": "84049edc",
   "metadata": {
    "ExecuteTime": {
     "end_time": "2021-10-30T15:13:02.135025Z",
     "start_time": "2021-10-30T15:13:02.130067Z"
    }
   },
   "source": [
    "### Import FI data"
   ]
  },
  {
   "cell_type": "code",
   "execution_count": 7,
   "id": "8ebfbc9c",
   "metadata": {
    "ExecuteTime": {
     "end_time": "2021-11-04T08:06:35.397772Z",
     "start_time": "2021-11-04T08:06:29.652836Z"
    }
   },
   "outputs": [
    {
     "name": "stderr",
     "output_type": "stream",
     "text": [
      "/Library/Frameworks/Python.framework/Versions/3.9/lib/python3.9/site-packages/openpyxl/worksheet/_reader.py:312: UserWarning: Unknown extension is not supported and will be removed\n",
      "  warn(msg)\n"
     ]
    }
   ],
   "source": [
    "FIdata = pd.read_excel('../raw_data/41592_2018_45_MOESM4_ESM.xlsx', skiprows = 6, engine = 'openpyxl')\n",
    "full_data = pd.merge(GOdata, FIdata, on = 'Standard Name', how = 'left')"
   ]
  },
  {
   "cell_type": "code",
   "execution_count": 8,
   "id": "404bea0d",
   "metadata": {
    "ExecuteTime": {
     "end_time": "2021-11-04T08:06:38.525684Z",
     "start_time": "2021-11-04T08:06:37.736989Z"
    }
   },
   "outputs": [],
   "source": [
    "full_data = full_data.loc[full_data.intensity.notna()]"
   ]
  },
  {
   "cell_type": "markdown",
   "id": "f2d186d3",
   "metadata": {},
   "source": [
    "### Cosine similarities"
   ]
  },
  {
   "cell_type": "code",
   "execution_count": 32,
   "id": "d4c9a033",
   "metadata": {
    "ExecuteTime": {
     "end_time": "2021-11-03T17:31:01.799489Z",
     "start_time": "2021-11-03T17:31:01.794336Z"
    }
   },
   "outputs": [],
   "source": [
    "#cosine_similarities = linear_kernel(result[0:1], result).flatten()"
   ]
  },
  {
   "cell_type": "markdown",
   "id": "691d1ae5",
   "metadata": {
    "ExecuteTime": {
     "end_time": "2021-11-03T17:22:25.400138Z",
     "start_time": "2021-11-03T17:22:25.395060Z"
    }
   },
   "source": [
    "### Normalize the data"
   ]
  },
  {
   "cell_type": "code",
   "execution_count": 37,
   "id": "9765ae63",
   "metadata": {
    "ExecuteTime": {
     "end_time": "2021-11-03T17:36:10.019681Z",
     "start_time": "2021-11-03T17:36:09.888493Z"
    }
   },
   "outputs": [
    {
     "data": {
      "text/plain": [
       "0       2.601733\n",
       "1       2.183289\n",
       "2       1.000000\n",
       "3       1.000000\n",
       "4       1.000000\n",
       "          ...   \n",
       "4336    2.387957\n",
       "4337    2.402993\n",
       "4338    1.000000\n",
       "4339    2.195137\n",
       "4340    2.423724\n",
       "Length: 4322, dtype: float64"
      ]
     },
     "execution_count": 37,
     "metadata": {},
     "output_type": "execute_result"
    }
   ],
   "source": [
    "full_data.iloc[:, 0:2989].sum(1)"
   ]
  },
  {
   "cell_type": "code",
   "execution_count": 38,
   "id": "b7a0ebc0",
   "metadata": {
    "ExecuteTime": {
     "end_time": "2021-11-03T17:36:15.692699Z",
     "start_time": "2021-11-03T17:36:12.096666Z"
    }
   },
   "outputs": [],
   "source": [
    "width = full_data.columns.get_loc('Standard Name')\n",
    "full_data.iloc[:, 0:width] = preprocessing.normalize(full_data.iloc[:, 0:width], axis = 0)"
   ]
  },
  {
   "cell_type": "code",
   "execution_count": 39,
   "id": "877f7064",
   "metadata": {
    "ExecuteTime": {
     "end_time": "2021-11-03T17:36:16.603312Z",
     "start_time": "2021-11-03T17:36:16.483340Z"
    }
   },
   "outputs": [
    {
     "data": {
      "text/plain": [
       "0       2.005245\n",
       "1       2.494842\n",
       "2       0.427467\n",
       "3       0.427467\n",
       "4       0.427467\n",
       "          ...   \n",
       "4336    1.749362\n",
       "4337    1.302447\n",
       "4338    0.259360\n",
       "4339    1.909221\n",
       "4340    1.799681\n",
       "Length: 4322, dtype: float64"
      ]
     },
     "execution_count": 39,
     "metadata": {},
     "output_type": "execute_result"
    }
   ],
   "source": [
    "full_data\n",
    "full_data.iloc[:, 0:2989].sum(1)"
   ]
  },
  {
   "cell_type": "markdown",
   "id": "884be4a7",
   "metadata": {
    "ExecuteTime": {
     "end_time": "2021-10-30T13:32:29.729858Z",
     "start_time": "2021-10-30T13:32:29.722964Z"
    }
   },
   "source": [
    "## PCA"
   ]
  },
  {
   "cell_type": "code",
   "execution_count": 29,
   "id": "f8ce72e6",
   "metadata": {
    "ExecuteTime": {
     "end_time": "2021-11-04T08:09:30.054236Z",
     "start_time": "2021-11-04T08:09:27.339383Z"
    }
   },
   "outputs": [],
   "source": [
    "pca = PCA(n_components=2)\n",
    "principalComponents = pca.fit_transform(full_data.iloc[:,0:full_data.columns.get_loc('Standard Name')])\n",
    "principalDf = pd.DataFrame(data = principalComponents, columns = ['PC1', 'PC2'])"
   ]
  },
  {
   "cell_type": "code",
   "execution_count": 30,
   "id": "93a94212",
   "metadata": {
    "ExecuteTime": {
     "end_time": "2021-11-04T08:09:30.993200Z",
     "start_time": "2021-11-04T08:09:30.100922Z"
    }
   },
   "outputs": [
    {
     "data": {
      "text/plain": [
       "Text(0, 0.5, 'Second principal component')"
      ]
     },
     "execution_count": 30,
     "metadata": {},
     "output_type": "execute_result"
    },
    {
     "data": {
      "image/png": "[encoded data removed]",
      "text/plain": [
       "<Figure size 432x288 with 1 Axes>"
      ]
     },
     "metadata": {
      "needs_background": "light"
     },
     "output_type": "display_data"
    }
   ],
   "source": [
    "fig, ax = plt.subplots()\n",
    "ax.scatter(principalDf.PC1, principalDf.PC2)\n",
    "ax.set_xlabel(\"First principal component\")\n",
    "ax.set_ylabel(\"Second principal component\")"
   ]
  },
  {
   "cell_type": "code",
   "execution_count": 31,
   "id": "a873bd30",
   "metadata": {
    "ExecuteTime": {
     "end_time": "2021-11-04T08:09:34.268466Z",
     "start_time": "2021-11-04T08:09:34.223656Z"
    }
   },
   "outputs": [
    {
     "data": {
      "text/plain": [
       "array([0.04067977, 0.01434983])"
      ]
     },
     "execution_count": 31,
     "metadata": {},
     "output_type": "execute_result"
    }
   ],
   "source": [
    "pca.explained_variance_ratio_"
   ]
  },
  {
   "cell_type": "code",
   "execution_count": 32,
   "id": "ae1a5aac",
   "metadata": {
    "ExecuteTime": {
     "end_time": "2021-11-04T08:09:36.874332Z",
     "start_time": "2021-11-04T08:09:36.577133Z"
    }
   },
   "outputs": [],
   "source": [
    "full_data = full_data.set_index(principalDf.index)"
   ]
  },
  {
   "cell_type": "markdown",
   "id": "ffdde967",
   "metadata": {},
   "source": [
    "## K-means clustering"
   ]
  },
  {
   "cell_type": "code",
   "execution_count": 33,
   "id": "fe077a7a",
   "metadata": {
    "ExecuteTime": {
     "end_time": "2021-11-04T08:09:38.495235Z",
     "start_time": "2021-11-04T08:09:38.394615Z"
    }
   },
   "outputs": [],
   "source": [
    "# generate cluster centers and labels\n",
    "centers, _ = kmeans(principalDf, 2)\n",
    "principalDf['labels'], _ = vq(principalDf, centers)"
   ]
  },
  {
   "cell_type": "code",
   "execution_count": 34,
   "id": "4f62355b",
   "metadata": {
    "ExecuteTime": {
     "end_time": "2021-11-04T08:09:44.500978Z",
     "start_time": "2021-11-04T08:09:43.864809Z"
    }
   },
   "outputs": [
    {
     "data": {
      "image/png": "[encoded data removed]",
      "text/plain": [
       "<Figure size 432x288 with 1 Axes>"
      ]
     },
     "metadata": {
      "needs_background": "light"
     },
     "output_type": "display_data"
    }
   ],
   "source": [
    "fig, ax = plt.subplots()\n",
    "ax.scatter(principalDf.PC1[principalDf.labels == 0], principalDf.PC2[principalDf.labels == 0], marker = '*', label = 'cluster 1')\n",
    "ax.scatter(principalDf.PC1[principalDf.labels == 1], principalDf.PC2[principalDf.labels == 1], marker = '.', label = 'cluster 2')\n",
    "#ax.scatter(principalDf.PC1, principalDf.PC2, marker = '.', label = principalDf.labels)\n",
    "ax.set_xlabel(\"First principal component\")\n",
    "ax.set_ylabel(\"Second principal component\")\n",
    "ax.legend()\n",
    "plt.show()"
   ]
  },
  {
   "cell_type": "markdown",
   "id": "98c894a5",
   "metadata": {},
   "source": [
    "## Spectral clustering"
   ]
  },
  {
   "cell_type": "markdown",
   "id": "d4d9725d",
   "metadata": {},
   "source": [
    "### Use nearest neighbors as affinity measure"
   ]
  },
  {
   "cell_type": "code",
   "execution_count": 35,
   "id": "c7a83623",
   "metadata": {
    "ExecuteTime": {
     "end_time": "2021-11-04T08:10:02.252381Z",
     "start_time": "2021-11-04T08:09:49.277328Z"
    }
   },
   "outputs": [
    {
     "name": "stderr",
     "output_type": "stream",
     "text": [
      "/Library/Frameworks/Python.framework/Versions/3.9/lib/python3.9/site-packages/sklearn/manifold/_spectral_embedding.py:260: UserWarning: Graph is not fully connected, spectral embedding may not work as expected.\n",
      "  warnings.warn(\n"
     ]
    }
   ],
   "source": [
    "model = SpectralClustering(n_clusters=2, affinity='nearest_neighbors',\n",
    "                           assign_labels='kmeans')\n",
    "labels = model.fit_predict(principalDf)"
   ]
  },
  {
   "cell_type": "code",
   "execution_count": 36,
   "id": "486226a6",
   "metadata": {
    "ExecuteTime": {
     "end_time": "2021-11-04T08:10:05.657484Z",
     "start_time": "2021-11-04T08:10:04.560867Z"
    }
   },
   "outputs": [
    {
     "data": {
      "image/png": "[encoded data removed]",
      "text/plain": [
       "<Figure size 432x288 with 1 Axes>"
      ]
     },
     "metadata": {
      "needs_background": "light"
     },
     "output_type": "display_data"
    }
   ],
   "source": [
    "fig, ax = plt.subplots()\n",
    "ax.scatter(principalDf.PC1[labels == 0], principalDf.PC2[labels == 0], marker = '*', label = 'cluster 1')\n",
    "ax.scatter(principalDf.PC1[labels == 1], principalDf.PC2[labels == 1], marker = '.', label = 'cluster 2')\n",
    "ax.set_xlabel(\"First principal component\")\n",
    "ax.set_ylabel(\"Second principal component\")\n",
    "ax.legend()\n",
    "plt.show()"
   ]
  },
  {
   "cell_type": "markdown",
   "id": "704f06de",
   "metadata": {},
   "source": [
    "### Use rbf as affinity measure"
   ]
  },
  {
   "cell_type": "code",
   "execution_count": 37,
   "id": "71e7b389",
   "metadata": {
    "ExecuteTime": {
     "end_time": "2021-11-04T08:10:29.125139Z",
     "start_time": "2021-11-04T08:10:08.129949Z"
    }
   },
   "outputs": [],
   "source": [
    "model = SpectralClustering(n_clusters=2, affinity='rbf',\n",
    "                           assign_labels='kmeans')\n",
    "labels = model.fit_predict(principalDf)"
   ]
  },
  {
   "cell_type": "code",
   "execution_count": 38,
   "id": "f95a22ed",
   "metadata": {
    "ExecuteTime": {
     "end_time": "2021-11-04T08:10:34.313850Z",
     "start_time": "2021-11-04T08:10:32.045450Z"
    }
   },
   "outputs": [
    {
     "data": {
      "image/png": "[encoded data removed]",
      "text/plain": [
       "<Figure size 432x288 with 1 Axes>"
      ]
     },
     "metadata": {
      "needs_background": "light"
     },
     "output_type": "display_data"
    }
   ],
   "source": [
    "fig, ax = plt.subplots()\n",
    "ax.scatter(principalDf.PC1[labels == 0], principalDf.PC2[labels == 0], marker = '*', label = 'cluster 1')\n",
    "ax.scatter(principalDf.PC1[labels == 1], principalDf.PC2[labels == 1], marker = '.', label = 'cluster 2')\n",
    "ax.set_xlabel(\"First principal component\")\n",
    "ax.set_ylabel(\"Second principal component\")\n",
    "ax.legend()\n",
    "plt.show()"
   ]
  },
  {
   "cell_type": "markdown",
   "id": "f05235d6",
   "metadata": {},
   "source": [
    "### plot FI in PC plot"
   ]
  },
  {
   "cell_type": "code",
   "execution_count": 39,
   "id": "8df8ca15",
   "metadata": {
    "ExecuteTime": {
     "end_time": "2021-11-04T08:10:37.299850Z",
     "start_time": "2021-11-04T08:10:35.613871Z"
    }
   },
   "outputs": [
    {
     "data": {
      "image/png": "[encoded data removed]",
      "text/plain": [
       "<Figure size 432x288 with 1 Axes>"
      ]
     },
     "metadata": {
      "needs_background": "light"
     },
     "output_type": "display_data"
    }
   ],
   "source": [
    "fig, ax = plt.subplots()\n",
    "ax.scatter(principalDf.PC1, principalDf.PC2, c = full_data.intensity)\n",
    "ax.set_xlabel(\"First principal component\")\n",
    "ax.set_ylabel(\"Second principal component\")\n",
    "plt.show()"
   ]
  },
  {
   "cell_type": "code",
   "execution_count": 40,
   "id": "e871359f",
   "metadata": {
    "ExecuteTime": {
     "end_time": "2021-11-04T08:10:41.429770Z",
     "start_time": "2021-11-04T08:10:41.388406Z"
    }
   },
   "outputs": [
    {
     "data": {
      "text/plain": [
       "34.7025481019241"
      ]
     },
     "execution_count": 40,
     "metadata": {},
     "output_type": "execute_result"
    }
   ],
   "source": [
    "full_data.intensity.max()"
   ]
  },
  {
   "cell_type": "code",
   "execution_count": 41,
   "id": "0ad85861",
   "metadata": {
    "ExecuteTime": {
     "end_time": "2021-11-04T08:10:44.301640Z",
     "start_time": "2021-11-04T08:10:43.522738Z"
    }
   },
   "outputs": [
    {
     "data": {
      "image/png": "[encoded data removed]",
      "text/plain": [
       "<Figure size 432x288 with 1 Axes>"
      ]
     },
     "metadata": {
      "needs_background": "light"
     },
     "output_type": "display_data"
    }
   ],
   "source": [
    "fig, ax = plt.subplots()\n",
    "ax.hist(full_data.intensity, bins = 50)\n",
    "plt.show()"
   ]
  },
  {
   "cell_type": "code",
   "execution_count": 42,
   "id": "d51de7ca",
   "metadata": {
    "ExecuteTime": {
     "end_time": "2021-11-04T08:10:47.199994Z",
     "start_time": "2021-11-04T08:10:46.034096Z"
    }
   },
   "outputs": [
    {
     "data": {
      "image/png": "[encoded data removed]",
      "text/plain": [
       "<Figure size 432x288 with 1 Axes>"
      ]
     },
     "metadata": {
      "needs_background": "light"
     },
     "output_type": "display_data"
    }
   ],
   "source": [
    "fig, ax = plt.subplots()\n",
    "ax.hist(full_data.intensity[full_data.intensity < 1], bins = 50)\n",
    "plt.show()"
   ]
  },
  {
   "cell_type": "code",
   "execution_count": 43,
   "id": "3ec69b53",
   "metadata": {
    "ExecuteTime": {
     "end_time": "2021-11-04T08:10:49.765088Z",
     "start_time": "2021-11-04T08:10:48.668437Z"
    }
   },
   "outputs": [
    {
     "data": {
      "image/png": "[encoded data removed]",
      "text/plain": [
       "<Figure size 432x288 with 1 Axes>"
      ]
     },
     "metadata": {
      "needs_background": "light"
     },
     "output_type": "display_data"
    }
   ],
   "source": [
    "fig, ax = plt.subplots()\n",
    "ax.scatter(principalDf.PC1.loc[full_data.intensity < 0.1], principalDf.PC2.loc[full_data.intensity < 0.1], \n",
    "           c = full_data.intensity.loc[full_data.intensity < 0.1])\n",
    "ax.set_xlabel(\"First principal component\")\n",
    "ax.set_ylabel(\"Second principal component\")\n",
    "plt.show()"
   ]
  },
  {
   "cell_type": "code",
   "execution_count": null,
   "id": "28393fae",
   "metadata": {},
   "outputs": [],
   "source": []
  },
  {
   "cell_type": "code",
   "execution_count": null,
   "id": "e52239e1",
   "metadata": {},
   "outputs": [],
   "source": []
  }
 ],
 "metadata": {
  "kernelspec": {
   "display_name": "Python 3 (ipykernel)",
   "language": "python",
   "name": "python3"
  },
  "language_info": {
   "codemirror_mode": {
    "name": "ipython",
    "version": 3
   },
   "file_extension": ".py",
   "mimetype": "text/x-python",
   "name": "python",
   "nbconvert_exporter": "python",
   "pygments_lexer": "ipython3",
   "version": "3.9.0"
  },
  "toc": {
   "base_numbering": 1,
   "nav_menu": {},
   "number_sections": true,
   "sideBar": true,
   "skip_h1_title": false,
   "title_cell": "Table of Contents",
   "title_sidebar": "Contents",
   "toc_cell": false,
   "toc_position": {},
   "toc_section_display": true,
   "toc_window_display": false
  },
  "varInspector": {
   "cols": {
    "lenName": 16,
    "lenType": 16,
    "lenVar": 40
   },
   "kernels_config": {
    "python": {
     "delete_cmd_postfix": "",
     "delete_cmd_prefix": "del ",
     "library": "var_list.py",
     "varRefreshCmd": "print(var_dic_list())"
    },
    "r": {
     "delete_cmd_postfix": ") ",
     "delete_cmd_prefix": "rm(",
     "library": "var_list.r",
     "varRefreshCmd": "cat(var_dic_list()) "
    }
   },
   "types_to_exclude": [
    "module",
    "function",
    "builtin_function_or_method",
    "instance",
    "_Feature"
   ],
   "window_display": false
  }
 },
 "nbformat": 4,
 "nbformat_minor": 5
}
