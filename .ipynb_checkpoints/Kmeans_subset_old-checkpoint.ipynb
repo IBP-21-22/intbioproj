{
 "cells": [
  {
   "cell_type": "markdown",
   "id": "42b90636",
   "metadata": {},
   "source": [
    "# K-means clustering on subsets of the data"
   ]
  },
  {
   "cell_type": "markdown",
   "id": "5a271d5d",
   "metadata": {},
   "source": [
    "## Preparation"
   ]
  },
  {
   "cell_type": "code",
   "execution_count": 2,
   "id": "714e2a80",
   "metadata": {
    "ExecuteTime": {
     "end_time": "2021-11-06T10:13:45.996965Z",
     "start_time": "2021-11-06T10:13:45.980511Z"
    }
   },
   "outputs": [],
   "source": [
    "import pandas as pd\n",
    "import pickle as pkl\n",
    "from scipy.cluster.vq import kmeans, vq\n",
    "import matplotlib.pyplot as plt\n",
    "from sklearn.decomposition import PCA\n",
    "from sklearn.cluster import SpectralClustering\n",
    "from random import seed\n",
    "from random import randint"
   ]
  },
  {
   "cell_type": "code",
   "execution_count": 22,
   "id": "4549065c",
   "metadata": {
    "ExecuteTime": {
     "end_time": "2021-10-30T20:01:46.530757Z",
     "start_time": "2021-10-30T20:01:46.526058Z"
    }
   },
   "outputs": [],
   "source": [
    "seed(1)"
   ]
  },
  {
   "cell_type": "markdown",
   "id": "fc6e6d08",
   "metadata": {
    "ExecuteTime": {
     "end_time": "2021-10-30T15:12:25.434941Z",
     "start_time": "2021-10-30T15:12:25.428054Z"
    }
   },
   "source": [
    "### Import GO data"
   ]
  },
  {
   "cell_type": "code",
   "execution_count": 3,
   "id": "b18348e7",
   "metadata": {
    "ExecuteTime": {
     "end_time": "2021-11-06T10:13:46.795900Z",
     "start_time": "2021-11-06T10:13:46.044667Z"
    }
   },
   "outputs": [],
   "source": [
    "with open('../processed_data/geneOntologyDataset.pkl', 'rb') as inp:\n",
    "    [pivoted, tfidfPivoted] = pkl.load(inp)"
   ]
  },
  {
   "cell_type": "code",
   "execution_count": 4,
   "id": "4f68a36e",
   "metadata": {
    "ExecuteTime": {
     "end_time": "2021-11-06T10:13:47.216931Z",
     "start_time": "2021-11-06T10:13:47.139236Z"
    }
   },
   "outputs": [],
   "source": [
    "GOdata = pd.DataFrame(tfidfPivoted['C'].todense()) # F / P / C\n",
    "GOdata['Standard Name'] = pivoted['C'].index"
   ]
  },
  {
   "cell_type": "markdown",
   "id": "955e3c35",
   "metadata": {
    "ExecuteTime": {
     "end_time": "2021-10-30T15:13:02.135025Z",
     "start_time": "2021-10-30T15:13:02.130067Z"
    }
   },
   "source": [
    "### Import FI data"
   ]
  },
  {
   "cell_type": "code",
   "execution_count": 5,
   "id": "587f5efa",
   "metadata": {
    "ExecuteTime": {
     "end_time": "2021-11-06T10:13:53.002005Z",
     "start_time": "2021-11-06T10:13:50.687100Z"
    }
   },
   "outputs": [
    {
     "name": "stderr",
     "output_type": "stream",
     "text": [
      "/Library/Frameworks/Python.framework/Versions/3.9/lib/python3.9/site-packages/openpyxl/worksheet/_reader.py:312: UserWarning: Unknown extension is not supported and will be removed\n",
      "  warn(msg)\n"
     ]
    }
   ],
   "source": [
    "FIdata = pd.read_excel('../raw_data/41592_2018_45_MOESM4_ESM.xlsx', skiprows = 6, engine = 'openpyxl')\n",
    "full_data = pd.merge(GOdata, FIdata, on = 'Standard Name', how = 'left')"
   ]
  },
  {
   "cell_type": "code",
   "execution_count": 6,
   "id": "1d39be68",
   "metadata": {
    "ExecuteTime": {
     "end_time": "2021-11-06T10:13:54.237628Z",
     "start_time": "2021-11-06T10:13:54.121113Z"
    }
   },
   "outputs": [],
   "source": [
    "full_data = full_data.loc[full_data.intensity.notna()]"
   ]
  },
  {
   "cell_type": "code",
   "execution_count": 25,
   "id": "0293fc47",
   "metadata": {
    "ExecuteTime": {
     "end_time": "2021-11-06T10:21:05.847306Z",
     "start_time": "2021-11-06T10:21:05.748705Z"
    }
   },
   "outputs": [],
   "source": [
    "selection = full_data.iloc[:,0:full_data.columns.get_loc('intensity')+1]\n",
    "selection = selection.drop('Systematic Name', axis = 1).drop('Standard Name', axis = 1)"
   ]
  },
  {
   "cell_type": "code",
   "execution_count": 26,
   "id": "fe48df9c",
   "metadata": {
    "ExecuteTime": {
     "end_time": "2021-11-06T10:21:06.640898Z",
     "start_time": "2021-11-06T10:21:06.570966Z"
    }
   },
   "outputs": [
    {
     "data": {
      "text/html": [
       "<div>\n",
       "<style scoped>\n",
       "    .dataframe tbody tr th:only-of-type {\n",
       "        vertical-align: middle;\n",
       "    }\n",
       "\n",
       "    .dataframe tbody tr th {\n",
       "        vertical-align: top;\n",
       "    }\n",
       "\n",
       "    .dataframe thead th {\n",
       "        text-align: right;\n",
       "    }\n",
       "</style>\n",
       "<table border=\"1\" class=\"dataframe\">\n",
       "  <thead>\n",
       "    <tr style=\"text-align: right;\">\n",
       "      <th></th>\n",
       "      <th>0</th>\n",
       "      <th>1</th>\n",
       "      <th>2</th>\n",
       "      <th>3</th>\n",
       "      <th>4</th>\n",
       "      <th>5</th>\n",
       "      <th>6</th>\n",
       "      <th>7</th>\n",
       "      <th>8</th>\n",
       "      <th>9</th>\n",
       "      <th>...</th>\n",
       "      <th>794</th>\n",
       "      <th>795</th>\n",
       "      <th>796</th>\n",
       "      <th>797</th>\n",
       "      <th>798</th>\n",
       "      <th>799</th>\n",
       "      <th>800</th>\n",
       "      <th>801</th>\n",
       "      <th>802</th>\n",
       "      <th>intensity</th>\n",
       "    </tr>\n",
       "  </thead>\n",
       "  <tbody>\n",
       "    <tr>\n",
       "      <th>0</th>\n",
       "      <td>0.0</td>\n",
       "      <td>0.0</td>\n",
       "      <td>0.0</td>\n",
       "      <td>0.0</td>\n",
       "      <td>0.0</td>\n",
       "      <td>0.0</td>\n",
       "      <td>0.0</td>\n",
       "      <td>0.0</td>\n",
       "      <td>0.0</td>\n",
       "      <td>0.0</td>\n",
       "      <td>...</td>\n",
       "      <td>0.0</td>\n",
       "      <td>0.0</td>\n",
       "      <td>0.0</td>\n",
       "      <td>0.0</td>\n",
       "      <td>0.0</td>\n",
       "      <td>0.0</td>\n",
       "      <td>0.0</td>\n",
       "      <td>0.0</td>\n",
       "      <td>0.0</td>\n",
       "      <td>1.092609e-01</td>\n",
       "    </tr>\n",
       "    <tr>\n",
       "      <th>1</th>\n",
       "      <td>0.0</td>\n",
       "      <td>0.0</td>\n",
       "      <td>0.0</td>\n",
       "      <td>0.0</td>\n",
       "      <td>0.0</td>\n",
       "      <td>0.0</td>\n",
       "      <td>0.0</td>\n",
       "      <td>0.0</td>\n",
       "      <td>0.0</td>\n",
       "      <td>0.0</td>\n",
       "      <td>...</td>\n",
       "      <td>0.0</td>\n",
       "      <td>0.0</td>\n",
       "      <td>0.0</td>\n",
       "      <td>0.0</td>\n",
       "      <td>0.0</td>\n",
       "      <td>0.0</td>\n",
       "      <td>0.0</td>\n",
       "      <td>0.0</td>\n",
       "      <td>0.0</td>\n",
       "      <td>8.112094e-03</td>\n",
       "    </tr>\n",
       "    <tr>\n",
       "      <th>2</th>\n",
       "      <td>0.0</td>\n",
       "      <td>0.0</td>\n",
       "      <td>0.0</td>\n",
       "      <td>0.0</td>\n",
       "      <td>0.0</td>\n",
       "      <td>0.0</td>\n",
       "      <td>0.0</td>\n",
       "      <td>0.0</td>\n",
       "      <td>0.0</td>\n",
       "      <td>0.0</td>\n",
       "      <td>...</td>\n",
       "      <td>0.0</td>\n",
       "      <td>0.0</td>\n",
       "      <td>0.0</td>\n",
       "      <td>0.0</td>\n",
       "      <td>0.0</td>\n",
       "      <td>0.0</td>\n",
       "      <td>0.0</td>\n",
       "      <td>0.0</td>\n",
       "      <td>0.0</td>\n",
       "      <td>6.613757e-04</td>\n",
       "    </tr>\n",
       "    <tr>\n",
       "      <th>3</th>\n",
       "      <td>0.0</td>\n",
       "      <td>0.0</td>\n",
       "      <td>0.0</td>\n",
       "      <td>0.0</td>\n",
       "      <td>0.0</td>\n",
       "      <td>0.0</td>\n",
       "      <td>0.0</td>\n",
       "      <td>0.0</td>\n",
       "      <td>0.0</td>\n",
       "      <td>0.0</td>\n",
       "      <td>...</td>\n",
       "      <td>0.0</td>\n",
       "      <td>0.0</td>\n",
       "      <td>0.0</td>\n",
       "      <td>0.0</td>\n",
       "      <td>0.0</td>\n",
       "      <td>0.0</td>\n",
       "      <td>0.0</td>\n",
       "      <td>0.0</td>\n",
       "      <td>0.0</td>\n",
       "      <td>2.173913e-03</td>\n",
       "    </tr>\n",
       "    <tr>\n",
       "      <th>4</th>\n",
       "      <td>0.0</td>\n",
       "      <td>0.0</td>\n",
       "      <td>0.0</td>\n",
       "      <td>0.0</td>\n",
       "      <td>0.0</td>\n",
       "      <td>0.0</td>\n",
       "      <td>0.0</td>\n",
       "      <td>0.0</td>\n",
       "      <td>0.0</td>\n",
       "      <td>0.0</td>\n",
       "      <td>...</td>\n",
       "      <td>0.0</td>\n",
       "      <td>0.0</td>\n",
       "      <td>0.0</td>\n",
       "      <td>0.0</td>\n",
       "      <td>0.0</td>\n",
       "      <td>0.0</td>\n",
       "      <td>0.0</td>\n",
       "      <td>0.0</td>\n",
       "      <td>0.0</td>\n",
       "      <td>1.156482e-18</td>\n",
       "    </tr>\n",
       "    <tr>\n",
       "      <th>...</th>\n",
       "      <td>...</td>\n",
       "      <td>...</td>\n",
       "      <td>...</td>\n",
       "      <td>...</td>\n",
       "      <td>...</td>\n",
       "      <td>...</td>\n",
       "      <td>...</td>\n",
       "      <td>...</td>\n",
       "      <td>...</td>\n",
       "      <td>...</td>\n",
       "      <td>...</td>\n",
       "      <td>...</td>\n",
       "      <td>...</td>\n",
       "      <td>...</td>\n",
       "      <td>...</td>\n",
       "      <td>...</td>\n",
       "      <td>...</td>\n",
       "      <td>...</td>\n",
       "      <td>...</td>\n",
       "      <td>...</td>\n",
       "      <td>...</td>\n",
       "    </tr>\n",
       "    <tr>\n",
       "      <th>4336</th>\n",
       "      <td>0.0</td>\n",
       "      <td>0.0</td>\n",
       "      <td>0.0</td>\n",
       "      <td>0.0</td>\n",
       "      <td>0.0</td>\n",
       "      <td>0.0</td>\n",
       "      <td>0.0</td>\n",
       "      <td>0.0</td>\n",
       "      <td>0.0</td>\n",
       "      <td>0.0</td>\n",
       "      <td>...</td>\n",
       "      <td>0.0</td>\n",
       "      <td>0.0</td>\n",
       "      <td>0.0</td>\n",
       "      <td>0.0</td>\n",
       "      <td>0.0</td>\n",
       "      <td>0.0</td>\n",
       "      <td>0.0</td>\n",
       "      <td>0.0</td>\n",
       "      <td>0.0</td>\n",
       "      <td>1.722488e-02</td>\n",
       "    </tr>\n",
       "    <tr>\n",
       "      <th>4337</th>\n",
       "      <td>0.0</td>\n",
       "      <td>0.0</td>\n",
       "      <td>0.0</td>\n",
       "      <td>0.0</td>\n",
       "      <td>0.0</td>\n",
       "      <td>0.0</td>\n",
       "      <td>0.0</td>\n",
       "      <td>0.0</td>\n",
       "      <td>0.0</td>\n",
       "      <td>0.0</td>\n",
       "      <td>...</td>\n",
       "      <td>0.0</td>\n",
       "      <td>0.0</td>\n",
       "      <td>0.0</td>\n",
       "      <td>0.0</td>\n",
       "      <td>0.0</td>\n",
       "      <td>0.0</td>\n",
       "      <td>0.0</td>\n",
       "      <td>0.0</td>\n",
       "      <td>0.0</td>\n",
       "      <td>1.567944e-02</td>\n",
       "    </tr>\n",
       "    <tr>\n",
       "      <th>4338</th>\n",
       "      <td>0.0</td>\n",
       "      <td>0.0</td>\n",
       "      <td>0.0</td>\n",
       "      <td>0.0</td>\n",
       "      <td>0.0</td>\n",
       "      <td>0.0</td>\n",
       "      <td>0.0</td>\n",
       "      <td>0.0</td>\n",
       "      <td>0.0</td>\n",
       "      <td>0.0</td>\n",
       "      <td>...</td>\n",
       "      <td>0.0</td>\n",
       "      <td>0.0</td>\n",
       "      <td>0.0</td>\n",
       "      <td>0.0</td>\n",
       "      <td>0.0</td>\n",
       "      <td>0.0</td>\n",
       "      <td>0.0</td>\n",
       "      <td>0.0</td>\n",
       "      <td>0.0</td>\n",
       "      <td>4.791119e-01</td>\n",
       "    </tr>\n",
       "    <tr>\n",
       "      <th>4339</th>\n",
       "      <td>0.0</td>\n",
       "      <td>0.0</td>\n",
       "      <td>0.0</td>\n",
       "      <td>0.0</td>\n",
       "      <td>0.0</td>\n",
       "      <td>0.0</td>\n",
       "      <td>0.0</td>\n",
       "      <td>0.0</td>\n",
       "      <td>0.0</td>\n",
       "      <td>0.0</td>\n",
       "      <td>...</td>\n",
       "      <td>0.0</td>\n",
       "      <td>0.0</td>\n",
       "      <td>0.0</td>\n",
       "      <td>0.0</td>\n",
       "      <td>0.0</td>\n",
       "      <td>0.0</td>\n",
       "      <td>0.0</td>\n",
       "      <td>0.0</td>\n",
       "      <td>0.0</td>\n",
       "      <td>1.071505e+00</td>\n",
       "    </tr>\n",
       "    <tr>\n",
       "      <th>4340</th>\n",
       "      <td>0.0</td>\n",
       "      <td>0.0</td>\n",
       "      <td>0.0</td>\n",
       "      <td>0.0</td>\n",
       "      <td>0.0</td>\n",
       "      <td>0.0</td>\n",
       "      <td>0.0</td>\n",
       "      <td>0.0</td>\n",
       "      <td>0.0</td>\n",
       "      <td>0.0</td>\n",
       "      <td>...</td>\n",
       "      <td>0.0</td>\n",
       "      <td>0.0</td>\n",
       "      <td>0.0</td>\n",
       "      <td>0.0</td>\n",
       "      <td>0.0</td>\n",
       "      <td>0.0</td>\n",
       "      <td>0.0</td>\n",
       "      <td>0.0</td>\n",
       "      <td>0.0</td>\n",
       "      <td>8.474114e-01</td>\n",
       "    </tr>\n",
       "  </tbody>\n",
       "</table>\n",
       "<p>4322 rows × 804 columns</p>\n",
       "</div>"
      ],
      "text/plain": [
       "        0    1    2    3    4    5    6    7    8    9  ...  794  795  796  \\\n",
       "0     0.0  0.0  0.0  0.0  0.0  0.0  0.0  0.0  0.0  0.0  ...  0.0  0.0  0.0   \n",
       "1     0.0  0.0  0.0  0.0  0.0  0.0  0.0  0.0  0.0  0.0  ...  0.0  0.0  0.0   \n",
       "2     0.0  0.0  0.0  0.0  0.0  0.0  0.0  0.0  0.0  0.0  ...  0.0  0.0  0.0   \n",
       "3     0.0  0.0  0.0  0.0  0.0  0.0  0.0  0.0  0.0  0.0  ...  0.0  0.0  0.0   \n",
       "4     0.0  0.0  0.0  0.0  0.0  0.0  0.0  0.0  0.0  0.0  ...  0.0  0.0  0.0   \n",
       "...   ...  ...  ...  ...  ...  ...  ...  ...  ...  ...  ...  ...  ...  ...   \n",
       "4336  0.0  0.0  0.0  0.0  0.0  0.0  0.0  0.0  0.0  0.0  ...  0.0  0.0  0.0   \n",
       "4337  0.0  0.0  0.0  0.0  0.0  0.0  0.0  0.0  0.0  0.0  ...  0.0  0.0  0.0   \n",
       "4338  0.0  0.0  0.0  0.0  0.0  0.0  0.0  0.0  0.0  0.0  ...  0.0  0.0  0.0   \n",
       "4339  0.0  0.0  0.0  0.0  0.0  0.0  0.0  0.0  0.0  0.0  ...  0.0  0.0  0.0   \n",
       "4340  0.0  0.0  0.0  0.0  0.0  0.0  0.0  0.0  0.0  0.0  ...  0.0  0.0  0.0   \n",
       "\n",
       "      797  798  799  800  801  802     intensity  \n",
       "0     0.0  0.0  0.0  0.0  0.0  0.0  1.092609e-01  \n",
       "1     0.0  0.0  0.0  0.0  0.0  0.0  8.112094e-03  \n",
       "2     0.0  0.0  0.0  0.0  0.0  0.0  6.613757e-04  \n",
       "3     0.0  0.0  0.0  0.0  0.0  0.0  2.173913e-03  \n",
       "4     0.0  0.0  0.0  0.0  0.0  0.0  1.156482e-18  \n",
       "...   ...  ...  ...  ...  ...  ...           ...  \n",
       "4336  0.0  0.0  0.0  0.0  0.0  0.0  1.722488e-02  \n",
       "4337  0.0  0.0  0.0  0.0  0.0  0.0  1.567944e-02  \n",
       "4338  0.0  0.0  0.0  0.0  0.0  0.0  4.791119e-01  \n",
       "4339  0.0  0.0  0.0  0.0  0.0  0.0  1.071505e+00  \n",
       "4340  0.0  0.0  0.0  0.0  0.0  0.0  8.474114e-01  \n",
       "\n",
       "[4322 rows x 804 columns]"
      ]
     },
     "execution_count": 26,
     "metadata": {},
     "output_type": "execute_result"
    }
   ],
   "source": [
    "selection"
   ]
  },
  {
   "cell_type": "markdown",
   "id": "c9be2267",
   "metadata": {},
   "source": [
    "### Filter data"
   ]
  },
  {
   "cell_type": "code",
   "execution_count": 48,
   "id": "1f3e4b28",
   "metadata": {
    "ExecuteTime": {
     "end_time": "2021-10-30T20:16:30.747892Z",
     "start_time": "2021-10-30T20:16:30.679442Z"
    }
   },
   "outputs": [],
   "source": [
    "full_data = full_data.sort_values('intensity')"
   ]
  },
  {
   "cell_type": "code",
   "execution_count": 49,
   "id": "bd374da1",
   "metadata": {
    "ExecuteTime": {
     "end_time": "2021-10-30T20:16:32.498780Z",
     "start_time": "2021-10-30T20:16:32.493988Z"
    }
   },
   "outputs": [],
   "source": [
    "random = np.ones(100)\n",
    "for i in range(100):\n",
    "    random[i] = randint(100, len(full_data)-100)"
   ]
  },
  {
   "cell_type": "code",
   "execution_count": 102,
   "id": "e9ee2fad",
   "metadata": {
    "ExecuteTime": {
     "end_time": "2021-10-30T20:51:05.922295Z",
     "start_time": "2021-10-30T20:51:05.874407Z"
    }
   },
   "outputs": [],
   "source": [
    "top = full_data.iloc[0:100, :]\n",
    "middle = full_data.iloc[random, :]\n",
    "bottom = full_data.iloc[-100:, :]\n",
    "full = pd.concat([top, middle, bottom])"
   ]
  },
  {
   "cell_type": "markdown",
   "id": "eda46619",
   "metadata": {
    "ExecuteTime": {
     "end_time": "2021-10-30T13:32:29.729858Z",
     "start_time": "2021-10-30T13:32:29.722964Z"
    }
   },
   "source": [
    "## PCA"
   ]
  },
  {
   "cell_type": "code",
   "execution_count": 103,
   "id": "98814489",
   "metadata": {
    "ExecuteTime": {
     "end_time": "2021-10-30T20:51:18.828772Z",
     "start_time": "2021-10-30T20:51:18.779776Z"
    }
   },
   "outputs": [],
   "source": [
    "pca = PCA(n_components=2)\n",
    "principalComponents = pca.fit_transform(full.iloc[:,0:full.columns.get_loc('Standard Name')])\n",
    "principalDf = pd.DataFrame(data = principalComponents, columns = ['PC1', 'PC2'])"
   ]
  },
  {
   "cell_type": "code",
   "execution_count": 104,
   "id": "ffa94da5",
   "metadata": {
    "ExecuteTime": {
     "end_time": "2021-10-30T20:51:19.942022Z",
     "start_time": "2021-10-30T20:51:19.701743Z"
    }
   },
   "outputs": [
    {
     "data": {
      "text/plain": [
       "Text(0, 0.5, 'Second principal component')"
      ]
     },
     "execution_count": 104,
     "metadata": {},
     "output_type": "execute_result"
    },
    {
     "data": {
      "image/png": "[encoded data removed]",
      "text/plain": [
       "<Figure size 432x288 with 1 Axes>"
      ]
     },
     "metadata": {
      "needs_background": "light"
     },
     "output_type": "display_data"
    }
   ],
   "source": [
    "fig, ax = plt.subplots()\n",
    "ax.scatter(principalDf.PC1, principalDf.PC2)\n",
    "ax.set_xlabel(\"First principal component\")\n",
    "ax.set_ylabel(\"Second principal component\")"
   ]
  },
  {
   "cell_type": "code",
   "execution_count": 105,
   "id": "fded1ad9",
   "metadata": {
    "ExecuteTime": {
     "end_time": "2021-10-30T20:51:20.831750Z",
     "start_time": "2021-10-30T20:51:20.824374Z"
    }
   },
   "outputs": [
    {
     "data": {
      "text/plain": [
       "array([0.10271766, 0.06167451])"
      ]
     },
     "execution_count": 105,
     "metadata": {},
     "output_type": "execute_result"
    }
   ],
   "source": [
    "pca.explained_variance_ratio_"
   ]
  },
  {
   "cell_type": "code",
   "execution_count": 106,
   "id": "6d7f86f2",
   "metadata": {
    "ExecuteTime": {
     "end_time": "2021-10-30T20:51:21.798167Z",
     "start_time": "2021-10-30T20:51:21.785677Z"
    }
   },
   "outputs": [],
   "source": [
    "full = full.set_index(principalDf.index)"
   ]
  },
  {
   "cell_type": "markdown",
   "id": "9679be70",
   "metadata": {},
   "source": [
    "## K-means clustering"
   ]
  },
  {
   "cell_type": "code",
   "execution_count": 107,
   "id": "50e4fab0",
   "metadata": {
    "ExecuteTime": {
     "end_time": "2021-10-30T20:51:23.387917Z",
     "start_time": "2021-10-30T20:51:23.361802Z"
    }
   },
   "outputs": [],
   "source": [
    "# generate cluster centers and labels\n",
    "centers, _ = kmeans(principalDf, 5)\n",
    "principalDf['labels'], _ = vq(principalDf, centers)"
   ]
  },
  {
   "cell_type": "code",
   "execution_count": 108,
   "id": "9297d32a",
   "metadata": {
    "ExecuteTime": {
     "end_time": "2021-10-30T20:51:24.531938Z",
     "start_time": "2021-10-30T20:51:24.202801Z"
    }
   },
   "outputs": [
    {
     "data": {
      "image/png": "[encoded data removed]",
      "text/plain": [
       "<Figure size 432x288 with 1 Axes>"
      ]
     },
     "metadata": {
      "needs_background": "light"
     },
     "output_type": "display_data"
    }
   ],
   "source": [
    "fig, ax = plt.subplots()\n",
    "ax.scatter(principalDf.PC1[principalDf.labels == 0], principalDf.PC2[principalDf.labels == 0], marker = '*', label = 'cluster 1')\n",
    "ax.scatter(principalDf.PC1[principalDf.labels == 1], principalDf.PC2[principalDf.labels == 1], marker = '.', label = 'cluster 2')\n",
    "ax.scatter(principalDf.PC1[principalDf.labels == 2], principalDf.PC2[principalDf.labels == 2], marker = 'o', label = 'cluster 3')\n",
    "ax.scatter(principalDf.PC1[principalDf.labels == 3], principalDf.PC2[principalDf.labels == 3], marker = 'v', label = 'cluster 4')\n",
    "ax.scatter(principalDf.PC1[principalDf.labels == 4], principalDf.PC2[principalDf.labels == 4], marker = '<', label = 'cluster 5')\n",
    "ax.set_xlabel(\"First principal component\")\n",
    "ax.set_ylabel(\"Second principal component\")\n",
    "ax.legend()\n",
    "plt.show()"
   ]
  },
  {
   "cell_type": "markdown",
   "id": "1f9ad59e",
   "metadata": {},
   "source": [
    "## Spectral clustering"
   ]
  },
  {
   "cell_type": "markdown",
   "id": "4b0ed8f9",
   "metadata": {},
   "source": [
    "### Use nearest neighbors as affinity measure"
   ]
  },
  {
   "cell_type": "code",
   "execution_count": 109,
   "id": "4fd5172e",
   "metadata": {
    "ExecuteTime": {
     "end_time": "2021-10-30T20:51:25.518090Z",
     "start_time": "2021-10-30T20:51:25.410406Z"
    }
   },
   "outputs": [
    {
     "name": "stderr",
     "output_type": "stream",
     "text": [
      "/Library/Frameworks/Python.framework/Versions/3.9/lib/python3.9/site-packages/sklearn/manifold/_spectral_embedding.py:260: UserWarning: Graph is not fully connected, spectral embedding may not work as expected.\n",
      "  warnings.warn(\n"
     ]
    }
   ],
   "source": [
    "model = SpectralClustering(n_clusters=5, affinity='nearest_neighbors',\n",
    "                           assign_labels='kmeans')\n",
    "labels = model.fit_predict(principalDf)"
   ]
  },
  {
   "cell_type": "code",
   "execution_count": 110,
   "id": "a48ac8fb",
   "metadata": {
    "ExecuteTime": {
     "end_time": "2021-10-30T20:51:26.977229Z",
     "start_time": "2021-10-30T20:51:26.483599Z"
    }
   },
   "outputs": [
    {
     "data": {
      "image/png": "[encoded data removed]",
      "text/plain": [
       "<Figure size 432x288 with 1 Axes>"
      ]
     },
     "metadata": {
      "needs_background": "light"
     },
     "output_type": "display_data"
    }
   ],
   "source": [
    "fig, ax = plt.subplots()\n",
    "ax.scatter(principalDf.PC1[labels == 0], principalDf.PC2[labels == 0], marker = '*', label = 'cluster 1')\n",
    "ax.scatter(principalDf.PC1[labels == 1], principalDf.PC2[labels == 1], marker = '.', label = 'cluster 2')\n",
    "ax.scatter(principalDf.PC1[principalDf.labels == 2], principalDf.PC2[principalDf.labels == 2], marker = 'o', label = 'cluster 3')\n",
    "ax.scatter(principalDf.PC1[principalDf.labels == 3], principalDf.PC2[principalDf.labels == 3], marker = 'v', label = 'cluster 4')\n",
    "ax.scatter(principalDf.PC1[principalDf.labels == 4], principalDf.PC2[principalDf.labels == 4], marker = '<', label = 'cluster 5')\n",
    "ax.set_xlabel(\"First principal component\")\n",
    "ax.set_ylabel(\"Second principal component\")\n",
    "ax.legend()\n",
    "plt.show()"
   ]
  },
  {
   "cell_type": "markdown",
   "id": "918fa6ae",
   "metadata": {},
   "source": [
    "### Use rbf as affinity measure"
   ]
  },
  {
   "cell_type": "code",
   "execution_count": 111,
   "id": "22bece72",
   "metadata": {
    "ExecuteTime": {
     "end_time": "2021-10-30T20:51:27.858900Z",
     "start_time": "2021-10-30T20:51:27.812909Z"
    }
   },
   "outputs": [],
   "source": [
    "model = SpectralClustering(n_clusters=2, affinity='rbf',\n",
    "                           assign_labels='kmeans')\n",
    "labels = model.fit_predict(principalDf)"
   ]
  },
  {
   "cell_type": "code",
   "execution_count": 112,
   "id": "14932ecd",
   "metadata": {
    "ExecuteTime": {
     "end_time": "2021-10-30T20:51:29.326629Z",
     "start_time": "2021-10-30T20:51:29.000614Z"
    }
   },
   "outputs": [
    {
     "data": {
      "image/png": "[encoded data removed]",
      "text/plain": [
       "<Figure size 432x288 with 1 Axes>"
      ]
     },
     "metadata": {
      "needs_background": "light"
     },
     "output_type": "display_data"
    }
   ],
   "source": [
    "fig, ax = plt.subplots()\n",
    "ax.scatter(principalDf.PC1[labels == 0], principalDf.PC2[labels == 0], marker = '*', label = 'cluster 1')\n",
    "ax.scatter(principalDf.PC1[labels == 1], principalDf.PC2[labels == 1], marker = '.', label = 'cluster 2')\n",
    "ax.scatter(principalDf.PC1[principalDf.labels == 2], principalDf.PC2[principalDf.labels == 2], marker = 'o', label = 'cluster 3')\n",
    "ax.scatter(principalDf.PC1[principalDf.labels == 3], principalDf.PC2[principalDf.labels == 3], marker = 'v', label = 'cluster 4')\n",
    "ax.scatter(principalDf.PC1[principalDf.labels == 4], principalDf.PC2[principalDf.labels == 4], marker = '<', label = 'cluster 5')\n",
    "ax.set_xlabel(\"First principal component\")\n",
    "ax.set_ylabel(\"Second principal component\")\n",
    "ax.legend()\n",
    "plt.show()"
   ]
  },
  {
   "cell_type": "markdown",
   "id": "0c2c1bdf",
   "metadata": {},
   "source": [
    "### plot FI in PC plot"
   ]
  },
  {
   "cell_type": "code",
   "execution_count": 113,
   "id": "ce6422cb",
   "metadata": {
    "ExecuteTime": {
     "end_time": "2021-10-30T20:51:30.750552Z",
     "start_time": "2021-10-30T20:51:30.335034Z"
    }
   },
   "outputs": [
    {
     "data": {
      "image/png": "[encoded data removed]",
      "text/plain": [
       "<Figure size 432x288 with 1 Axes>"
      ]
     },
     "metadata": {
      "needs_background": "light"
     },
     "output_type": "display_data"
    }
   ],
   "source": [
    "fig, ax = plt.subplots()\n",
    "ax.scatter(principalDf.PC1, principalDf.PC2, c = full.intensity)\n",
    "ax.set_xlabel(\"First principal component\")\n",
    "ax.set_ylabel(\"Second principal component\")\n",
    "plt.show()"
   ]
  },
  {
   "cell_type": "code",
   "execution_count": 114,
   "id": "222f3d00",
   "metadata": {
    "ExecuteTime": {
     "end_time": "2021-10-30T20:51:32.033217Z",
     "start_time": "2021-10-30T20:51:32.018469Z"
    }
   },
   "outputs": [
    {
     "data": {
      "text/plain": [
       "34.7025481019241"
      ]
     },
     "execution_count": 114,
     "metadata": {},
     "output_type": "execute_result"
    }
   ],
   "source": [
    "full_data.intensity.max()"
   ]
  },
  {
   "cell_type": "code",
   "execution_count": 115,
   "id": "04a5e694",
   "metadata": {
    "ExecuteTime": {
     "end_time": "2021-10-30T20:51:33.662925Z",
     "start_time": "2021-10-30T20:51:33.259403Z"
    },
    "scrolled": true
   },
   "outputs": [
    {
     "data": {
      "image/png": "[encoded data removed]",
      "text/plain": [
       "<Figure size 432x288 with 1 Axes>"
      ]
     },
     "metadata": {
      "needs_background": "light"
     },
     "output_type": "display_data"
    }
   ],
   "source": [
    "fig, ax = plt.subplots()\n",
    "ax.hist(full_data.intensity, bins = 50)\n",
    "plt.show()"
   ]
  },
  {
   "cell_type": "code",
   "execution_count": 116,
   "id": "8ff4c9b0",
   "metadata": {
    "ExecuteTime": {
     "end_time": "2021-10-30T20:51:35.117991Z",
     "start_time": "2021-10-30T20:51:34.744923Z"
    }
   },
   "outputs": [
    {
     "data": {
      "image/png": "[encoded data removed]",
      "text/plain": [
       "<Figure size 432x288 with 1 Axes>"
      ]
     },
     "metadata": {
      "needs_background": "light"
     },
     "output_type": "display_data"
    }
   ],
   "source": [
    "fig, ax = plt.subplots()\n",
    "ax.hist(full_data.intensity[full_data.intensity < 1], bins = 50)\n",
    "plt.show()"
   ]
  },
  {
   "cell_type": "code",
   "execution_count": null,
   "id": "ac305e99",
   "metadata": {},
   "outputs": [],
   "source": []
  }
 ],
 "metadata": {
  "kernelspec": {
   "display_name": "Python 3 (ipykernel)",
   "language": "python",
   "name": "python3"
  },
  "language_info": {
   "codemirror_mode": {
    "name": "ipython",
    "version": 3
   },
   "file_extension": ".py",
   "mimetype": "text/x-python",
   "name": "python",
   "nbconvert_exporter": "python",
   "pygments_lexer": "ipython3",
   "version": "3.9.0"
  },
  "toc": {
   "base_numbering": 1,
   "nav_menu": {},
   "number_sections": true,
   "sideBar": true,
   "skip_h1_title": false,
   "title_cell": "Table of Contents",
   "title_sidebar": "Contents",
   "toc_cell": false,
   "toc_position": {},
   "toc_section_display": true,
   "toc_window_display": false
  },
  "varInspector": {
   "cols": {
    "lenName": 16,
    "lenType": 16,
    "lenVar": 40
   },
   "kernels_config": {
    "python": {
     "delete_cmd_postfix": "",
     "delete_cmd_prefix": "del ",
     "library": "var_list.py",
     "varRefreshCmd": "print(var_dic_list())"
    },
    "r": {
     "delete_cmd_postfix": ") ",
     "delete_cmd_prefix": "rm(",
     "library": "var_list.r",
     "varRefreshCmd": "cat(var_dic_list()) "
    }
   },
   "types_to_exclude": [
    "module",
    "function",
    "builtin_function_or_method",
    "instance",
    "_Feature"
   ],
   "window_display": false
  }
 },
 "nbformat": 4,
 "nbformat_minor": 5
}
